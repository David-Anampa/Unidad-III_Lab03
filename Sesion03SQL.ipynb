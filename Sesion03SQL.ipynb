{
    "metadata": {
        "kernelspec": {
            "name": "SQL",
            "display_name": "SQL",
            "language": "sql"
        },
        "language_info": {
            "name": "sql",
            "version": ""
        }
    },
    "nbformat_minor": 2,
    "nbformat": 4,
    "cells": [
        {
            "cell_type": "markdown",
            "source": [
                "<h1><center>Pivoting y Grouping Sets"
            ],
            "metadata": {
                "azdata_cell_guid": "f3192a16-6e7c-476b-b52b-a5f8b80bee42"
            }
        },
        {
            "cell_type": "markdown",
            "source": [
                "<h2>Parte 01. Escribiendo consultas con PIVOT Y UNPIVOT"
            ],
            "metadata": {
                "azdata_cell_guid": "2a3d5b0b-61a9-4ac4-ba9d-4a09b1aa8ab1"
            }
        },
        {
            "cell_type": "markdown",
            "source": [
                "1.1. Abrir la base de datos TSQL."
            ],
            "metadata": {
                "azdata_cell_guid": "ca768b93-1cbc-4a0f-8d1c-4727990a41de"
            }
        },
        {
            "cell_type": "code",
            "source": [
                "USE TSQL;\n",
                "GO\n",
                ""
            ],
            "metadata": {
                "azdata_cell_guid": "9c997033-66cc-49a5-bfff-9a457faf2f4f",
                "language": "sql"
            },
            "outputs": [
                {
                    "output_type": "display_data",
                    "data": {
                        "text/html": "Los comandos se han completado correctamente."
                    },
                    "metadata": {}
                },
                {
                    "output_type": "display_data",
                    "data": {
                        "text/html": "Tiempo total de ejecución: 00:00:00.005"
                    },
                    "metadata": {}
                }
            ],
            "execution_count": 5
        },
        {
            "cell_type": "markdown",
            "source": [
                "1.2. Crear un vista de categorías de productos, sus cantidaddes por año."
            ],
            "metadata": {
                "azdata_cell_guid": "69106d45-4cea-4619-b6c6-f081cfed5400"
            }
        },
        {
            "cell_type": "code",
            "source": [
                "IF OBJECT_ID('Sales.CategoryQtyYear','V') IS NOT NULL DROP VIEW Sales.CategoryQtyYear\n",
                "GO\n",
                "CREATE VIEW Sales.CategoryQtyYear\n",
                "AS\n",
                "SELECT  c.categoryname AS Category,\n",
                "        od.qty AS Qty,\n",
                "        YEAR(o.orderdate) AS Orderyear\n",
                "FROM    Production.Categories AS c\n",
                "        INNER JOIN Production.Products AS p ON c.categoryid=p.categoryid\n",
                "        INNER JOIN Sales.OrderDetails AS od ON p.productid=od.productid\n",
                "        INNER JOIN Sales.Orders AS o ON od.orderid=o.orderid;\n",
                "GO"
            ],
            "metadata": {
                "azdata_cell_guid": "ccaa4b07-15ad-4240-b8a8-3baf5e86f598",
                "language": "sql"
            },
            "outputs": [
                {
                    "output_type": "display_data",
                    "data": {
                        "text/html": "Los comandos se han completado correctamente."
                    },
                    "metadata": {}
                },
                {
                    "output_type": "display_data",
                    "data": {
                        "text/html": "Los comandos se han completado correctamente."
                    },
                    "metadata": {}
                },
                {
                    "output_type": "display_data",
                    "data": {
                        "text/html": "Tiempo total de ejecución: 00:00:00.020"
                    },
                    "metadata": {}
                }
            ],
            "execution_count": 6
        },
        {
            "cell_type": "markdown",
            "source": [
                "1.3. Probar la vista creada."
            ],
            "metadata": {
                "azdata_cell_guid": "c19c12e1-2012-4419-86df-04a7cd6e7c9c"
            }
        },
        {
            "cell_type": "code",
            "source": [
                "SELECT  Category, Qty,Orderyear\n",
                "FROM Sales.CategoryQtyYear;"
            ],
            "metadata": {
                "azdata_cell_guid": "d494da8f-256e-4dbc-a352-cfccac558647",
                "language": "sql"
            },
            "outputs": [
                {
                    "output_type": "display_data",
                    "data": {
                        "text/html": "(2155 filas afectadas)"
                    },
                    "metadata": {}
                },
                {
                    "output_type": "display_data",
                    "data": {
                        "text/html": "Tiempo total de ejecución: 00:00:00.091"
                    },
                    "metadata": {}
                },
                {
                    "output_type": "execute_result",
                    "metadata": {},
                    "execution_count": 7,
                    "data": {
                        "application/vnd.dataresource+json": {
                            "schema": {
                                "fields": [
                                    {
                                        "name": "Category"
                                    },
                                    {
                                        "name": "Qty"
                                    },
                                    {
                                        "name": "Orderyear"
                                    }
                                ]
                            },
                            "data": [
                                {
                                    "Category": "Dairy Products",
                                    "Qty": "12",
                                    "Orderyear": "2006"
                                },
                                {
                                    "Category": "Grains/Cereals",
                                    "Qty": "10",
                                    "Orderyear": "2006"
                                },
                                {
                                    "Category": "Dairy Products",
                                    "Qty": "5",
                                    "Orderyear": "2006"
                                },
                                {
                                    "Category": "Produce",
                                    "Qty": "9",
                                    "Orderyear": "2006"
                                },
                                {
                                    "Category": "Produce",
                                    "Qty": "40",
                                    "Orderyear": "2006"
                                },
                                {
                                    "Category": "Seafood",
                                    "Qty": "10",
                                    "Orderyear": "2006"
                                },
                                {
                                    "Category": "Produce",
                                    "Qty": "35",
                                    "Orderyear": "2006"
                                },
                                {
                                    "Category": "Condiments",
                                    "Qty": "15",
                                    "Orderyear": "2006"
                                },
                                {
                                    "Category": "Grains/Cereals",
                                    "Qty": "6",
                                    "Orderyear": "2006"
                                },
                                {
                                    "Category": "Grains/Cereals",
                                    "Qty": "15",
                                    "Orderyear": "2006"
                                },
                                {
                                    "Category": "Condiments",
                                    "Qty": "20",
                                    "Orderyear": "2006"
                                },
                                {
                                    "Category": "Confections",
                                    "Qty": "40",
                                    "Orderyear": "2006"
                                },
                                {
                                    "Category": "Dairy Products",
                                    "Qty": "25",
                                    "Orderyear": "2006"
                                },
                                {
                                    "Category": "Dairy Products",
                                    "Qty": "40",
                                    "Orderyear": "2006"
                                },
                                {
                                    "Category": "Dairy Products",
                                    "Qty": "20",
                                    "Orderyear": "2006"
                                },
                                {
                                    "Category": "Beverages",
                                    "Qty": "42",
                                    "Orderyear": "2006"
                                },
                                {
                                    "Category": "Confections",
                                    "Qty": "40",
                                    "Orderyear": "2006"
                                },
                                {
                                    "Category": "Beverages",
                                    "Qty": "15",
                                    "Orderyear": "2006"
                                },
                                {
                                    "Category": "Meat/Poultry",
                                    "Qty": "21",
                                    "Orderyear": "2006"
                                },
                                {
                                    "Category": "Produce",
                                    "Qty": "21",
                                    "Orderyear": "2006"
                                },
                                {
                                    "Category": "Beverages",
                                    "Qty": "20",
                                    "Orderyear": "2006"
                                },
                                {
                                    "Category": "Confections",
                                    "Qty": "35",
                                    "Orderyear": "2006"
                                },
                                {
                                    "Category": "Seafood",
                                    "Qty": "25",
                                    "Orderyear": "2006"
                                },
                                {
                                    "Category": "Dairy Products",
                                    "Qty": "30",
                                    "Orderyear": "2006"
                                },
                                {
                                    "Category": "Meat/Poultry",
                                    "Qty": "15",
                                    "Orderyear": "2006"
                                },
                                {
                                    "Category": "Condiments",
                                    "Qty": "12",
                                    "Orderyear": "2006"
                                },
                                {
                                    "Category": "Confections",
                                    "Qty": "25",
                                    "Orderyear": "2006"
                                },
                                {
                                    "Category": "Beverages",
                                    "Qty": "6",
                                    "Orderyear": "2006"
                                },
                                {
                                    "Category": "Condiments",
                                    "Qty": "15",
                                    "Orderyear": "2006"
                                },
                                {
                                    "Category": "Beverages",
                                    "Qty": "50",
                                    "Orderyear": "2006"
                                },
                                {
                                    "Category": "Condiments",
                                    "Qty": "65",
                                    "Orderyear": "2006"
                                },
                                {
                                    "Category": "Dairy Products",
                                    "Qty": "6",
                                    "Orderyear": "2006"
                                },
                                {
                                    "Category": "Confections",
                                    "Qty": "10",
                                    "Orderyear": "2006"
                                },
                                {
                                    "Category": "Seafood",
                                    "Qty": "1",
                                    "Orderyear": "2006"
                                },
                                {
                                    "Category": "Seafood",
                                    "Qty": "16",
                                    "Orderyear": "2006"
                                },
                                {
                                    "Category": "Grains/Cereals",
                                    "Qty": "50",
                                    "Orderyear": "2006"
                                },
                                {
                                    "Category": "Confections",
                                    "Qty": "15",
                                    "Orderyear": "2006"
                                },
                                {
                                    "Category": "Beverages",
                                    "Qty": "21",
                                    "Orderyear": "2006"
                                },
                                {
                                    "Category": "Confections",
                                    "Qty": "20",
                                    "Orderyear": "2006"
                                },
                                {
                                    "Category": "Beverages",
                                    "Qty": "20",
                                    "Orderyear": "2006"
                                },
                                {
                                    "Category": "Condiments",
                                    "Qty": "12",
                                    "Orderyear": "2006"
                                },
                                {
                                    "Category": "Produce",
                                    "Qty": "15",
                                    "Orderyear": "2006"
                                },
                                {
                                    "Category": "Grains/Cereals",
                                    "Qty": "2",
                                    "Orderyear": "2006"
                                },
                                {
                                    "Category": "Confections",
                                    "Qty": "60",
                                    "Orderyear": "2006"
                                },
                                {
                                    "Category": "Beverages",
                                    "Qty": "28",
                                    "Orderyear": "2006"
                                },
                                {
                                    "Category": "Seafood",
                                    "Qty": "60",
                                    "Orderyear": "2006"
                                },
                                {
                                    "Category": "Produce",
                                    "Qty": "36",
                                    "Orderyear": "2006"
                                },
                                {
                                    "Category": "Beverages",
                                    "Qty": "35",
                                    "Orderyear": "2006"
                                },
                                {
                                    "Category": "Seafood",
                                    "Qty": "25",
                                    "Orderyear": "2006"
                                },
                                {
                                    "Category": "Meat/Poultry",
                                    "Qty": "30",
                                    "Orderyear": "2006"
                                },
                                {
                                    "Category": "Beverages",
                                    "Qty": "20",
                                    "Orderyear": "2006"
                                },
                                {
                                    "Category": "Dairy Products",
                                    "Qty": "12",
                                    "Orderyear": "2006"
                                },
                                {
                                    "Category": "Seafood",
                                    "Qty": "50",
                                    "Orderyear": "2006"
                                },
                                {
                                    "Category": "Dairy Products",
                                    "Qty": "70",
                                    "Orderyear": "2006"
                                },
                                {
                                    "Category": "Beverages",
                                    "Qty": "15",
                                    "Orderyear": "2006"
                                },
                                {
                                    "Category": "Meat/Poultry",
                                    "Qty": "10",
                                    "Orderyear": "2006"
                                },
                                {
                                    "Category": "Dairy Products",
                                    "Qty": "4",
                                    "Orderyear": "2006"
                                },
                                {
                                    "Category": "Dairy Products",
                                    "Qty": "60",
                                    "Orderyear": "2006"
                                },
                                {
                                    "Category": "Dairy Products",
                                    "Qty": "20",
                                    "Orderyear": "2006"
                                },
                                {
                                    "Category": "Seafood",
                                    "Qty": "30",
                                    "Orderyear": "2006"
                                },
                                {
                                    "Category": "Beverages",
                                    "Qty": "25",
                                    "Orderyear": "2006"
                                },
                                {
                                    "Category": "Dairy Products",
                                    "Qty": "24",
                                    "Orderyear": "2006"
                                },
                                {
                                    "Category": "Confections",
                                    "Qty": "6",
                                    "Orderyear": "2006"
                                },
                                {
                                    "Category": "Dairy Products",
                                    "Qty": "40",
                                    "Orderyear": "2006"
                                },
                                {
                                    "Category": "Dairy Products",
                                    "Qty": "24",
                                    "Orderyear": "2006"
                                },
                                {
                                    "Category": "Seafood",
                                    "Qty": "24",
                                    "Orderyear": "2006"
                                },
                                {
                                    "Category": "Dairy Products",
                                    "Qty": "15",
                                    "Orderyear": "2006"
                                },
                                {
                                    "Category": "Dairy Products",
                                    "Qty": "20",
                                    "Orderyear": "2006"
                                },
                                {
                                    "Category": "Seafood",
                                    "Qty": "60",
                                    "Orderyear": "2006"
                                },
                                {
                                    "Category": "Beverages",
                                    "Qty": "33",
                                    "Orderyear": "2006"
                                },
                                {
                                    "Category": "Dairy Products",
                                    "Qty": "20",
                                    "Orderyear": "2006"
                                },
                                {
                                    "Category": "Dairy Products",
                                    "Qty": "7",
                                    "Orderyear": "2006"
                                },
                                {
                                    "Category": "Beverages",
                                    "Qty": "12",
                                    "Orderyear": "2006"
                                },
                                {
                                    "Category": "Dairy Products",
                                    "Qty": "6",
                                    "Orderyear": "2006"
                                },
                                {
                                    "Category": "Seafood",
                                    "Qty": "15",
                                    "Orderyear": "2006"
                                },
                                {
                                    "Category": "Seafood",
                                    "Qty": "10",
                                    "Orderyear": "2006"
                                },
                                {
                                    "Category": "Produce",
                                    "Qty": "20",
                                    "Orderyear": "2006"
                                },
                                {
                                    "Category": "Confections",
                                    "Qty": "12",
                                    "Orderyear": "2006"
                                },
                                {
                                    "Category": "Condiments",
                                    "Qty": "16",
                                    "Orderyear": "2006"
                                },
                                {
                                    "Category": "Dairy Products",
                                    "Qty": "15",
                                    "Orderyear": "2006"
                                },
                                {
                                    "Category": "Condiments",
                                    "Qty": "8",
                                    "Orderyear": "2006"
                                },
                                {
                                    "Category": "Seafood",
                                    "Qty": "25",
                                    "Orderyear": "2006"
                                },
                                {
                                    "Category": "Meat/Poultry",
                                    "Qty": "15",
                                    "Orderyear": "2006"
                                },
                                {
                                    "Category": "Beverages",
                                    "Qty": "12",
                                    "Orderyear": "2006"
                                },
                                {
                                    "Category": "Meat/Poultry",
                                    "Qty": "20",
                                    "Orderyear": "2006"
                                },
                                {
                                    "Category": "Beverages",
                                    "Qty": "30",
                                    "Orderyear": "2006"
                                },
                                {
                                    "Category": "Confections",
                                    "Qty": "1",
                                    "Orderyear": "2006"
                                },
                                {
                                    "Category": "Beverages",
                                    "Qty": "6",
                                    "Orderyear": "2006"
                                },
                                {
                                    "Category": "Beverages",
                                    "Qty": "4",
                                    "Orderyear": "2006"
                                },
                                {
                                    "Category": "Seafood",
                                    "Qty": "6",
                                    "Orderyear": "2006"
                                },
                                {
                                    "Category": "Grains/Cereals",
                                    "Qty": "2",
                                    "Orderyear": "2006"
                                },
                                {
                                    "Category": "Condiments",
                                    "Qty": "20",
                                    "Orderyear": "2006"
                                },
                                {
                                    "Category": "Confections",
                                    "Qty": "18",
                                    "Orderyear": "2006"
                                },
                                {
                                    "Category": "Dairy Products",
                                    "Qty": "35",
                                    "Orderyear": "2006"
                                },
                                {
                                    "Category": "Dairy Products",
                                    "Qty": "3",
                                    "Orderyear": "2006"
                                },
                                {
                                    "Category": "Confections",
                                    "Qty": "15",
                                    "Orderyear": "2006"
                                },
                                {
                                    "Category": "Condiments",
                                    "Qty": "21",
                                    "Orderyear": "2006"
                                },
                                {
                                    "Category": "Dairy Products",
                                    "Qty": "20",
                                    "Orderyear": "2006"
                                },
                                {
                                    "Category": "Beverages",
                                    "Qty": "5",
                                    "Orderyear": "2006"
                                },
                                {
                                    "Category": "Beverages",
                                    "Qty": "45",
                                    "Orderyear": "2006"
                                },
                                {
                                    "Category": "Seafood",
                                    "Qty": "40",
                                    "Orderyear": "2006"
                                },
                                {
                                    "Category": "Meat/Poultry",
                                    "Qty": "36",
                                    "Orderyear": "2006"
                                },
                                {
                                    "Category": "Beverages",
                                    "Qty": "100",
                                    "Orderyear": "2006"
                                },
                                {
                                    "Category": "Confections",
                                    "Qty": "40",
                                    "Orderyear": "2006"
                                },
                                {
                                    "Category": "Confections",
                                    "Qty": "40",
                                    "Orderyear": "2006"
                                },
                                {
                                    "Category": "Beverages",
                                    "Qty": "20",
                                    "Orderyear": "2006"
                                },
                                {
                                    "Category": "Seafood",
                                    "Qty": "15",
                                    "Orderyear": "2006"
                                },
                                {
                                    "Category": "Meat/Poultry",
                                    "Qty": "10",
                                    "Orderyear": "2006"
                                },
                                {
                                    "Category": "Confections",
                                    "Qty": "3",
                                    "Orderyear": "2006"
                                },
                                {
                                    "Category": "Condiments",
                                    "Qty": "30",
                                    "Orderyear": "2006"
                                },
                                {
                                    "Category": "Grains/Cereals",
                                    "Qty": "9",
                                    "Orderyear": "2006"
                                },
                                {
                                    "Category": "Condiments",
                                    "Qty": "20",
                                    "Orderyear": "2006"
                                },
                                {
                                    "Category": "Meat/Poultry",
                                    "Qty": "15",
                                    "Orderyear": "2006"
                                },
                                {
                                    "Category": "Confections",
                                    "Qty": "15",
                                    "Orderyear": "2006"
                                },
                                {
                                    "Category": "Condiments",
                                    "Qty": "10",
                                    "Orderyear": "2006"
                                },
                                {
                                    "Category": "Seafood",
                                    "Qty": "20",
                                    "Orderyear": "2006"
                                },
                                {
                                    "Category": "Condiments",
                                    "Qty": "24",
                                    "Orderyear": "2006"
                                },
                                {
                                    "Category": "Produce",
                                    "Qty": "2",
                                    "Orderyear": "2006"
                                },
                                {
                                    "Category": "Confections",
                                    "Qty": "20",
                                    "Orderyear": "2006"
                                },
                                {
                                    "Category": "Seafood",
                                    "Qty": "12",
                                    "Orderyear": "2006"
                                },
                                {
                                    "Category": "Beverages",
                                    "Qty": "10",
                                    "Orderyear": "2006"
                                },
                                {
                                    "Category": "Condiments",
                                    "Qty": "5",
                                    "Orderyear": "2006"
                                },
                                {
                                    "Category": "Beverages",
                                    "Qty": "6",
                                    "Orderyear": "2006"
                                },
                                {
                                    "Category": "Beverages",
                                    "Qty": "18",
                                    "Orderyear": "2006"
                                },
                                {
                                    "Category": "Meat/Poultry",
                                    "Qty": "15",
                                    "Orderyear": "2006"
                                },
                                {
                                    "Category": "Beverages",
                                    "Qty": "15",
                                    "Orderyear": "2006"
                                },
                                {
                                    "Category": "Dairy Products",
                                    "Qty": "21",
                                    "Orderyear": "2006"
                                },
                                {
                                    "Category": "Beverages",
                                    "Qty": "6",
                                    "Orderyear": "2006"
                                },
                                {
                                    "Category": "Grains/Cereals",
                                    "Qty": "4",
                                    "Orderyear": "2006"
                                },
                                {
                                    "Category": "Dairy Products",
                                    "Qty": "12",
                                    "Orderyear": "2006"
                                },
                                {
                                    "Category": "Confections",
                                    "Qty": "30",
                                    "Orderyear": "2006"
                                },
                                {
                                    "Category": "Dairy Products",
                                    "Qty": "15",
                                    "Orderyear": "2006"
                                },
                                {
                                    "Category": "Beverages",
                                    "Qty": "60",
                                    "Orderyear": "2006"
                                },
                                {
                                    "Category": "Dairy Products",
                                    "Qty": "20",
                                    "Orderyear": "2006"
                                },
                                {
                                    "Category": "Beverages",
                                    "Qty": "40",
                                    "Orderyear": "2006"
                                },
                                {
                                    "Category": "Seafood",
                                    "Qty": "40",
                                    "Orderyear": "2006"
                                },
                                {
                                    "Category": "Dairy Products",
                                    "Qty": "30",
                                    "Orderyear": "2006"
                                },
                                {
                                    "Category": "Confections",
                                    "Qty": "15",
                                    "Orderyear": "2006"
                                },
                                {
                                    "Category": "Confections",
                                    "Qty": "15",
                                    "Orderyear": "2006"
                                },
                                {
                                    "Category": "Beverages",
                                    "Qty": "20",
                                    "Orderyear": "2006"
                                },
                                {
                                    "Category": "Condiments",
                                    "Qty": "30",
                                    "Orderyear": "2006"
                                },
                                {
                                    "Category": "Confections",
                                    "Qty": "20",
                                    "Orderyear": "2006"
                                },
                                {
                                    "Category": "Seafood",
                                    "Qty": "10",
                                    "Orderyear": "2006"
                                },
                                {
                                    "Category": "Grains/Cereals",
                                    "Qty": "20",
                                    "Orderyear": "2006"
                                },
                                {
                                    "Category": "Meat/Poultry",
                                    "Qty": "40",
                                    "Orderyear": "2006"
                                },
                                {
                                    "Category": "Produce",
                                    "Qty": "28",
                                    "Orderyear": "2006"
                                },
                                {
                                    "Category": "Beverages",
                                    "Qty": "12",
                                    "Orderyear": "2006"
                                },
                                {
                                    "Category": "Seafood",
                                    "Qty": "40",
                                    "Orderyear": "2006"
                                },
                                {
                                    "Category": "Condiments",
                                    "Qty": "30",
                                    "Orderyear": "2006"
                                },
                                {
                                    "Category": "Confections",
                                    "Qty": "15",
                                    "Orderyear": "2006"
                                },
                                {
                                    "Category": "Confections",
                                    "Qty": "30",
                                    "Orderyear": "2006"
                                },
                                {
                                    "Category": "Dairy Products",
                                    "Qty": "10",
                                    "Orderyear": "2006"
                                },
                                {
                                    "Category": "Dairy Products",
                                    "Qty": "2",
                                    "Orderyear": "2006"
                                },
                                {
                                    "Category": "Seafood",
                                    "Qty": "25",
                                    "Orderyear": "2006"
                                },
                                {
                                    "Category": "Meat/Poultry",
                                    "Qty": "25",
                                    "Orderyear": "2006"
                                },
                                {
                                    "Category": "Beverages",
                                    "Qty": "30",
                                    "Orderyear": "2006"
                                },
                                {
                                    "Category": "Seafood",
                                    "Qty": "10",
                                    "Orderyear": "2006"
                                },
                                {
                                    "Category": "Meat/Poultry",
                                    "Qty": "10",
                                    "Orderyear": "2006"
                                },
                                {
                                    "Category": "Meat/Poultry",
                                    "Qty": "5",
                                    "Orderyear": "2006"
                                },
                                {
                                    "Category": "Confections",
                                    "Qty": "10",
                                    "Orderyear": "2006"
                                },
                                {
                                    "Category": "Confections",
                                    "Qty": "3",
                                    "Orderyear": "2006"
                                },
                                {
                                    "Category": "Dairy Products",
                                    "Qty": "1",
                                    "Orderyear": "2006"
                                },
                                {
                                    "Category": "Beverages",
                                    "Qty": "5",
                                    "Orderyear": "2006"
                                },
                                {
                                    "Category": "Condiments",
                                    "Qty": "20",
                                    "Orderyear": "2006"
                                },
                                {
                                    "Category": "Condiments",
                                    "Qty": "30",
                                    "Orderyear": "2006"
                                },
                                {
                                    "Category": "Grains/Cereals",
                                    "Qty": "2",
                                    "Orderyear": "2006"
                                },
                                {
                                    "Category": "Beverages",
                                    "Qty": "20",
                                    "Orderyear": "2006"
                                },
                                {
                                    "Category": "Dairy Products",
                                    "Qty": "3",
                                    "Orderyear": "2006"
                                },
                                {
                                    "Category": "Confections",
                                    "Qty": "10",
                                    "Orderyear": "2006"
                                },
                                {
                                    "Category": "Confections",
                                    "Qty": "5",
                                    "Orderyear": "2006"
                                },
                                {
                                    "Category": "Grains/Cereals",
                                    "Qty": "6",
                                    "Orderyear": "2006"
                                },
                                {
                                    "Category": "Dairy Products",
                                    "Qty": "7",
                                    "Orderyear": "2006"
                                },
                                {
                                    "Category": "Produce",
                                    "Qty": "4",
                                    "Orderyear": "2006"
                                },
                                {
                                    "Category": "Beverages",
                                    "Qty": "24",
                                    "Orderyear": "2006"
                                },
                                {
                                    "Category": "Meat/Poultry",
                                    "Qty": "20",
                                    "Orderyear": "2006"
                                },
                                {
                                    "Category": "Beverages",
                                    "Qty": "10",
                                    "Orderyear": "2006"
                                },
                                {
                                    "Category": "Seafood",
                                    "Qty": "12",
                                    "Orderyear": "2006"
                                },
                                {
                                    "Category": "Dairy Products",
                                    "Qty": "40",
                                    "Orderyear": "2006"
                                },
                                {
                                    "Category": "Seafood",
                                    "Qty": "30",
                                    "Orderyear": "2006"
                                },
                                {
                                    "Category": "Confections",
                                    "Qty": "25",
                                    "Orderyear": "2006"
                                },
                                {
                                    "Category": "Beverages",
                                    "Qty": "14",
                                    "Orderyear": "2006"
                                },
                                {
                                    "Category": "Beverages",
                                    "Qty": "30",
                                    "Orderyear": "2006"
                                },
                                {
                                    "Category": "Seafood",
                                    "Qty": "10",
                                    "Orderyear": "2006"
                                },
                                {
                                    "Category": "Confections",
                                    "Qty": "70",
                                    "Orderyear": "2006"
                                },
                                {
                                    "Category": "Beverages",
                                    "Qty": "20",
                                    "Orderyear": "2006"
                                },
                                {
                                    "Category": "Seafood",
                                    "Qty": "20",
                                    "Orderyear": "2006"
                                },
                                {
                                    "Category": "Beverages",
                                    "Qty": "6",
                                    "Orderyear": "2006"
                                },
                                {
                                    "Category": "Meat/Poultry",
                                    "Qty": "8",
                                    "Orderyear": "2006"
                                },
                                {
                                    "Category": "Produce",
                                    "Qty": "14",
                                    "Orderyear": "2006"
                                },
                                {
                                    "Category": "Beverages",
                                    "Qty": "30",
                                    "Orderyear": "2006"
                                },
                                {
                                    "Category": "Dairy Products",
                                    "Qty": "30",
                                    "Orderyear": "2006"
                                },
                                {
                                    "Category": "Beverages",
                                    "Qty": "10",
                                    "Orderyear": "2006"
                                },
                                {
                                    "Category": "Grains/Cereals",
                                    "Qty": "20",
                                    "Orderyear": "2006"
                                },
                                {
                                    "Category": "Condiments",
                                    "Qty": "5",
                                    "Orderyear": "2006"
                                },
                                {
                                    "Category": "Confections",
                                    "Qty": "4",
                                    "Orderyear": "2006"
                                },
                                {
                                    "Category": "Beverages",
                                    "Qty": "4",
                                    "Orderyear": "2006"
                                },
                                {
                                    "Category": "Confections",
                                    "Qty": "21",
                                    "Orderyear": "2006"
                                },
                                {
                                    "Category": "Beverages",
                                    "Qty": "70",
                                    "Orderyear": "2006"
                                },
                                {
                                    "Category": "Seafood",
                                    "Qty": "30",
                                    "Orderyear": "2006"
                                },
                                {
                                    "Category": "Dairy Products",
                                    "Qty": "40",
                                    "Orderyear": "2006"
                                },
                                {
                                    "Category": "Condiments",
                                    "Qty": "80",
                                    "Orderyear": "2006"
                                },
                                {
                                    "Category": "Condiments",
                                    "Qty": "6",
                                    "Orderyear": "2006"
                                },
                                {
                                    "Category": "Seafood",
                                    "Qty": "12",
                                    "Orderyear": "2006"
                                },
                                {
                                    "Category": "Produce",
                                    "Qty": "9",
                                    "Orderyear": "2006"
                                },
                                {
                                    "Category": "Dairy Products",
                                    "Qty": "4",
                                    "Orderyear": "2006"
                                },
                                {
                                    "Category": "Dairy Products",
                                    "Qty": "40",
                                    "Orderyear": "2006"
                                },
                                {
                                    "Category": "Condiments",
                                    "Qty": "24",
                                    "Orderyear": "2006"
                                },
                                {
                                    "Category": "Grains/Cereals",
                                    "Qty": "16",
                                    "Orderyear": "2006"
                                },
                                {
                                    "Category": "Beverages",
                                    "Qty": "50",
                                    "Orderyear": "2006"
                                },
                                {
                                    "Category": "Beverages",
                                    "Qty": "25",
                                    "Orderyear": "2006"
                                },
                                {
                                    "Category": "Dairy Products",
                                    "Qty": "50",
                                    "Orderyear": "2006"
                                },
                                {
                                    "Category": "Seafood",
                                    "Qty": "35",
                                    "Orderyear": "2006"
                                },
                                {
                                    "Category": "Seafood",
                                    "Qty": "30",
                                    "Orderyear": "2006"
                                },
                                {
                                    "Category": "Dairy Products",
                                    "Qty": "9",
                                    "Orderyear": "2006"
                                },
                                {
                                    "Category": "Condiments",
                                    "Qty": "40",
                                    "Orderyear": "2006"
                                },
                                {
                                    "Category": "Confections",
                                    "Qty": "10",
                                    "Orderyear": "2006"
                                },
                                {
                                    "Category": "Confections",
                                    "Qty": "10",
                                    "Orderyear": "2006"
                                },
                                {
                                    "Category": "Seafood",
                                    "Qty": "8",
                                    "Orderyear": "2006"
                                },
                                {
                                    "Category": "Beverages",
                                    "Qty": "20",
                                    "Orderyear": "2006"
                                },
                                {
                                    "Category": "Grains/Cereals",
                                    "Qty": "12",
                                    "Orderyear": "2006"
                                },
                                {
                                    "Category": "Confections",
                                    "Qty": "50",
                                    "Orderyear": "2006"
                                },
                                {
                                    "Category": "Dairy Products",
                                    "Qty": "25",
                                    "Orderyear": "2006"
                                },
                                {
                                    "Category": "Meat/Poultry",
                                    "Qty": "15",
                                    "Orderyear": "2006"
                                },
                                {
                                    "Category": "Seafood",
                                    "Qty": "40",
                                    "Orderyear": "2006"
                                },
                                {
                                    "Category": "Grains/Cereals",
                                    "Qty": "10",
                                    "Orderyear": "2006"
                                },
                                {
                                    "Category": "Confections",
                                    "Qty": "16",
                                    "Orderyear": "2006"
                                },
                                {
                                    "Category": "Produce",
                                    "Qty": "10",
                                    "Orderyear": "2006"
                                },
                                {
                                    "Category": "Confections",
                                    "Qty": "10",
                                    "Orderyear": "2006"
                                },
                                {
                                    "Category": "Dairy Products",
                                    "Qty": "40",
                                    "Orderyear": "2006"
                                },
                                {
                                    "Category": "Grains/Cereals",
                                    "Qty": "8",
                                    "Orderyear": "2006"
                                },
                                {
                                    "Category": "Confections",
                                    "Qty": "10",
                                    "Orderyear": "2006"
                                },
                                {
                                    "Category": "Beverages",
                                    "Qty": "7",
                                    "Orderyear": "2006"
                                },
                                {
                                    "Category": "Dairy Products",
                                    "Qty": "25",
                                    "Orderyear": "2006"
                                },
                                {
                                    "Category": "Dairy Products",
                                    "Qty": "6",
                                    "Orderyear": "2006"
                                },
                                {
                                    "Category": "Produce",
                                    "Qty": "48",
                                    "Orderyear": "2006"
                                },
                                {
                                    "Category": "Condiments",
                                    "Qty": "18",
                                    "Orderyear": "2006"
                                },
                                {
                                    "Category": "Grains/Cereals",
                                    "Qty": "40",
                                    "Orderyear": "2006"
                                },
                                {
                                    "Category": "Confections",
                                    "Qty": "24",
                                    "Orderyear": "2006"
                                },
                                {
                                    "Category": "Seafood",
                                    "Qty": "20",
                                    "Orderyear": "2006"
                                },
                                {
                                    "Category": "Seafood",
                                    "Qty": "28",
                                    "Orderyear": "2006"
                                },
                                {
                                    "Category": "Dairy Products",
                                    "Qty": "25",
                                    "Orderyear": "2006"
                                },
                                {
                                    "Category": "Meat/Poultry",
                                    "Qty": "20",
                                    "Orderyear": "2006"
                                },
                                {
                                    "Category": "Seafood",
                                    "Qty": "15",
                                    "Orderyear": "2006"
                                },
                                {
                                    "Category": "Condiments",
                                    "Qty": "10",
                                    "Orderyear": "2006"
                                },
                                {
                                    "Category": "Meat/Poultry",
                                    "Qty": "70",
                                    "Orderyear": "2006"
                                },
                                {
                                    "Category": "Confections",
                                    "Qty": "28",
                                    "Orderyear": "2006"
                                },
                                {
                                    "Category": "Seafood",
                                    "Qty": "20",
                                    "Orderyear": "2006"
                                },
                                {
                                    "Category": "Seafood",
                                    "Qty": "12",
                                    "Orderyear": "2006"
                                },
                                {
                                    "Category": "Beverages",
                                    "Qty": "40",
                                    "Orderyear": "2006"
                                },
                                {
                                    "Category": "Dairy Products",
                                    "Qty": "8",
                                    "Orderyear": "2006"
                                },
                                {
                                    "Category": "Dairy Products",
                                    "Qty": "9",
                                    "Orderyear": "2006"
                                },
                                {
                                    "Category": "Beverages",
                                    "Qty": "24",
                                    "Orderyear": "2006"
                                },
                                {
                                    "Category": "Dairy Products",
                                    "Qty": "56",
                                    "Orderyear": "2006"
                                },
                                {
                                    "Category": "Seafood",
                                    "Qty": "40",
                                    "Orderyear": "2006"
                                },
                                {
                                    "Category": "Meat/Poultry",
                                    "Qty": "40",
                                    "Orderyear": "2006"
                                },
                                {
                                    "Category": "Grains/Cereals",
                                    "Qty": "50",
                                    "Orderyear": "2006"
                                },
                                {
                                    "Category": "Confections",
                                    "Qty": "4",
                                    "Orderyear": "2006"
                                },
                                {
                                    "Category": "Beverages",
                                    "Qty": "15",
                                    "Orderyear": "2006"
                                },
                                {
                                    "Category": "Condiments",
                                    "Qty": "35",
                                    "Orderyear": "2006"
                                },
                                {
                                    "Category": "Condiments",
                                    "Qty": "70",
                                    "Orderyear": "2006"
                                },
                                {
                                    "Category": "Condiments",
                                    "Qty": "70",
                                    "Orderyear": "2006"
                                },
                                {
                                    "Category": "Confections",
                                    "Qty": "80",
                                    "Orderyear": "2006"
                                },
                                {
                                    "Category": "Grains/Cereals",
                                    "Qty": "9",
                                    "Orderyear": "2006"
                                },
                                {
                                    "Category": "Meat/Poultry",
                                    "Qty": "36",
                                    "Orderyear": "2006"
                                },
                                {
                                    "Category": "Grains/Cereals",
                                    "Qty": "20",
                                    "Orderyear": "2006"
                                },
                                {
                                    "Category": "Confections",
                                    "Qty": "10",
                                    "Orderyear": "2006"
                                },
                                {
                                    "Category": "Beverages",
                                    "Qty": "50",
                                    "Orderyear": "2006"
                                },
                                {
                                    "Category": "Seafood",
                                    "Qty": "4",
                                    "Orderyear": "2006"
                                },
                                {
                                    "Category": "Beverages",
                                    "Qty": "6",
                                    "Orderyear": "2006"
                                },
                                {
                                    "Category": "Beverages",
                                    "Qty": "15",
                                    "Orderyear": "2006"
                                },
                                {
                                    "Category": "Grains/Cereals",
                                    "Qty": "25",
                                    "Orderyear": "2006"
                                },
                                {
                                    "Category": "Meat/Poultry",
                                    "Qty": "24",
                                    "Orderyear": "2006"
                                },
                                {
                                    "Category": "Confections",
                                    "Qty": "15",
                                    "Orderyear": "2006"
                                },
                                {
                                    "Category": "Dairy Products",
                                    "Qty": "18",
                                    "Orderyear": "2006"
                                },
                                {
                                    "Category": "Beverages",
                                    "Qty": "20",
                                    "Orderyear": "2006"
                                },
                                {
                                    "Category": "Seafood",
                                    "Qty": "13",
                                    "Orderyear": "2006"
                                },
                                {
                                    "Category": "Condiments",
                                    "Qty": "77",
                                    "Orderyear": "2006"
                                },
                                {
                                    "Category": "Condiments",
                                    "Qty": "10",
                                    "Orderyear": "2006"
                                },
                                {
                                    "Category": "Beverages",
                                    "Qty": "10",
                                    "Orderyear": "2006"
                                },
                                {
                                    "Category": "Meat/Poultry",
                                    "Qty": "20",
                                    "Orderyear": "2006"
                                },
                                {
                                    "Category": "Dairy Products",
                                    "Qty": "12",
                                    "Orderyear": "2006"
                                },
                                {
                                    "Category": "Beverages",
                                    "Qty": "50",
                                    "Orderyear": "2006"
                                },
                                {
                                    "Category": "Beverages",
                                    "Qty": "12",
                                    "Orderyear": "2006"
                                },
                                {
                                    "Category": "Meat/Poultry",
                                    "Qty": "4",
                                    "Orderyear": "2006"
                                },
                                {
                                    "Category": "Beverages",
                                    "Qty": "25",
                                    "Orderyear": "2006"
                                },
                                {
                                    "Category": "Grains/Cereals",
                                    "Qty": "25",
                                    "Orderyear": "2006"
                                },
                                {
                                    "Category": "Dairy Products",
                                    "Qty": "30",
                                    "Orderyear": "2006"
                                },
                                {
                                    "Category": "Meat/Poultry",
                                    "Qty": "12",
                                    "Orderyear": "2006"
                                },
                                {
                                    "Category": "Dairy Products",
                                    "Qty": "20",
                                    "Orderyear": "2006"
                                },
                                {
                                    "Category": "Seafood",
                                    "Qty": "30",
                                    "Orderyear": "2006"
                                },
                                {
                                    "Category": "Confections",
                                    "Qty": "16",
                                    "Orderyear": "2006"
                                },
                                {
                                    "Category": "Dairy Products",
                                    "Qty": "8",
                                    "Orderyear": "2006"
                                },
                                {
                                    "Category": "Beverages",
                                    "Qty": "10",
                                    "Orderyear": "2006"
                                },
                                {
                                    "Category": "Beverages",
                                    "Qty": "10",
                                    "Orderyear": "2006"
                                },
                                {
                                    "Category": "Seafood",
                                    "Qty": "20",
                                    "Orderyear": "2006"
                                },
                                {
                                    "Category": "Confections",
                                    "Qty": "56",
                                    "Orderyear": "2006"
                                },
                                {
                                    "Category": "Dairy Products",
                                    "Qty": "70",
                                    "Orderyear": "2006"
                                },
                                {
                                    "Category": "Dairy Products",
                                    "Qty": "80",
                                    "Orderyear": "2006"
                                },
                                {
                                    "Category": "Produce",
                                    "Qty": "30",
                                    "Orderyear": "2006"
                                },
                                {
                                    "Category": "Meat/Poultry",
                                    "Qty": "35",
                                    "Orderyear": "2006"
                                },
                                {
                                    "Category": "Beverages",
                                    "Qty": "10",
                                    "Orderyear": "2006"
                                },
                                {
                                    "Category": "Confections",
                                    "Qty": "35",
                                    "Orderyear": "2006"
                                },
                                {
                                    "Category": "Meat/Poultry",
                                    "Qty": "28",
                                    "Orderyear": "2006"
                                },
                                {
                                    "Category": "Beverages",
                                    "Qty": "54",
                                    "Orderyear": "2006"
                                },
                                {
                                    "Category": "Dairy Products",
                                    "Qty": "55",
                                    "Orderyear": "2006"
                                },
                                {
                                    "Category": "Confections",
                                    "Qty": "50",
                                    "Orderyear": "2006"
                                },
                                {
                                    "Category": "Produce",
                                    "Qty": "20",
                                    "Orderyear": "2006"
                                },
                                {
                                    "Category": "Meat/Poultry",
                                    "Qty": "24",
                                    "Orderyear": "2006"
                                },
                                {
                                    "Category": "Dairy Products",
                                    "Qty": "20",
                                    "Orderyear": "2006"
                                },
                                {
                                    "Category": "Beverages",
                                    "Qty": "12",
                                    "Orderyear": "2006"
                                },
                                {
                                    "Category": "Beverages",
                                    "Qty": "12",
                                    "Orderyear": "2006"
                                },
                                {
                                    "Category": "Dairy Products",
                                    "Qty": "30",
                                    "Orderyear": "2006"
                                },
                                {
                                    "Category": "Dairy Products",
                                    "Qty": "5",
                                    "Orderyear": "2006"
                                },
                                {
                                    "Category": "Dairy Products",
                                    "Qty": "24",
                                    "Orderyear": "2006"
                                },
                                {
                                    "Category": "Condiments",
                                    "Qty": "5",
                                    "Orderyear": "2006"
                                },
                                {
                                    "Category": "Condiments",
                                    "Qty": "5",
                                    "Orderyear": "2006"
                                },
                                {
                                    "Category": "Beverages",
                                    "Qty": "36",
                                    "Orderyear": "2006"
                                },
                                {
                                    "Category": "Meat/Poultry",
                                    "Qty": "18",
                                    "Orderyear": "2006"
                                },
                                {
                                    "Category": "Condiments",
                                    "Qty": "15",
                                    "Orderyear": "2006"
                                },
                                {
                                    "Category": "Condiments",
                                    "Qty": "7",
                                    "Orderyear": "2006"
                                },
                                {
                                    "Category": "Confections",
                                    "Qty": "5",
                                    "Orderyear": "2006"
                                },
                                {
                                    "Category": "Produce",
                                    "Qty": "13",
                                    "Orderyear": "2006"
                                },
                                {
                                    "Category": "Grains/Cereals",
                                    "Qty": "25",
                                    "Orderyear": "2006"
                                },
                                {
                                    "Category": "Grains/Cereals",
                                    "Qty": "35",
                                    "Orderyear": "2006"
                                },
                                {
                                    "Category": "Meat/Poultry",
                                    "Qty": "20",
                                    "Orderyear": "2006"
                                },
                                {
                                    "Category": "Grains/Cereals",
                                    "Qty": "18",
                                    "Orderyear": "2006"
                                },
                                {
                                    "Category": "Beverages",
                                    "Qty": "15",
                                    "Orderyear": "2006"
                                },
                                {
                                    "Category": "Grains/Cereals",
                                    "Qty": "30",
                                    "Orderyear": "2006"
                                },
                                {
                                    "Category": "Produce",
                                    "Qty": "20",
                                    "Orderyear": "2006"
                                },
                                {
                                    "Category": "Seafood",
                                    "Qty": "6",
                                    "Orderyear": "2006"
                                },
                                {
                                    "Category": "Confections",
                                    "Qty": "12",
                                    "Orderyear": "2006"
                                },
                                {
                                    "Category": "Beverages",
                                    "Qty": "40",
                                    "Orderyear": "2006"
                                },
                                {
                                    "Category": "Dairy Products",
                                    "Qty": "70",
                                    "Orderyear": "2006"
                                },
                                {
                                    "Category": "Dairy Products",
                                    "Qty": "42",
                                    "Orderyear": "2006"
                                },
                                {
                                    "Category": "Seafood",
                                    "Qty": "80",
                                    "Orderyear": "2006"
                                },
                                {
                                    "Category": "Dairy Products",
                                    "Qty": "50",
                                    "Orderyear": "2006"
                                },
                                {
                                    "Category": "Dairy Products",
                                    "Qty": "30",
                                    "Orderyear": "2006"
                                },
                                {
                                    "Category": "Seafood",
                                    "Qty": "15",
                                    "Orderyear": "2006"
                                },
                                {
                                    "Category": "Produce",
                                    "Qty": "15",
                                    "Orderyear": "2006"
                                },
                                {
                                    "Category": "Meat/Poultry",
                                    "Qty": "10",
                                    "Orderyear": "2006"
                                },
                                {
                                    "Category": "Dairy Products",
                                    "Qty": "42",
                                    "Orderyear": "2006"
                                },
                                {
                                    "Category": "Produce",
                                    "Qty": "20",
                                    "Orderyear": "2006"
                                },
                                {
                                    "Category": "Beverages",
                                    "Qty": "20",
                                    "Orderyear": "2006"
                                },
                                {
                                    "Category": "Dairy Products",
                                    "Qty": "6",
                                    "Orderyear": "2006"
                                },
                                {
                                    "Category": "Seafood",
                                    "Qty": "8",
                                    "Orderyear": "2006"
                                },
                                {
                                    "Category": "Condiments",
                                    "Qty": "16",
                                    "Orderyear": "2006"
                                },
                                {
                                    "Category": "Condiments",
                                    "Qty": "20",
                                    "Orderyear": "2006"
                                },
                                {
                                    "Category": "Seafood",
                                    "Qty": "18",
                                    "Orderyear": "2006"
                                },
                                {
                                    "Category": "Meat/Poultry",
                                    "Qty": "20",
                                    "Orderyear": "2006"
                                },
                                {
                                    "Category": "Dairy Products",
                                    "Qty": "6",
                                    "Orderyear": "2006"
                                },
                                {
                                    "Category": "Beverages",
                                    "Qty": "30",
                                    "Orderyear": "2006"
                                },
                                {
                                    "Category": "Produce",
                                    "Qty": "14",
                                    "Orderyear": "2006"
                                },
                                {
                                    "Category": "Condiments",
                                    "Qty": "32",
                                    "Orderyear": "2006"
                                },
                                {
                                    "Category": "Seafood",
                                    "Qty": "9",
                                    "Orderyear": "2006"
                                },
                                {
                                    "Category": "Meat/Poultry",
                                    "Qty": "14",
                                    "Orderyear": "2006"
                                },
                                {
                                    "Category": "Dairy Products",
                                    "Qty": "60",
                                    "Orderyear": "2006"
                                },
                                {
                                    "Category": "Produce",
                                    "Qty": "50",
                                    "Orderyear": "2006"
                                },
                                {
                                    "Category": "Seafood",
                                    "Qty": "20",
                                    "Orderyear": "2006"
                                },
                                {
                                    "Category": "Confections",
                                    "Qty": "15",
                                    "Orderyear": "2006"
                                },
                                {
                                    "Category": "Grains/Cereals",
                                    "Qty": "20",
                                    "Orderyear": "2006"
                                },
                                {
                                    "Category": "Confections",
                                    "Qty": "28",
                                    "Orderyear": "2006"
                                },
                                {
                                    "Category": "Dairy Products",
                                    "Qty": "15",
                                    "Orderyear": "2006"
                                },
                                {
                                    "Category": "Produce",
                                    "Qty": "10",
                                    "Orderyear": "2006"
                                },
                                {
                                    "Category": "Dairy Products",
                                    "Qty": "20",
                                    "Orderyear": "2006"
                                },
                                {
                                    "Category": "Confections",
                                    "Qty": "8",
                                    "Orderyear": "2006"
                                },
                                {
                                    "Category": "Beverages",
                                    "Qty": "15",
                                    "Orderyear": "2006"
                                },
                                {
                                    "Category": "Beverages",
                                    "Qty": "10",
                                    "Orderyear": "2006"
                                },
                                {
                                    "Category": "Beverages",
                                    "Qty": "15",
                                    "Orderyear": "2006"
                                },
                                {
                                    "Category": "Produce",
                                    "Qty": "6",
                                    "Orderyear": "2006"
                                },
                                {
                                    "Category": "Dairy Products",
                                    "Qty": "12",
                                    "Orderyear": "2006"
                                },
                                {
                                    "Category": "Dairy Products",
                                    "Qty": "15",
                                    "Orderyear": "2006"
                                },
                                {
                                    "Category": "Seafood",
                                    "Qty": "15",
                                    "Orderyear": "2006"
                                },
                                {
                                    "Category": "Grains/Cereals",
                                    "Qty": "20",
                                    "Orderyear": "2006"
                                },
                                {
                                    "Category": "Meat/Poultry",
                                    "Qty": "40",
                                    "Orderyear": "2006"
                                },
                                {
                                    "Category": "Seafood",
                                    "Qty": "16",
                                    "Orderyear": "2006"
                                },
                                {
                                    "Category": "Meat/Poultry",
                                    "Qty": "15",
                                    "Orderyear": "2006"
                                },
                                {
                                    "Category": "Confections",
                                    "Qty": "20",
                                    "Orderyear": "2006"
                                },
                                {
                                    "Category": "Beverages",
                                    "Qty": "30",
                                    "Orderyear": "2006"
                                },
                                {
                                    "Category": "Dairy Products",
                                    "Qty": "60",
                                    "Orderyear": "2006"
                                },
                                {
                                    "Category": "Beverages",
                                    "Qty": "40",
                                    "Orderyear": "2006"
                                },
                                {
                                    "Category": "Seafood",
                                    "Qty": "45",
                                    "Orderyear": "2006"
                                },
                                {
                                    "Category": "Dairy Products",
                                    "Qty": "24",
                                    "Orderyear": "2006"
                                },
                                {
                                    "Category": "Seafood",
                                    "Qty": "18",
                                    "Orderyear": "2006"
                                },
                                {
                                    "Category": "Dairy Products",
                                    "Qty": "50",
                                    "Orderyear": "2006"
                                },
                                {
                                    "Category": "Beverages",
                                    "Qty": "25",
                                    "Orderyear": "2006"
                                },
                                {
                                    "Category": "Produce",
                                    "Qty": "42",
                                    "Orderyear": "2006"
                                },
                                {
                                    "Category": "Confections",
                                    "Qty": "7",
                                    "Orderyear": "2006"
                                },
                                {
                                    "Category": "Confections",
                                    "Qty": "70",
                                    "Orderyear": "2006"
                                },
                                {
                                    "Category": "Dairy Products",
                                    "Qty": "32",
                                    "Orderyear": "2006"
                                },
                                {
                                    "Category": "Seafood",
                                    "Qty": "10",
                                    "Orderyear": "2006"
                                },
                                {
                                    "Category": "Confections",
                                    "Qty": "10",
                                    "Orderyear": "2006"
                                },
                                {
                                    "Category": "Seafood",
                                    "Qty": "28",
                                    "Orderyear": "2006"
                                },
                                {
                                    "Category": "Meat/Poultry",
                                    "Qty": "70",
                                    "Orderyear": "2006"
                                },
                                {
                                    "Category": "Dairy Products",
                                    "Qty": "8",
                                    "Orderyear": "2006"
                                },
                                {
                                    "Category": "Grains/Cereals",
                                    "Qty": "40",
                                    "Orderyear": "2006"
                                },
                                {
                                    "Category": "Dairy Products",
                                    "Qty": "60",
                                    "Orderyear": "2006"
                                },
                                {
                                    "Category": "Dairy Products",
                                    "Qty": "21",
                                    "Orderyear": "2006"
                                },
                                {
                                    "Category": "Confections",
                                    "Qty": "10",
                                    "Orderyear": "2006"
                                },
                                {
                                    "Category": "Produce",
                                    "Qty": "18",
                                    "Orderyear": "2006"
                                },
                                {
                                    "Category": "Beverages",
                                    "Qty": "30",
                                    "Orderyear": "2006"
                                },
                                {
                                    "Category": "Meat/Poultry",
                                    "Qty": "120",
                                    "Orderyear": "2006"
                                },
                                {
                                    "Category": "Confections",
                                    "Qty": "60",
                                    "Orderyear": "2006"
                                },
                                {
                                    "Category": "Dairy Products",
                                    "Qty": "30",
                                    "Orderyear": "2006"
                                },
                                {
                                    "Category": "Beverages",
                                    "Qty": "35",
                                    "Orderyear": "2006"
                                },
                                {
                                    "Category": "Condiments",
                                    "Qty": "14",
                                    "Orderyear": "2006"
                                },
                                {
                                    "Category": "Meat/Poultry",
                                    "Qty": "21",
                                    "Orderyear": "2007"
                                },
                                {
                                    "Category": "Beverages",
                                    "Qty": "35",
                                    "Orderyear": "2007"
                                },
                                {
                                    "Category": "Confections",
                                    "Qty": "30",
                                    "Orderyear": "2007"
                                },
                                {
                                    "Category": "Seafood",
                                    "Qty": "18",
                                    "Orderyear": "2007"
                                },
                                {
                                    "Category": "Grains/Cereals",
                                    "Qty": "70",
                                    "Orderyear": "2007"
                                },
                                {
                                    "Category": "Condiments",
                                    "Qty": "20",
                                    "Orderyear": "2007"
                                },
                                {
                                    "Category": "Dairy Products",
                                    "Qty": "60",
                                    "Orderyear": "2007"
                                },
                                {
                                    "Category": "Grains/Cereals",
                                    "Qty": "60",
                                    "Orderyear": "2007"
                                },
                                {
                                    "Category": "Condiments",
                                    "Qty": "65",
                                    "Orderyear": "2007"
                                },
                                {
                                    "Category": "Confections",
                                    "Qty": "21",
                                    "Orderyear": "2007"
                                },
                                {
                                    "Category": "Confections",
                                    "Qty": "70",
                                    "Orderyear": "2007"
                                },
                                {
                                    "Category": "Confections",
                                    "Qty": "30",
                                    "Orderyear": "2007"
                                },
                                {
                                    "Category": "Grains/Cereals",
                                    "Qty": "40",
                                    "Orderyear": "2007"
                                },
                                {
                                    "Category": "Confections",
                                    "Qty": "30",
                                    "Orderyear": "2007"
                                },
                                {
                                    "Category": "Condiments",
                                    "Qty": "50",
                                    "Orderyear": "2007"
                                },
                                {
                                    "Category": "Beverages",
                                    "Qty": "10",
                                    "Orderyear": "2007"
                                },
                                {
                                    "Category": "Confections",
                                    "Qty": "30",
                                    "Orderyear": "2007"
                                },
                                {
                                    "Category": "Produce",
                                    "Qty": "42",
                                    "Orderyear": "2007"
                                },
                                {
                                    "Category": "Seafood",
                                    "Qty": "5",
                                    "Orderyear": "2007"
                                },
                                {
                                    "Category": "Seafood",
                                    "Qty": "2",
                                    "Orderyear": "2007"
                                },
                                {
                                    "Category": "Dairy Products",
                                    "Qty": "30",
                                    "Orderyear": "2007"
                                },
                                {
                                    "Category": "Dairy Products",
                                    "Qty": "15",
                                    "Orderyear": "2007"
                                },
                                {
                                    "Category": "Dairy Products",
                                    "Qty": "15",
                                    "Orderyear": "2007"
                                },
                                {
                                    "Category": "Seafood",
                                    "Qty": "10",
                                    "Orderyear": "2007"
                                },
                                {
                                    "Category": "Meat/Poultry",
                                    "Qty": "6",
                                    "Orderyear": "2007"
                                },
                                {
                                    "Category": "Confections",
                                    "Qty": "35",
                                    "Orderyear": "2007"
                                },
                                {
                                    "Category": "Produce",
                                    "Qty": "12",
                                    "Orderyear": "2007"
                                },
                                {
                                    "Category": "Confections",
                                    "Qty": "12",
                                    "Orderyear": "2007"
                                },
                                {
                                    "Category": "Dairy Products",
                                    "Qty": "49",
                                    "Orderyear": "2007"
                                },
                                {
                                    "Category": "Dairy Products",
                                    "Qty": "16",
                                    "Orderyear": "2007"
                                },
                                {
                                    "Category": "Seafood",
                                    "Qty": "25",
                                    "Orderyear": "2007"
                                },
                                {
                                    "Category": "Condiments",
                                    "Qty": "40",
                                    "Orderyear": "2007"
                                },
                                {
                                    "Category": "Dairy Products",
                                    "Qty": "9",
                                    "Orderyear": "2007"
                                },
                                {
                                    "Category": "Produce",
                                    "Qty": "20",
                                    "Orderyear": "2007"
                                },
                                {
                                    "Category": "Beverages",
                                    "Qty": "24",
                                    "Orderyear": "2007"
                                },
                                {
                                    "Category": "Confections",
                                    "Qty": "40",
                                    "Orderyear": "2007"
                                },
                                {
                                    "Category": "Beverages",
                                    "Qty": "14",
                                    "Orderyear": "2007"
                                },
                                {
                                    "Category": "Confections",
                                    "Qty": "18",
                                    "Orderyear": "2007"
                                },
                                {
                                    "Category": "Dairy Products",
                                    "Qty": "50",
                                    "Orderyear": "2007"
                                },
                                {
                                    "Category": "Meat/Poultry",
                                    "Qty": "2",
                                    "Orderyear": "2007"
                                },
                                {
                                    "Category": "Dairy Products",
                                    "Qty": "20",
                                    "Orderyear": "2007"
                                },
                                {
                                    "Category": "Confections",
                                    "Qty": "20",
                                    "Orderyear": "2007"
                                },
                                {
                                    "Category": "Meat/Poultry",
                                    "Qty": "10",
                                    "Orderyear": "2007"
                                },
                                {
                                    "Category": "Grains/Cereals",
                                    "Qty": "20",
                                    "Orderyear": "2007"
                                },
                                {
                                    "Category": "Beverages",
                                    "Qty": "50",
                                    "Orderyear": "2007"
                                },
                                {
                                    "Category": "Seafood",
                                    "Qty": "2",
                                    "Orderyear": "2007"
                                },
                                {
                                    "Category": "Confections",
                                    "Qty": "36",
                                    "Orderyear": "2007"
                                },
                                {
                                    "Category": "Condiments",
                                    "Qty": "35",
                                    "Orderyear": "2007"
                                },
                                {
                                    "Category": "Beverages",
                                    "Qty": "60",
                                    "Orderyear": "2007"
                                },
                                {
                                    "Category": "Confections",
                                    "Qty": "55",
                                    "Orderyear": "2007"
                                },
                                {
                                    "Category": "Condiments",
                                    "Qty": "16",
                                    "Orderyear": "2007"
                                },
                                {
                                    "Category": "Produce",
                                    "Qty": "15",
                                    "Orderyear": "2007"
                                },
                                {
                                    "Category": "Dairy Products",
                                    "Qty": "60",
                                    "Orderyear": "2007"
                                },
                                {
                                    "Category": "Dairy Products",
                                    "Qty": "20",
                                    "Orderyear": "2007"
                                },
                                {
                                    "Category": "Meat/Poultry",
                                    "Qty": "20",
                                    "Orderyear": "2007"
                                },
                                {
                                    "Category": "Seafood",
                                    "Qty": "2",
                                    "Orderyear": "2007"
                                },
                                {
                                    "Category": "Beverages",
                                    "Qty": "8",
                                    "Orderyear": "2007"
                                },
                                {
                                    "Category": "Seafood",
                                    "Qty": "20",
                                    "Orderyear": "2007"
                                },
                                {
                                    "Category": "Confections",
                                    "Qty": "4",
                                    "Orderyear": "2007"
                                },
                                {
                                    "Category": "Confections",
                                    "Qty": "30",
                                    "Orderyear": "2007"
                                },
                                {
                                    "Category": "Meat/Poultry",
                                    "Qty": "15",
                                    "Orderyear": "2007"
                                },
                                {
                                    "Category": "Condiments",
                                    "Qty": "10",
                                    "Orderyear": "2007"
                                },
                                {
                                    "Category": "Confections",
                                    "Qty": "2",
                                    "Orderyear": "2007"
                                },
                                {
                                    "Category": "Dairy Products",
                                    "Qty": "14",
                                    "Orderyear": "2007"
                                },
                                {
                                    "Category": "Dairy Products",
                                    "Qty": "20",
                                    "Orderyear": "2007"
                                },
                                {
                                    "Category": "Beverages",
                                    "Qty": "60",
                                    "Orderyear": "2007"
                                },
                                {
                                    "Category": "Beverages",
                                    "Qty": "49",
                                    "Orderyear": "2007"
                                },
                                {
                                    "Category": "Confections",
                                    "Qty": "30",
                                    "Orderyear": "2007"
                                },
                                {
                                    "Category": "Meat/Poultry",
                                    "Qty": "10",
                                    "Orderyear": "2007"
                                },
                                {
                                    "Category": "Beverages",
                                    "Qty": "20",
                                    "Orderyear": "2007"
                                },
                                {
                                    "Category": "Grains/Cereals",
                                    "Qty": "5",
                                    "Orderyear": "2007"
                                },
                                {
                                    "Category": "Grains/Cereals",
                                    "Qty": "7",
                                    "Orderyear": "2007"
                                },
                                {
                                    "Category": "Produce",
                                    "Qty": "35",
                                    "Orderyear": "2007"
                                },
                                {
                                    "Category": "Seafood",
                                    "Qty": "20",
                                    "Orderyear": "2007"
                                },
                                {
                                    "Category": "Confections",
                                    "Qty": "40",
                                    "Orderyear": "2007"
                                },
                                {
                                    "Category": "Condiments",
                                    "Qty": "35",
                                    "Orderyear": "2007"
                                },
                                {
                                    "Category": "Meat/Poultry",
                                    "Qty": "45",
                                    "Orderyear": "2007"
                                },
                                {
                                    "Category": "Confections",
                                    "Qty": "50",
                                    "Orderyear": "2007"
                                },
                                {
                                    "Category": "Grains/Cereals",
                                    "Qty": "30",
                                    "Orderyear": "2007"
                                },
                                {
                                    "Category": "Dairy Products",
                                    "Qty": "70",
                                    "Orderyear": "2007"
                                },
                                {
                                    "Category": "Meat/Poultry",
                                    "Qty": "50",
                                    "Orderyear": "2007"
                                },
                                {
                                    "Category": "Seafood",
                                    "Qty": "50",
                                    "Orderyear": "2007"
                                },
                                {
                                    "Category": "Confections",
                                    "Qty": "30",
                                    "Orderyear": "2007"
                                },
                                {
                                    "Category": "Confections",
                                    "Qty": "10",
                                    "Orderyear": "2007"
                                },
                                {
                                    "Category": "Meat/Poultry",
                                    "Qty": "40",
                                    "Orderyear": "2007"
                                },
                                {
                                    "Category": "Grains/Cereals",
                                    "Qty": "28",
                                    "Orderyear": "2007"
                                },
                                {
                                    "Category": "Dairy Products",
                                    "Qty": "6",
                                    "Orderyear": "2007"
                                },
                                {
                                    "Category": "Beverages",
                                    "Qty": "18",
                                    "Orderyear": "2007"
                                },
                                {
                                    "Category": "Beverages",
                                    "Qty": "10",
                                    "Orderyear": "2007"
                                },
                                {
                                    "Category": "Grains/Cereals",
                                    "Qty": "12",
                                    "Orderyear": "2007"
                                },
                                {
                                    "Category": "Dairy Products",
                                    "Qty": "10",
                                    "Orderyear": "2007"
                                },
                                {
                                    "Category": "Seafood",
                                    "Qty": "5",
                                    "Orderyear": "2007"
                                },
                                {
                                    "Category": "Grains/Cereals",
                                    "Qty": "40",
                                    "Orderyear": "2007"
                                },
                                {
                                    "Category": "Grains/Cereals",
                                    "Qty": "30",
                                    "Orderyear": "2007"
                                },
                                {
                                    "Category": "Beverages",
                                    "Qty": "24",
                                    "Orderyear": "2007"
                                },
                                {
                                    "Category": "Meat/Poultry",
                                    "Qty": "15",
                                    "Orderyear": "2007"
                                },
                                {
                                    "Category": "Confections",
                                    "Qty": "15",
                                    "Orderyear": "2007"
                                },
                                {
                                    "Category": "Beverages",
                                    "Qty": "20",
                                    "Orderyear": "2007"
                                },
                                {
                                    "Category": "Grains/Cereals",
                                    "Qty": "15",
                                    "Orderyear": "2007"
                                },
                                {
                                    "Category": "Dairy Products",
                                    "Qty": "15",
                                    "Orderyear": "2007"
                                },
                                {
                                    "Category": "Confections",
                                    "Qty": "16",
                                    "Orderyear": "2007"
                                },
                                {
                                    "Category": "Grains/Cereals",
                                    "Qty": "6",
                                    "Orderyear": "2007"
                                },
                                {
                                    "Category": "Produce",
                                    "Qty": "30",
                                    "Orderyear": "2007"
                                },
                                {
                                    "Category": "Beverages",
                                    "Qty": "45",
                                    "Orderyear": "2007"
                                },
                                {
                                    "Category": "Confections",
                                    "Qty": "49",
                                    "Orderyear": "2007"
                                },
                                {
                                    "Category": "Meat/Poultry",
                                    "Qty": "24",
                                    "Orderyear": "2007"
                                },
                                {
                                    "Category": "Condiments",
                                    "Qty": "90",
                                    "Orderyear": "2007"
                                },
                                {
                                    "Category": "Confections",
                                    "Qty": "50",
                                    "Orderyear": "2007"
                                },
                                {
                                    "Category": "Dairy Products",
                                    "Qty": "30",
                                    "Orderyear": "2007"
                                },
                                {
                                    "Category": "Meat/Poultry",
                                    "Qty": "80",
                                    "Orderyear": "2007"
                                },
                                {
                                    "Category": "Condiments",
                                    "Qty": "60",
                                    "Orderyear": "2007"
                                },
                                {
                                    "Category": "Dairy Products",
                                    "Qty": "6",
                                    "Orderyear": "2007"
                                },
                                {
                                    "Category": "Produce",
                                    "Qty": "12",
                                    "Orderyear": "2007"
                                },
                                {
                                    "Category": "Meat/Poultry",
                                    "Qty": "10",
                                    "Orderyear": "2007"
                                },
                                {
                                    "Category": "Confections",
                                    "Qty": "15",
                                    "Orderyear": "2007"
                                },
                                {
                                    "Category": "Beverages",
                                    "Qty": "8",
                                    "Orderyear": "2007"
                                },
                                {
                                    "Category": "Seafood",
                                    "Qty": "30",
                                    "Orderyear": "2007"
                                },
                                {
                                    "Category": "Beverages",
                                    "Qty": "6",
                                    "Orderyear": "2007"
                                },
                                {
                                    "Category": "Meat/Poultry",
                                    "Qty": "15",
                                    "Orderyear": "2007"
                                },
                                {
                                    "Category": "Confections",
                                    "Qty": "12",
                                    "Orderyear": "2007"
                                },
                                {
                                    "Category": "Beverages",
                                    "Qty": "20",
                                    "Orderyear": "2007"
                                },
                                {
                                    "Category": "Dairy Products",
                                    "Qty": "3",
                                    "Orderyear": "2007"
                                },
                                {
                                    "Category": "Grains/Cereals",
                                    "Qty": "15",
                                    "Orderyear": "2007"
                                },
                                {
                                    "Category": "Confections",
                                    "Qty": "40",
                                    "Orderyear": "2007"
                                },
                                {
                                    "Category": "Condiments",
                                    "Qty": "35",
                                    "Orderyear": "2007"
                                },
                                {
                                    "Category": "Dairy Products",
                                    "Qty": "2",
                                    "Orderyear": "2007"
                                },
                                {
                                    "Category": "Confections",
                                    "Qty": "6",
                                    "Orderyear": "2007"
                                },
                                {
                                    "Category": "Seafood",
                                    "Qty": "20",
                                    "Orderyear": "2007"
                                },
                                {
                                    "Category": "Seafood",
                                    "Qty": "14",
                                    "Orderyear": "2007"
                                },
                                {
                                    "Category": "Grains/Cereals",
                                    "Qty": "20",
                                    "Orderyear": "2007"
                                },
                                {
                                    "Category": "Confections",
                                    "Qty": "35",
                                    "Orderyear": "2007"
                                },
                                {
                                    "Category": "Seafood",
                                    "Qty": "20",
                                    "Orderyear": "2007"
                                },
                                {
                                    "Category": "Meat/Poultry",
                                    "Qty": "6",
                                    "Orderyear": "2007"
                                },
                                {
                                    "Category": "Meat/Poultry",
                                    "Qty": "120",
                                    "Orderyear": "2007"
                                },
                                {
                                    "Category": "Grains/Cereals",
                                    "Qty": "35",
                                    "Orderyear": "2007"
                                },
                                {
                                    "Category": "Condiments",
                                    "Qty": "28",
                                    "Orderyear": "2007"
                                },
                                {
                                    "Category": "Condiments",
                                    "Qty": "55",
                                    "Orderyear": "2007"
                                },
                                {
                                    "Category": "Produce",
                                    "Qty": "15",
                                    "Orderyear": "2007"
                                },
                                {
                                    "Category": "Condiments",
                                    "Qty": "100",
                                    "Orderyear": "2007"
                                },
                                {
                                    "Category": "Confections",
                                    "Qty": "15",
                                    "Orderyear": "2007"
                                },
                                {
                                    "Category": "Beverages",
                                    "Qty": "25",
                                    "Orderyear": "2007"
                                },
                                {
                                    "Category": "Confections",
                                    "Qty": "20",
                                    "Orderyear": "2007"
                                },
                                {
                                    "Category": "Dairy Products",
                                    "Qty": "20",
                                    "Orderyear": "2007"
                                },
                                {
                                    "Category": "Seafood",
                                    "Qty": "10",
                                    "Orderyear": "2007"
                                },
                                {
                                    "Category": "Beverages",
                                    "Qty": "20",
                                    "Orderyear": "2007"
                                },
                                {
                                    "Category": "Meat/Poultry",
                                    "Qty": "50",
                                    "Orderyear": "2007"
                                },
                                {
                                    "Category": "Condiments",
                                    "Qty": "25",
                                    "Orderyear": "2007"
                                },
                                {
                                    "Category": "Dairy Products",
                                    "Qty": "30",
                                    "Orderyear": "2007"
                                },
                                {
                                    "Category": "Confections",
                                    "Qty": "40",
                                    "Orderyear": "2007"
                                },
                                {
                                    "Category": "Confections",
                                    "Qty": "21",
                                    "Orderyear": "2007"
                                },
                                {
                                    "Category": "Dairy Products",
                                    "Qty": "36",
                                    "Orderyear": "2007"
                                },
                                {
                                    "Category": "Confections",
                                    "Qty": "30",
                                    "Orderyear": "2007"
                                },
                                {
                                    "Category": "Produce",
                                    "Qty": "30",
                                    "Orderyear": "2007"
                                },
                                {
                                    "Category": "Beverages",
                                    "Qty": "20",
                                    "Orderyear": "2007"
                                },
                                {
                                    "Category": "Grains/Cereals",
                                    "Qty": "15",
                                    "Orderyear": "2007"
                                },
                                {
                                    "Category": "Dairy Products",
                                    "Qty": "50",
                                    "Orderyear": "2007"
                                },
                                {
                                    "Category": "Produce",
                                    "Qty": "16",
                                    "Orderyear": "2007"
                                },
                                {
                                    "Category": "Seafood",
                                    "Qty": "20",
                                    "Orderyear": "2007"
                                },
                                {
                                    "Category": "Dairy Products",
                                    "Qty": "40",
                                    "Orderyear": "2007"
                                },
                                {
                                    "Category": "Confections",
                                    "Qty": "21",
                                    "Orderyear": "2007"
                                },
                                {
                                    "Category": "Beverages",
                                    "Qty": "4",
                                    "Orderyear": "2007"
                                },
                                {
                                    "Category": "Confections",
                                    "Qty": "40",
                                    "Orderyear": "2007"
                                },
                                {
                                    "Category": "Seafood",
                                    "Qty": "28",
                                    "Orderyear": "2007"
                                },
                                {
                                    "Category": "Meat/Poultry",
                                    "Qty": "60",
                                    "Orderyear": "2007"
                                },
                                {
                                    "Category": "Seafood",
                                    "Qty": "1",
                                    "Orderyear": "2007"
                                },
                                {
                                    "Category": "Grains/Cereals",
                                    "Qty": "21",
                                    "Orderyear": "2007"
                                },
                                {
                                    "Category": "Confections",
                                    "Qty": "21",
                                    "Orderyear": "2007"
                                },
                                {
                                    "Category": "Grains/Cereals",
                                    "Qty": "50",
                                    "Orderyear": "2007"
                                },
                                {
                                    "Category": "Condiments",
                                    "Qty": "16",
                                    "Orderyear": "2007"
                                },
                                {
                                    "Category": "Beverages",
                                    "Qty": "3",
                                    "Orderyear": "2007"
                                },
                                {
                                    "Category": "Grains/Cereals",
                                    "Qty": "30",
                                    "Orderyear": "2007"
                                },
                                {
                                    "Category": "Dairy Products",
                                    "Qty": "20",
                                    "Orderyear": "2007"
                                },
                                {
                                    "Category": "Beverages",
                                    "Qty": "25",
                                    "Orderyear": "2007"
                                },
                                {
                                    "Category": "Meat/Poultry",
                                    "Qty": "18",
                                    "Orderyear": "2007"
                                },
                                {
                                    "Category": "Seafood",
                                    "Qty": "20",
                                    "Orderyear": "2007"
                                },
                                {
                                    "Category": "Seafood",
                                    "Qty": "30",
                                    "Orderyear": "2007"
                                },
                                {
                                    "Category": "Confections",
                                    "Qty": "25",
                                    "Orderyear": "2007"
                                },
                                {
                                    "Category": "Dairy Products",
                                    "Qty": "10",
                                    "Orderyear": "2007"
                                },
                                {
                                    "Category": "Seafood",
                                    "Qty": "5",
                                    "Orderyear": "2007"
                                },
                                {
                                    "Category": "Beverages",
                                    "Qty": "28",
                                    "Orderyear": "2007"
                                },
                                {
                                    "Category": "Confections",
                                    "Qty": "12",
                                    "Orderyear": "2007"
                                },
                                {
                                    "Category": "Seafood",
                                    "Qty": "8",
                                    "Orderyear": "2007"
                                },
                                {
                                    "Category": "Beverages",
                                    "Qty": "15",
                                    "Orderyear": "2007"
                                },
                                {
                                    "Category": "Beverages",
                                    "Qty": "40",
                                    "Orderyear": "2007"
                                },
                                {
                                    "Category": "Confections",
                                    "Qty": "35",
                                    "Orderyear": "2007"
                                },
                                {
                                    "Category": "Condiments",
                                    "Qty": "2",
                                    "Orderyear": "2007"
                                },
                                {
                                    "Category": "Seafood",
                                    "Qty": "30",
                                    "Orderyear": "2007"
                                },
                                {
                                    "Category": "Grains/Cereals",
                                    "Qty": "15",
                                    "Orderyear": "2007"
                                },
                                {
                                    "Category": "Grains/Cereals",
                                    "Qty": "8",
                                    "Orderyear": "2007"
                                },
                                {
                                    "Category": "Produce",
                                    "Qty": "30",
                                    "Orderyear": "2007"
                                },
                                {
                                    "Category": "Grains/Cereals",
                                    "Qty": "20",
                                    "Orderyear": "2007"
                                },
                                {
                                    "Category": "Beverages",
                                    "Qty": "80",
                                    "Orderyear": "2007"
                                },
                                {
                                    "Category": "Produce",
                                    "Qty": "18",
                                    "Orderyear": "2007"
                                },
                                {
                                    "Category": "Dairy Products",
                                    "Qty": "12",
                                    "Orderyear": "2007"
                                },
                                {
                                    "Category": "Dairy Products",
                                    "Qty": "12",
                                    "Orderyear": "2007"
                                },
                                {
                                    "Category": "Produce",
                                    "Qty": "12",
                                    "Orderyear": "2007"
                                },
                                {
                                    "Category": "Produce",
                                    "Qty": "18",
                                    "Orderyear": "2007"
                                },
                                {
                                    "Category": "Seafood",
                                    "Qty": "21",
                                    "Orderyear": "2007"
                                },
                                {
                                    "Category": "Beverages",
                                    "Qty": "10",
                                    "Orderyear": "2007"
                                },
                                {
                                    "Category": "Dairy Products",
                                    "Qty": "35",
                                    "Orderyear": "2007"
                                },
                                {
                                    "Category": "Condiments",
                                    "Qty": "60",
                                    "Orderyear": "2007"
                                },
                                {
                                    "Category": "Beverages",
                                    "Qty": "42",
                                    "Orderyear": "2007"
                                },
                                {
                                    "Category": "Meat/Poultry",
                                    "Qty": "2",
                                    "Orderyear": "2007"
                                },
                                {
                                    "Category": "Beverages",
                                    "Qty": "12",
                                    "Orderyear": "2007"
                                },
                                {
                                    "Category": "Beverages",
                                    "Qty": "15",
                                    "Orderyear": "2007"
                                },
                                {
                                    "Category": "Confections",
                                    "Qty": "21",
                                    "Orderyear": "2007"
                                },
                                {
                                    "Category": "Beverages",
                                    "Qty": "20",
                                    "Orderyear": "2007"
                                },
                                {
                                    "Category": "Seafood",
                                    "Qty": "20",
                                    "Orderyear": "2007"
                                },
                                {
                                    "Category": "Beverages",
                                    "Qty": "30",
                                    "Orderyear": "2007"
                                },
                                {
                                    "Category": "Meat/Poultry",
                                    "Qty": "28",
                                    "Orderyear": "2007"
                                },
                                {
                                    "Category": "Dairy Products",
                                    "Qty": "60",
                                    "Orderyear": "2007"
                                },
                                {
                                    "Category": "Grains/Cereals",
                                    "Qty": "30",
                                    "Orderyear": "2007"
                                },
                                {
                                    "Category": "Confections",
                                    "Qty": "30",
                                    "Orderyear": "2007"
                                },
                                {
                                    "Category": "Dairy Products",
                                    "Qty": "12",
                                    "Orderyear": "2007"
                                },
                                {
                                    "Category": "Confections",
                                    "Qty": "24",
                                    "Orderyear": "2007"
                                },
                                {
                                    "Category": "Dairy Products",
                                    "Qty": "40",
                                    "Orderyear": "2007"
                                },
                                {
                                    "Category": "Seafood",
                                    "Qty": "10",
                                    "Orderyear": "2007"
                                },
                                {
                                    "Category": "Beverages",
                                    "Qty": "35",
                                    "Orderyear": "2007"
                                },
                                {
                                    "Category": "Condiments",
                                    "Qty": "30",
                                    "Orderyear": "2007"
                                },
                                {
                                    "Category": "Confections",
                                    "Qty": "14",
                                    "Orderyear": "2007"
                                },
                                {
                                    "Category": "Seafood",
                                    "Qty": "10",
                                    "Orderyear": "2007"
                                },
                                {
                                    "Category": "Produce",
                                    "Qty": "3",
                                    "Orderyear": "2007"
                                },
                                {
                                    "Category": "Beverages",
                                    "Qty": "20",
                                    "Orderyear": "2007"
                                },
                                {
                                    "Category": "Condiments",
                                    "Qty": "20",
                                    "Orderyear": "2007"
                                },
                                {
                                    "Category": "Meat/Poultry",
                                    "Qty": "30",
                                    "Orderyear": "2007"
                                },
                                {
                                    "Category": "Beverages",
                                    "Qty": "60",
                                    "Orderyear": "2007"
                                },
                                {
                                    "Category": "Dairy Products",
                                    "Qty": "5",
                                    "Orderyear": "2007"
                                },
                                {
                                    "Category": "Produce",
                                    "Qty": "25",
                                    "Orderyear": "2007"
                                },
                                {
                                    "Category": "Produce",
                                    "Qty": "16",
                                    "Orderyear": "2007"
                                },
                                {
                                    "Category": "Confections",
                                    "Qty": "5",
                                    "Orderyear": "2007"
                                },
                                {
                                    "Category": "Confections",
                                    "Qty": "30",
                                    "Orderyear": "2007"
                                },
                                {
                                    "Category": "Meat/Poultry",
                                    "Qty": "24",
                                    "Orderyear": "2007"
                                },
                                {
                                    "Category": "Dairy Products",
                                    "Qty": "30",
                                    "Orderyear": "2007"
                                },
                                {
                                    "Category": "Seafood",
                                    "Qty": "20",
                                    "Orderyear": "2007"
                                },
                                {
                                    "Category": "Dairy Products",
                                    "Qty": "15",
                                    "Orderyear": "2007"
                                },
                                {
                                    "Category": "Confections",
                                    "Qty": "18",
                                    "Orderyear": "2007"
                                },
                                {
                                    "Category": "Dairy Products",
                                    "Qty": "60",
                                    "Orderyear": "2007"
                                },
                                {
                                    "Category": "Confections",
                                    "Qty": "30",
                                    "Orderyear": "2007"
                                },
                                {
                                    "Category": "Beverages",
                                    "Qty": "36",
                                    "Orderyear": "2007"
                                },
                                {
                                    "Category": "Condiments",
                                    "Qty": "15",
                                    "Orderyear": "2007"
                                },
                                {
                                    "Category": "Condiments",
                                    "Qty": "7",
                                    "Orderyear": "2007"
                                },
                                {
                                    "Category": "Confections",
                                    "Qty": "60",
                                    "Orderyear": "2007"
                                },
                                {
                                    "Category": "Grains/Cereals",
                                    "Qty": "20",
                                    "Orderyear": "2007"
                                },
                                {
                                    "Category": "Condiments",
                                    "Qty": "15",
                                    "Orderyear": "2007"
                                },
                                {
                                    "Category": "Condiments",
                                    "Qty": "10",
                                    "Orderyear": "2007"
                                },
                                {
                                    "Category": "Dairy Products",
                                    "Qty": "10",
                                    "Orderyear": "2007"
                                },
                                {
                                    "Category": "Grains/Cereals",
                                    "Qty": "30",
                                    "Orderyear": "2007"
                                },
                                {
                                    "Category": "Grains/Cereals",
                                    "Qty": "10",
                                    "Orderyear": "2007"
                                },
                                {
                                    "Category": "Seafood",
                                    "Qty": "20",
                                    "Orderyear": "2007"
                                },
                                {
                                    "Category": "Condiments",
                                    "Qty": "5",
                                    "Orderyear": "2007"
                                },
                                {
                                    "Category": "Dairy Products",
                                    "Qty": "20",
                                    "Orderyear": "2007"
                                },
                                {
                                    "Category": "Grains/Cereals",
                                    "Qty": "14",
                                    "Orderyear": "2007"
                                },
                                {
                                    "Category": "Dairy Products",
                                    "Qty": "25",
                                    "Orderyear": "2007"
                                },
                                {
                                    "Category": "Condiments",
                                    "Qty": "25",
                                    "Orderyear": "2007"
                                },
                                {
                                    "Category": "Beverages",
                                    "Qty": "14",
                                    "Orderyear": "2007"
                                },
                                {
                                    "Category": "Seafood",
                                    "Qty": "5",
                                    "Orderyear": "2007"
                                },
                                {
                                    "Category": "Grains/Cereals",
                                    "Qty": "30",
                                    "Orderyear": "2007"
                                },
                                {
                                    "Category": "Produce",
                                    "Qty": "20",
                                    "Orderyear": "2007"
                                },
                                {
                                    "Category": "Confections",
                                    "Qty": "25",
                                    "Orderyear": "2007"
                                },
                                {
                                    "Category": "Condiments",
                                    "Qty": "12",
                                    "Orderyear": "2007"
                                },
                                {
                                    "Category": "Produce",
                                    "Qty": "8",
                                    "Orderyear": "2007"
                                },
                                {
                                    "Category": "Meat/Poultry",
                                    "Qty": "20",
                                    "Orderyear": "2007"
                                },
                                {
                                    "Category": "Seafood",
                                    "Qty": "21",
                                    "Orderyear": "2007"
                                },
                                {
                                    "Category": "Meat/Poultry",
                                    "Qty": "6",
                                    "Orderyear": "2007"
                                },
                                {
                                    "Category": "Beverages",
                                    "Qty": "30",
                                    "Orderyear": "2007"
                                },
                                {
                                    "Category": "Produce",
                                    "Qty": "70",
                                    "Orderyear": "2007"
                                },
                                {
                                    "Category": "Condiments",
                                    "Qty": "20",
                                    "Orderyear": "2007"
                                },
                                {
                                    "Category": "Beverages",
                                    "Qty": "12",
                                    "Orderyear": "2007"
                                },
                                {
                                    "Category": "Confections",
                                    "Qty": "12",
                                    "Orderyear": "2007"
                                },
                                {
                                    "Category": "Meat/Poultry",
                                    "Qty": "10",
                                    "Orderyear": "2007"
                                },
                                {
                                    "Category": "Condiments",
                                    "Qty": "25",
                                    "Orderyear": "2007"
                                },
                                {
                                    "Category": "Confections",
                                    "Qty": "3",
                                    "Orderyear": "2007"
                                },
                                {
                                    "Category": "Confections",
                                    "Qty": "18",
                                    "Orderyear": "2007"
                                },
                                {
                                    "Category": "Beverages",
                                    "Qty": "14",
                                    "Orderyear": "2007"
                                },
                                {
                                    "Category": "Beverages",
                                    "Qty": "15",
                                    "Orderyear": "2007"
                                },
                                {
                                    "Category": "Confections",
                                    "Qty": "15",
                                    "Orderyear": "2007"
                                },
                                {
                                    "Category": "Seafood",
                                    "Qty": "10",
                                    "Orderyear": "2007"
                                },
                                {
                                    "Category": "Beverages",
                                    "Qty": "10",
                                    "Orderyear": "2007"
                                },
                                {
                                    "Category": "Produce",
                                    "Qty": "3",
                                    "Orderyear": "2007"
                                },
                                {
                                    "Category": "Meat/Poultry",
                                    "Qty": "36",
                                    "Orderyear": "2007"
                                },
                                {
                                    "Category": "Beverages",
                                    "Qty": "36",
                                    "Orderyear": "2007"
                                },
                                {
                                    "Category": "Condiments",
                                    "Qty": "50",
                                    "Orderyear": "2007"
                                },
                                {
                                    "Category": "Produce",
                                    "Qty": "50",
                                    "Orderyear": "2007"
                                },
                                {
                                    "Category": "Condiments",
                                    "Qty": "10",
                                    "Orderyear": "2007"
                                },
                                {
                                    "Category": "Beverages",
                                    "Qty": "10",
                                    "Orderyear": "2007"
                                },
                                {
                                    "Category": "Seafood",
                                    "Qty": "9",
                                    "Orderyear": "2007"
                                },
                                {
                                    "Category": "Confections",
                                    "Qty": "6",
                                    "Orderyear": "2007"
                                },
                                {
                                    "Category": "Dairy Products",
                                    "Qty": "12",
                                    "Orderyear": "2007"
                                },
                                {
                                    "Category": "Confections",
                                    "Qty": "40",
                                    "Orderyear": "2007"
                                },
                                {
                                    "Category": "Dairy Products",
                                    "Qty": "50",
                                    "Orderyear": "2007"
                                },
                                {
                                    "Category": "Condiments",
                                    "Qty": "15",
                                    "Orderyear": "2007"
                                },
                                {
                                    "Category": "Confections",
                                    "Qty": "39",
                                    "Orderyear": "2007"
                                },
                                {
                                    "Category": "Produce",
                                    "Qty": "35",
                                    "Orderyear": "2007"
                                },
                                {
                                    "Category": "Grains/Cereals",
                                    "Qty": "70",
                                    "Orderyear": "2007"
                                },
                                {
                                    "Category": "Condiments",
                                    "Qty": "39",
                                    "Orderyear": "2007"
                                },
                                {
                                    "Category": "Beverages",
                                    "Qty": "50",
                                    "Orderyear": "2007"
                                },
                                {
                                    "Category": "Meat/Poultry",
                                    "Qty": "16",
                                    "Orderyear": "2007"
                                },
                                {
                                    "Category": "Confections",
                                    "Qty": "50",
                                    "Orderyear": "2007"
                                },
                                {
                                    "Category": "Confections",
                                    "Qty": "120",
                                    "Orderyear": "2007"
                                },
                                {
                                    "Category": "Dairy Products",
                                    "Qty": "16",
                                    "Orderyear": "2007"
                                },
                                {
                                    "Category": "Dairy Products",
                                    "Qty": "84",
                                    "Orderyear": "2007"
                                },
                                {
                                    "Category": "Seafood",
                                    "Qty": "25",
                                    "Orderyear": "2007"
                                },
                                {
                                    "Category": "Seafood",
                                    "Qty": "80",
                                    "Orderyear": "2007"
                                },
                                {
                                    "Category": "Grains/Cereals",
                                    "Qty": "20",
                                    "Orderyear": "2007"
                                },
                                {
                                    "Category": "Grains/Cereals",
                                    "Qty": "6",
                                    "Orderyear": "2007"
                                },
                                {
                                    "Category": "Dairy Products",
                                    "Qty": "4",
                                    "Orderyear": "2007"
                                },
                                {
                                    "Category": "Beverages",
                                    "Qty": "6",
                                    "Orderyear": "2007"
                                },
                                {
                                    "Category": "Beverages",
                                    "Qty": "5",
                                    "Orderyear": "2007"
                                },
                                {
                                    "Category": "Beverages",
                                    "Qty": "15",
                                    "Orderyear": "2007"
                                },
                                {
                                    "Category": "Condiments",
                                    "Qty": "9",
                                    "Orderyear": "2007"
                                },
                                {
                                    "Category": "Seafood",
                                    "Qty": "16",
                                    "Orderyear": "2007"
                                },
                                {
                                    "Category": "Grains/Cereals",
                                    "Qty": "40",
                                    "Orderyear": "2007"
                                },
                                {
                                    "Category": "Dairy Products",
                                    "Qty": "10",
                                    "Orderyear": "2007"
                                },
                                {
                                    "Category": "Beverages",
                                    "Qty": "8",
                                    "Orderyear": "2007"
                                },
                                {
                                    "Category": "Meat/Poultry",
                                    "Qty": "5",
                                    "Orderyear": "2007"
                                },
                                {
                                    "Category": "Beverages",
                                    "Qty": "3",
                                    "Orderyear": "2007"
                                },
                                {
                                    "Category": "Seafood",
                                    "Qty": "10",
                                    "Orderyear": "2007"
                                },
                                {
                                    "Category": "Confections",
                                    "Qty": "6",
                                    "Orderyear": "2007"
                                },
                                {
                                    "Category": "Beverages",
                                    "Qty": "40",
                                    "Orderyear": "2007"
                                },
                                {
                                    "Category": "Condiments",
                                    "Qty": "24",
                                    "Orderyear": "2007"
                                },
                                {
                                    "Category": "Seafood",
                                    "Qty": "20",
                                    "Orderyear": "2007"
                                },
                                {
                                    "Category": "Seafood",
                                    "Qty": "25",
                                    "Orderyear": "2007"
                                },
                                {
                                    "Category": "Meat/Poultry",
                                    "Qty": "25",
                                    "Orderyear": "2007"
                                },
                                {
                                    "Category": "Confections",
                                    "Qty": "15",
                                    "Orderyear": "2007"
                                },
                                {
                                    "Category": "Seafood",
                                    "Qty": "18",
                                    "Orderyear": "2007"
                                },
                                {
                                    "Category": "Seafood",
                                    "Qty": "6",
                                    "Orderyear": "2007"
                                },
                                {
                                    "Category": "Seafood",
                                    "Qty": "2",
                                    "Orderyear": "2007"
                                },
                                {
                                    "Category": "Seafood",
                                    "Qty": "10",
                                    "Orderyear": "2007"
                                },
                                {
                                    "Category": "Beverages",
                                    "Qty": "60",
                                    "Orderyear": "2007"
                                },
                                {
                                    "Category": "Meat/Poultry",
                                    "Qty": "15",
                                    "Orderyear": "2007"
                                },
                                {
                                    "Category": "Seafood",
                                    "Qty": "30",
                                    "Orderyear": "2007"
                                },
                                {
                                    "Category": "Seafood",
                                    "Qty": "15",
                                    "Orderyear": "2007"
                                },
                                {
                                    "Category": "Beverages",
                                    "Qty": "8",
                                    "Orderyear": "2007"
                                },
                                {
                                    "Category": "Seafood",
                                    "Qty": "10",
                                    "Orderyear": "2007"
                                },
                                {
                                    "Category": "Grains/Cereals",
                                    "Qty": "30",
                                    "Orderyear": "2007"
                                },
                                {
                                    "Category": "Condiments",
                                    "Qty": "50",
                                    "Orderyear": "2007"
                                },
                                {
                                    "Category": "Seafood",
                                    "Qty": "30",
                                    "Orderyear": "2007"
                                },
                                {
                                    "Category": "Dairy Products",
                                    "Qty": "3",
                                    "Orderyear": "2007"
                                },
                                {
                                    "Category": "Dairy Products",
                                    "Qty": "8",
                                    "Orderyear": "2007"
                                },
                                {
                                    "Category": "Dairy Products",
                                    "Qty": "9",
                                    "Orderyear": "2007"
                                },
                                {
                                    "Category": "Meat/Poultry",
                                    "Qty": "14",
                                    "Orderyear": "2007"
                                },
                                {
                                    "Category": "Confections",
                                    "Qty": "20",
                                    "Orderyear": "2007"
                                },
                                {
                                    "Category": "Dairy Products",
                                    "Qty": "10",
                                    "Orderyear": "2007"
                                },
                                {
                                    "Category": "Meat/Poultry",
                                    "Qty": "40",
                                    "Orderyear": "2007"
                                },
                                {
                                    "Category": "Beverages",
                                    "Qty": "25",
                                    "Orderyear": "2007"
                                },
                                {
                                    "Category": "Condiments",
                                    "Qty": "20",
                                    "Orderyear": "2007"
                                },
                                {
                                    "Category": "Beverages",
                                    "Qty": "50",
                                    "Orderyear": "2007"
                                },
                                {
                                    "Category": "Dairy Products",
                                    "Qty": "2",
                                    "Orderyear": "2007"
                                },
                                {
                                    "Category": "Seafood",
                                    "Qty": "15",
                                    "Orderyear": "2007"
                                },
                                {
                                    "Category": "Condiments",
                                    "Qty": "24",
                                    "Orderyear": "2007"
                                },
                                {
                                    "Category": "Condiments",
                                    "Qty": "50",
                                    "Orderyear": "2007"
                                },
                                {
                                    "Category": "Dairy Products",
                                    "Qty": "24",
                                    "Orderyear": "2007"
                                },
                                {
                                    "Category": "Seafood",
                                    "Qty": "24",
                                    "Orderyear": "2007"
                                },
                                {
                                    "Category": "Seafood",
                                    "Qty": "10",
                                    "Orderyear": "2007"
                                },
                                {
                                    "Category": "Seafood",
                                    "Qty": "10",
                                    "Orderyear": "2007"
                                },
                                {
                                    "Category": "Meat/Poultry",
                                    "Qty": "10",
                                    "Orderyear": "2007"
                                },
                                {
                                    "Category": "Dairy Products",
                                    "Qty": "50",
                                    "Orderyear": "2007"
                                },
                                {
                                    "Category": "Seafood",
                                    "Qty": "10",
                                    "Orderyear": "2007"
                                },
                                {
                                    "Category": "Grains/Cereals",
                                    "Qty": "5",
                                    "Orderyear": "2007"
                                },
                                {
                                    "Category": "Dairy Products",
                                    "Qty": "15",
                                    "Orderyear": "2007"
                                },
                                {
                                    "Category": "Dairy Products",
                                    "Qty": "15",
                                    "Orderyear": "2007"
                                },
                                {
                                    "Category": "Dairy Products",
                                    "Qty": "20",
                                    "Orderyear": "2007"
                                },
                                {
                                    "Category": "Dairy Products",
                                    "Qty": "30",
                                    "Orderyear": "2007"
                                },
                                {
                                    "Category": "Dairy Products",
                                    "Qty": "35",
                                    "Orderyear": "2007"
                                },
                                {
                                    "Category": "Dairy Products",
                                    "Qty": "30",
                                    "Orderyear": "2007"
                                },
                                {
                                    "Category": "Produce",
                                    "Qty": "6",
                                    "Orderyear": "2007"
                                },
                                {
                                    "Category": "Seafood",
                                    "Qty": "20",
                                    "Orderyear": "2007"
                                },
                                {
                                    "Category": "Dairy Products",
                                    "Qty": "21",
                                    "Orderyear": "2007"
                                },
                                {
                                    "Category": "Seafood",
                                    "Qty": "9",
                                    "Orderyear": "2007"
                                },
                                {
                                    "Category": "Beverages",
                                    "Qty": "7",
                                    "Orderyear": "2007"
                                },
                                {
                                    "Category": "Dairy Products",
                                    "Qty": "1",
                                    "Orderyear": "2007"
                                },
                                {
                                    "Category": "Seafood",
                                    "Qty": "8",
                                    "Orderyear": "2007"
                                },
                                {
                                    "Category": "Confections",
                                    "Qty": "15",
                                    "Orderyear": "2007"
                                },
                                {
                                    "Category": "Dairy Products",
                                    "Qty": "15",
                                    "Orderyear": "2007"
                                },
                                {
                                    "Category": "Confections",
                                    "Qty": "6",
                                    "Orderyear": "2007"
                                },
                                {
                                    "Category": "Condiments",
                                    "Qty": "60",
                                    "Orderyear": "2007"
                                },
                                {
                                    "Category": "Confections",
                                    "Qty": "40",
                                    "Orderyear": "2007"
                                },
                                {
                                    "Category": "Beverages",
                                    "Qty": "30",
                                    "Orderyear": "2007"
                                },
                                {
                                    "Category": "Confections",
                                    "Qty": "35",
                                    "Orderyear": "2007"
                                },
                                {
                                    "Category": "Beverages",
                                    "Qty": "35",
                                    "Orderyear": "2007"
                                },
                                {
                                    "Category": "Beverages",
                                    "Qty": "4",
                                    "Orderyear": "2007"
                                },
                                {
                                    "Category": "Condiments",
                                    "Qty": "36",
                                    "Orderyear": "2007"
                                },
                                {
                                    "Category": "Dairy Products",
                                    "Qty": "9",
                                    "Orderyear": "2007"
                                },
                                {
                                    "Category": "Dairy Products",
                                    "Qty": "15",
                                    "Orderyear": "2007"
                                },
                                {
                                    "Category": "Meat/Poultry",
                                    "Qty": "24",
                                    "Orderyear": "2007"
                                },
                                {
                                    "Category": "Dairy Products",
                                    "Qty": "30",
                                    "Orderyear": "2007"
                                },
                                {
                                    "Category": "Grains/Cereals",
                                    "Qty": "70",
                                    "Orderyear": "2007"
                                },
                                {
                                    "Category": "Produce",
                                    "Qty": "7",
                                    "Orderyear": "2007"
                                },
                                {
                                    "Category": "Beverages",
                                    "Qty": "7",
                                    "Orderyear": "2007"
                                },
                                {
                                    "Category": "Dairy Products",
                                    "Qty": "10",
                                    "Orderyear": "2007"
                                },
                                {
                                    "Category": "Produce",
                                    "Qty": "10",
                                    "Orderyear": "2007"
                                },
                                {
                                    "Category": "Beverages",
                                    "Qty": "30",
                                    "Orderyear": "2007"
                                },
                                {
                                    "Category": "Confections",
                                    "Qty": "40",
                                    "Orderyear": "2007"
                                },
                                {
                                    "Category": "Dairy Products",
                                    "Qty": "24",
                                    "Orderyear": "2007"
                                },
                                {
                                    "Category": "Seafood",
                                    "Qty": "60",
                                    "Orderyear": "2007"
                                },
                                {
                                    "Category": "Beverages",
                                    "Qty": "10",
                                    "Orderyear": "2007"
                                },
                                {
                                    "Category": "Seafood",
                                    "Qty": "14",
                                    "Orderyear": "2007"
                                },
                                {
                                    "Category": "Dairy Products",
                                    "Qty": "55",
                                    "Orderyear": "2007"
                                },
                                {
                                    "Category": "Seafood",
                                    "Qty": "100",
                                    "Orderyear": "2007"
                                },
                                {
                                    "Category": "Produce",
                                    "Qty": "48",
                                    "Orderyear": "2007"
                                },
                                {
                                    "Category": "Meat/Poultry",
                                    "Qty": "8",
                                    "Orderyear": "2007"
                                },
                                {
                                    "Category": "Confections",
                                    "Qty": "10",
                                    "Orderyear": "2007"
                                },
                                {
                                    "Category": "Confections",
                                    "Qty": "6",
                                    "Orderyear": "2007"
                                },
                                {
                                    "Category": "Condiments",
                                    "Qty": "10",
                                    "Orderyear": "2007"
                                },
                                {
                                    "Category": "Confections",
                                    "Qty": "40",
                                    "Orderyear": "2007"
                                },
                                {
                                    "Category": "Beverages",
                                    "Qty": "20",
                                    "Orderyear": "2007"
                                },
                                {
                                    "Category": "Condiments",
                                    "Qty": "40",
                                    "Orderyear": "2007"
                                },
                                {
                                    "Category": "Dairy Products",
                                    "Qty": "18",
                                    "Orderyear": "2007"
                                },
                                {
                                    "Category": "Beverages",
                                    "Qty": "30",
                                    "Orderyear": "2007"
                                },
                                {
                                    "Category": "Dairy Products",
                                    "Qty": "15",
                                    "Orderyear": "2007"
                                },
                                {
                                    "Category": "Confections",
                                    "Qty": "14",
                                    "Orderyear": "2007"
                                },
                                {
                                    "Category": "Grains/Cereals",
                                    "Qty": "24",
                                    "Orderyear": "2007"
                                },
                                {
                                    "Category": "Dairy Products",
                                    "Qty": "30",
                                    "Orderyear": "2007"
                                },
                                {
                                    "Category": "Beverages",
                                    "Qty": "6",
                                    "Orderyear": "2007"
                                },
                                {
                                    "Category": "Confections",
                                    "Qty": "30",
                                    "Orderyear": "2007"
                                },
                                {
                                    "Category": "Grains/Cereals",
                                    "Qty": "20",
                                    "Orderyear": "2007"
                                },
                                {
                                    "Category": "Confections",
                                    "Qty": "20",
                                    "Orderyear": "2007"
                                },
                                {
                                    "Category": "Condiments",
                                    "Qty": "10",
                                    "Orderyear": "2007"
                                },
                                {
                                    "Category": "Produce",
                                    "Qty": "30",
                                    "Orderyear": "2007"
                                },
                                {
                                    "Category": "Confections",
                                    "Qty": "35",
                                    "Orderyear": "2007"
                                },
                                {
                                    "Category": "Beverages",
                                    "Qty": "18",
                                    "Orderyear": "2007"
                                },
                                {
                                    "Category": "Produce",
                                    "Qty": "20",
                                    "Orderyear": "2007"
                                },
                                {
                                    "Category": "Grains/Cereals",
                                    "Qty": "40",
                                    "Orderyear": "2007"
                                },
                                {
                                    "Category": "Dairy Products",
                                    "Qty": "24",
                                    "Orderyear": "2007"
                                },
                                {
                                    "Category": "Grains/Cereals",
                                    "Qty": "30",
                                    "Orderyear": "2007"
                                },
                                {
                                    "Category": "Beverages",
                                    "Qty": "20",
                                    "Orderyear": "2007"
                                },
                                {
                                    "Category": "Confections",
                                    "Qty": "25",
                                    "Orderyear": "2007"
                                },
                                {
                                    "Category": "Produce",
                                    "Qty": "20",
                                    "Orderyear": "2007"
                                },
                                {
                                    "Category": "Grains/Cereals",
                                    "Qty": "30",
                                    "Orderyear": "2007"
                                },
                                {
                                    "Category": "Meat/Poultry",
                                    "Qty": "18",
                                    "Orderyear": "2007"
                                },
                                {
                                    "Category": "Seafood",
                                    "Qty": "3",
                                    "Orderyear": "2007"
                                },
                                {
                                    "Category": "Seafood",
                                    "Qty": "12",
                                    "Orderyear": "2007"
                                },
                                {
                                    "Category": "Meat/Poultry",
                                    "Qty": "18",
                                    "Orderyear": "2007"
                                },
                                {
                                    "Category": "Seafood",
                                    "Qty": "20",
                                    "Orderyear": "2007"
                                },
                                {
                                    "Category": "Confections",
                                    "Qty": "15",
                                    "Orderyear": "2007"
                                },
                                {
                                    "Category": "Condiments",
                                    "Qty": "10",
                                    "Orderyear": "2007"
                                },
                                {
                                    "Category": "Produce",
                                    "Qty": "50",
                                    "Orderyear": "2007"
                                },
                                {
                                    "Category": "Dairy Products",
                                    "Qty": "20",
                                    "Orderyear": "2007"
                                },
                                {
                                    "Category": "Confections",
                                    "Qty": "10",
                                    "Orderyear": "2007"
                                },
                                {
                                    "Category": "Seafood",
                                    "Qty": "25",
                                    "Orderyear": "2007"
                                },
                                {
                                    "Category": "Grains/Cereals",
                                    "Qty": "70",
                                    "Orderyear": "2007"
                                },
                                {
                                    "Category": "Meat/Poultry",
                                    "Qty": "16",
                                    "Orderyear": "2007"
                                },
                                {
                                    "Category": "Dairy Products",
                                    "Qty": "6",
                                    "Orderyear": "2007"
                                },
                                {
                                    "Category": "Meat/Poultry",
                                    "Qty": "25",
                                    "Orderyear": "2007"
                                },
                                {
                                    "Category": "Beverages",
                                    "Qty": "25",
                                    "Orderyear": "2007"
                                },
                                {
                                    "Category": "Grains/Cereals",
                                    "Qty": "18",
                                    "Orderyear": "2007"
                                },
                                {
                                    "Category": "Dairy Products",
                                    "Qty": "35",
                                    "Orderyear": "2007"
                                },
                                {
                                    "Category": "Seafood",
                                    "Qty": "18",
                                    "Orderyear": "2007"
                                },
                                {
                                    "Category": "Beverages",
                                    "Qty": "10",
                                    "Orderyear": "2007"
                                },
                                {
                                    "Category": "Dairy Products",
                                    "Qty": "60",
                                    "Orderyear": "2007"
                                },
                                {
                                    "Category": "Produce",
                                    "Qty": "3",
                                    "Orderyear": "2007"
                                },
                                {
                                    "Category": "Dairy Products",
                                    "Qty": "40",
                                    "Orderyear": "2007"
                                },
                                {
                                    "Category": "Seafood",
                                    "Qty": "5",
                                    "Orderyear": "2007"
                                },
                                {
                                    "Category": "Dairy Products",
                                    "Qty": "35",
                                    "Orderyear": "2007"
                                },
                                {
                                    "Category": "Beverages",
                                    "Qty": "30",
                                    "Orderyear": "2007"
                                },
                                {
                                    "Category": "Dairy Products",
                                    "Qty": "15",
                                    "Orderyear": "2007"
                                },
                                {
                                    "Category": "Grains/Cereals",
                                    "Qty": "60",
                                    "Orderyear": "2007"
                                },
                                {
                                    "Category": "Produce",
                                    "Qty": "11",
                                    "Orderyear": "2007"
                                },
                                {
                                    "Category": "Grains/Cereals",
                                    "Qty": "28",
                                    "Orderyear": "2007"
                                },
                                {
                                    "Category": "Confections",
                                    "Qty": "12",
                                    "Orderyear": "2007"
                                },
                                {
                                    "Category": "Dairy Products",
                                    "Qty": "10",
                                    "Orderyear": "2007"
                                },
                                {
                                    "Category": "Seafood",
                                    "Qty": "50",
                                    "Orderyear": "2007"
                                },
                                {
                                    "Category": "Beverages",
                                    "Qty": "15",
                                    "Orderyear": "2007"
                                },
                                {
                                    "Category": "Meat/Poultry",
                                    "Qty": "18",
                                    "Orderyear": "2007"
                                },
                                {
                                    "Category": "Beverages",
                                    "Qty": "40",
                                    "Orderyear": "2007"
                                },
                                {
                                    "Category": "Meat/Poultry",
                                    "Qty": "25",
                                    "Orderyear": "2007"
                                },
                                {
                                    "Category": "Dairy Products",
                                    "Qty": "14",
                                    "Orderyear": "2007"
                                },
                                {
                                    "Category": "Seafood",
                                    "Qty": "2",
                                    "Orderyear": "2007"
                                },
                                {
                                    "Category": "Confections",
                                    "Qty": "10",
                                    "Orderyear": "2007"
                                },
                                {
                                    "Category": "Grains/Cereals",
                                    "Qty": "6",
                                    "Orderyear": "2007"
                                },
                                {
                                    "Category": "Dairy Products",
                                    "Qty": "12",
                                    "Orderyear": "2007"
                                },
                                {
                                    "Category": "Condiments",
                                    "Qty": "6",
                                    "Orderyear": "2007"
                                },
                                {
                                    "Category": "Dairy Products",
                                    "Qty": "30",
                                    "Orderyear": "2007"
                                },
                                {
                                    "Category": "Beverages",
                                    "Qty": "10",
                                    "Orderyear": "2007"
                                },
                                {
                                    "Category": "Beverages",
                                    "Qty": "10",
                                    "Orderyear": "2007"
                                },
                                {
                                    "Category": "Dairy Products",
                                    "Qty": "20",
                                    "Orderyear": "2007"
                                },
                                {
                                    "Category": "Condiments",
                                    "Qty": "21",
                                    "Orderyear": "2007"
                                },
                                {
                                    "Category": "Beverages",
                                    "Qty": "10",
                                    "Orderyear": "2007"
                                },
                                {
                                    "Category": "Beverages",
                                    "Qty": "20",
                                    "Orderyear": "2007"
                                },
                                {
                                    "Category": "Condiments",
                                    "Qty": "18",
                                    "Orderyear": "2007"
                                },
                                {
                                    "Category": "Beverages",
                                    "Qty": "20",
                                    "Orderyear": "2007"
                                },
                                {
                                    "Category": "Grains/Cereals",
                                    "Qty": "6",
                                    "Orderyear": "2007"
                                },
                                {
                                    "Category": "Condiments",
                                    "Qty": "10",
                                    "Orderyear": "2007"
                                },
                                {
                                    "Category": "Beverages",
                                    "Qty": "21",
                                    "Orderyear": "2007"
                                },
                                {
                                    "Category": "Produce",
                                    "Qty": "15",
                                    "Orderyear": "2007"
                                },
                                {
                                    "Category": "Seafood",
                                    "Qty": "9",
                                    "Orderyear": "2007"
                                },
                                {
                                    "Category": "Condiments",
                                    "Qty": "30",
                                    "Orderyear": "2007"
                                },
                                {
                                    "Category": "Beverages",
                                    "Qty": "50",
                                    "Orderyear": "2007"
                                },
                                {
                                    "Category": "Grains/Cereals",
                                    "Qty": "4",
                                    "Orderyear": "2007"
                                },
                                {
                                    "Category": "Beverages",
                                    "Qty": "14",
                                    "Orderyear": "2007"
                                },
                                {
                                    "Category": "Meat/Poultry",
                                    "Qty": "10",
                                    "Orderyear": "2007"
                                },
                                {
                                    "Category": "Dairy Products",
                                    "Qty": "24",
                                    "Orderyear": "2007"
                                },
                                {
                                    "Category": "Dairy Products",
                                    "Qty": "10",
                                    "Orderyear": "2007"
                                },
                                {
                                    "Category": "Dairy Products",
                                    "Qty": "50",
                                    "Orderyear": "2007"
                                },
                                {
                                    "Category": "Confections",
                                    "Qty": "15",
                                    "Orderyear": "2007"
                                },
                                {
                                    "Category": "Grains/Cereals",
                                    "Qty": "4",
                                    "Orderyear": "2007"
                                },
                                {
                                    "Category": "Confections",
                                    "Qty": "6",
                                    "Orderyear": "2007"
                                },
                                {
                                    "Category": "Beverages",
                                    "Qty": "20",
                                    "Orderyear": "2007"
                                },
                                {
                                    "Category": "Condiments",
                                    "Qty": "20",
                                    "Orderyear": "2007"
                                },
                                {
                                    "Category": "Seafood",
                                    "Qty": "40",
                                    "Orderyear": "2007"
                                },
                                {
                                    "Category": "Grains/Cereals",
                                    "Qty": "100",
                                    "Orderyear": "2007"
                                },
                                {
                                    "Category": "Beverages",
                                    "Qty": "4",
                                    "Orderyear": "2007"
                                },
                                {
                                    "Category": "Beverages",
                                    "Qty": "20",
                                    "Orderyear": "2007"
                                },
                                {
                                    "Category": "Condiments",
                                    "Qty": "60",
                                    "Orderyear": "2007"
                                },
                                {
                                    "Category": "Condiments",
                                    "Qty": "14",
                                    "Orderyear": "2007"
                                },
                                {
                                    "Category": "Produce",
                                    "Qty": "10",
                                    "Orderyear": "2007"
                                },
                                {
                                    "Category": "Meat/Poultry",
                                    "Qty": "50",
                                    "Orderyear": "2007"
                                },
                                {
                                    "Category": "Condiments",
                                    "Qty": "25",
                                    "Orderyear": "2007"
                                },
                                {
                                    "Category": "Confections",
                                    "Qty": "5",
                                    "Orderyear": "2007"
                                },
                                {
                                    "Category": "Confections",
                                    "Qty": "21",
                                    "Orderyear": "2007"
                                },
                                {
                                    "Category": "Dairy Products",
                                    "Qty": "20",
                                    "Orderyear": "2007"
                                },
                                {
                                    "Category": "Beverages",
                                    "Qty": "4",
                                    "Orderyear": "2007"
                                },
                                {
                                    "Category": "Grains/Cereals",
                                    "Qty": "24",
                                    "Orderyear": "2007"
                                },
                                {
                                    "Category": "Seafood",
                                    "Qty": "30",
                                    "Orderyear": "2007"
                                },
                                {
                                    "Category": "Beverages",
                                    "Qty": "30",
                                    "Orderyear": "2007"
                                },
                                {
                                    "Category": "Condiments",
                                    "Qty": "120",
                                    "Orderyear": "2007"
                                },
                                {
                                    "Category": "Dairy Products",
                                    "Qty": "65",
                                    "Orderyear": "2007"
                                },
                                {
                                    "Category": "Grains/Cereals",
                                    "Qty": "5",
                                    "Orderyear": "2007"
                                },
                                {
                                    "Category": "Condiments",
                                    "Qty": "24",
                                    "Orderyear": "2007"
                                },
                                {
                                    "Category": "Beverages",
                                    "Qty": "30",
                                    "Orderyear": "2007"
                                },
                                {
                                    "Category": "Beverages",
                                    "Qty": "35",
                                    "Orderyear": "2007"
                                },
                                {
                                    "Category": "Grains/Cereals",
                                    "Qty": "20",
                                    "Orderyear": "2007"
                                },
                                {
                                    "Category": "Condiments",
                                    "Qty": "12",
                                    "Orderyear": "2007"
                                },
                                {
                                    "Category": "Confections",
                                    "Qty": "50",
                                    "Orderyear": "2007"
                                },
                                {
                                    "Category": "Dairy Products",
                                    "Qty": "9",
                                    "Orderyear": "2007"
                                },
                                {
                                    "Category": "Confections",
                                    "Qty": "10",
                                    "Orderyear": "2007"
                                },
                                {
                                    "Category": "Meat/Poultry",
                                    "Qty": "4",
                                    "Orderyear": "2007"
                                },
                                {
                                    "Category": "Seafood",
                                    "Qty": "30",
                                    "Orderyear": "2007"
                                },
                                {
                                    "Category": "Seafood",
                                    "Qty": "60",
                                    "Orderyear": "2007"
                                },
                                {
                                    "Category": "Dairy Products",
                                    "Qty": "35",
                                    "Orderyear": "2007"
                                },
                                {
                                    "Category": "Condiments",
                                    "Qty": "5",
                                    "Orderyear": "2007"
                                },
                                {
                                    "Category": "Grains/Cereals",
                                    "Qty": "48",
                                    "Orderyear": "2007"
                                },
                                {
                                    "Category": "Confections",
                                    "Qty": "25",
                                    "Orderyear": "2007"
                                },
                                {
                                    "Category": "Confections",
                                    "Qty": "6",
                                    "Orderyear": "2007"
                                },
                                {
                                    "Category": "Beverages",
                                    "Qty": "10",
                                    "Orderyear": "2007"
                                },
                                {
                                    "Category": "Confections",
                                    "Qty": "30",
                                    "Orderyear": "2007"
                                },
                                {
                                    "Category": "Dairy Products",
                                    "Qty": "20",
                                    "Orderyear": "2007"
                                },
                                {
                                    "Category": "Dairy Products",
                                    "Qty": "70",
                                    "Orderyear": "2007"
                                },
                                {
                                    "Category": "Dairy Products",
                                    "Qty": "15",
                                    "Orderyear": "2007"
                                },
                                {
                                    "Category": "Condiments",
                                    "Qty": "20",
                                    "Orderyear": "2007"
                                },
                                {
                                    "Category": "Meat/Poultry",
                                    "Qty": "20",
                                    "Orderyear": "2007"
                                },
                                {
                                    "Category": "Confections",
                                    "Qty": "10",
                                    "Orderyear": "2007"
                                },
                                {
                                    "Category": "Produce",
                                    "Qty": "45",
                                    "Orderyear": "2007"
                                },
                                {
                                    "Category": "Meat/Poultry",
                                    "Qty": "100",
                                    "Orderyear": "2007"
                                },
                                {
                                    "Category": "Dairy Products",
                                    "Qty": "14",
                                    "Orderyear": "2007"
                                },
                                {
                                    "Category": "Seafood",
                                    "Qty": "42",
                                    "Orderyear": "2007"
                                },
                                {
                                    "Category": "Dairy Products",
                                    "Qty": "12",
                                    "Orderyear": "2007"
                                },
                                {
                                    "Category": "Grains/Cereals",
                                    "Qty": "28",
                                    "Orderyear": "2007"
                                },
                                {
                                    "Category": "Beverages",
                                    "Qty": "3",
                                    "Orderyear": "2007"
                                },
                                {
                                    "Category": "Seafood",
                                    "Qty": "10",
                                    "Orderyear": "2007"
                                },
                                {
                                    "Category": "Confections",
                                    "Qty": "6",
                                    "Orderyear": "2007"
                                },
                                {
                                    "Category": "Seafood",
                                    "Qty": "21",
                                    "Orderyear": "2007"
                                },
                                {
                                    "Category": "Beverages",
                                    "Qty": "6",
                                    "Orderyear": "2007"
                                },
                                {
                                    "Category": "Beverages",
                                    "Qty": "10",
                                    "Orderyear": "2007"
                                },
                                {
                                    "Category": "Dairy Products",
                                    "Qty": "15",
                                    "Orderyear": "2007"
                                },
                                {
                                    "Category": "Seafood",
                                    "Qty": "70",
                                    "Orderyear": "2007"
                                },
                                {
                                    "Category": "Seafood",
                                    "Qty": "55",
                                    "Orderyear": "2007"
                                },
                                {
                                    "Category": "Confections",
                                    "Qty": "18",
                                    "Orderyear": "2007"
                                },
                                {
                                    "Category": "Dairy Products",
                                    "Qty": "40",
                                    "Orderyear": "2007"
                                },
                                {
                                    "Category": "Beverages",
                                    "Qty": "80",
                                    "Orderyear": "2007"
                                },
                                {
                                    "Category": "Seafood",
                                    "Qty": "8",
                                    "Orderyear": "2007"
                                },
                                {
                                    "Category": "Beverages",
                                    "Qty": "40",
                                    "Orderyear": "2007"
                                },
                                {
                                    "Category": "Dairy Products",
                                    "Qty": "14",
                                    "Orderyear": "2007"
                                },
                                {
                                    "Category": "Confections",
                                    "Qty": "8",
                                    "Orderyear": "2007"
                                },
                                {
                                    "Category": "Beverages",
                                    "Qty": "5",
                                    "Orderyear": "2007"
                                },
                                {
                                    "Category": "Meat/Poultry",
                                    "Qty": "5",
                                    "Orderyear": "2007"
                                },
                                {
                                    "Category": "Beverages",
                                    "Qty": "15",
                                    "Orderyear": "2007"
                                },
                                {
                                    "Category": "Grains/Cereals",
                                    "Qty": "14",
                                    "Orderyear": "2007"
                                },
                                {
                                    "Category": "Beverages",
                                    "Qty": "15",
                                    "Orderyear": "2007"
                                },
                                {
                                    "Category": "Dairy Products",
                                    "Qty": "15",
                                    "Orderyear": "2007"
                                },
                                {
                                    "Category": "Dairy Products",
                                    "Qty": "30",
                                    "Orderyear": "2007"
                                },
                                {
                                    "Category": "Condiments",
                                    "Qty": "70",
                                    "Orderyear": "2007"
                                },
                                {
                                    "Category": "Grains/Cereals",
                                    "Qty": "20",
                                    "Orderyear": "2007"
                                },
                                {
                                    "Category": "Confections",
                                    "Qty": "15",
                                    "Orderyear": "2007"
                                },
                                {
                                    "Category": "Confections",
                                    "Qty": "42",
                                    "Orderyear": "2007"
                                },
                                {
                                    "Category": "Grains/Cereals",
                                    "Qty": "40",
                                    "Orderyear": "2007"
                                },
                                {
                                    "Category": "Beverages",
                                    "Qty": "5",
                                    "Orderyear": "2007"
                                },
                                {
                                    "Category": "Grains/Cereals",
                                    "Qty": "5",
                                    "Orderyear": "2007"
                                },
                                {
                                    "Category": "Confections",
                                    "Qty": "5",
                                    "Orderyear": "2007"
                                },
                                {
                                    "Category": "Grains/Cereals",
                                    "Qty": "10",
                                    "Orderyear": "2007"
                                },
                                {
                                    "Category": "Beverages",
                                    "Qty": "20",
                                    "Orderyear": "2007"
                                },
                                {
                                    "Category": "Dairy Products",
                                    "Qty": "15",
                                    "Orderyear": "2007"
                                },
                                {
                                    "Category": "Beverages",
                                    "Qty": "20",
                                    "Orderyear": "2007"
                                },
                                {
                                    "Category": "Confections",
                                    "Qty": "18",
                                    "Orderyear": "2007"
                                },
                                {
                                    "Category": "Produce",
                                    "Qty": "21",
                                    "Orderyear": "2007"
                                },
                                {
                                    "Category": "Confections",
                                    "Qty": "15",
                                    "Orderyear": "2007"
                                },
                                {
                                    "Category": "Confections",
                                    "Qty": "25",
                                    "Orderyear": "2007"
                                },
                                {
                                    "Category": "Beverages",
                                    "Qty": "3",
                                    "Orderyear": "2007"
                                },
                                {
                                    "Category": "Beverages",
                                    "Qty": "30",
                                    "Orderyear": "2007"
                                },
                                {
                                    "Category": "Produce",
                                    "Qty": "10",
                                    "Orderyear": "2007"
                                },
                                {
                                    "Category": "Meat/Poultry",
                                    "Qty": "6",
                                    "Orderyear": "2007"
                                },
                                {
                                    "Category": "Condiments",
                                    "Qty": "10",
                                    "Orderyear": "2007"
                                },
                                {
                                    "Category": "Produce",
                                    "Qty": "3",
                                    "Orderyear": "2007"
                                },
                                {
                                    "Category": "Grains/Cereals",
                                    "Qty": "5",
                                    "Orderyear": "2007"
                                },
                                {
                                    "Category": "Dairy Products",
                                    "Qty": "10",
                                    "Orderyear": "2007"
                                },
                                {
                                    "Category": "Meat/Poultry",
                                    "Qty": "12",
                                    "Orderyear": "2007"
                                },
                                {
                                    "Category": "Dairy Products",
                                    "Qty": "20",
                                    "Orderyear": "2007"
                                },
                                {
                                    "Category": "Dairy Products",
                                    "Qty": "20",
                                    "Orderyear": "2007"
                                },
                                {
                                    "Category": "Confections",
                                    "Qty": "15",
                                    "Orderyear": "2007"
                                },
                                {
                                    "Category": "Seafood",
                                    "Qty": "35",
                                    "Orderyear": "2007"
                                },
                                {
                                    "Category": "Beverages",
                                    "Qty": "25",
                                    "Orderyear": "2007"
                                },
                                {
                                    "Category": "Meat/Poultry",
                                    "Qty": "20",
                                    "Orderyear": "2007"
                                },
                                {
                                    "Category": "Grains/Cereals",
                                    "Qty": "9",
                                    "Orderyear": "2007"
                                },
                                {
                                    "Category": "Meat/Poultry",
                                    "Qty": "12",
                                    "Orderyear": "2007"
                                },
                                {
                                    "Category": "Beverages",
                                    "Qty": "35",
                                    "Orderyear": "2007"
                                },
                                {
                                    "Category": "Beverages",
                                    "Qty": "8",
                                    "Orderyear": "2007"
                                },
                                {
                                    "Category": "Beverages",
                                    "Qty": "30",
                                    "Orderyear": "2007"
                                },
                                {
                                    "Category": "Dairy Products",
                                    "Qty": "20",
                                    "Orderyear": "2007"
                                },
                                {
                                    "Category": "Dairy Products",
                                    "Qty": "36",
                                    "Orderyear": "2007"
                                },
                                {
                                    "Category": "Seafood",
                                    "Qty": "13",
                                    "Orderyear": "2007"
                                },
                                {
                                    "Category": "Confections",
                                    "Qty": "35",
                                    "Orderyear": "2007"
                                },
                                {
                                    "Category": "Confections",
                                    "Qty": "80",
                                    "Orderyear": "2007"
                                },
                                {
                                    "Category": "Produce",
                                    "Qty": "35",
                                    "Orderyear": "2007"
                                },
                                {
                                    "Category": "Seafood",
                                    "Qty": "50",
                                    "Orderyear": "2007"
                                },
                                {
                                    "Category": "Produce",
                                    "Qty": "15",
                                    "Orderyear": "2007"
                                },
                                {
                                    "Category": "Beverages",
                                    "Qty": "2",
                                    "Orderyear": "2007"
                                },
                                {
                                    "Category": "Condiments",
                                    "Qty": "10",
                                    "Orderyear": "2007"
                                },
                                {
                                    "Category": "Condiments",
                                    "Qty": "15",
                                    "Orderyear": "2007"
                                },
                                {
                                    "Category": "Grains/Cereals",
                                    "Qty": "40",
                                    "Orderyear": "2007"
                                },
                                {
                                    "Category": "Condiments",
                                    "Qty": "25",
                                    "Orderyear": "2007"
                                },
                                {
                                    "Category": "Seafood",
                                    "Qty": "6",
                                    "Orderyear": "2007"
                                },
                                {
                                    "Category": "Dairy Products",
                                    "Qty": "10",
                                    "Orderyear": "2007"
                                },
                                {
                                    "Category": "Confections",
                                    "Qty": "25",
                                    "Orderyear": "2007"
                                },
                                {
                                    "Category": "Grains/Cereals",
                                    "Qty": "60",
                                    "Orderyear": "2007"
                                },
                                {
                                    "Category": "Seafood",
                                    "Qty": "20",
                                    "Orderyear": "2007"
                                },
                                {
                                    "Category": "Condiments",
                                    "Qty": "21",
                                    "Orderyear": "2007"
                                },
                                {
                                    "Category": "Dairy Products",
                                    "Qty": "60",
                                    "Orderyear": "2007"
                                },
                                {
                                    "Category": "Seafood",
                                    "Qty": "8",
                                    "Orderyear": "2007"
                                },
                                {
                                    "Category": "Dairy Products",
                                    "Qty": "20",
                                    "Orderyear": "2007"
                                },
                                {
                                    "Category": "Beverages",
                                    "Qty": "15",
                                    "Orderyear": "2007"
                                },
                                {
                                    "Category": "Beverages",
                                    "Qty": "50",
                                    "Orderyear": "2007"
                                },
                                {
                                    "Category": "Seafood",
                                    "Qty": "60",
                                    "Orderyear": "2007"
                                },
                                {
                                    "Category": "Confections",
                                    "Qty": "30",
                                    "Orderyear": "2007"
                                },
                                {
                                    "Category": "Condiments",
                                    "Qty": "20",
                                    "Orderyear": "2007"
                                },
                                {
                                    "Category": "Produce",
                                    "Qty": "15",
                                    "Orderyear": "2007"
                                },
                                {
                                    "Category": "Beverages",
                                    "Qty": "21",
                                    "Orderyear": "2007"
                                },
                                {
                                    "Category": "Seafood",
                                    "Qty": "2",
                                    "Orderyear": "2007"
                                },
                                {
                                    "Category": "Seafood",
                                    "Qty": "4",
                                    "Orderyear": "2007"
                                },
                                {
                                    "Category": "Beverages",
                                    "Qty": "20",
                                    "Orderyear": "2007"
                                },
                                {
                                    "Category": "Seafood",
                                    "Qty": "21",
                                    "Orderyear": "2007"
                                },
                                {
                                    "Category": "Seafood",
                                    "Qty": "20",
                                    "Orderyear": "2007"
                                },
                                {
                                    "Category": "Seafood",
                                    "Qty": "15",
                                    "Orderyear": "2007"
                                },
                                {
                                    "Category": "Beverages",
                                    "Qty": "15",
                                    "Orderyear": "2007"
                                },
                                {
                                    "Category": "Seafood",
                                    "Qty": "18",
                                    "Orderyear": "2007"
                                },
                                {
                                    "Category": "Dairy Products",
                                    "Qty": "30",
                                    "Orderyear": "2007"
                                },
                                {
                                    "Category": "Condiments",
                                    "Qty": "35",
                                    "Orderyear": "2007"
                                },
                                {
                                    "Category": "Confections",
                                    "Qty": "30",
                                    "Orderyear": "2007"
                                },
                                {
                                    "Category": "Beverages",
                                    "Qty": "20",
                                    "Orderyear": "2007"
                                },
                                {
                                    "Category": "Grains/Cereals",
                                    "Qty": "15",
                                    "Orderyear": "2007"
                                },
                                {
                                    "Category": "Beverages",
                                    "Qty": "15",
                                    "Orderyear": "2007"
                                },
                                {
                                    "Category": "Produce",
                                    "Qty": "20",
                                    "Orderyear": "2007"
                                },
                                {
                                    "Category": "Dairy Products",
                                    "Qty": "15",
                                    "Orderyear": "2007"
                                },
                                {
                                    "Category": "Seafood",
                                    "Qty": "30",
                                    "Orderyear": "2007"
                                },
                                {
                                    "Category": "Meat/Poultry",
                                    "Qty": "25",
                                    "Orderyear": "2007"
                                },
                                {
                                    "Category": "Meat/Poultry",
                                    "Qty": "30",
                                    "Orderyear": "2007"
                                },
                                {
                                    "Category": "Confections",
                                    "Qty": "12",
                                    "Orderyear": "2007"
                                },
                                {
                                    "Category": "Grains/Cereals",
                                    "Qty": "20",
                                    "Orderyear": "2007"
                                },
                                {
                                    "Category": "Seafood",
                                    "Qty": "2",
                                    "Orderyear": "2007"
                                },
                                {
                                    "Category": "Grains/Cereals",
                                    "Qty": "20",
                                    "Orderyear": "2007"
                                },
                                {
                                    "Category": "Confections",
                                    "Qty": "30",
                                    "Orderyear": "2007"
                                },
                                {
                                    "Category": "Dairy Products",
                                    "Qty": "20",
                                    "Orderyear": "2007"
                                },
                                {
                                    "Category": "Condiments",
                                    "Qty": "12",
                                    "Orderyear": "2007"
                                },
                                {
                                    "Category": "Beverages",
                                    "Qty": "20",
                                    "Orderyear": "2007"
                                },
                                {
                                    "Category": "Meat/Poultry",
                                    "Qty": "6",
                                    "Orderyear": "2007"
                                },
                                {
                                    "Category": "Seafood",
                                    "Qty": "20",
                                    "Orderyear": "2007"
                                },
                                {
                                    "Category": "Produce",
                                    "Qty": "3",
                                    "Orderyear": "2007"
                                },
                                {
                                    "Category": "Condiments",
                                    "Qty": "28",
                                    "Orderyear": "2007"
                                },
                                {
                                    "Category": "Confections",
                                    "Qty": "6",
                                    "Orderyear": "2007"
                                },
                                {
                                    "Category": "Condiments",
                                    "Qty": "50",
                                    "Orderyear": "2007"
                                },
                                {
                                    "Category": "Seafood",
                                    "Qty": "24",
                                    "Orderyear": "2007"
                                },
                                {
                                    "Category": "Seafood",
                                    "Qty": "45",
                                    "Orderyear": "2007"
                                },
                                {
                                    "Category": "Confections",
                                    "Qty": "10",
                                    "Orderyear": "2007"
                                },
                                {
                                    "Category": "Grains/Cereals",
                                    "Qty": "45",
                                    "Orderyear": "2007"
                                },
                                {
                                    "Category": "Dairy Products",
                                    "Qty": "30",
                                    "Orderyear": "2007"
                                },
                                {
                                    "Category": "Confections",
                                    "Qty": "60",
                                    "Orderyear": "2007"
                                },
                                {
                                    "Category": "Seafood",
                                    "Qty": "70",
                                    "Orderyear": "2007"
                                },
                                {
                                    "Category": "Dairy Products",
                                    "Qty": "55",
                                    "Orderyear": "2007"
                                },
                                {
                                    "Category": "Condiments",
                                    "Qty": "70",
                                    "Orderyear": "2007"
                                },
                                {
                                    "Category": "Dairy Products",
                                    "Qty": "20",
                                    "Orderyear": "2007"
                                },
                                {
                                    "Category": "Seafood",
                                    "Qty": "24",
                                    "Orderyear": "2007"
                                },
                                {
                                    "Category": "Beverages",
                                    "Qty": "40",
                                    "Orderyear": "2007"
                                },
                                {
                                    "Category": "Confections",
                                    "Qty": "21",
                                    "Orderyear": "2007"
                                },
                                {
                                    "Category": "Beverages",
                                    "Qty": "3",
                                    "Orderyear": "2007"
                                },
                                {
                                    "Category": "Seafood",
                                    "Qty": "49",
                                    "Orderyear": "2007"
                                },
                                {
                                    "Category": "Confections",
                                    "Qty": "10",
                                    "Orderyear": "2007"
                                },
                                {
                                    "Category": "Seafood",
                                    "Qty": "30",
                                    "Orderyear": "2007"
                                },
                                {
                                    "Category": "Grains/Cereals",
                                    "Qty": "30",
                                    "Orderyear": "2007"
                                },
                                {
                                    "Category": "Produce",
                                    "Qty": "20",
                                    "Orderyear": "2007"
                                },
                                {
                                    "Category": "Seafood",
                                    "Qty": "24",
                                    "Orderyear": "2007"
                                },
                                {
                                    "Category": "Grains/Cereals",
                                    "Qty": "12",
                                    "Orderyear": "2007"
                                },
                                {
                                    "Category": "Condiments",
                                    "Qty": "15",
                                    "Orderyear": "2007"
                                },
                                {
                                    "Category": "Produce",
                                    "Qty": "20",
                                    "Orderyear": "2007"
                                },
                                {
                                    "Category": "Dairy Products",
                                    "Qty": "1",
                                    "Orderyear": "2007"
                                },
                                {
                                    "Category": "Beverages",
                                    "Qty": "10",
                                    "Orderyear": "2007"
                                },
                                {
                                    "Category": "Meat/Poultry",
                                    "Qty": "36",
                                    "Orderyear": "2007"
                                },
                                {
                                    "Category": "Condiments",
                                    "Qty": "10",
                                    "Orderyear": "2007"
                                },
                                {
                                    "Category": "Dairy Products",
                                    "Qty": "45",
                                    "Orderyear": "2007"
                                },
                                {
                                    "Category": "Dairy Products",
                                    "Qty": "14",
                                    "Orderyear": "2007"
                                },
                                {
                                    "Category": "Dairy Products",
                                    "Qty": "8",
                                    "Orderyear": "2007"
                                },
                                {
                                    "Category": "Meat/Poultry",
                                    "Qty": "4",
                                    "Orderyear": "2007"
                                },
                                {
                                    "Category": "Grains/Cereals",
                                    "Qty": "15",
                                    "Orderyear": "2007"
                                },
                                {
                                    "Category": "Seafood",
                                    "Qty": "30",
                                    "Orderyear": "2007"
                                },
                                {
                                    "Category": "Grains/Cereals",
                                    "Qty": "32",
                                    "Orderyear": "2007"
                                },
                                {
                                    "Category": "Seafood",
                                    "Qty": "60",
                                    "Orderyear": "2007"
                                },
                                {
                                    "Category": "Beverages",
                                    "Qty": "25",
                                    "Orderyear": "2007"
                                },
                                {
                                    "Category": "Seafood",
                                    "Qty": "50",
                                    "Orderyear": "2007"
                                },
                                {
                                    "Category": "Beverages",
                                    "Qty": "25",
                                    "Orderyear": "2007"
                                },
                                {
                                    "Category": "Confections",
                                    "Qty": "10",
                                    "Orderyear": "2007"
                                },
                                {
                                    "Category": "Confections",
                                    "Qty": "10",
                                    "Orderyear": "2007"
                                },
                                {
                                    "Category": "Condiments",
                                    "Qty": "12",
                                    "Orderyear": "2007"
                                },
                                {
                                    "Category": "Beverages",
                                    "Qty": "15",
                                    "Orderyear": "2007"
                                },
                                {
                                    "Category": "Dairy Products",
                                    "Qty": "12",
                                    "Orderyear": "2007"
                                },
                                {
                                    "Category": "Confections",
                                    "Qty": "3",
                                    "Orderyear": "2007"
                                },
                                {
                                    "Category": "Grains/Cereals",
                                    "Qty": "6",
                                    "Orderyear": "2007"
                                },
                                {
                                    "Category": "Beverages",
                                    "Qty": "6",
                                    "Orderyear": "2007"
                                },
                                {
                                    "Category": "Grains/Cereals",
                                    "Qty": "5",
                                    "Orderyear": "2007"
                                },
                                {
                                    "Category": "Produce",
                                    "Qty": "30",
                                    "Orderyear": "2007"
                                },
                                {
                                    "Category": "Meat/Poultry",
                                    "Qty": "10",
                                    "Orderyear": "2007"
                                },
                                {
                                    "Category": "Seafood",
                                    "Qty": "30",
                                    "Orderyear": "2007"
                                },
                                {
                                    "Category": "Seafood",
                                    "Qty": "2",
                                    "Orderyear": "2007"
                                },
                                {
                                    "Category": "Confections",
                                    "Qty": "7",
                                    "Orderyear": "2007"
                                },
                                {
                                    "Category": "Condiments",
                                    "Qty": "21",
                                    "Orderyear": "2007"
                                },
                                {
                                    "Category": "Confections",
                                    "Qty": "30",
                                    "Orderyear": "2007"
                                },
                                {
                                    "Category": "Dairy Products",
                                    "Qty": "8",
                                    "Orderyear": "2007"
                                },
                                {
                                    "Category": "Dairy Products",
                                    "Qty": "100",
                                    "Orderyear": "2007"
                                },
                                {
                                    "Category": "Dairy Products",
                                    "Qty": "30",
                                    "Orderyear": "2007"
                                },
                                {
                                    "Category": "Seafood",
                                    "Qty": "120",
                                    "Orderyear": "2007"
                                },
                                {
                                    "Category": "Meat/Poultry",
                                    "Qty": "30",
                                    "Orderyear": "2007"
                                },
                                {
                                    "Category": "Dairy Products",
                                    "Qty": "12",
                                    "Orderyear": "2007"
                                },
                                {
                                    "Category": "Confections",
                                    "Qty": "50",
                                    "Orderyear": "2007"
                                },
                                {
                                    "Category": "Dairy Products",
                                    "Qty": "20",
                                    "Orderyear": "2007"
                                },
                                {
                                    "Category": "Grains/Cereals",
                                    "Qty": "40",
                                    "Orderyear": "2007"
                                },
                                {
                                    "Category": "Confections",
                                    "Qty": "30",
                                    "Orderyear": "2007"
                                },
                                {
                                    "Category": "Confections",
                                    "Qty": "12",
                                    "Orderyear": "2007"
                                },
                                {
                                    "Category": "Grains/Cereals",
                                    "Qty": "28",
                                    "Orderyear": "2007"
                                },
                                {
                                    "Category": "Dairy Products",
                                    "Qty": "30",
                                    "Orderyear": "2007"
                                },
                                {
                                    "Category": "Condiments",
                                    "Qty": "4",
                                    "Orderyear": "2007"
                                },
                                {
                                    "Category": "Beverages",
                                    "Qty": "30",
                                    "Orderyear": "2007"
                                },
                                {
                                    "Category": "Grains/Cereals",
                                    "Qty": "9",
                                    "Orderyear": "2007"
                                },
                                {
                                    "Category": "Seafood",
                                    "Qty": "20",
                                    "Orderyear": "2007"
                                },
                                {
                                    "Category": "Confections",
                                    "Qty": "40",
                                    "Orderyear": "2007"
                                },
                                {
                                    "Category": "Dairy Products",
                                    "Qty": "30",
                                    "Orderyear": "2007"
                                },
                                {
                                    "Category": "Seafood",
                                    "Qty": "20",
                                    "Orderyear": "2007"
                                },
                                {
                                    "Category": "Seafood",
                                    "Qty": "4",
                                    "Orderyear": "2007"
                                },
                                {
                                    "Category": "Confections",
                                    "Qty": "15",
                                    "Orderyear": "2007"
                                },
                                {
                                    "Category": "Meat/Poultry",
                                    "Qty": "30",
                                    "Orderyear": "2007"
                                },
                                {
                                    "Category": "Confections",
                                    "Qty": "15",
                                    "Orderyear": "2007"
                                },
                                {
                                    "Category": "Meat/Poultry",
                                    "Qty": "50",
                                    "Orderyear": "2007"
                                },
                                {
                                    "Category": "Meat/Poultry",
                                    "Qty": "10",
                                    "Orderyear": "2007"
                                },
                                {
                                    "Category": "Seafood",
                                    "Qty": "6",
                                    "Orderyear": "2007"
                                },
                                {
                                    "Category": "Seafood",
                                    "Qty": "18",
                                    "Orderyear": "2007"
                                },
                                {
                                    "Category": "Produce",
                                    "Qty": "60",
                                    "Orderyear": "2007"
                                },
                                {
                                    "Category": "Beverages",
                                    "Qty": "14",
                                    "Orderyear": "2007"
                                },
                                {
                                    "Category": "Beverages",
                                    "Qty": "35",
                                    "Orderyear": "2007"
                                },
                                {
                                    "Category": "Grains/Cereals",
                                    "Qty": "20",
                                    "Orderyear": "2007"
                                },
                                {
                                    "Category": "Condiments",
                                    "Qty": "30",
                                    "Orderyear": "2007"
                                },
                                {
                                    "Category": "Beverages",
                                    "Qty": "30",
                                    "Orderyear": "2007"
                                },
                                {
                                    "Category": "Meat/Poultry",
                                    "Qty": "40",
                                    "Orderyear": "2007"
                                },
                                {
                                    "Category": "Beverages",
                                    "Qty": "40",
                                    "Orderyear": "2007"
                                },
                                {
                                    "Category": "Condiments",
                                    "Qty": "24",
                                    "Orderyear": "2007"
                                },
                                {
                                    "Category": "Confections",
                                    "Qty": "48",
                                    "Orderyear": "2007"
                                },
                                {
                                    "Category": "Condiments",
                                    "Qty": "20",
                                    "Orderyear": "2007"
                                },
                                {
                                    "Category": "Meat/Poultry",
                                    "Qty": "6",
                                    "Orderyear": "2007"
                                },
                                {
                                    "Category": "Meat/Poultry",
                                    "Qty": "60",
                                    "Orderyear": "2007"
                                },
                                {
                                    "Category": "Dairy Products",
                                    "Qty": "30",
                                    "Orderyear": "2007"
                                },
                                {
                                    "Category": "Seafood",
                                    "Qty": "15",
                                    "Orderyear": "2007"
                                },
                                {
                                    "Category": "Produce",
                                    "Qty": "90",
                                    "Orderyear": "2007"
                                },
                                {
                                    "Category": "Dairy Products",
                                    "Qty": "25",
                                    "Orderyear": "2007"
                                },
                                {
                                    "Category": "Beverages",
                                    "Qty": "50",
                                    "Orderyear": "2007"
                                },
                                {
                                    "Category": "Condiments",
                                    "Qty": "10",
                                    "Orderyear": "2007"
                                },
                                {
                                    "Category": "Dairy Products",
                                    "Qty": "4",
                                    "Orderyear": "2007"
                                },
                                {
                                    "Category": "Beverages",
                                    "Qty": "20",
                                    "Orderyear": "2007"
                                },
                                {
                                    "Category": "Meat/Poultry",
                                    "Qty": "20",
                                    "Orderyear": "2007"
                                },
                                {
                                    "Category": "Seafood",
                                    "Qty": "18",
                                    "Orderyear": "2007"
                                },
                                {
                                    "Category": "Confections",
                                    "Qty": "7",
                                    "Orderyear": "2007"
                                },
                                {
                                    "Category": "Beverages",
                                    "Qty": "9",
                                    "Orderyear": "2007"
                                },
                                {
                                    "Category": "Seafood",
                                    "Qty": "30",
                                    "Orderyear": "2007"
                                },
                                {
                                    "Category": "Beverages",
                                    "Qty": "30",
                                    "Orderyear": "2007"
                                },
                                {
                                    "Category": "Dairy Products",
                                    "Qty": "15",
                                    "Orderyear": "2007"
                                },
                                {
                                    "Category": "Meat/Poultry",
                                    "Qty": "8",
                                    "Orderyear": "2007"
                                },
                                {
                                    "Category": "Meat/Poultry",
                                    "Qty": "12",
                                    "Orderyear": "2007"
                                },
                                {
                                    "Category": "Condiments",
                                    "Qty": "65",
                                    "Orderyear": "2007"
                                },
                                {
                                    "Category": "Beverages",
                                    "Qty": "8",
                                    "Orderyear": "2007"
                                },
                                {
                                    "Category": "Confections",
                                    "Qty": "12",
                                    "Orderyear": "2007"
                                },
                                {
                                    "Category": "Beverages",
                                    "Qty": "5",
                                    "Orderyear": "2007"
                                },
                                {
                                    "Category": "Beverages",
                                    "Qty": "12",
                                    "Orderyear": "2007"
                                },
                                {
                                    "Category": "Confections",
                                    "Qty": "40",
                                    "Orderyear": "2007"
                                },
                                {
                                    "Category": "Dairy Products",
                                    "Qty": "60",
                                    "Orderyear": "2007"
                                },
                                {
                                    "Category": "Dairy Products",
                                    "Qty": "42",
                                    "Orderyear": "2007"
                                },
                                {
                                    "Category": "Dairy Products",
                                    "Qty": "20",
                                    "Orderyear": "2007"
                                },
                                {
                                    "Category": "Beverages",
                                    "Qty": "35",
                                    "Orderyear": "2007"
                                },
                                {
                                    "Category": "Condiments",
                                    "Qty": "6",
                                    "Orderyear": "2007"
                                },
                                {
                                    "Category": "Beverages",
                                    "Qty": "15",
                                    "Orderyear": "2007"
                                },
                                {
                                    "Category": "Beverages",
                                    "Qty": "5",
                                    "Orderyear": "2007"
                                },
                                {
                                    "Category": "Dairy Products",
                                    "Qty": "35",
                                    "Orderyear": "2007"
                                },
                                {
                                    "Category": "Seafood",
                                    "Qty": "35",
                                    "Orderyear": "2007"
                                },
                                {
                                    "Category": "Condiments",
                                    "Qty": "6",
                                    "Orderyear": "2007"
                                },
                                {
                                    "Category": "Beverages",
                                    "Qty": "35",
                                    "Orderyear": "2007"
                                },
                                {
                                    "Category": "Confections",
                                    "Qty": "24",
                                    "Orderyear": "2007"
                                },
                                {
                                    "Category": "Dairy Products",
                                    "Qty": "20",
                                    "Orderyear": "2007"
                                },
                                {
                                    "Category": "Dairy Products",
                                    "Qty": "4",
                                    "Orderyear": "2007"
                                },
                                {
                                    "Category": "Confections",
                                    "Qty": "20",
                                    "Orderyear": "2007"
                                },
                                {
                                    "Category": "Beverages",
                                    "Qty": "24",
                                    "Orderyear": "2007"
                                },
                                {
                                    "Category": "Dairy Products",
                                    "Qty": "8",
                                    "Orderyear": "2007"
                                },
                                {
                                    "Category": "Meat/Poultry",
                                    "Qty": "21",
                                    "Orderyear": "2007"
                                },
                                {
                                    "Category": "Grains/Cereals",
                                    "Qty": "40",
                                    "Orderyear": "2007"
                                },
                                {
                                    "Category": "Beverages",
                                    "Qty": "28",
                                    "Orderyear": "2007"
                                },
                                {
                                    "Category": "Condiments",
                                    "Qty": "4",
                                    "Orderyear": "2007"
                                },
                                {
                                    "Category": "Seafood",
                                    "Qty": "5",
                                    "Orderyear": "2007"
                                },
                                {
                                    "Category": "Condiments",
                                    "Qty": "40",
                                    "Orderyear": "2007"
                                },
                                {
                                    "Category": "Produce",
                                    "Qty": "28",
                                    "Orderyear": "2007"
                                },
                                {
                                    "Category": "Dairy Products",
                                    "Qty": "10",
                                    "Orderyear": "2007"
                                },
                                {
                                    "Category": "Confections",
                                    "Qty": "5",
                                    "Orderyear": "2007"
                                },
                                {
                                    "Category": "Confections",
                                    "Qty": "5",
                                    "Orderyear": "2007"
                                },
                                {
                                    "Category": "Confections",
                                    "Qty": "12",
                                    "Orderyear": "2007"
                                },
                                {
                                    "Category": "Seafood",
                                    "Qty": "42",
                                    "Orderyear": "2007"
                                },
                                {
                                    "Category": "Meat/Poultry",
                                    "Qty": "120",
                                    "Orderyear": "2007"
                                },
                                {
                                    "Category": "Meat/Poultry",
                                    "Qty": "3",
                                    "Orderyear": "2007"
                                },
                                {
                                    "Category": "Grains/Cereals",
                                    "Qty": "30",
                                    "Orderyear": "2007"
                                },
                                {
                                    "Category": "Seafood",
                                    "Qty": "18",
                                    "Orderyear": "2007"
                                },
                                {
                                    "Category": "Confections",
                                    "Qty": "30",
                                    "Orderyear": "2007"
                                },
                                {
                                    "Category": "Seafood",
                                    "Qty": "110",
                                    "Orderyear": "2007"
                                },
                                {
                                    "Category": "Seafood",
                                    "Qty": "24",
                                    "Orderyear": "2007"
                                },
                                {
                                    "Category": "Beverages",
                                    "Qty": "30",
                                    "Orderyear": "2007"
                                },
                                {
                                    "Category": "Meat/Poultry",
                                    "Qty": "27",
                                    "Orderyear": "2007"
                                },
                                {
                                    "Category": "Confections",
                                    "Qty": "50",
                                    "Orderyear": "2007"
                                },
                                {
                                    "Category": "Grains/Cereals",
                                    "Qty": "18",
                                    "Orderyear": "2007"
                                },
                                {
                                    "Category": "Seafood",
                                    "Qty": "12",
                                    "Orderyear": "2007"
                                },
                                {
                                    "Category": "Seafood",
                                    "Qty": "21",
                                    "Orderyear": "2007"
                                },
                                {
                                    "Category": "Dairy Products",
                                    "Qty": "30",
                                    "Orderyear": "2007"
                                },
                                {
                                    "Category": "Confections",
                                    "Qty": "5",
                                    "Orderyear": "2007"
                                },
                                {
                                    "Category": "Produce",
                                    "Qty": "7",
                                    "Orderyear": "2007"
                                },
                                {
                                    "Category": "Condiments",
                                    "Qty": "10",
                                    "Orderyear": "2007"
                                },
                                {
                                    "Category": "Confections",
                                    "Qty": "32",
                                    "Orderyear": "2007"
                                },
                                {
                                    "Category": "Meat/Poultry",
                                    "Qty": "15",
                                    "Orderyear": "2007"
                                },
                                {
                                    "Category": "Dairy Products",
                                    "Qty": "25",
                                    "Orderyear": "2007"
                                },
                                {
                                    "Category": "Dairy Products",
                                    "Qty": "36",
                                    "Orderyear": "2007"
                                },
                                {
                                    "Category": "Confections",
                                    "Qty": "20",
                                    "Orderyear": "2007"
                                },
                                {
                                    "Category": "Seafood",
                                    "Qty": "40",
                                    "Orderyear": "2007"
                                },
                                {
                                    "Category": "Confections",
                                    "Qty": "20",
                                    "Orderyear": "2007"
                                },
                                {
                                    "Category": "Seafood",
                                    "Qty": "12",
                                    "Orderyear": "2007"
                                },
                                {
                                    "Category": "Seafood",
                                    "Qty": "3",
                                    "Orderyear": "2007"
                                },
                                {
                                    "Category": "Meat/Poultry",
                                    "Qty": "40",
                                    "Orderyear": "2007"
                                },
                                {
                                    "Category": "Beverages",
                                    "Qty": "21",
                                    "Orderyear": "2007"
                                },
                                {
                                    "Category": "Dairy Products",
                                    "Qty": "8",
                                    "Orderyear": "2007"
                                },
                                {
                                    "Category": "Condiments",
                                    "Qty": "50",
                                    "Orderyear": "2007"
                                },
                                {
                                    "Category": "Beverages",
                                    "Qty": "3",
                                    "Orderyear": "2007"
                                },
                                {
                                    "Category": "Dairy Products",
                                    "Qty": "50",
                                    "Orderyear": "2007"
                                },
                                {
                                    "Category": "Confections",
                                    "Qty": "45",
                                    "Orderyear": "2007"
                                },
                                {
                                    "Category": "Beverages",
                                    "Qty": "42",
                                    "Orderyear": "2007"
                                },
                                {
                                    "Category": "Confections",
                                    "Qty": "15",
                                    "Orderyear": "2007"
                                },
                                {
                                    "Category": "Seafood",
                                    "Qty": "16",
                                    "Orderyear": "2007"
                                },
                                {
                                    "Category": "Condiments",
                                    "Qty": "5",
                                    "Orderyear": "2007"
                                },
                                {
                                    "Category": "Seafood",
                                    "Qty": "12",
                                    "Orderyear": "2007"
                                },
                                {
                                    "Category": "Grains/Cereals",
                                    "Qty": "4",
                                    "Orderyear": "2007"
                                },
                                {
                                    "Category": "Meat/Poultry",
                                    "Qty": "6",
                                    "Orderyear": "2007"
                                },
                                {
                                    "Category": "Condiments",
                                    "Qty": "25",
                                    "Orderyear": "2007"
                                },
                                {
                                    "Category": "Dairy Products",
                                    "Qty": "5",
                                    "Orderyear": "2007"
                                },
                                {
                                    "Category": "Meat/Poultry",
                                    "Qty": "20",
                                    "Orderyear": "2007"
                                },
                                {
                                    "Category": "Grains/Cereals",
                                    "Qty": "10",
                                    "Orderyear": "2007"
                                },
                                {
                                    "Category": "Dairy Products",
                                    "Qty": "10",
                                    "Orderyear": "2007"
                                },
                                {
                                    "Category": "Seafood",
                                    "Qty": "15",
                                    "Orderyear": "2007"
                                },
                                {
                                    "Category": "Seafood",
                                    "Qty": "6",
                                    "Orderyear": "2007"
                                },
                                {
                                    "Category": "Meat/Poultry",
                                    "Qty": "12",
                                    "Orderyear": "2007"
                                },
                                {
                                    "Category": "Dairy Products",
                                    "Qty": "15",
                                    "Orderyear": "2007"
                                },
                                {
                                    "Category": "Beverages",
                                    "Qty": "50",
                                    "Orderyear": "2007"
                                },
                                {
                                    "Category": "Confections",
                                    "Qty": "30",
                                    "Orderyear": "2007"
                                },
                                {
                                    "Category": "Confections",
                                    "Qty": "40",
                                    "Orderyear": "2007"
                                },
                                {
                                    "Category": "Confections",
                                    "Qty": "15",
                                    "Orderyear": "2007"
                                },
                                {
                                    "Category": "Dairy Products",
                                    "Qty": "3",
                                    "Orderyear": "2007"
                                },
                                {
                                    "Category": "Condiments",
                                    "Qty": "10",
                                    "Orderyear": "2007"
                                },
                                {
                                    "Category": "Confections",
                                    "Qty": "40",
                                    "Orderyear": "2007"
                                },
                                {
                                    "Category": "Produce",
                                    "Qty": "30",
                                    "Orderyear": "2007"
                                },
                                {
                                    "Category": "Beverages",
                                    "Qty": "20",
                                    "Orderyear": "2007"
                                },
                                {
                                    "Category": "Produce",
                                    "Qty": "16",
                                    "Orderyear": "2007"
                                },
                                {
                                    "Category": "Produce",
                                    "Qty": "20",
                                    "Orderyear": "2007"
                                },
                                {
                                    "Category": "Grains/Cereals",
                                    "Qty": "25",
                                    "Orderyear": "2007"
                                },
                                {
                                    "Category": "Condiments",
                                    "Qty": "30",
                                    "Orderyear": "2007"
                                },
                                {
                                    "Category": "Seafood",
                                    "Qty": "15",
                                    "Orderyear": "2007"
                                },
                                {
                                    "Category": "Beverages",
                                    "Qty": "20",
                                    "Orderyear": "2007"
                                },
                                {
                                    "Category": "Condiments",
                                    "Qty": "20",
                                    "Orderyear": "2007"
                                },
                                {
                                    "Category": "Condiments",
                                    "Qty": "2",
                                    "Orderyear": "2007"
                                },
                                {
                                    "Category": "Condiments",
                                    "Qty": "40",
                                    "Orderyear": "2007"
                                },
                                {
                                    "Category": "Beverages",
                                    "Qty": "20",
                                    "Orderyear": "2007"
                                },
                                {
                                    "Category": "Seafood",
                                    "Qty": "4",
                                    "Orderyear": "2007"
                                },
                                {
                                    "Category": "Seafood",
                                    "Qty": "12",
                                    "Orderyear": "2007"
                                },
                                {
                                    "Category": "Confections",
                                    "Qty": "3",
                                    "Orderyear": "2007"
                                },
                                {
                                    "Category": "Seafood",
                                    "Qty": "6",
                                    "Orderyear": "2007"
                                },
                                {
                                    "Category": "Grains/Cereals",
                                    "Qty": "18",
                                    "Orderyear": "2007"
                                },
                                {
                                    "Category": "Produce",
                                    "Qty": "5",
                                    "Orderyear": "2007"
                                },
                                {
                                    "Category": "Beverages",
                                    "Qty": "35",
                                    "Orderyear": "2007"
                                },
                                {
                                    "Category": "Seafood",
                                    "Qty": "40",
                                    "Orderyear": "2007"
                                },
                                {
                                    "Category": "Grains/Cereals",
                                    "Qty": "14",
                                    "Orderyear": "2007"
                                },
                                {
                                    "Category": "Beverages",
                                    "Qty": "15",
                                    "Orderyear": "2007"
                                },
                                {
                                    "Category": "Condiments",
                                    "Qty": "20",
                                    "Orderyear": "2007"
                                },
                                {
                                    "Category": "Dairy Products",
                                    "Qty": "50",
                                    "Orderyear": "2007"
                                },
                                {
                                    "Category": "Dairy Products",
                                    "Qty": "35",
                                    "Orderyear": "2007"
                                },
                                {
                                    "Category": "Seafood",
                                    "Qty": "28",
                                    "Orderyear": "2007"
                                },
                                {
                                    "Category": "Seafood",
                                    "Qty": "50",
                                    "Orderyear": "2007"
                                },
                                {
                                    "Category": "Seafood",
                                    "Qty": "24",
                                    "Orderyear": "2007"
                                },
                                {
                                    "Category": "Condiments",
                                    "Qty": "16",
                                    "Orderyear": "2007"
                                },
                                {
                                    "Category": "Dairy Products",
                                    "Qty": "45",
                                    "Orderyear": "2007"
                                },
                                {
                                    "Category": "Dairy Products",
                                    "Qty": "7",
                                    "Orderyear": "2007"
                                },
                                {
                                    "Category": "Seafood",
                                    "Qty": "6",
                                    "Orderyear": "2007"
                                },
                                {
                                    "Category": "Grains/Cereals",
                                    "Qty": "28",
                                    "Orderyear": "2007"
                                },
                                {
                                    "Category": "Confections",
                                    "Qty": "9",
                                    "Orderyear": "2007"
                                },
                                {
                                    "Category": "Dairy Products",
                                    "Qty": "40",
                                    "Orderyear": "2007"
                                },
                                {
                                    "Category": "Dairy Products",
                                    "Qty": "8",
                                    "Orderyear": "2007"
                                },
                                {
                                    "Category": "Seafood",
                                    "Qty": "35",
                                    "Orderyear": "2007"
                                },
                                {
                                    "Category": "Condiments",
                                    "Qty": "9",
                                    "Orderyear": "2007"
                                },
                                {
                                    "Category": "Dairy Products",
                                    "Qty": "30",
                                    "Orderyear": "2007"
                                },
                                {
                                    "Category": "Grains/Cereals",
                                    "Qty": "44",
                                    "Orderyear": "2007"
                                },
                                {
                                    "Category": "Seafood",
                                    "Qty": "40",
                                    "Orderyear": "2007"
                                },
                                {
                                    "Category": "Grains/Cereals",
                                    "Qty": "28",
                                    "Orderyear": "2007"
                                },
                                {
                                    "Category": "Grains/Cereals",
                                    "Qty": "15",
                                    "Orderyear": "2007"
                                },
                                {
                                    "Category": "Dairy Products",
                                    "Qty": "6",
                                    "Orderyear": "2007"
                                },
                                {
                                    "Category": "Beverages",
                                    "Qty": "10",
                                    "Orderyear": "2007"
                                },
                                {
                                    "Category": "Produce",
                                    "Qty": "5",
                                    "Orderyear": "2007"
                                },
                                {
                                    "Category": "Seafood",
                                    "Qty": "40",
                                    "Orderyear": "2007"
                                },
                                {
                                    "Category": "Dairy Products",
                                    "Qty": "25",
                                    "Orderyear": "2007"
                                },
                                {
                                    "Category": "Confections",
                                    "Qty": "12",
                                    "Orderyear": "2007"
                                },
                                {
                                    "Category": "Seafood",
                                    "Qty": "30",
                                    "Orderyear": "2007"
                                },
                                {
                                    "Category": "Confections",
                                    "Qty": "20",
                                    "Orderyear": "2007"
                                },
                                {
                                    "Category": "Seafood",
                                    "Qty": "15",
                                    "Orderyear": "2007"
                                },
                                {
                                    "Category": "Beverages",
                                    "Qty": "8",
                                    "Orderyear": "2007"
                                },
                                {
                                    "Category": "Dairy Products",
                                    "Qty": "3",
                                    "Orderyear": "2007"
                                },
                                {
                                    "Category": "Seafood",
                                    "Qty": "4",
                                    "Orderyear": "2007"
                                },
                                {
                                    "Category": "Produce",
                                    "Qty": "5",
                                    "Orderyear": "2007"
                                },
                                {
                                    "Category": "Seafood",
                                    "Qty": "3",
                                    "Orderyear": "2007"
                                },
                                {
                                    "Category": "Confections",
                                    "Qty": "30",
                                    "Orderyear": "2007"
                                },
                                {
                                    "Category": "Grains/Cereals",
                                    "Qty": "30",
                                    "Orderyear": "2007"
                                },
                                {
                                    "Category": "Grains/Cereals",
                                    "Qty": "14",
                                    "Orderyear": "2007"
                                },
                                {
                                    "Category": "Dairy Products",
                                    "Qty": "25",
                                    "Orderyear": "2007"
                                },
                                {
                                    "Category": "Seafood",
                                    "Qty": "21",
                                    "Orderyear": "2007"
                                },
                                {
                                    "Category": "Seafood",
                                    "Qty": "20",
                                    "Orderyear": "2007"
                                },
                                {
                                    "Category": "Confections",
                                    "Qty": "6",
                                    "Orderyear": "2007"
                                },
                                {
                                    "Category": "Dairy Products",
                                    "Qty": "20",
                                    "Orderyear": "2007"
                                },
                                {
                                    "Category": "Beverages",
                                    "Qty": "30",
                                    "Orderyear": "2007"
                                },
                                {
                                    "Category": "Dairy Products",
                                    "Qty": "7",
                                    "Orderyear": "2007"
                                },
                                {
                                    "Category": "Confections",
                                    "Qty": "30",
                                    "Orderyear": "2007"
                                },
                                {
                                    "Category": "Grains/Cereals",
                                    "Qty": "24",
                                    "Orderyear": "2007"
                                },
                                {
                                    "Category": "Confections",
                                    "Qty": "20",
                                    "Orderyear": "2007"
                                },
                                {
                                    "Category": "Grains/Cereals",
                                    "Qty": "60",
                                    "Orderyear": "2007"
                                },
                                {
                                    "Category": "Beverages",
                                    "Qty": "40",
                                    "Orderyear": "2007"
                                },
                                {
                                    "Category": "Dairy Products",
                                    "Qty": "10",
                                    "Orderyear": "2007"
                                },
                                {
                                    "Category": "Confections",
                                    "Qty": "12",
                                    "Orderyear": "2007"
                                },
                                {
                                    "Category": "Confections",
                                    "Qty": "40",
                                    "Orderyear": "2007"
                                },
                                {
                                    "Category": "Beverages",
                                    "Qty": "30",
                                    "Orderyear": "2007"
                                },
                                {
                                    "Category": "Confections",
                                    "Qty": "35",
                                    "Orderyear": "2007"
                                },
                                {
                                    "Category": "Beverages",
                                    "Qty": "18",
                                    "Orderyear": "2007"
                                },
                                {
                                    "Category": "Beverages",
                                    "Qty": "16",
                                    "Orderyear": "2007"
                                },
                                {
                                    "Category": "Confections",
                                    "Qty": "30",
                                    "Orderyear": "2007"
                                },
                                {
                                    "Category": "Produce",
                                    "Qty": "28",
                                    "Orderyear": "2007"
                                },
                                {
                                    "Category": "Grains/Cereals",
                                    "Qty": "60",
                                    "Orderyear": "2007"
                                },
                                {
                                    "Category": "Confections",
                                    "Qty": "40",
                                    "Orderyear": "2007"
                                },
                                {
                                    "Category": "Grains/Cereals",
                                    "Qty": "6",
                                    "Orderyear": "2007"
                                },
                                {
                                    "Category": "Beverages",
                                    "Qty": "20",
                                    "Orderyear": "2007"
                                },
                                {
                                    "Category": "Condiments",
                                    "Qty": "20",
                                    "Orderyear": "2007"
                                },
                                {
                                    "Category": "Beverages",
                                    "Qty": "130",
                                    "Orderyear": "2007"
                                },
                                {
                                    "Category": "Condiments",
                                    "Qty": "80",
                                    "Orderyear": "2007"
                                },
                                {
                                    "Category": "Beverages",
                                    "Qty": "40",
                                    "Orderyear": "2007"
                                },
                                {
                                    "Category": "Produce",
                                    "Qty": "35",
                                    "Orderyear": "2007"
                                },
                                {
                                    "Category": "Confections",
                                    "Qty": "40",
                                    "Orderyear": "2007"
                                },
                                {
                                    "Category": "Grains/Cereals",
                                    "Qty": "2",
                                    "Orderyear": "2007"
                                },
                                {
                                    "Category": "Grains/Cereals",
                                    "Qty": "4",
                                    "Orderyear": "2007"
                                },
                                {
                                    "Category": "Dairy Products",
                                    "Qty": "50",
                                    "Orderyear": "2007"
                                },
                                {
                                    "Category": "Dairy Products",
                                    "Qty": "15",
                                    "Orderyear": "2007"
                                },
                                {
                                    "Category": "Dairy Products",
                                    "Qty": "12",
                                    "Orderyear": "2007"
                                },
                                {
                                    "Category": "Seafood",
                                    "Qty": "30",
                                    "Orderyear": "2007"
                                },
                                {
                                    "Category": "Grains/Cereals",
                                    "Qty": "15",
                                    "Orderyear": "2007"
                                },
                                {
                                    "Category": "Condiments",
                                    "Qty": "20",
                                    "Orderyear": "2007"
                                },
                                {
                                    "Category": "Confections",
                                    "Qty": "15",
                                    "Orderyear": "2007"
                                },
                                {
                                    "Category": "Dairy Products",
                                    "Qty": "15",
                                    "Orderyear": "2007"
                                },
                                {
                                    "Category": "Dairy Products",
                                    "Qty": "16",
                                    "Orderyear": "2007"
                                },
                                {
                                    "Category": "Meat/Poultry",
                                    "Qty": "18",
                                    "Orderyear": "2007"
                                },
                                {
                                    "Category": "Dairy Products",
                                    "Qty": "25",
                                    "Orderyear": "2007"
                                },
                                {
                                    "Category": "Meat/Poultry",
                                    "Qty": "33",
                                    "Orderyear": "2007"
                                },
                                {
                                    "Category": "Dairy Products",
                                    "Qty": "70",
                                    "Orderyear": "2007"
                                },
                                {
                                    "Category": "Beverages",
                                    "Qty": "7",
                                    "Orderyear": "2007"
                                },
                                {
                                    "Category": "Dairy Products",
                                    "Qty": "2",
                                    "Orderyear": "2007"
                                },
                                {
                                    "Category": "Condiments",
                                    "Qty": "50",
                                    "Orderyear": "2007"
                                },
                                {
                                    "Category": "Seafood",
                                    "Qty": "6",
                                    "Orderyear": "2007"
                                },
                                {
                                    "Category": "Beverages",
                                    "Qty": "3",
                                    "Orderyear": "2007"
                                },
                                {
                                    "Category": "Dairy Products",
                                    "Qty": "16",
                                    "Orderyear": "2007"
                                },
                                {
                                    "Category": "Grains/Cereals",
                                    "Qty": "12",
                                    "Orderyear": "2007"
                                },
                                {
                                    "Category": "Seafood",
                                    "Qty": "27",
                                    "Orderyear": "2007"
                                },
                                {
                                    "Category": "Produce",
                                    "Qty": "120",
                                    "Orderyear": "2007"
                                },
                                {
                                    "Category": "Grains/Cereals",
                                    "Qty": "20",
                                    "Orderyear": "2007"
                                },
                                {
                                    "Category": "Seafood",
                                    "Qty": "10",
                                    "Orderyear": "2007"
                                },
                                {
                                    "Category": "Confections",
                                    "Qty": "20",
                                    "Orderyear": "2007"
                                },
                                {
                                    "Category": "Confections",
                                    "Qty": "20",
                                    "Orderyear": "2007"
                                },
                                {
                                    "Category": "Beverages",
                                    "Qty": "35",
                                    "Orderyear": "2007"
                                },
                                {
                                    "Category": "Condiments",
                                    "Qty": "15",
                                    "Orderyear": "2007"
                                },
                                {
                                    "Category": "Meat/Poultry",
                                    "Qty": "3",
                                    "Orderyear": "2007"
                                },
                                {
                                    "Category": "Grains/Cereals",
                                    "Qty": "20",
                                    "Orderyear": "2007"
                                },
                                {
                                    "Category": "Produce",
                                    "Qty": "35",
                                    "Orderyear": "2007"
                                },
                                {
                                    "Category": "Dairy Products",
                                    "Qty": "1",
                                    "Orderyear": "2007"
                                },
                                {
                                    "Category": "Dairy Products",
                                    "Qty": "10",
                                    "Orderyear": "2007"
                                },
                                {
                                    "Category": "Beverages",
                                    "Qty": "5",
                                    "Orderyear": "2007"
                                },
                                {
                                    "Category": "Seafood",
                                    "Qty": "30",
                                    "Orderyear": "2007"
                                },
                                {
                                    "Category": "Beverages",
                                    "Qty": "2",
                                    "Orderyear": "2007"
                                },
                                {
                                    "Category": "Dairy Products",
                                    "Qty": "30",
                                    "Orderyear": "2007"
                                },
                                {
                                    "Category": "Seafood",
                                    "Qty": "10",
                                    "Orderyear": "2007"
                                },
                                {
                                    "Category": "Beverages",
                                    "Qty": "10",
                                    "Orderyear": "2007"
                                },
                                {
                                    "Category": "Condiments",
                                    "Qty": "30",
                                    "Orderyear": "2007"
                                },
                                {
                                    "Category": "Seafood",
                                    "Qty": "15",
                                    "Orderyear": "2007"
                                },
                                {
                                    "Category": "Beverages",
                                    "Qty": "42",
                                    "Orderyear": "2007"
                                },
                                {
                                    "Category": "Beverages",
                                    "Qty": "15",
                                    "Orderyear": "2007"
                                },
                                {
                                    "Category": "Meat/Poultry",
                                    "Qty": "20",
                                    "Orderyear": "2007"
                                },
                                {
                                    "Category": "Confections",
                                    "Qty": "50",
                                    "Orderyear": "2007"
                                },
                                {
                                    "Category": "Beverages",
                                    "Qty": "40",
                                    "Orderyear": "2007"
                                },
                                {
                                    "Category": "Seafood",
                                    "Qty": "30",
                                    "Orderyear": "2007"
                                },
                                {
                                    "Category": "Beverages",
                                    "Qty": "15",
                                    "Orderyear": "2007"
                                },
                                {
                                    "Category": "Condiments",
                                    "Qty": "30",
                                    "Orderyear": "2007"
                                },
                                {
                                    "Category": "Confections",
                                    "Qty": "18",
                                    "Orderyear": "2007"
                                },
                                {
                                    "Category": "Produce",
                                    "Qty": "3",
                                    "Orderyear": "2007"
                                },
                                {
                                    "Category": "Grains/Cereals",
                                    "Qty": "20",
                                    "Orderyear": "2007"
                                },
                                {
                                    "Category": "Meat/Poultry",
                                    "Qty": "14",
                                    "Orderyear": "2007"
                                },
                                {
                                    "Category": "Seafood",
                                    "Qty": "20",
                                    "Orderyear": "2007"
                                },
                                {
                                    "Category": "Beverages",
                                    "Qty": "10",
                                    "Orderyear": "2007"
                                },
                                {
                                    "Category": "Meat/Poultry",
                                    "Qty": "3",
                                    "Orderyear": "2007"
                                },
                                {
                                    "Category": "Confections",
                                    "Qty": "15",
                                    "Orderyear": "2007"
                                },
                                {
                                    "Category": "Seafood",
                                    "Qty": "14",
                                    "Orderyear": "2007"
                                },
                                {
                                    "Category": "Grains/Cereals",
                                    "Qty": "8",
                                    "Orderyear": "2007"
                                },
                                {
                                    "Category": "Produce",
                                    "Qty": "15",
                                    "Orderyear": "2007"
                                },
                                {
                                    "Category": "Meat/Poultry",
                                    "Qty": "6",
                                    "Orderyear": "2007"
                                },
                                {
                                    "Category": "Confections",
                                    "Qty": "65",
                                    "Orderyear": "2007"
                                },
                                {
                                    "Category": "Meat/Poultry",
                                    "Qty": "35",
                                    "Orderyear": "2007"
                                },
                                {
                                    "Category": "Confections",
                                    "Qty": "21",
                                    "Orderyear": "2007"
                                },
                                {
                                    "Category": "Condiments",
                                    "Qty": "10",
                                    "Orderyear": "2007"
                                },
                                {
                                    "Category": "Grains/Cereals",
                                    "Qty": "35",
                                    "Orderyear": "2007"
                                },
                                {
                                    "Category": "Dairy Products",
                                    "Qty": "24",
                                    "Orderyear": "2007"
                                },
                                {
                                    "Category": "Dairy Products",
                                    "Qty": "20",
                                    "Orderyear": "2007"
                                },
                                {
                                    "Category": "Confections",
                                    "Qty": "2",
                                    "Orderyear": "2007"
                                },
                                {
                                    "Category": "Dairy Products",
                                    "Qty": "10",
                                    "Orderyear": "2007"
                                },
                                {
                                    "Category": "Seafood",
                                    "Qty": "20",
                                    "Orderyear": "2007"
                                },
                                {
                                    "Category": "Beverages",
                                    "Qty": "20",
                                    "Orderyear": "2007"
                                },
                                {
                                    "Category": "Dairy Products",
                                    "Qty": "25",
                                    "Orderyear": "2007"
                                },
                                {
                                    "Category": "Dairy Products",
                                    "Qty": "50",
                                    "Orderyear": "2007"
                                },
                                {
                                    "Category": "Produce",
                                    "Qty": "10",
                                    "Orderyear": "2007"
                                },
                                {
                                    "Category": "Meat/Poultry",
                                    "Qty": "7",
                                    "Orderyear": "2007"
                                },
                                {
                                    "Category": "Meat/Poultry",
                                    "Qty": "40",
                                    "Orderyear": "2007"
                                },
                                {
                                    "Category": "Meat/Poultry",
                                    "Qty": "20",
                                    "Orderyear": "2007"
                                },
                                {
                                    "Category": "Seafood",
                                    "Qty": "25",
                                    "Orderyear": "2007"
                                },
                                {
                                    "Category": "Produce",
                                    "Qty": "30",
                                    "Orderyear": "2007"
                                },
                                {
                                    "Category": "Meat/Poultry",
                                    "Qty": "60",
                                    "Orderyear": "2007"
                                },
                                {
                                    "Category": "Confections",
                                    "Qty": "5",
                                    "Orderyear": "2007"
                                },
                                {
                                    "Category": "Confections",
                                    "Qty": "24",
                                    "Orderyear": "2007"
                                },
                                {
                                    "Category": "Confections",
                                    "Qty": "15",
                                    "Orderyear": "2007"
                                },
                                {
                                    "Category": "Dairy Products",
                                    "Qty": "15",
                                    "Orderyear": "2007"
                                },
                                {
                                    "Category": "Seafood",
                                    "Qty": "36",
                                    "Orderyear": "2007"
                                },
                                {
                                    "Category": "Produce",
                                    "Qty": "24",
                                    "Orderyear": "2007"
                                },
                                {
                                    "Category": "Confections",
                                    "Qty": "4",
                                    "Orderyear": "2007"
                                },
                                {
                                    "Category": "Beverages",
                                    "Qty": "10",
                                    "Orderyear": "2007"
                                },
                                {
                                    "Category": "Beverages",
                                    "Qty": "10",
                                    "Orderyear": "2007"
                                },
                                {
                                    "Category": "Beverages",
                                    "Qty": "20",
                                    "Orderyear": "2007"
                                },
                                {
                                    "Category": "Condiments",
                                    "Qty": "2",
                                    "Orderyear": "2007"
                                },
                                {
                                    "Category": "Produce",
                                    "Qty": "15",
                                    "Orderyear": "2007"
                                },
                                {
                                    "Category": "Seafood",
                                    "Qty": "1",
                                    "Orderyear": "2007"
                                },
                                {
                                    "Category": "Grains/Cereals",
                                    "Qty": "20",
                                    "Orderyear": "2008"
                                },
                                {
                                    "Category": "Beverages",
                                    "Qty": "50",
                                    "Orderyear": "2008"
                                },
                                {
                                    "Category": "Grains/Cereals",
                                    "Qty": "20",
                                    "Orderyear": "2008"
                                },
                                {
                                    "Category": "Seafood",
                                    "Qty": "7",
                                    "Orderyear": "2008"
                                },
                                {
                                    "Category": "Confections",
                                    "Qty": "5",
                                    "Orderyear": "2008"
                                },
                                {
                                    "Category": "Beverages",
                                    "Qty": "5",
                                    "Orderyear": "2008"
                                },
                                {
                                    "Category": "Confections",
                                    "Qty": "15",
                                    "Orderyear": "2008"
                                },
                                {
                                    "Category": "Grains/Cereals",
                                    "Qty": "18",
                                    "Orderyear": "2008"
                                },
                                {
                                    "Category": "Seafood",
                                    "Qty": "30",
                                    "Orderyear": "2008"
                                },
                                {
                                    "Category": "Dairy Products",
                                    "Qty": "16",
                                    "Orderyear": "2008"
                                },
                                {
                                    "Category": "Dairy Products",
                                    "Qty": "40",
                                    "Orderyear": "2008"
                                },
                                {
                                    "Category": "Condiments",
                                    "Qty": "20",
                                    "Orderyear": "2008"
                                },
                                {
                                    "Category": "Beverages",
                                    "Qty": "12",
                                    "Orderyear": "2008"
                                },
                                {
                                    "Category": "Seafood",
                                    "Qty": "35",
                                    "Orderyear": "2008"
                                },
                                {
                                    "Category": "Seafood",
                                    "Qty": "20",
                                    "Orderyear": "2008"
                                },
                                {
                                    "Category": "Beverages",
                                    "Qty": "20",
                                    "Orderyear": "2008"
                                },
                                {
                                    "Category": "Confections",
                                    "Qty": "8",
                                    "Orderyear": "2008"
                                },
                                {
                                    "Category": "Condiments",
                                    "Qty": "30",
                                    "Orderyear": "2008"
                                },
                                {
                                    "Category": "Dairy Products",
                                    "Qty": "16",
                                    "Orderyear": "2008"
                                },
                                {
                                    "Category": "Beverages",
                                    "Qty": "30",
                                    "Orderyear": "2008"
                                },
                                {
                                    "Category": "Confections",
                                    "Qty": "20",
                                    "Orderyear": "2008"
                                },
                                {
                                    "Category": "Confections",
                                    "Qty": "40",
                                    "Orderyear": "2008"
                                },
                                {
                                    "Category": "Beverages",
                                    "Qty": "30",
                                    "Orderyear": "2008"
                                },
                                {
                                    "Category": "Seafood",
                                    "Qty": "60",
                                    "Orderyear": "2008"
                                },
                                {
                                    "Category": "Confections",
                                    "Qty": "25",
                                    "Orderyear": "2008"
                                },
                                {
                                    "Category": "Dairy Products",
                                    "Qty": "20",
                                    "Orderyear": "2008"
                                },
                                {
                                    "Category": "Seafood",
                                    "Qty": "20",
                                    "Orderyear": "2008"
                                },
                                {
                                    "Category": "Beverages",
                                    "Qty": "7",
                                    "Orderyear": "2008"
                                },
                                {
                                    "Category": "Beverages",
                                    "Qty": "20",
                                    "Orderyear": "2008"
                                },
                                {
                                    "Category": "Grains/Cereals",
                                    "Qty": "30",
                                    "Orderyear": "2008"
                                },
                                {
                                    "Category": "Beverages",
                                    "Qty": "20",
                                    "Orderyear": "2008"
                                },
                                {
                                    "Category": "Produce",
                                    "Qty": "6",
                                    "Orderyear": "2008"
                                },
                                {
                                    "Category": "Confections",
                                    "Qty": "3",
                                    "Orderyear": "2008"
                                },
                                {
                                    "Category": "Beverages",
                                    "Qty": "6",
                                    "Orderyear": "2008"
                                },
                                {
                                    "Category": "Dairy Products",
                                    "Qty": "20",
                                    "Orderyear": "2008"
                                },
                                {
                                    "Category": "Grains/Cereals",
                                    "Qty": "15",
                                    "Orderyear": "2008"
                                },
                                {
                                    "Category": "Dairy Products",
                                    "Qty": "40",
                                    "Orderyear": "2008"
                                },
                                {
                                    "Category": "Condiments",
                                    "Qty": "15",
                                    "Orderyear": "2008"
                                },
                                {
                                    "Category": "Seafood",
                                    "Qty": "12",
                                    "Orderyear": "2008"
                                },
                                {
                                    "Category": "Beverages",
                                    "Qty": "9",
                                    "Orderyear": "2008"
                                },
                                {
                                    "Category": "Confections",
                                    "Qty": "12",
                                    "Orderyear": "2008"
                                },
                                {
                                    "Category": "Meat/Poultry",
                                    "Qty": "20",
                                    "Orderyear": "2008"
                                },
                                {
                                    "Category": "Dairy Products",
                                    "Qty": "35",
                                    "Orderyear": "2008"
                                },
                                {
                                    "Category": "Grains/Cereals",
                                    "Qty": "15",
                                    "Orderyear": "2008"
                                },
                                {
                                    "Category": "Seafood",
                                    "Qty": "15",
                                    "Orderyear": "2008"
                                },
                                {
                                    "Category": "Beverages",
                                    "Qty": "21",
                                    "Orderyear": "2008"
                                },
                                {
                                    "Category": "Confections",
                                    "Qty": "5",
                                    "Orderyear": "2008"
                                },
                                {
                                    "Category": "Beverages",
                                    "Qty": "2",
                                    "Orderyear": "2008"
                                },
                                {
                                    "Category": "Beverages",
                                    "Qty": "10",
                                    "Orderyear": "2008"
                                },
                                {
                                    "Category": "Condiments",
                                    "Qty": "20",
                                    "Orderyear": "2008"
                                },
                                {
                                    "Category": "Seafood",
                                    "Qty": "10",
                                    "Orderyear": "2008"
                                },
                                {
                                    "Category": "Dairy Products",
                                    "Qty": "21",
                                    "Orderyear": "2008"
                                },
                                {
                                    "Category": "Condiments",
                                    "Qty": "6",
                                    "Orderyear": "2008"
                                },
                                {
                                    "Category": "Beverages",
                                    "Qty": "28",
                                    "Orderyear": "2008"
                                },
                                {
                                    "Category": "Dairy Products",
                                    "Qty": "30",
                                    "Orderyear": "2008"
                                },
                                {
                                    "Category": "Confections",
                                    "Qty": "24",
                                    "Orderyear": "2008"
                                },
                                {
                                    "Category": "Confections",
                                    "Qty": "2",
                                    "Orderyear": "2008"
                                },
                                {
                                    "Category": "Beverages",
                                    "Qty": "8",
                                    "Orderyear": "2008"
                                },
                                {
                                    "Category": "Beverages",
                                    "Qty": "8",
                                    "Orderyear": "2008"
                                },
                                {
                                    "Category": "Beverages",
                                    "Qty": "9",
                                    "Orderyear": "2008"
                                },
                                {
                                    "Category": "Seafood",
                                    "Qty": "3",
                                    "Orderyear": "2008"
                                },
                                {
                                    "Category": "Confections",
                                    "Qty": "10",
                                    "Orderyear": "2008"
                                },
                                {
                                    "Category": "Condiments",
                                    "Qty": "16",
                                    "Orderyear": "2008"
                                },
                                {
                                    "Category": "Grains/Cereals",
                                    "Qty": "3",
                                    "Orderyear": "2008"
                                },
                                {
                                    "Category": "Produce",
                                    "Qty": "20",
                                    "Orderyear": "2008"
                                },
                                {
                                    "Category": "Dairy Products",
                                    "Qty": "9",
                                    "Orderyear": "2008"
                                },
                                {
                                    "Category": "Meat/Poultry",
                                    "Qty": "9",
                                    "Orderyear": "2008"
                                },
                                {
                                    "Category": "Meat/Poultry",
                                    "Qty": "8",
                                    "Orderyear": "2008"
                                },
                                {
                                    "Category": "Seafood",
                                    "Qty": "20",
                                    "Orderyear": "2008"
                                },
                                {
                                    "Category": "Dairy Products",
                                    "Qty": "15",
                                    "Orderyear": "2008"
                                },
                                {
                                    "Category": "Condiments",
                                    "Qty": "2",
                                    "Orderyear": "2008"
                                },
                                {
                                    "Category": "Grains/Cereals",
                                    "Qty": "52",
                                    "Orderyear": "2008"
                                },
                                {
                                    "Category": "Beverages",
                                    "Qty": "6",
                                    "Orderyear": "2008"
                                },
                                {
                                    "Category": "Grains/Cereals",
                                    "Qty": "24",
                                    "Orderyear": "2008"
                                },
                                {
                                    "Category": "Dairy Products",
                                    "Qty": "60",
                                    "Orderyear": "2008"
                                },
                                {
                                    "Category": "Grains/Cereals",
                                    "Qty": "30",
                                    "Orderyear": "2008"
                                },
                                {
                                    "Category": "Seafood",
                                    "Qty": "6",
                                    "Orderyear": "2008"
                                },
                                {
                                    "Category": "Seafood",
                                    "Qty": "25",
                                    "Orderyear": "2008"
                                },
                                {
                                    "Category": "Confections",
                                    "Qty": "40",
                                    "Orderyear": "2008"
                                },
                                {
                                    "Category": "Beverages",
                                    "Qty": "21",
                                    "Orderyear": "2008"
                                },
                                {
                                    "Category": "Beverages",
                                    "Qty": "4",
                                    "Orderyear": "2008"
                                },
                                {
                                    "Category": "Seafood",
                                    "Qty": "25",
                                    "Orderyear": "2008"
                                },
                                {
                                    "Category": "Seafood",
                                    "Qty": "50",
                                    "Orderyear": "2008"
                                },
                                {
                                    "Category": "Seafood",
                                    "Qty": "30",
                                    "Orderyear": "2008"
                                },
                                {
                                    "Category": "Dairy Products",
                                    "Qty": "15",
                                    "Orderyear": "2008"
                                },
                                {
                                    "Category": "Confections",
                                    "Qty": "6",
                                    "Orderyear": "2008"
                                },
                                {
                                    "Category": "Beverages",
                                    "Qty": "10",
                                    "Orderyear": "2008"
                                },
                                {
                                    "Category": "Seafood",
                                    "Qty": "16",
                                    "Orderyear": "2008"
                                },
                                {
                                    "Category": "Grains/Cereals",
                                    "Qty": "30",
                                    "Orderyear": "2008"
                                },
                                {
                                    "Category": "Dairy Products",
                                    "Qty": "50",
                                    "Orderyear": "2008"
                                },
                                {
                                    "Category": "Condiments",
                                    "Qty": "15",
                                    "Orderyear": "2008"
                                },
                                {
                                    "Category": "Dairy Products",
                                    "Qty": "15",
                                    "Orderyear": "2008"
                                },
                                {
                                    "Category": "Beverages",
                                    "Qty": "5",
                                    "Orderyear": "2008"
                                },
                                {
                                    "Category": "Confections",
                                    "Qty": "20",
                                    "Orderyear": "2008"
                                },
                                {
                                    "Category": "Beverages",
                                    "Qty": "12",
                                    "Orderyear": "2008"
                                },
                                {
                                    "Category": "Produce",
                                    "Qty": "4",
                                    "Orderyear": "2008"
                                },
                                {
                                    "Category": "Grains/Cereals",
                                    "Qty": "35",
                                    "Orderyear": "2008"
                                },
                                {
                                    "Category": "Grains/Cereals",
                                    "Qty": "70",
                                    "Orderyear": "2008"
                                },
                                {
                                    "Category": "Beverages",
                                    "Qty": "25",
                                    "Orderyear": "2008"
                                },
                                {
                                    "Category": "Grains/Cereals",
                                    "Qty": "42",
                                    "Orderyear": "2008"
                                },
                                {
                                    "Category": "Seafood",
                                    "Qty": "60",
                                    "Orderyear": "2008"
                                },
                                {
                                    "Category": "Grains/Cereals",
                                    "Qty": "48",
                                    "Orderyear": "2008"
                                },
                                {
                                    "Category": "Condiments",
                                    "Qty": "21",
                                    "Orderyear": "2008"
                                },
                                {
                                    "Category": "Beverages",
                                    "Qty": "30",
                                    "Orderyear": "2008"
                                },
                                {
                                    "Category": "Produce",
                                    "Qty": "20",
                                    "Orderyear": "2008"
                                },
                                {
                                    "Category": "Beverages",
                                    "Qty": "80",
                                    "Orderyear": "2008"
                                },
                                {
                                    "Category": "Confections",
                                    "Qty": "12",
                                    "Orderyear": "2008"
                                },
                                {
                                    "Category": "Seafood",
                                    "Qty": "60",
                                    "Orderyear": "2008"
                                },
                                {
                                    "Category": "Seafood",
                                    "Qty": "36",
                                    "Orderyear": "2008"
                                },
                                {
                                    "Category": "Dairy Products",
                                    "Qty": "45",
                                    "Orderyear": "2008"
                                },
                                {
                                    "Category": "Dairy Products",
                                    "Qty": "55",
                                    "Orderyear": "2008"
                                },
                                {
                                    "Category": "Condiments",
                                    "Qty": "30",
                                    "Orderyear": "2008"
                                },
                                {
                                    "Category": "Meat/Poultry",
                                    "Qty": "3",
                                    "Orderyear": "2008"
                                },
                                {
                                    "Category": "Condiments",
                                    "Qty": "49",
                                    "Orderyear": "2008"
                                },
                                {
                                    "Category": "Confections",
                                    "Qty": "18",
                                    "Orderyear": "2008"
                                },
                                {
                                    "Category": "Confections",
                                    "Qty": "20",
                                    "Orderyear": "2008"
                                },
                                {
                                    "Category": "Dairy Products",
                                    "Qty": "4",
                                    "Orderyear": "2008"
                                },
                                {
                                    "Category": "Beverages",
                                    "Qty": "30",
                                    "Orderyear": "2008"
                                },
                                {
                                    "Category": "Beverages",
                                    "Qty": "5",
                                    "Orderyear": "2008"
                                },
                                {
                                    "Category": "Confections",
                                    "Qty": "10",
                                    "Orderyear": "2008"
                                },
                                {
                                    "Category": "Grains/Cereals",
                                    "Qty": "10",
                                    "Orderyear": "2008"
                                },
                                {
                                    "Category": "Dairy Products",
                                    "Qty": "42",
                                    "Orderyear": "2008"
                                },
                                {
                                    "Category": "Beverages",
                                    "Qty": "15",
                                    "Orderyear": "2008"
                                },
                                {
                                    "Category": "Meat/Poultry",
                                    "Qty": "6",
                                    "Orderyear": "2008"
                                },
                                {
                                    "Category": "Confections",
                                    "Qty": "50",
                                    "Orderyear": "2008"
                                },
                                {
                                    "Category": "Seafood",
                                    "Qty": "10",
                                    "Orderyear": "2008"
                                },
                                {
                                    "Category": "Seafood",
                                    "Qty": "100",
                                    "Orderyear": "2008"
                                },
                                {
                                    "Category": "Seafood",
                                    "Qty": "65",
                                    "Orderyear": "2008"
                                },
                                {
                                    "Category": "Confections",
                                    "Qty": "50",
                                    "Orderyear": "2008"
                                },
                                {
                                    "Category": "Dairy Products",
                                    "Qty": "14",
                                    "Orderyear": "2008"
                                },
                                {
                                    "Category": "Grains/Cereals",
                                    "Qty": "24",
                                    "Orderyear": "2008"
                                },
                                {
                                    "Category": "Condiments",
                                    "Qty": "15",
                                    "Orderyear": "2008"
                                },
                                {
                                    "Category": "Beverages",
                                    "Qty": "20",
                                    "Orderyear": "2008"
                                },
                                {
                                    "Category": "Grains/Cereals",
                                    "Qty": "20",
                                    "Orderyear": "2008"
                                },
                                {
                                    "Category": "Condiments",
                                    "Qty": "30",
                                    "Orderyear": "2008"
                                },
                                {
                                    "Category": "Confections",
                                    "Qty": "35",
                                    "Orderyear": "2008"
                                },
                                {
                                    "Category": "Meat/Poultry",
                                    "Qty": "10",
                                    "Orderyear": "2008"
                                },
                                {
                                    "Category": "Produce",
                                    "Qty": "5",
                                    "Orderyear": "2008"
                                },
                                {
                                    "Category": "Confections",
                                    "Qty": "10",
                                    "Orderyear": "2008"
                                },
                                {
                                    "Category": "Beverages",
                                    "Qty": "4",
                                    "Orderyear": "2008"
                                },
                                {
                                    "Category": "Beverages",
                                    "Qty": "40",
                                    "Orderyear": "2008"
                                },
                                {
                                    "Category": "Meat/Poultry",
                                    "Qty": "35",
                                    "Orderyear": "2008"
                                },
                                {
                                    "Category": "Grains/Cereals",
                                    "Qty": "30",
                                    "Orderyear": "2008"
                                },
                                {
                                    "Category": "Produce",
                                    "Qty": "3",
                                    "Orderyear": "2008"
                                },
                                {
                                    "Category": "Beverages",
                                    "Qty": "20",
                                    "Orderyear": "2008"
                                },
                                {
                                    "Category": "Meat/Poultry",
                                    "Qty": "42",
                                    "Orderyear": "2008"
                                },
                                {
                                    "Category": "Seafood",
                                    "Qty": "20",
                                    "Orderyear": "2008"
                                },
                                {
                                    "Category": "Confections",
                                    "Qty": "40",
                                    "Orderyear": "2008"
                                },
                                {
                                    "Category": "Dairy Products",
                                    "Qty": "35",
                                    "Orderyear": "2008"
                                },
                                {
                                    "Category": "Confections",
                                    "Qty": "3",
                                    "Orderyear": "2008"
                                },
                                {
                                    "Category": "Dairy Products",
                                    "Qty": "25",
                                    "Orderyear": "2008"
                                },
                                {
                                    "Category": "Grains/Cereals",
                                    "Qty": "8",
                                    "Orderyear": "2008"
                                },
                                {
                                    "Category": "Beverages",
                                    "Qty": "20",
                                    "Orderyear": "2008"
                                },
                                {
                                    "Category": "Seafood",
                                    "Qty": "12",
                                    "Orderyear": "2008"
                                },
                                {
                                    "Category": "Beverages",
                                    "Qty": "4",
                                    "Orderyear": "2008"
                                },
                                {
                                    "Category": "Beverages",
                                    "Qty": "15",
                                    "Orderyear": "2008"
                                },
                                {
                                    "Category": "Beverages",
                                    "Qty": "60",
                                    "Orderyear": "2008"
                                },
                                {
                                    "Category": "Beverages",
                                    "Qty": "80",
                                    "Orderyear": "2008"
                                },
                                {
                                    "Category": "Beverages",
                                    "Qty": "21",
                                    "Orderyear": "2008"
                                },
                                {
                                    "Category": "Beverages",
                                    "Qty": "6",
                                    "Orderyear": "2008"
                                },
                                {
                                    "Category": "Seafood",
                                    "Qty": "40",
                                    "Orderyear": "2008"
                                },
                                {
                                    "Category": "Meat/Poultry",
                                    "Qty": "3",
                                    "Orderyear": "2008"
                                },
                                {
                                    "Category": "Confections",
                                    "Qty": "20",
                                    "Orderyear": "2008"
                                },
                                {
                                    "Category": "Beverages",
                                    "Qty": "30",
                                    "Orderyear": "2008"
                                },
                                {
                                    "Category": "Confections",
                                    "Qty": "42",
                                    "Orderyear": "2008"
                                },
                                {
                                    "Category": "Beverages",
                                    "Qty": "40",
                                    "Orderyear": "2008"
                                },
                                {
                                    "Category": "Dairy Products",
                                    "Qty": "10",
                                    "Orderyear": "2008"
                                },
                                {
                                    "Category": "Grains/Cereals",
                                    "Qty": "50",
                                    "Orderyear": "2008"
                                },
                                {
                                    "Category": "Confections",
                                    "Qty": "20",
                                    "Orderyear": "2008"
                                },
                                {
                                    "Category": "Beverages",
                                    "Qty": "3",
                                    "Orderyear": "2008"
                                },
                                {
                                    "Category": "Produce",
                                    "Qty": "2",
                                    "Orderyear": "2008"
                                },
                                {
                                    "Category": "Condiments",
                                    "Qty": "50",
                                    "Orderyear": "2008"
                                },
                                {
                                    "Category": "Confections",
                                    "Qty": "12",
                                    "Orderyear": "2008"
                                },
                                {
                                    "Category": "Meat/Poultry",
                                    "Qty": "16",
                                    "Orderyear": "2008"
                                },
                                {
                                    "Category": "Meat/Poultry",
                                    "Qty": "10",
                                    "Orderyear": "2008"
                                },
                                {
                                    "Category": "Confections",
                                    "Qty": "20",
                                    "Orderyear": "2008"
                                },
                                {
                                    "Category": "Grains/Cereals",
                                    "Qty": "15",
                                    "Orderyear": "2008"
                                },
                                {
                                    "Category": "Condiments",
                                    "Qty": "21",
                                    "Orderyear": "2008"
                                },
                                {
                                    "Category": "Confections",
                                    "Qty": "20",
                                    "Orderyear": "2008"
                                },
                                {
                                    "Category": "Produce",
                                    "Qty": "3",
                                    "Orderyear": "2008"
                                },
                                {
                                    "Category": "Seafood",
                                    "Qty": "10",
                                    "Orderyear": "2008"
                                },
                                {
                                    "Category": "Confections",
                                    "Qty": "25",
                                    "Orderyear": "2008"
                                },
                                {
                                    "Category": "Confections",
                                    "Qty": "21",
                                    "Orderyear": "2008"
                                },
                                {
                                    "Category": "Confections",
                                    "Qty": "15",
                                    "Orderyear": "2008"
                                },
                                {
                                    "Category": "Seafood",
                                    "Qty": "21",
                                    "Orderyear": "2008"
                                },
                                {
                                    "Category": "Grains/Cereals",
                                    "Qty": "20",
                                    "Orderyear": "2008"
                                },
                                {
                                    "Category": "Confections",
                                    "Qty": "30",
                                    "Orderyear": "2008"
                                },
                                {
                                    "Category": "Seafood",
                                    "Qty": "25",
                                    "Orderyear": "2008"
                                },
                                {
                                    "Category": "Confections",
                                    "Qty": "20",
                                    "Orderyear": "2008"
                                },
                                {
                                    "Category": "Seafood",
                                    "Qty": "12",
                                    "Orderyear": "2008"
                                },
                                {
                                    "Category": "Condiments",
                                    "Qty": "10",
                                    "Orderyear": "2008"
                                },
                                {
                                    "Category": "Beverages",
                                    "Qty": "10",
                                    "Orderyear": "2008"
                                },
                                {
                                    "Category": "Grains/Cereals",
                                    "Qty": "30",
                                    "Orderyear": "2008"
                                },
                                {
                                    "Category": "Condiments",
                                    "Qty": "30",
                                    "Orderyear": "2008"
                                },
                                {
                                    "Category": "Beverages",
                                    "Qty": "50",
                                    "Orderyear": "2008"
                                },
                                {
                                    "Category": "Seafood",
                                    "Qty": "10",
                                    "Orderyear": "2008"
                                },
                                {
                                    "Category": "Grains/Cereals",
                                    "Qty": "25",
                                    "Orderyear": "2008"
                                },
                                {
                                    "Category": "Confections",
                                    "Qty": "20",
                                    "Orderyear": "2008"
                                },
                                {
                                    "Category": "Meat/Poultry",
                                    "Qty": "32",
                                    "Orderyear": "2008"
                                },
                                {
                                    "Category": "Beverages",
                                    "Qty": "8",
                                    "Orderyear": "2008"
                                },
                                {
                                    "Category": "Confections",
                                    "Qty": "40",
                                    "Orderyear": "2008"
                                },
                                {
                                    "Category": "Grains/Cereals",
                                    "Qty": "21",
                                    "Orderyear": "2008"
                                },
                                {
                                    "Category": "Condiments",
                                    "Qty": "12",
                                    "Orderyear": "2008"
                                },
                                {
                                    "Category": "Beverages",
                                    "Qty": "20",
                                    "Orderyear": "2008"
                                },
                                {
                                    "Category": "Beverages",
                                    "Qty": "12",
                                    "Orderyear": "2008"
                                },
                                {
                                    "Category": "Beverages",
                                    "Qty": "30",
                                    "Orderyear": "2008"
                                },
                                {
                                    "Category": "Condiments",
                                    "Qty": "25",
                                    "Orderyear": "2008"
                                },
                                {
                                    "Category": "Seafood",
                                    "Qty": "70",
                                    "Orderyear": "2008"
                                },
                                {
                                    "Category": "Dairy Products",
                                    "Qty": "35",
                                    "Orderyear": "2008"
                                },
                                {
                                    "Category": "Condiments",
                                    "Qty": "40",
                                    "Orderyear": "2008"
                                },
                                {
                                    "Category": "Confections",
                                    "Qty": "5",
                                    "Orderyear": "2008"
                                },
                                {
                                    "Category": "Beverages",
                                    "Qty": "20",
                                    "Orderyear": "2008"
                                },
                                {
                                    "Category": "Confections",
                                    "Qty": "18",
                                    "Orderyear": "2008"
                                },
                                {
                                    "Category": "Dairy Products",
                                    "Qty": "40",
                                    "Orderyear": "2008"
                                },
                                {
                                    "Category": "Beverages",
                                    "Qty": "40",
                                    "Orderyear": "2008"
                                },
                                {
                                    "Category": "Meat/Poultry",
                                    "Qty": "15",
                                    "Orderyear": "2008"
                                },
                                {
                                    "Category": "Beverages",
                                    "Qty": "10",
                                    "Orderyear": "2008"
                                },
                                {
                                    "Category": "Seafood",
                                    "Qty": "14",
                                    "Orderyear": "2008"
                                },
                                {
                                    "Category": "Seafood",
                                    "Qty": "15",
                                    "Orderyear": "2008"
                                },
                                {
                                    "Category": "Dairy Products",
                                    "Qty": "40",
                                    "Orderyear": "2008"
                                },
                                {
                                    "Category": "Condiments",
                                    "Qty": "30",
                                    "Orderyear": "2008"
                                },
                                {
                                    "Category": "Beverages",
                                    "Qty": "10",
                                    "Orderyear": "2008"
                                },
                                {
                                    "Category": "Meat/Poultry",
                                    "Qty": "24",
                                    "Orderyear": "2008"
                                },
                                {
                                    "Category": "Seafood",
                                    "Qty": "35",
                                    "Orderyear": "2008"
                                },
                                {
                                    "Category": "Seafood",
                                    "Qty": "20",
                                    "Orderyear": "2008"
                                },
                                {
                                    "Category": "Seafood",
                                    "Qty": "28",
                                    "Orderyear": "2008"
                                },
                                {
                                    "Category": "Dairy Products",
                                    "Qty": "50",
                                    "Orderyear": "2008"
                                },
                                {
                                    "Category": "Beverages",
                                    "Qty": "120",
                                    "Orderyear": "2008"
                                },
                                {
                                    "Category": "Beverages",
                                    "Qty": "110",
                                    "Orderyear": "2008"
                                },
                                {
                                    "Category": "Beverages",
                                    "Qty": "45",
                                    "Orderyear": "2008"
                                },
                                {
                                    "Category": "Seafood",
                                    "Qty": "91",
                                    "Orderyear": "2008"
                                },
                                {
                                    "Category": "Dairy Products",
                                    "Qty": "100",
                                    "Orderyear": "2008"
                                },
                                {
                                    "Category": "Seafood",
                                    "Qty": "15",
                                    "Orderyear": "2008"
                                },
                                {
                                    "Category": "Grains/Cereals",
                                    "Qty": "16",
                                    "Orderyear": "2008"
                                },
                                {
                                    "Category": "Meat/Poultry",
                                    "Qty": "80",
                                    "Orderyear": "2008"
                                },
                                {
                                    "Category": "Seafood",
                                    "Qty": "36",
                                    "Orderyear": "2008"
                                },
                                {
                                    "Category": "Seafood",
                                    "Qty": "5",
                                    "Orderyear": "2008"
                                },
                                {
                                    "Category": "Beverages",
                                    "Qty": "8",
                                    "Orderyear": "2008"
                                },
                                {
                                    "Category": "Beverages",
                                    "Qty": "3",
                                    "Orderyear": "2008"
                                },
                                {
                                    "Category": "Seafood",
                                    "Qty": "30",
                                    "Orderyear": "2008"
                                },
                                {
                                    "Category": "Dairy Products",
                                    "Qty": "30",
                                    "Orderyear": "2008"
                                },
                                {
                                    "Category": "Meat/Poultry",
                                    "Qty": "30",
                                    "Orderyear": "2008"
                                },
                                {
                                    "Category": "Confections",
                                    "Qty": "6",
                                    "Orderyear": "2008"
                                },
                                {
                                    "Category": "Seafood",
                                    "Qty": "40",
                                    "Orderyear": "2008"
                                },
                                {
                                    "Category": "Condiments",
                                    "Qty": "21",
                                    "Orderyear": "2008"
                                },
                                {
                                    "Category": "Confections",
                                    "Qty": "20",
                                    "Orderyear": "2008"
                                },
                                {
                                    "Category": "Seafood",
                                    "Qty": "15",
                                    "Orderyear": "2008"
                                },
                                {
                                    "Category": "Confections",
                                    "Qty": "35",
                                    "Orderyear": "2008"
                                },
                                {
                                    "Category": "Beverages",
                                    "Qty": "20",
                                    "Orderyear": "2008"
                                },
                                {
                                    "Category": "Condiments",
                                    "Qty": "15",
                                    "Orderyear": "2008"
                                },
                                {
                                    "Category": "Beverages",
                                    "Qty": "14",
                                    "Orderyear": "2008"
                                },
                                {
                                    "Category": "Produce",
                                    "Qty": "20",
                                    "Orderyear": "2008"
                                },
                                {
                                    "Category": "Grains/Cereals",
                                    "Qty": "14",
                                    "Orderyear": "2008"
                                },
                                {
                                    "Category": "Produce",
                                    "Qty": "12",
                                    "Orderyear": "2008"
                                },
                                {
                                    "Category": "Confections",
                                    "Qty": "15",
                                    "Orderyear": "2008"
                                },
                                {
                                    "Category": "Seafood",
                                    "Qty": "5",
                                    "Orderyear": "2008"
                                },
                                {
                                    "Category": "Confections",
                                    "Qty": "12",
                                    "Orderyear": "2008"
                                },
                                {
                                    "Category": "Confections",
                                    "Qty": "10",
                                    "Orderyear": "2008"
                                },
                                {
                                    "Category": "Condiments",
                                    "Qty": "5",
                                    "Orderyear": "2008"
                                },
                                {
                                    "Category": "Beverages",
                                    "Qty": "10",
                                    "Orderyear": "2008"
                                },
                                {
                                    "Category": "Meat/Poultry",
                                    "Qty": "12",
                                    "Orderyear": "2008"
                                },
                                {
                                    "Category": "Beverages",
                                    "Qty": "15",
                                    "Orderyear": "2008"
                                },
                                {
                                    "Category": "Dairy Products",
                                    "Qty": "40",
                                    "Orderyear": "2008"
                                },
                                {
                                    "Category": "Meat/Poultry",
                                    "Qty": "60",
                                    "Orderyear": "2008"
                                },
                                {
                                    "Category": "Condiments",
                                    "Qty": "30",
                                    "Orderyear": "2008"
                                },
                                {
                                    "Category": "Dairy Products",
                                    "Qty": "40",
                                    "Orderyear": "2008"
                                },
                                {
                                    "Category": "Seafood",
                                    "Qty": "15",
                                    "Orderyear": "2008"
                                },
                                {
                                    "Category": "Dairy Products",
                                    "Qty": "25",
                                    "Orderyear": "2008"
                                },
                                {
                                    "Category": "Meat/Poultry",
                                    "Qty": "10",
                                    "Orderyear": "2008"
                                },
                                {
                                    "Category": "Dairy Products",
                                    "Qty": "30",
                                    "Orderyear": "2008"
                                },
                                {
                                    "Category": "Meat/Poultry",
                                    "Qty": "10",
                                    "Orderyear": "2008"
                                },
                                {
                                    "Category": "Confections",
                                    "Qty": "6",
                                    "Orderyear": "2008"
                                },
                                {
                                    "Category": "Dairy Products",
                                    "Qty": "6",
                                    "Orderyear": "2008"
                                },
                                {
                                    "Category": "Grains/Cereals",
                                    "Qty": "20",
                                    "Orderyear": "2008"
                                },
                                {
                                    "Category": "Seafood",
                                    "Qty": "1",
                                    "Orderyear": "2008"
                                },
                                {
                                    "Category": "Dairy Products",
                                    "Qty": "10",
                                    "Orderyear": "2008"
                                },
                                {
                                    "Category": "Beverages",
                                    "Qty": "60",
                                    "Orderyear": "2008"
                                },
                                {
                                    "Category": "Dairy Products",
                                    "Qty": "25",
                                    "Orderyear": "2008"
                                },
                                {
                                    "Category": "Confections",
                                    "Qty": "24",
                                    "Orderyear": "2008"
                                },
                                {
                                    "Category": "Confections",
                                    "Qty": "24",
                                    "Orderyear": "2008"
                                },
                                {
                                    "Category": "Seafood",
                                    "Qty": "20",
                                    "Orderyear": "2008"
                                },
                                {
                                    "Category": "Confections",
                                    "Qty": "24",
                                    "Orderyear": "2008"
                                },
                                {
                                    "Category": "Beverages",
                                    "Qty": "10",
                                    "Orderyear": "2008"
                                },
                                {
                                    "Category": "Condiments",
                                    "Qty": "40",
                                    "Orderyear": "2008"
                                },
                                {
                                    "Category": "Meat/Poultry",
                                    "Qty": "15",
                                    "Orderyear": "2008"
                                },
                                {
                                    "Category": "Beverages",
                                    "Qty": "35",
                                    "Orderyear": "2008"
                                },
                                {
                                    "Category": "Grains/Cereals",
                                    "Qty": "10",
                                    "Orderyear": "2008"
                                },
                                {
                                    "Category": "Beverages",
                                    "Qty": "10",
                                    "Orderyear": "2008"
                                },
                                {
                                    "Category": "Beverages",
                                    "Qty": "24",
                                    "Orderyear": "2008"
                                },
                                {
                                    "Category": "Seafood",
                                    "Qty": "20",
                                    "Orderyear": "2008"
                                },
                                {
                                    "Category": "Produce",
                                    "Qty": "30",
                                    "Orderyear": "2008"
                                },
                                {
                                    "Category": "Beverages",
                                    "Qty": "6",
                                    "Orderyear": "2008"
                                },
                                {
                                    "Category": "Seafood",
                                    "Qty": "25",
                                    "Orderyear": "2008"
                                },
                                {
                                    "Category": "Grains/Cereals",
                                    "Qty": "12",
                                    "Orderyear": "2008"
                                },
                                {
                                    "Category": "Dairy Products",
                                    "Qty": "2",
                                    "Orderyear": "2008"
                                },
                                {
                                    "Category": "Seafood",
                                    "Qty": "10",
                                    "Orderyear": "2008"
                                },
                                {
                                    "Category": "Confections",
                                    "Qty": "7",
                                    "Orderyear": "2008"
                                },
                                {
                                    "Category": "Dairy Products",
                                    "Qty": "10",
                                    "Orderyear": "2008"
                                },
                                {
                                    "Category": "Confections",
                                    "Qty": "5",
                                    "Orderyear": "2008"
                                },
                                {
                                    "Category": "Grains/Cereals",
                                    "Qty": "5",
                                    "Orderyear": "2008"
                                },
                                {
                                    "Category": "Beverages",
                                    "Qty": "20",
                                    "Orderyear": "2008"
                                },
                                {
                                    "Category": "Confections",
                                    "Qty": "5",
                                    "Orderyear": "2008"
                                },
                                {
                                    "Category": "Beverages",
                                    "Qty": "5",
                                    "Orderyear": "2008"
                                },
                                {
                                    "Category": "Confections",
                                    "Qty": "60",
                                    "Orderyear": "2008"
                                },
                                {
                                    "Category": "Beverages",
                                    "Qty": "49",
                                    "Orderyear": "2008"
                                },
                                {
                                    "Category": "Condiments",
                                    "Qty": "15",
                                    "Orderyear": "2008"
                                },
                                {
                                    "Category": "Confections",
                                    "Qty": "36",
                                    "Orderyear": "2008"
                                },
                                {
                                    "Category": "Confections",
                                    "Qty": "25",
                                    "Orderyear": "2008"
                                },
                                {
                                    "Category": "Meat/Poultry",
                                    "Qty": "25",
                                    "Orderyear": "2008"
                                },
                                {
                                    "Category": "Seafood",
                                    "Qty": "30",
                                    "Orderyear": "2008"
                                },
                                {
                                    "Category": "Seafood",
                                    "Qty": "42",
                                    "Orderyear": "2008"
                                },
                                {
                                    "Category": "Grains/Cereals",
                                    "Qty": "30",
                                    "Orderyear": "2008"
                                },
                                {
                                    "Category": "Confections",
                                    "Qty": "30",
                                    "Orderyear": "2008"
                                },
                                {
                                    "Category": "Confections",
                                    "Qty": "14",
                                    "Orderyear": "2008"
                                },
                                {
                                    "Category": "Dairy Products",
                                    "Qty": "16",
                                    "Orderyear": "2008"
                                },
                                {
                                    "Category": "Beverages",
                                    "Qty": "20",
                                    "Orderyear": "2008"
                                },
                                {
                                    "Category": "Meat/Poultry",
                                    "Qty": "2",
                                    "Orderyear": "2008"
                                },
                                {
                                    "Category": "Condiments",
                                    "Qty": "30",
                                    "Orderyear": "2008"
                                },
                                {
                                    "Category": "Condiments",
                                    "Qty": "20",
                                    "Orderyear": "2008"
                                },
                                {
                                    "Category": "Beverages",
                                    "Qty": "21",
                                    "Orderyear": "2008"
                                },
                                {
                                    "Category": "Seafood",
                                    "Qty": "4",
                                    "Orderyear": "2008"
                                },
                                {
                                    "Category": "Grains/Cereals",
                                    "Qty": "8",
                                    "Orderyear": "2008"
                                },
                                {
                                    "Category": "Seafood",
                                    "Qty": "30",
                                    "Orderyear": "2008"
                                },
                                {
                                    "Category": "Produce",
                                    "Qty": "8",
                                    "Orderyear": "2008"
                                },
                                {
                                    "Category": "Beverages",
                                    "Qty": "20",
                                    "Orderyear": "2008"
                                },
                                {
                                    "Category": "Seafood",
                                    "Qty": "20",
                                    "Orderyear": "2008"
                                },
                                {
                                    "Category": "Beverages",
                                    "Qty": "24",
                                    "Orderyear": "2008"
                                },
                                {
                                    "Category": "Dairy Products",
                                    "Qty": "49",
                                    "Orderyear": "2008"
                                },
                                {
                                    "Category": "Dairy Products",
                                    "Qty": "35",
                                    "Orderyear": "2008"
                                },
                                {
                                    "Category": "Beverages",
                                    "Qty": "10",
                                    "Orderyear": "2008"
                                },
                                {
                                    "Category": "Beverages",
                                    "Qty": "40",
                                    "Orderyear": "2008"
                                },
                                {
                                    "Category": "Produce",
                                    "Qty": "8",
                                    "Orderyear": "2008"
                                },
                                {
                                    "Category": "Seafood",
                                    "Qty": "20",
                                    "Orderyear": "2008"
                                },
                                {
                                    "Category": "Dairy Products",
                                    "Qty": "44",
                                    "Orderyear": "2008"
                                },
                                {
                                    "Category": "Confections",
                                    "Qty": "30",
                                    "Orderyear": "2008"
                                },
                                {
                                    "Category": "Confections",
                                    "Qty": "80",
                                    "Orderyear": "2008"
                                },
                                {
                                    "Category": "Dairy Products",
                                    "Qty": "50",
                                    "Orderyear": "2008"
                                },
                                {
                                    "Category": "Confections",
                                    "Qty": "28",
                                    "Orderyear": "2008"
                                },
                                {
                                    "Category": "Seafood",
                                    "Qty": "15",
                                    "Orderyear": "2008"
                                },
                                {
                                    "Category": "Grains/Cereals",
                                    "Qty": "21",
                                    "Orderyear": "2008"
                                },
                                {
                                    "Category": "Seafood",
                                    "Qty": "15",
                                    "Orderyear": "2008"
                                },
                                {
                                    "Category": "Dairy Products",
                                    "Qty": "5",
                                    "Orderyear": "2008"
                                },
                                {
                                    "Category": "Condiments",
                                    "Qty": "18",
                                    "Orderyear": "2008"
                                },
                                {
                                    "Category": "Grains/Cereals",
                                    "Qty": "18",
                                    "Orderyear": "2008"
                                },
                                {
                                    "Category": "Seafood",
                                    "Qty": "20",
                                    "Orderyear": "2008"
                                },
                                {
                                    "Category": "Dairy Products",
                                    "Qty": "10",
                                    "Orderyear": "2008"
                                },
                                {
                                    "Category": "Seafood",
                                    "Qty": "25",
                                    "Orderyear": "2008"
                                },
                                {
                                    "Category": "Beverages",
                                    "Qty": "25",
                                    "Orderyear": "2008"
                                },
                                {
                                    "Category": "Condiments",
                                    "Qty": "40",
                                    "Orderyear": "2008"
                                },
                                {
                                    "Category": "Dairy Products",
                                    "Qty": "4",
                                    "Orderyear": "2008"
                                },
                                {
                                    "Category": "Confections",
                                    "Qty": "9",
                                    "Orderyear": "2008"
                                },
                                {
                                    "Category": "Produce",
                                    "Qty": "40",
                                    "Orderyear": "2008"
                                },
                                {
                                    "Category": "Meat/Poultry",
                                    "Qty": "4",
                                    "Orderyear": "2008"
                                },
                                {
                                    "Category": "Condiments",
                                    "Qty": "12",
                                    "Orderyear": "2008"
                                },
                                {
                                    "Category": "Seafood",
                                    "Qty": "30",
                                    "Orderyear": "2008"
                                },
                                {
                                    "Category": "Meat/Poultry",
                                    "Qty": "6",
                                    "Orderyear": "2008"
                                },
                                {
                                    "Category": "Confections",
                                    "Qty": "60",
                                    "Orderyear": "2008"
                                },
                                {
                                    "Category": "Condiments",
                                    "Qty": "5",
                                    "Orderyear": "2008"
                                },
                                {
                                    "Category": "Dairy Products",
                                    "Qty": "15",
                                    "Orderyear": "2008"
                                },
                                {
                                    "Category": "Seafood",
                                    "Qty": "6",
                                    "Orderyear": "2008"
                                },
                                {
                                    "Category": "Beverages",
                                    "Qty": "50",
                                    "Orderyear": "2008"
                                },
                                {
                                    "Category": "Condiments",
                                    "Qty": "16",
                                    "Orderyear": "2008"
                                },
                                {
                                    "Category": "Produce",
                                    "Qty": "2",
                                    "Orderyear": "2008"
                                },
                                {
                                    "Category": "Confections",
                                    "Qty": "50",
                                    "Orderyear": "2008"
                                },
                                {
                                    "Category": "Dairy Products",
                                    "Qty": "50",
                                    "Orderyear": "2008"
                                },
                                {
                                    "Category": "Confections",
                                    "Qty": "28",
                                    "Orderyear": "2008"
                                },
                                {
                                    "Category": "Dairy Products",
                                    "Qty": "25",
                                    "Orderyear": "2008"
                                },
                                {
                                    "Category": "Seafood",
                                    "Qty": "30",
                                    "Orderyear": "2008"
                                },
                                {
                                    "Category": "Dairy Products",
                                    "Qty": "24",
                                    "Orderyear": "2008"
                                },
                                {
                                    "Category": "Beverages",
                                    "Qty": "12",
                                    "Orderyear": "2008"
                                },
                                {
                                    "Category": "Confections",
                                    "Qty": "12",
                                    "Orderyear": "2008"
                                },
                                {
                                    "Category": "Confections",
                                    "Qty": "14",
                                    "Orderyear": "2008"
                                },
                                {
                                    "Category": "Produce",
                                    "Qty": "8",
                                    "Orderyear": "2008"
                                },
                                {
                                    "Category": "Seafood",
                                    "Qty": "30",
                                    "Orderyear": "2008"
                                },
                                {
                                    "Category": "Beverages",
                                    "Qty": "40",
                                    "Orderyear": "2008"
                                },
                                {
                                    "Category": "Grains/Cereals",
                                    "Qty": "8",
                                    "Orderyear": "2008"
                                },
                                {
                                    "Category": "Condiments",
                                    "Qty": "20",
                                    "Orderyear": "2008"
                                },
                                {
                                    "Category": "Produce",
                                    "Qty": "6",
                                    "Orderyear": "2008"
                                },
                                {
                                    "Category": "Dairy Products",
                                    "Qty": "5",
                                    "Orderyear": "2008"
                                },
                                {
                                    "Category": "Beverages",
                                    "Qty": "20",
                                    "Orderyear": "2008"
                                },
                                {
                                    "Category": "Beverages",
                                    "Qty": "10",
                                    "Orderyear": "2008"
                                },
                                {
                                    "Category": "Seafood",
                                    "Qty": "24",
                                    "Orderyear": "2008"
                                },
                                {
                                    "Category": "Grains/Cereals",
                                    "Qty": "6",
                                    "Orderyear": "2008"
                                },
                                {
                                    "Category": "Beverages",
                                    "Qty": "60",
                                    "Orderyear": "2008"
                                },
                                {
                                    "Category": "Produce",
                                    "Qty": "45",
                                    "Orderyear": "2008"
                                },
                                {
                                    "Category": "Seafood",
                                    "Qty": "77",
                                    "Orderyear": "2008"
                                },
                                {
                                    "Category": "Meat/Poultry",
                                    "Qty": "20",
                                    "Orderyear": "2008"
                                },
                                {
                                    "Category": "Dairy Products",
                                    "Qty": "9",
                                    "Orderyear": "2008"
                                },
                                {
                                    "Category": "Beverages",
                                    "Qty": "44",
                                    "Orderyear": "2008"
                                },
                                {
                                    "Category": "Dairy Products",
                                    "Qty": "2",
                                    "Orderyear": "2008"
                                },
                                {
                                    "Category": "Seafood",
                                    "Qty": "6",
                                    "Orderyear": "2008"
                                },
                                {
                                    "Category": "Beverages",
                                    "Qty": "5",
                                    "Orderyear": "2008"
                                },
                                {
                                    "Category": "Dairy Products",
                                    "Qty": "10",
                                    "Orderyear": "2008"
                                },
                                {
                                    "Category": "Produce",
                                    "Qty": "16",
                                    "Orderyear": "2008"
                                },
                                {
                                    "Category": "Seafood",
                                    "Qty": "8",
                                    "Orderyear": "2008"
                                },
                                {
                                    "Category": "Grains/Cereals",
                                    "Qty": "12",
                                    "Orderyear": "2008"
                                },
                                {
                                    "Category": "Confections",
                                    "Qty": "12",
                                    "Orderyear": "2008"
                                },
                                {
                                    "Category": "Confections",
                                    "Qty": "12",
                                    "Orderyear": "2008"
                                },
                                {
                                    "Category": "Confections",
                                    "Qty": "40",
                                    "Orderyear": "2008"
                                },
                                {
                                    "Category": "Dairy Products",
                                    "Qty": "30",
                                    "Orderyear": "2008"
                                },
                                {
                                    "Category": "Beverages",
                                    "Qty": "30",
                                    "Orderyear": "2008"
                                },
                                {
                                    "Category": "Grains/Cereals",
                                    "Qty": "4",
                                    "Orderyear": "2008"
                                },
                                {
                                    "Category": "Seafood",
                                    "Qty": "9",
                                    "Orderyear": "2008"
                                },
                                {
                                    "Category": "Grains/Cereals",
                                    "Qty": "40",
                                    "Orderyear": "2008"
                                },
                                {
                                    "Category": "Meat/Poultry",
                                    "Qty": "14",
                                    "Orderyear": "2008"
                                },
                                {
                                    "Category": "Meat/Poultry",
                                    "Qty": "6",
                                    "Orderyear": "2008"
                                },
                                {
                                    "Category": "Dairy Products",
                                    "Qty": "7",
                                    "Orderyear": "2008"
                                },
                                {
                                    "Category": "Confections",
                                    "Qty": "5",
                                    "Orderyear": "2008"
                                },
                                {
                                    "Category": "Seafood",
                                    "Qty": "6",
                                    "Orderyear": "2008"
                                },
                                {
                                    "Category": "Beverages",
                                    "Qty": "10",
                                    "Orderyear": "2008"
                                },
                                {
                                    "Category": "Condiments",
                                    "Qty": "10",
                                    "Orderyear": "2008"
                                },
                                {
                                    "Category": "Condiments",
                                    "Qty": "16",
                                    "Orderyear": "2008"
                                },
                                {
                                    "Category": "Beverages",
                                    "Qty": "10",
                                    "Orderyear": "2008"
                                },
                                {
                                    "Category": "Produce",
                                    "Qty": "20",
                                    "Orderyear": "2008"
                                },
                                {
                                    "Category": "Beverages",
                                    "Qty": "30",
                                    "Orderyear": "2008"
                                },
                                {
                                    "Category": "Confections",
                                    "Qty": "30",
                                    "Orderyear": "2008"
                                },
                                {
                                    "Category": "Produce",
                                    "Qty": "10",
                                    "Orderyear": "2008"
                                },
                                {
                                    "Category": "Condiments",
                                    "Qty": "20",
                                    "Orderyear": "2008"
                                },
                                {
                                    "Category": "Condiments",
                                    "Qty": "20",
                                    "Orderyear": "2008"
                                },
                                {
                                    "Category": "Confections",
                                    "Qty": "40",
                                    "Orderyear": "2008"
                                },
                                {
                                    "Category": "Seafood",
                                    "Qty": "10",
                                    "Orderyear": "2008"
                                },
                                {
                                    "Category": "Condiments",
                                    "Qty": "6",
                                    "Orderyear": "2008"
                                },
                                {
                                    "Category": "Produce",
                                    "Qty": "18",
                                    "Orderyear": "2008"
                                },
                                {
                                    "Category": "Dairy Products",
                                    "Qty": "20",
                                    "Orderyear": "2008"
                                },
                                {
                                    "Category": "Beverages",
                                    "Qty": "80",
                                    "Orderyear": "2008"
                                },
                                {
                                    "Category": "Confections",
                                    "Qty": "30",
                                    "Orderyear": "2008"
                                },
                                {
                                    "Category": "Dairy Products",
                                    "Qty": "24",
                                    "Orderyear": "2008"
                                },
                                {
                                    "Category": "Condiments",
                                    "Qty": "35",
                                    "Orderyear": "2008"
                                },
                                {
                                    "Category": "Beverages",
                                    "Qty": "40",
                                    "Orderyear": "2008"
                                },
                                {
                                    "Category": "Beverages",
                                    "Qty": "60",
                                    "Orderyear": "2008"
                                },
                                {
                                    "Category": "Produce",
                                    "Qty": "20",
                                    "Orderyear": "2008"
                                },
                                {
                                    "Category": "Beverages",
                                    "Qty": "9",
                                    "Orderyear": "2008"
                                },
                                {
                                    "Category": "Seafood",
                                    "Qty": "84",
                                    "Orderyear": "2008"
                                },
                                {
                                    "Category": "Grains/Cereals",
                                    "Qty": "15",
                                    "Orderyear": "2008"
                                },
                                {
                                    "Category": "Confections",
                                    "Qty": "55",
                                    "Orderyear": "2008"
                                },
                                {
                                    "Category": "Beverages",
                                    "Qty": "20",
                                    "Orderyear": "2008"
                                },
                                {
                                    "Category": "Seafood",
                                    "Qty": "40",
                                    "Orderyear": "2008"
                                },
                                {
                                    "Category": "Confections",
                                    "Qty": "36",
                                    "Orderyear": "2008"
                                },
                                {
                                    "Category": "Seafood",
                                    "Qty": "8",
                                    "Orderyear": "2008"
                                },
                                {
                                    "Category": "Dairy Products",
                                    "Qty": "35",
                                    "Orderyear": "2008"
                                },
                                {
                                    "Category": "Dairy Products",
                                    "Qty": "30",
                                    "Orderyear": "2008"
                                },
                                {
                                    "Category": "Confections",
                                    "Qty": "15",
                                    "Orderyear": "2008"
                                },
                                {
                                    "Category": "Beverages",
                                    "Qty": "10",
                                    "Orderyear": "2008"
                                },
                                {
                                    "Category": "Condiments",
                                    "Qty": "15",
                                    "Orderyear": "2008"
                                },
                                {
                                    "Category": "Produce",
                                    "Qty": "60",
                                    "Orderyear": "2008"
                                },
                                {
                                    "Category": "Beverages",
                                    "Qty": "6",
                                    "Orderyear": "2008"
                                },
                                {
                                    "Category": "Dairy Products",
                                    "Qty": "20",
                                    "Orderyear": "2008"
                                },
                                {
                                    "Category": "Produce",
                                    "Qty": "60",
                                    "Orderyear": "2008"
                                },
                                {
                                    "Category": "Confections",
                                    "Qty": "40",
                                    "Orderyear": "2008"
                                },
                                {
                                    "Category": "Condiments",
                                    "Qty": "40",
                                    "Orderyear": "2008"
                                },
                                {
                                    "Category": "Dairy Products",
                                    "Qty": "15",
                                    "Orderyear": "2008"
                                },
                                {
                                    "Category": "Seafood",
                                    "Qty": "4",
                                    "Orderyear": "2008"
                                },
                                {
                                    "Category": "Confections",
                                    "Qty": "65",
                                    "Orderyear": "2008"
                                },
                                {
                                    "Category": "Beverages",
                                    "Qty": "60",
                                    "Orderyear": "2008"
                                },
                                {
                                    "Category": "Meat/Poultry",
                                    "Qty": "65",
                                    "Orderyear": "2008"
                                },
                                {
                                    "Category": "Condiments",
                                    "Qty": "66",
                                    "Orderyear": "2008"
                                },
                                {
                                    "Category": "Beverages",
                                    "Qty": "50",
                                    "Orderyear": "2008"
                                },
                                {
                                    "Category": "Beverages",
                                    "Qty": "20",
                                    "Orderyear": "2008"
                                },
                                {
                                    "Category": "Beverages",
                                    "Qty": "90",
                                    "Orderyear": "2008"
                                },
                                {
                                    "Category": "Dairy Products",
                                    "Qty": "2",
                                    "Orderyear": "2008"
                                },
                                {
                                    "Category": "Meat/Poultry",
                                    "Qty": "50",
                                    "Orderyear": "2008"
                                },
                                {
                                    "Category": "Seafood",
                                    "Qty": "35",
                                    "Orderyear": "2008"
                                },
                                {
                                    "Category": "Dairy Products",
                                    "Qty": "18",
                                    "Orderyear": "2008"
                                },
                                {
                                    "Category": "Produce",
                                    "Qty": "20",
                                    "Orderyear": "2008"
                                },
                                {
                                    "Category": "Dairy Products",
                                    "Qty": "4",
                                    "Orderyear": "2008"
                                },
                                {
                                    "Category": "Grains/Cereals",
                                    "Qty": "40",
                                    "Orderyear": "2008"
                                },
                                {
                                    "Category": "Dairy Products",
                                    "Qty": "50",
                                    "Orderyear": "2008"
                                },
                                {
                                    "Category": "Seafood",
                                    "Qty": "20",
                                    "Orderyear": "2008"
                                },
                                {
                                    "Category": "Grains/Cereals",
                                    "Qty": "20",
                                    "Orderyear": "2008"
                                },
                                {
                                    "Category": "Beverages",
                                    "Qty": "12",
                                    "Orderyear": "2008"
                                },
                                {
                                    "Category": "Condiments",
                                    "Qty": "7",
                                    "Orderyear": "2008"
                                },
                                {
                                    "Category": "Produce",
                                    "Qty": "20",
                                    "Orderyear": "2008"
                                },
                                {
                                    "Category": "Beverages",
                                    "Qty": "30",
                                    "Orderyear": "2008"
                                },
                                {
                                    "Category": "Seafood",
                                    "Qty": "20",
                                    "Orderyear": "2008"
                                },
                                {
                                    "Category": "Produce",
                                    "Qty": "15",
                                    "Orderyear": "2008"
                                },
                                {
                                    "Category": "Condiments",
                                    "Qty": "21",
                                    "Orderyear": "2008"
                                },
                                {
                                    "Category": "Condiments",
                                    "Qty": "25",
                                    "Orderyear": "2008"
                                },
                                {
                                    "Category": "Beverages",
                                    "Qty": "30",
                                    "Orderyear": "2008"
                                },
                                {
                                    "Category": "Condiments",
                                    "Qty": "30",
                                    "Orderyear": "2008"
                                },
                                {
                                    "Category": "Produce",
                                    "Qty": "60",
                                    "Orderyear": "2008"
                                },
                                {
                                    "Category": "Grains/Cereals",
                                    "Qty": "25",
                                    "Orderyear": "2008"
                                },
                                {
                                    "Category": "Seafood",
                                    "Qty": "25",
                                    "Orderyear": "2008"
                                },
                                {
                                    "Category": "Meat/Poultry",
                                    "Qty": "6",
                                    "Orderyear": "2008"
                                },
                                {
                                    "Category": "Seafood",
                                    "Qty": "56",
                                    "Orderyear": "2008"
                                },
                                {
                                    "Category": "Beverages",
                                    "Qty": "15",
                                    "Orderyear": "2008"
                                },
                                {
                                    "Category": "Grains/Cereals",
                                    "Qty": "24",
                                    "Orderyear": "2008"
                                },
                                {
                                    "Category": "Meat/Poultry",
                                    "Qty": "40",
                                    "Orderyear": "2008"
                                },
                                {
                                    "Category": "Beverages",
                                    "Qty": "4",
                                    "Orderyear": "2008"
                                },
                                {
                                    "Category": "Seafood",
                                    "Qty": "10",
                                    "Orderyear": "2008"
                                },
                                {
                                    "Category": "Grains/Cereals",
                                    "Qty": "10",
                                    "Orderyear": "2008"
                                },
                                {
                                    "Category": "Confections",
                                    "Qty": "6",
                                    "Orderyear": "2008"
                                },
                                {
                                    "Category": "Beverages",
                                    "Qty": "6",
                                    "Orderyear": "2008"
                                },
                                {
                                    "Category": "Beverages",
                                    "Qty": "2",
                                    "Orderyear": "2008"
                                },
                                {
                                    "Category": "Dairy Products",
                                    "Qty": "10",
                                    "Orderyear": "2008"
                                },
                                {
                                    "Category": "Beverages",
                                    "Qty": "8",
                                    "Orderyear": "2008"
                                },
                                {
                                    "Category": "Meat/Poultry",
                                    "Qty": "2",
                                    "Orderyear": "2008"
                                },
                                {
                                    "Category": "Condiments",
                                    "Qty": "30",
                                    "Orderyear": "2008"
                                },
                                {
                                    "Category": "Meat/Poultry",
                                    "Qty": "10",
                                    "Orderyear": "2008"
                                },
                                {
                                    "Category": "Grains/Cereals",
                                    "Qty": "14",
                                    "Orderyear": "2008"
                                },
                                {
                                    "Category": "Produce",
                                    "Qty": "70",
                                    "Orderyear": "2008"
                                },
                                {
                                    "Category": "Beverages",
                                    "Qty": "90",
                                    "Orderyear": "2008"
                                },
                                {
                                    "Category": "Dairy Products",
                                    "Qty": "21",
                                    "Orderyear": "2008"
                                },
                                {
                                    "Category": "Beverages",
                                    "Qty": "12",
                                    "Orderyear": "2008"
                                },
                                {
                                    "Category": "Seafood",
                                    "Qty": "18",
                                    "Orderyear": "2008"
                                },
                                {
                                    "Category": "Dairy Products",
                                    "Qty": "9",
                                    "Orderyear": "2008"
                                },
                                {
                                    "Category": "Produce",
                                    "Qty": "20",
                                    "Orderyear": "2008"
                                },
                                {
                                    "Category": "Beverages",
                                    "Qty": "10",
                                    "Orderyear": "2008"
                                },
                                {
                                    "Category": "Seafood",
                                    "Qty": "40",
                                    "Orderyear": "2008"
                                },
                                {
                                    "Category": "Dairy Products",
                                    "Qty": "20",
                                    "Orderyear": "2008"
                                },
                                {
                                    "Category": "Confections",
                                    "Qty": "50",
                                    "Orderyear": "2008"
                                },
                                {
                                    "Category": "Dairy Products",
                                    "Qty": "36",
                                    "Orderyear": "2008"
                                },
                                {
                                    "Category": "Dairy Products",
                                    "Qty": "60",
                                    "Orderyear": "2008"
                                },
                                {
                                    "Category": "Grains/Cereals",
                                    "Qty": "10",
                                    "Orderyear": "2008"
                                },
                                {
                                    "Category": "Grains/Cereals",
                                    "Qty": "4",
                                    "Orderyear": "2008"
                                },
                                {
                                    "Category": "Seafood",
                                    "Qty": "20",
                                    "Orderyear": "2008"
                                },
                                {
                                    "Category": "Confections",
                                    "Qty": "2",
                                    "Orderyear": "2008"
                                },
                                {
                                    "Category": "Seafood",
                                    "Qty": "28",
                                    "Orderyear": "2008"
                                },
                                {
                                    "Category": "Seafood",
                                    "Qty": "15",
                                    "Orderyear": "2008"
                                },
                                {
                                    "Category": "Condiments",
                                    "Qty": "18",
                                    "Orderyear": "2008"
                                },
                                {
                                    "Category": "Dairy Products",
                                    "Qty": "15",
                                    "Orderyear": "2008"
                                },
                                {
                                    "Category": "Seafood",
                                    "Qty": "16",
                                    "Orderyear": "2008"
                                },
                                {
                                    "Category": "Condiments",
                                    "Qty": "25",
                                    "Orderyear": "2008"
                                },
                                {
                                    "Category": "Dairy Products",
                                    "Qty": "110",
                                    "Orderyear": "2008"
                                },
                                {
                                    "Category": "Beverages",
                                    "Qty": "30",
                                    "Orderyear": "2008"
                                },
                                {
                                    "Category": "Dairy Products",
                                    "Qty": "20",
                                    "Orderyear": "2008"
                                },
                                {
                                    "Category": "Seafood",
                                    "Qty": "10",
                                    "Orderyear": "2008"
                                },
                                {
                                    "Category": "Grains/Cereals",
                                    "Qty": "5",
                                    "Orderyear": "2008"
                                },
                                {
                                    "Category": "Seafood",
                                    "Qty": "3",
                                    "Orderyear": "2008"
                                },
                                {
                                    "Category": "Confections",
                                    "Qty": "2",
                                    "Orderyear": "2008"
                                },
                                {
                                    "Category": "Seafood",
                                    "Qty": "24",
                                    "Orderyear": "2008"
                                },
                                {
                                    "Category": "Beverages",
                                    "Qty": "11",
                                    "Orderyear": "2008"
                                },
                                {
                                    "Category": "Confections",
                                    "Qty": "15",
                                    "Orderyear": "2008"
                                },
                                {
                                    "Category": "Confections",
                                    "Qty": "63",
                                    "Orderyear": "2008"
                                },
                                {
                                    "Category": "Produce",
                                    "Qty": "44",
                                    "Orderyear": "2008"
                                },
                                {
                                    "Category": "Dairy Products",
                                    "Qty": "35",
                                    "Orderyear": "2008"
                                },
                                {
                                    "Category": "Confections",
                                    "Qty": "35",
                                    "Orderyear": "2008"
                                },
                                {
                                    "Category": "Dairy Products",
                                    "Qty": "30",
                                    "Orderyear": "2008"
                                },
                                {
                                    "Category": "Produce",
                                    "Qty": "4",
                                    "Orderyear": "2008"
                                },
                                {
                                    "Category": "Beverages",
                                    "Qty": "30",
                                    "Orderyear": "2008"
                                },
                                {
                                    "Category": "Confections",
                                    "Qty": "12",
                                    "Orderyear": "2008"
                                },
                                {
                                    "Category": "Dairy Products",
                                    "Qty": "30",
                                    "Orderyear": "2008"
                                },
                                {
                                    "Category": "Condiments",
                                    "Qty": "21",
                                    "Orderyear": "2008"
                                },
                                {
                                    "Category": "Dairy Products",
                                    "Qty": "50",
                                    "Orderyear": "2008"
                                },
                                {
                                    "Category": "Beverages",
                                    "Qty": "10",
                                    "Orderyear": "2008"
                                },
                                {
                                    "Category": "Seafood",
                                    "Qty": "20",
                                    "Orderyear": "2008"
                                },
                                {
                                    "Category": "Seafood",
                                    "Qty": "8",
                                    "Orderyear": "2008"
                                },
                                {
                                    "Category": "Produce",
                                    "Qty": "10",
                                    "Orderyear": "2008"
                                },
                                {
                                    "Category": "Beverages",
                                    "Qty": "30",
                                    "Orderyear": "2008"
                                },
                                {
                                    "Category": "Confections",
                                    "Qty": "21",
                                    "Orderyear": "2008"
                                },
                                {
                                    "Category": "Meat/Poultry",
                                    "Qty": "35",
                                    "Orderyear": "2008"
                                },
                                {
                                    "Category": "Dairy Products",
                                    "Qty": "24",
                                    "Orderyear": "2008"
                                },
                                {
                                    "Category": "Grains/Cereals",
                                    "Qty": "20",
                                    "Orderyear": "2008"
                                },
                                {
                                    "Category": "Condiments",
                                    "Qty": "12",
                                    "Orderyear": "2008"
                                },
                                {
                                    "Category": "Beverages",
                                    "Qty": "100",
                                    "Orderyear": "2008"
                                },
                                {
                                    "Category": "Condiments",
                                    "Qty": "70",
                                    "Orderyear": "2008"
                                },
                                {
                                    "Category": "Meat/Poultry",
                                    "Qty": "60",
                                    "Orderyear": "2008"
                                },
                                {
                                    "Category": "Dairy Products",
                                    "Qty": "100",
                                    "Orderyear": "2008"
                                },
                                {
                                    "Category": "Beverages",
                                    "Qty": "45",
                                    "Orderyear": "2008"
                                },
                                {
                                    "Category": "Seafood",
                                    "Qty": "80",
                                    "Orderyear": "2008"
                                },
                                {
                                    "Category": "Beverages",
                                    "Qty": "21",
                                    "Orderyear": "2008"
                                },
                                {
                                    "Category": "Grains/Cereals",
                                    "Qty": "20",
                                    "Orderyear": "2008"
                                },
                                {
                                    "Category": "Dairy Products",
                                    "Qty": "16",
                                    "Orderyear": "2008"
                                },
                                {
                                    "Category": "Seafood",
                                    "Qty": "35",
                                    "Orderyear": "2008"
                                },
                                {
                                    "Category": "Beverages",
                                    "Qty": "25",
                                    "Orderyear": "2008"
                                },
                                {
                                    "Category": "Dairy Products",
                                    "Qty": "30",
                                    "Orderyear": "2008"
                                },
                                {
                                    "Category": "Meat/Poultry",
                                    "Qty": "70",
                                    "Orderyear": "2008"
                                },
                                {
                                    "Category": "Dairy Products",
                                    "Qty": "36",
                                    "Orderyear": "2008"
                                },
                                {
                                    "Category": "Confections",
                                    "Qty": "15",
                                    "Orderyear": "2008"
                                },
                                {
                                    "Category": "Condiments",
                                    "Qty": "12",
                                    "Orderyear": "2008"
                                },
                                {
                                    "Category": "Condiments",
                                    "Qty": "6",
                                    "Orderyear": "2008"
                                },
                                {
                                    "Category": "Beverages",
                                    "Qty": "10",
                                    "Orderyear": "2008"
                                },
                                {
                                    "Category": "Beverages",
                                    "Qty": "60",
                                    "Orderyear": "2008"
                                },
                                {
                                    "Category": "Grains/Cereals",
                                    "Qty": "30",
                                    "Orderyear": "2008"
                                },
                                {
                                    "Category": "Meat/Poultry",
                                    "Qty": "10",
                                    "Orderyear": "2008"
                                },
                                {
                                    "Category": "Seafood",
                                    "Qty": "7",
                                    "Orderyear": "2008"
                                },
                                {
                                    "Category": "Dairy Products",
                                    "Qty": "30",
                                    "Orderyear": "2008"
                                },
                                {
                                    "Category": "Beverages",
                                    "Qty": "4",
                                    "Orderyear": "2008"
                                },
                                {
                                    "Category": "Seafood",
                                    "Qty": "5",
                                    "Orderyear": "2008"
                                },
                                {
                                    "Category": "Grains/Cereals",
                                    "Qty": "2",
                                    "Orderyear": "2008"
                                },
                                {
                                    "Category": "Dairy Products",
                                    "Qty": "30",
                                    "Orderyear": "2008"
                                },
                                {
                                    "Category": "Produce",
                                    "Qty": "20",
                                    "Orderyear": "2008"
                                },
                                {
                                    "Category": "Beverages",
                                    "Qty": "24",
                                    "Orderyear": "2008"
                                },
                                {
                                    "Category": "Confections",
                                    "Qty": "60",
                                    "Orderyear": "2008"
                                },
                                {
                                    "Category": "Grains/Cereals",
                                    "Qty": "28",
                                    "Orderyear": "2008"
                                },
                                {
                                    "Category": "Confections",
                                    "Qty": "20",
                                    "Orderyear": "2008"
                                },
                                {
                                    "Category": "Beverages",
                                    "Qty": "30",
                                    "Orderyear": "2008"
                                },
                                {
                                    "Category": "Condiments",
                                    "Qty": "30",
                                    "Orderyear": "2008"
                                },
                                {
                                    "Category": "Condiments",
                                    "Qty": "15",
                                    "Orderyear": "2008"
                                },
                                {
                                    "Category": "Condiments",
                                    "Qty": "4",
                                    "Orderyear": "2008"
                                },
                                {
                                    "Category": "Dairy Products",
                                    "Qty": "10",
                                    "Orderyear": "2008"
                                },
                                {
                                    "Category": "Confections",
                                    "Qty": "12",
                                    "Orderyear": "2008"
                                },
                                {
                                    "Category": "Dairy Products",
                                    "Qty": "15",
                                    "Orderyear": "2008"
                                },
                                {
                                    "Category": "Produce",
                                    "Qty": "24",
                                    "Orderyear": "2008"
                                },
                                {
                                    "Category": "Dairy Products",
                                    "Qty": "20",
                                    "Orderyear": "2008"
                                },
                                {
                                    "Category": "Dairy Products",
                                    "Qty": "15",
                                    "Orderyear": "2008"
                                },
                                {
                                    "Category": "Beverages",
                                    "Qty": "18",
                                    "Orderyear": "2008"
                                },
                                {
                                    "Category": "Beverages",
                                    "Qty": "25",
                                    "Orderyear": "2008"
                                },
                                {
                                    "Category": "Condiments",
                                    "Qty": "30",
                                    "Orderyear": "2008"
                                },
                                {
                                    "Category": "Confections",
                                    "Qty": "42",
                                    "Orderyear": "2008"
                                },
                                {
                                    "Category": "Beverages",
                                    "Qty": "10",
                                    "Orderyear": "2008"
                                },
                                {
                                    "Category": "Dairy Products",
                                    "Qty": "4",
                                    "Orderyear": "2008"
                                },
                                {
                                    "Category": "Beverages",
                                    "Qty": "50",
                                    "Orderyear": "2008"
                                },
                                {
                                    "Category": "Beverages",
                                    "Qty": "10",
                                    "Orderyear": "2008"
                                },
                                {
                                    "Category": "Beverages",
                                    "Qty": "30",
                                    "Orderyear": "2008"
                                },
                                {
                                    "Category": "Condiments",
                                    "Qty": "10",
                                    "Orderyear": "2008"
                                },
                                {
                                    "Category": "Seafood",
                                    "Qty": "35",
                                    "Orderyear": "2008"
                                },
                                {
                                    "Category": "Dairy Products",
                                    "Qty": "20",
                                    "Orderyear": "2008"
                                },
                                {
                                    "Category": "Grains/Cereals",
                                    "Qty": "25",
                                    "Orderyear": "2008"
                                },
                                {
                                    "Category": "Dairy Products",
                                    "Qty": "10",
                                    "Orderyear": "2008"
                                },
                                {
                                    "Category": "Beverages",
                                    "Qty": "20",
                                    "Orderyear": "2008"
                                },
                                {
                                    "Category": "Beverages",
                                    "Qty": "15",
                                    "Orderyear": "2008"
                                },
                                {
                                    "Category": "Confections",
                                    "Qty": "15",
                                    "Orderyear": "2008"
                                },
                                {
                                    "Category": "Produce",
                                    "Qty": "20",
                                    "Orderyear": "2008"
                                },
                                {
                                    "Category": "Grains/Cereals",
                                    "Qty": "20",
                                    "Orderyear": "2008"
                                },
                                {
                                    "Category": "Produce",
                                    "Qty": "40",
                                    "Orderyear": "2008"
                                },
                                {
                                    "Category": "Meat/Poultry",
                                    "Qty": "35",
                                    "Orderyear": "2008"
                                },
                                {
                                    "Category": "Dairy Products",
                                    "Qty": "50",
                                    "Orderyear": "2008"
                                },
                                {
                                    "Category": "Beverages",
                                    "Qty": "3",
                                    "Orderyear": "2008"
                                },
                                {
                                    "Category": "Confections",
                                    "Qty": "3",
                                    "Orderyear": "2008"
                                },
                                {
                                    "Category": "Dairy Products",
                                    "Qty": "21",
                                    "Orderyear": "2008"
                                },
                                {
                                    "Category": "Condiments",
                                    "Qty": "4",
                                    "Orderyear": "2008"
                                },
                                {
                                    "Category": "Seafood",
                                    "Qty": "30",
                                    "Orderyear": "2008"
                                },
                                {
                                    "Category": "Meat/Poultry",
                                    "Qty": "12",
                                    "Orderyear": "2008"
                                },
                                {
                                    "Category": "Dairy Products",
                                    "Qty": "35",
                                    "Orderyear": "2008"
                                },
                                {
                                    "Category": "Dairy Products",
                                    "Qty": "4",
                                    "Orderyear": "2008"
                                },
                                {
                                    "Category": "Condiments",
                                    "Qty": "10",
                                    "Orderyear": "2008"
                                },
                                {
                                    "Category": "Dairy Products",
                                    "Qty": "15",
                                    "Orderyear": "2008"
                                },
                                {
                                    "Category": "Meat/Poultry",
                                    "Qty": "10",
                                    "Orderyear": "2008"
                                },
                                {
                                    "Category": "Beverages",
                                    "Qty": "12",
                                    "Orderyear": "2008"
                                },
                                {
                                    "Category": "Beverages",
                                    "Qty": "30",
                                    "Orderyear": "2008"
                                },
                                {
                                    "Category": "Seafood",
                                    "Qty": "40",
                                    "Orderyear": "2008"
                                },
                                {
                                    "Category": "Seafood",
                                    "Qty": "30",
                                    "Orderyear": "2008"
                                },
                                {
                                    "Category": "Meat/Poultry",
                                    "Qty": "77",
                                    "Orderyear": "2008"
                                },
                                {
                                    "Category": "Seafood",
                                    "Qty": "12",
                                    "Orderyear": "2008"
                                },
                                {
                                    "Category": "Meat/Poultry",
                                    "Qty": "25",
                                    "Orderyear": "2008"
                                },
                                {
                                    "Category": "Meat/Poultry",
                                    "Qty": "4",
                                    "Orderyear": "2008"
                                },
                                {
                                    "Category": "Confections",
                                    "Qty": "55",
                                    "Orderyear": "2008"
                                },
                                {
                                    "Category": "Seafood",
                                    "Qty": "4",
                                    "Orderyear": "2008"
                                },
                                {
                                    "Category": "Meat/Poultry",
                                    "Qty": "20",
                                    "Orderyear": "2008"
                                },
                                {
                                    "Category": "Confections",
                                    "Qty": "3",
                                    "Orderyear": "2008"
                                },
                                {
                                    "Category": "Confections",
                                    "Qty": "42",
                                    "Orderyear": "2008"
                                },
                                {
                                    "Category": "Beverages",
                                    "Qty": "35",
                                    "Orderyear": "2008"
                                },
                                {
                                    "Category": "Seafood",
                                    "Qty": "9",
                                    "Orderyear": "2008"
                                },
                                {
                                    "Category": "Produce",
                                    "Qty": "8",
                                    "Orderyear": "2008"
                                },
                                {
                                    "Category": "Beverages",
                                    "Qty": "36",
                                    "Orderyear": "2008"
                                },
                                {
                                    "Category": "Condiments",
                                    "Qty": "28",
                                    "Orderyear": "2008"
                                },
                                {
                                    "Category": "Beverages",
                                    "Qty": "20",
                                    "Orderyear": "2008"
                                },
                                {
                                    "Category": "Beverages",
                                    "Qty": "40",
                                    "Orderyear": "2008"
                                },
                                {
                                    "Category": "Beverages",
                                    "Qty": "20",
                                    "Orderyear": "2008"
                                },
                                {
                                    "Category": "Confections",
                                    "Qty": "30",
                                    "Orderyear": "2008"
                                },
                                {
                                    "Category": "Dairy Products",
                                    "Qty": "20",
                                    "Orderyear": "2008"
                                },
                                {
                                    "Category": "Produce",
                                    "Qty": "15",
                                    "Orderyear": "2008"
                                },
                                {
                                    "Category": "Seafood",
                                    "Qty": "10",
                                    "Orderyear": "2008"
                                },
                                {
                                    "Category": "Beverages",
                                    "Qty": "8",
                                    "Orderyear": "2008"
                                },
                                {
                                    "Category": "Seafood",
                                    "Qty": "40",
                                    "Orderyear": "2008"
                                },
                                {
                                    "Category": "Confections",
                                    "Qty": "22",
                                    "Orderyear": "2008"
                                },
                                {
                                    "Category": "Grains/Cereals",
                                    "Qty": "130",
                                    "Orderyear": "2008"
                                },
                                {
                                    "Category": "Dairy Products",
                                    "Qty": "10",
                                    "Orderyear": "2008"
                                },
                                {
                                    "Category": "Beverages",
                                    "Qty": "20",
                                    "Orderyear": "2008"
                                },
                                {
                                    "Category": "Confections",
                                    "Qty": "14",
                                    "Orderyear": "2008"
                                },
                                {
                                    "Category": "Beverages",
                                    "Qty": "10",
                                    "Orderyear": "2008"
                                },
                                {
                                    "Category": "Seafood",
                                    "Qty": "30",
                                    "Orderyear": "2008"
                                },
                                {
                                    "Category": "Beverages",
                                    "Qty": "2",
                                    "Orderyear": "2008"
                                },
                                {
                                    "Category": "Condiments",
                                    "Qty": "20",
                                    "Orderyear": "2008"
                                },
                                {
                                    "Category": "Produce",
                                    "Qty": "20",
                                    "Orderyear": "2008"
                                },
                                {
                                    "Category": "Confections",
                                    "Qty": "10",
                                    "Orderyear": "2008"
                                },
                                {
                                    "Category": "Beverages",
                                    "Qty": "24",
                                    "Orderyear": "2008"
                                },
                                {
                                    "Category": "Condiments",
                                    "Qty": "4",
                                    "Orderyear": "2008"
                                },
                                {
                                    "Category": "Condiments",
                                    "Qty": "1",
                                    "Orderyear": "2008"
                                },
                                {
                                    "Category": "Condiments",
                                    "Qty": "1",
                                    "Orderyear": "2008"
                                },
                                {
                                    "Category": "Produce",
                                    "Qty": "1",
                                    "Orderyear": "2008"
                                },
                                {
                                    "Category": "Condiments",
                                    "Qty": "2",
                                    "Orderyear": "2008"
                                },
                                {
                                    "Category": "Seafood",
                                    "Qty": "1",
                                    "Orderyear": "2008"
                                },
                                {
                                    "Category": "Dairy Products",
                                    "Qty": "2",
                                    "Orderyear": "2008"
                                },
                                {
                                    "Category": "Seafood",
                                    "Qty": "4",
                                    "Orderyear": "2008"
                                },
                                {
                                    "Category": "Produce",
                                    "Qty": "1",
                                    "Orderyear": "2008"
                                },
                                {
                                    "Category": "Confections",
                                    "Qty": "2",
                                    "Orderyear": "2008"
                                },
                                {
                                    "Category": "Confections",
                                    "Qty": "1",
                                    "Orderyear": "2008"
                                },
                                {
                                    "Category": "Grains/Cereals",
                                    "Qty": "2",
                                    "Orderyear": "2008"
                                },
                                {
                                    "Category": "Dairy Products",
                                    "Qty": "1",
                                    "Orderyear": "2008"
                                },
                                {
                                    "Category": "Beverages",
                                    "Qty": "2",
                                    "Orderyear": "2008"
                                },
                                {
                                    "Category": "Seafood",
                                    "Qty": "3",
                                    "Orderyear": "2008"
                                },
                                {
                                    "Category": "Seafood",
                                    "Qty": "3",
                                    "Orderyear": "2008"
                                },
                                {
                                    "Category": "Grains/Cereals",
                                    "Qty": "2",
                                    "Orderyear": "2008"
                                },
                                {
                                    "Category": "Meat/Poultry",
                                    "Qty": "2",
                                    "Orderyear": "2008"
                                },
                                {
                                    "Category": "Dairy Products",
                                    "Qty": "2",
                                    "Orderyear": "2008"
                                },
                                {
                                    "Category": "Grains/Cereals",
                                    "Qty": "2",
                                    "Orderyear": "2008"
                                },
                                {
                                    "Category": "Condiments",
                                    "Qty": "1",
                                    "Orderyear": "2008"
                                },
                                {
                                    "Category": "Seafood",
                                    "Qty": "2",
                                    "Orderyear": "2008"
                                },
                                {
                                    "Category": "Beverages",
                                    "Qty": "4",
                                    "Orderyear": "2008"
                                },
                                {
                                    "Category": "Condiments",
                                    "Qty": "2",
                                    "Orderyear": "2008"
                                }
                            ]
                        },
                        "text/html": [
                            "<table>",
                            "<tr><th>Category</th><th>Qty</th><th>Orderyear</th></tr>",
                            "<tr><td>Dairy Products</td><td>12</td><td>2006</td></tr>",
                            "<tr><td>Grains/Cereals</td><td>10</td><td>2006</td></tr>",
                            "<tr><td>Dairy Products</td><td>5</td><td>2006</td></tr>",
                            "<tr><td>Produce</td><td>9</td><td>2006</td></tr>",
                            "<tr><td>Produce</td><td>40</td><td>2006</td></tr>",
                            "<tr><td>Seafood</td><td>10</td><td>2006</td></tr>",
                            "<tr><td>Produce</td><td>35</td><td>2006</td></tr>",
                            "<tr><td>Condiments</td><td>15</td><td>2006</td></tr>",
                            "<tr><td>Grains/Cereals</td><td>6</td><td>2006</td></tr>",
                            "<tr><td>Grains/Cereals</td><td>15</td><td>2006</td></tr>",
                            "<tr><td>Condiments</td><td>20</td><td>2006</td></tr>",
                            "<tr><td>Confections</td><td>40</td><td>2006</td></tr>",
                            "<tr><td>Dairy Products</td><td>25</td><td>2006</td></tr>",
                            "<tr><td>Dairy Products</td><td>40</td><td>2006</td></tr>",
                            "<tr><td>Dairy Products</td><td>20</td><td>2006</td></tr>",
                            "<tr><td>Beverages</td><td>42</td><td>2006</td></tr>",
                            "<tr><td>Confections</td><td>40</td><td>2006</td></tr>",
                            "<tr><td>Beverages</td><td>15</td><td>2006</td></tr>",
                            "<tr><td>Meat/Poultry</td><td>21</td><td>2006</td></tr>",
                            "<tr><td>Produce</td><td>21</td><td>2006</td></tr>",
                            "<tr><td>Beverages</td><td>20</td><td>2006</td></tr>",
                            "<tr><td>Confections</td><td>35</td><td>2006</td></tr>",
                            "<tr><td>Seafood</td><td>25</td><td>2006</td></tr>",
                            "<tr><td>Dairy Products</td><td>30</td><td>2006</td></tr>",
                            "<tr><td>Meat/Poultry</td><td>15</td><td>2006</td></tr>",
                            "<tr><td>Condiments</td><td>12</td><td>2006</td></tr>",
                            "<tr><td>Confections</td><td>25</td><td>2006</td></tr>",
                            "<tr><td>Beverages</td><td>6</td><td>2006</td></tr>",
                            "<tr><td>Condiments</td><td>15</td><td>2006</td></tr>",
                            "<tr><td>Beverages</td><td>50</td><td>2006</td></tr>",
                            "<tr><td>Condiments</td><td>65</td><td>2006</td></tr>",
                            "<tr><td>Dairy Products</td><td>6</td><td>2006</td></tr>",
                            "<tr><td>Confections</td><td>10</td><td>2006</td></tr>",
                            "<tr><td>Seafood</td><td>1</td><td>2006</td></tr>",
                            "<tr><td>Seafood</td><td>16</td><td>2006</td></tr>",
                            "<tr><td>Grains/Cereals</td><td>50</td><td>2006</td></tr>",
                            "<tr><td>Confections</td><td>15</td><td>2006</td></tr>",
                            "<tr><td>Beverages</td><td>21</td><td>2006</td></tr>",
                            "<tr><td>Confections</td><td>20</td><td>2006</td></tr>",
                            "<tr><td>Beverages</td><td>20</td><td>2006</td></tr>",
                            "<tr><td>Condiments</td><td>12</td><td>2006</td></tr>",
                            "<tr><td>Produce</td><td>15</td><td>2006</td></tr>",
                            "<tr><td>Grains/Cereals</td><td>2</td><td>2006</td></tr>",
                            "<tr><td>Confections</td><td>60</td><td>2006</td></tr>",
                            "<tr><td>Beverages</td><td>28</td><td>2006</td></tr>",
                            "<tr><td>Seafood</td><td>60</td><td>2006</td></tr>",
                            "<tr><td>Produce</td><td>36</td><td>2006</td></tr>",
                            "<tr><td>Beverages</td><td>35</td><td>2006</td></tr>",
                            "<tr><td>Seafood</td><td>25</td><td>2006</td></tr>",
                            "<tr><td>Meat/Poultry</td><td>30</td><td>2006</td></tr>",
                            "<tr><td>Beverages</td><td>20</td><td>2006</td></tr>",
                            "<tr><td>Dairy Products</td><td>12</td><td>2006</td></tr>",
                            "<tr><td>Seafood</td><td>50</td><td>2006</td></tr>",
                            "<tr><td>Dairy Products</td><td>70</td><td>2006</td></tr>",
                            "<tr><td>Beverages</td><td>15</td><td>2006</td></tr>",
                            "<tr><td>Meat/Poultry</td><td>10</td><td>2006</td></tr>",
                            "<tr><td>Dairy Products</td><td>4</td><td>2006</td></tr>",
                            "<tr><td>Dairy Products</td><td>60</td><td>2006</td></tr>",
                            "<tr><td>Dairy Products</td><td>20</td><td>2006</td></tr>",
                            "<tr><td>Seafood</td><td>30</td><td>2006</td></tr>",
                            "<tr><td>Beverages</td><td>25</td><td>2006</td></tr>",
                            "<tr><td>Dairy Products</td><td>24</td><td>2006</td></tr>",
                            "<tr><td>Confections</td><td>6</td><td>2006</td></tr>",
                            "<tr><td>Dairy Products</td><td>40</td><td>2006</td></tr>",
                            "<tr><td>Dairy Products</td><td>24</td><td>2006</td></tr>",
                            "<tr><td>Seafood</td><td>24</td><td>2006</td></tr>",
                            "<tr><td>Dairy Products</td><td>15</td><td>2006</td></tr>",
                            "<tr><td>Dairy Products</td><td>20</td><td>2006</td></tr>",
                            "<tr><td>Seafood</td><td>60</td><td>2006</td></tr>",
                            "<tr><td>Beverages</td><td>33</td><td>2006</td></tr>",
                            "<tr><td>Dairy Products</td><td>20</td><td>2006</td></tr>",
                            "<tr><td>Dairy Products</td><td>7</td><td>2006</td></tr>",
                            "<tr><td>Beverages</td><td>12</td><td>2006</td></tr>",
                            "<tr><td>Dairy Products</td><td>6</td><td>2006</td></tr>",
                            "<tr><td>Seafood</td><td>15</td><td>2006</td></tr>",
                            "<tr><td>Seafood</td><td>10</td><td>2006</td></tr>",
                            "<tr><td>Produce</td><td>20</td><td>2006</td></tr>",
                            "<tr><td>Confections</td><td>12</td><td>2006</td></tr>",
                            "<tr><td>Condiments</td><td>16</td><td>2006</td></tr>",
                            "<tr><td>Dairy Products</td><td>15</td><td>2006</td></tr>",
                            "<tr><td>Condiments</td><td>8</td><td>2006</td></tr>",
                            "<tr><td>Seafood</td><td>25</td><td>2006</td></tr>",
                            "<tr><td>Meat/Poultry</td><td>15</td><td>2006</td></tr>",
                            "<tr><td>Beverages</td><td>12</td><td>2006</td></tr>",
                            "<tr><td>Meat/Poultry</td><td>20</td><td>2006</td></tr>",
                            "<tr><td>Beverages</td><td>30</td><td>2006</td></tr>",
                            "<tr><td>Confections</td><td>1</td><td>2006</td></tr>",
                            "<tr><td>Beverages</td><td>6</td><td>2006</td></tr>",
                            "<tr><td>Beverages</td><td>4</td><td>2006</td></tr>",
                            "<tr><td>Seafood</td><td>6</td><td>2006</td></tr>",
                            "<tr><td>Grains/Cereals</td><td>2</td><td>2006</td></tr>",
                            "<tr><td>Condiments</td><td>20</td><td>2006</td></tr>",
                            "<tr><td>Confections</td><td>18</td><td>2006</td></tr>",
                            "<tr><td>Dairy Products</td><td>35</td><td>2006</td></tr>",
                            "<tr><td>Dairy Products</td><td>3</td><td>2006</td></tr>",
                            "<tr><td>Confections</td><td>15</td><td>2006</td></tr>",
                            "<tr><td>Condiments</td><td>21</td><td>2006</td></tr>",
                            "<tr><td>Dairy Products</td><td>20</td><td>2006</td></tr>",
                            "<tr><td>Beverages</td><td>5</td><td>2006</td></tr>",
                            "<tr><td>Beverages</td><td>45</td><td>2006</td></tr>",
                            "<tr><td>Seafood</td><td>40</td><td>2006</td></tr>",
                            "<tr><td>Meat/Poultry</td><td>36</td><td>2006</td></tr>",
                            "<tr><td>Beverages</td><td>100</td><td>2006</td></tr>",
                            "<tr><td>Confections</td><td>40</td><td>2006</td></tr>",
                            "<tr><td>Confections</td><td>40</td><td>2006</td></tr>",
                            "<tr><td>Beverages</td><td>20</td><td>2006</td></tr>",
                            "<tr><td>Seafood</td><td>15</td><td>2006</td></tr>",
                            "<tr><td>Meat/Poultry</td><td>10</td><td>2006</td></tr>",
                            "<tr><td>Confections</td><td>3</td><td>2006</td></tr>",
                            "<tr><td>Condiments</td><td>30</td><td>2006</td></tr>",
                            "<tr><td>Grains/Cereals</td><td>9</td><td>2006</td></tr>",
                            "<tr><td>Condiments</td><td>20</td><td>2006</td></tr>",
                            "<tr><td>Meat/Poultry</td><td>15</td><td>2006</td></tr>",
                            "<tr><td>Confections</td><td>15</td><td>2006</td></tr>",
                            "<tr><td>Condiments</td><td>10</td><td>2006</td></tr>",
                            "<tr><td>Seafood</td><td>20</td><td>2006</td></tr>",
                            "<tr><td>Condiments</td><td>24</td><td>2006</td></tr>",
                            "<tr><td>Produce</td><td>2</td><td>2006</td></tr>",
                            "<tr><td>Confections</td><td>20</td><td>2006</td></tr>",
                            "<tr><td>Seafood</td><td>12</td><td>2006</td></tr>",
                            "<tr><td>Beverages</td><td>10</td><td>2006</td></tr>",
                            "<tr><td>Condiments</td><td>5</td><td>2006</td></tr>",
                            "<tr><td>Beverages</td><td>6</td><td>2006</td></tr>",
                            "<tr><td>Beverages</td><td>18</td><td>2006</td></tr>",
                            "<tr><td>Meat/Poultry</td><td>15</td><td>2006</td></tr>",
                            "<tr><td>Beverages</td><td>15</td><td>2006</td></tr>",
                            "<tr><td>Dairy Products</td><td>21</td><td>2006</td></tr>",
                            "<tr><td>Beverages</td><td>6</td><td>2006</td></tr>",
                            "<tr><td>Grains/Cereals</td><td>4</td><td>2006</td></tr>",
                            "<tr><td>Dairy Products</td><td>12</td><td>2006</td></tr>",
                            "<tr><td>Confections</td><td>30</td><td>2006</td></tr>",
                            "<tr><td>Dairy Products</td><td>15</td><td>2006</td></tr>",
                            "<tr><td>Beverages</td><td>60</td><td>2006</td></tr>",
                            "<tr><td>Dairy Products</td><td>20</td><td>2006</td></tr>",
                            "<tr><td>Beverages</td><td>40</td><td>2006</td></tr>",
                            "<tr><td>Seafood</td><td>40</td><td>2006</td></tr>",
                            "<tr><td>Dairy Products</td><td>30</td><td>2006</td></tr>",
                            "<tr><td>Confections</td><td>15</td><td>2006</td></tr>",
                            "<tr><td>Confections</td><td>15</td><td>2006</td></tr>",
                            "<tr><td>Beverages</td><td>20</td><td>2006</td></tr>",
                            "<tr><td>Condiments</td><td>30</td><td>2006</td></tr>",
                            "<tr><td>Confections</td><td>20</td><td>2006</td></tr>",
                            "<tr><td>Seafood</td><td>10</td><td>2006</td></tr>",
                            "<tr><td>Grains/Cereals</td><td>20</td><td>2006</td></tr>",
                            "<tr><td>Meat/Poultry</td><td>40</td><td>2006</td></tr>",
                            "<tr><td>Produce</td><td>28</td><td>2006</td></tr>",
                            "<tr><td>Beverages</td><td>12</td><td>2006</td></tr>",
                            "<tr><td>Seafood</td><td>40</td><td>2006</td></tr>",
                            "<tr><td>Condiments</td><td>30</td><td>2006</td></tr>",
                            "<tr><td>Confections</td><td>15</td><td>2006</td></tr>",
                            "<tr><td>Confections</td><td>30</td><td>2006</td></tr>",
                            "<tr><td>Dairy Products</td><td>10</td><td>2006</td></tr>",
                            "<tr><td>Dairy Products</td><td>2</td><td>2006</td></tr>",
                            "<tr><td>Seafood</td><td>25</td><td>2006</td></tr>",
                            "<tr><td>Meat/Poultry</td><td>25</td><td>2006</td></tr>",
                            "<tr><td>Beverages</td><td>30</td><td>2006</td></tr>",
                            "<tr><td>Seafood</td><td>10</td><td>2006</td></tr>",
                            "<tr><td>Meat/Poultry</td><td>10</td><td>2006</td></tr>",
                            "<tr><td>Meat/Poultry</td><td>5</td><td>2006</td></tr>",
                            "<tr><td>Confections</td><td>10</td><td>2006</td></tr>",
                            "<tr><td>Confections</td><td>3</td><td>2006</td></tr>",
                            "<tr><td>Dairy Products</td><td>1</td><td>2006</td></tr>",
                            "<tr><td>Beverages</td><td>5</td><td>2006</td></tr>",
                            "<tr><td>Condiments</td><td>20</td><td>2006</td></tr>",
                            "<tr><td>Condiments</td><td>30</td><td>2006</td></tr>",
                            "<tr><td>Grains/Cereals</td><td>2</td><td>2006</td></tr>",
                            "<tr><td>Beverages</td><td>20</td><td>2006</td></tr>",
                            "<tr><td>Dairy Products</td><td>3</td><td>2006</td></tr>",
                            "<tr><td>Confections</td><td>10</td><td>2006</td></tr>",
                            "<tr><td>Confections</td><td>5</td><td>2006</td></tr>",
                            "<tr><td>Grains/Cereals</td><td>6</td><td>2006</td></tr>",
                            "<tr><td>Dairy Products</td><td>7</td><td>2006</td></tr>",
                            "<tr><td>Produce</td><td>4</td><td>2006</td></tr>",
                            "<tr><td>Beverages</td><td>24</td><td>2006</td></tr>",
                            "<tr><td>Meat/Poultry</td><td>20</td><td>2006</td></tr>",
                            "<tr><td>Beverages</td><td>10</td><td>2006</td></tr>",
                            "<tr><td>Seafood</td><td>12</td><td>2006</td></tr>",
                            "<tr><td>Dairy Products</td><td>40</td><td>2006</td></tr>",
                            "<tr><td>Seafood</td><td>30</td><td>2006</td></tr>",
                            "<tr><td>Confections</td><td>25</td><td>2006</td></tr>",
                            "<tr><td>Beverages</td><td>14</td><td>2006</td></tr>",
                            "<tr><td>Beverages</td><td>30</td><td>2006</td></tr>",
                            "<tr><td>Seafood</td><td>10</td><td>2006</td></tr>",
                            "<tr><td>Confections</td><td>70</td><td>2006</td></tr>",
                            "<tr><td>Beverages</td><td>20</td><td>2006</td></tr>",
                            "<tr><td>Seafood</td><td>20</td><td>2006</td></tr>",
                            "<tr><td>Beverages</td><td>6</td><td>2006</td></tr>",
                            "<tr><td>Meat/Poultry</td><td>8</td><td>2006</td></tr>",
                            "<tr><td>Produce</td><td>14</td><td>2006</td></tr>",
                            "<tr><td>Beverages</td><td>30</td><td>2006</td></tr>",
                            "<tr><td>Dairy Products</td><td>30</td><td>2006</td></tr>",
                            "<tr><td>Beverages</td><td>10</td><td>2006</td></tr>",
                            "<tr><td>Grains/Cereals</td><td>20</td><td>2006</td></tr>",
                            "<tr><td>Condiments</td><td>5</td><td>2006</td></tr>",
                            "<tr><td>Confections</td><td>4</td><td>2006</td></tr>",
                            "<tr><td>Beverages</td><td>4</td><td>2006</td></tr>",
                            "<tr><td>Confections</td><td>21</td><td>2006</td></tr>",
                            "<tr><td>Beverages</td><td>70</td><td>2006</td></tr>",
                            "<tr><td>Seafood</td><td>30</td><td>2006</td></tr>",
                            "<tr><td>Dairy Products</td><td>40</td><td>2006</td></tr>",
                            "<tr><td>Condiments</td><td>80</td><td>2006</td></tr>",
                            "<tr><td>Condiments</td><td>6</td><td>2006</td></tr>",
                            "<tr><td>Seafood</td><td>12</td><td>2006</td></tr>",
                            "<tr><td>Produce</td><td>9</td><td>2006</td></tr>",
                            "<tr><td>Dairy Products</td><td>4</td><td>2006</td></tr>",
                            "<tr><td>Dairy Products</td><td>40</td><td>2006</td></tr>",
                            "<tr><td>Condiments</td><td>24</td><td>2006</td></tr>",
                            "<tr><td>Grains/Cereals</td><td>16</td><td>2006</td></tr>",
                            "<tr><td>Beverages</td><td>50</td><td>2006</td></tr>",
                            "<tr><td>Beverages</td><td>25</td><td>2006</td></tr>",
                            "<tr><td>Dairy Products</td><td>50</td><td>2006</td></tr>",
                            "<tr><td>Seafood</td><td>35</td><td>2006</td></tr>",
                            "<tr><td>Seafood</td><td>30</td><td>2006</td></tr>",
                            "<tr><td>Dairy Products</td><td>9</td><td>2006</td></tr>",
                            "<tr><td>Condiments</td><td>40</td><td>2006</td></tr>",
                            "<tr><td>Confections</td><td>10</td><td>2006</td></tr>",
                            "<tr><td>Confections</td><td>10</td><td>2006</td></tr>",
                            "<tr><td>Seafood</td><td>8</td><td>2006</td></tr>",
                            "<tr><td>Beverages</td><td>20</td><td>2006</td></tr>",
                            "<tr><td>Grains/Cereals</td><td>12</td><td>2006</td></tr>",
                            "<tr><td>Confections</td><td>50</td><td>2006</td></tr>",
                            "<tr><td>Dairy Products</td><td>25</td><td>2006</td></tr>",
                            "<tr><td>Meat/Poultry</td><td>15</td><td>2006</td></tr>",
                            "<tr><td>Seafood</td><td>40</td><td>2006</td></tr>",
                            "<tr><td>Grains/Cereals</td><td>10</td><td>2006</td></tr>",
                            "<tr><td>Confections</td><td>16</td><td>2006</td></tr>",
                            "<tr><td>Produce</td><td>10</td><td>2006</td></tr>",
                            "<tr><td>Confections</td><td>10</td><td>2006</td></tr>",
                            "<tr><td>Dairy Products</td><td>40</td><td>2006</td></tr>",
                            "<tr><td>Grains/Cereals</td><td>8</td><td>2006</td></tr>",
                            "<tr><td>Confections</td><td>10</td><td>2006</td></tr>",
                            "<tr><td>Beverages</td><td>7</td><td>2006</td></tr>",
                            "<tr><td>Dairy Products</td><td>25</td><td>2006</td></tr>",
                            "<tr><td>Dairy Products</td><td>6</td><td>2006</td></tr>",
                            "<tr><td>Produce</td><td>48</td><td>2006</td></tr>",
                            "<tr><td>Condiments</td><td>18</td><td>2006</td></tr>",
                            "<tr><td>Grains/Cereals</td><td>40</td><td>2006</td></tr>",
                            "<tr><td>Confections</td><td>24</td><td>2006</td></tr>",
                            "<tr><td>Seafood</td><td>20</td><td>2006</td></tr>",
                            "<tr><td>Seafood</td><td>28</td><td>2006</td></tr>",
                            "<tr><td>Dairy Products</td><td>25</td><td>2006</td></tr>",
                            "<tr><td>Meat/Poultry</td><td>20</td><td>2006</td></tr>",
                            "<tr><td>Seafood</td><td>15</td><td>2006</td></tr>",
                            "<tr><td>Condiments</td><td>10</td><td>2006</td></tr>",
                            "<tr><td>Meat/Poultry</td><td>70</td><td>2006</td></tr>",
                            "<tr><td>Confections</td><td>28</td><td>2006</td></tr>",
                            "<tr><td>Seafood</td><td>20</td><td>2006</td></tr>",
                            "<tr><td>Seafood</td><td>12</td><td>2006</td></tr>",
                            "<tr><td>Beverages</td><td>40</td><td>2006</td></tr>",
                            "<tr><td>Dairy Products</td><td>8</td><td>2006</td></tr>",
                            "<tr><td>Dairy Products</td><td>9</td><td>2006</td></tr>",
                            "<tr><td>Beverages</td><td>24</td><td>2006</td></tr>",
                            "<tr><td>Dairy Products</td><td>56</td><td>2006</td></tr>",
                            "<tr><td>Seafood</td><td>40</td><td>2006</td></tr>",
                            "<tr><td>Meat/Poultry</td><td>40</td><td>2006</td></tr>",
                            "<tr><td>Grains/Cereals</td><td>50</td><td>2006</td></tr>",
                            "<tr><td>Confections</td><td>4</td><td>2006</td></tr>",
                            "<tr><td>Beverages</td><td>15</td><td>2006</td></tr>",
                            "<tr><td>Condiments</td><td>35</td><td>2006</td></tr>",
                            "<tr><td>Condiments</td><td>70</td><td>2006</td></tr>",
                            "<tr><td>Condiments</td><td>70</td><td>2006</td></tr>",
                            "<tr><td>Confections</td><td>80</td><td>2006</td></tr>",
                            "<tr><td>Grains/Cereals</td><td>9</td><td>2006</td></tr>",
                            "<tr><td>Meat/Poultry</td><td>36</td><td>2006</td></tr>",
                            "<tr><td>Grains/Cereals</td><td>20</td><td>2006</td></tr>",
                            "<tr><td>Confections</td><td>10</td><td>2006</td></tr>",
                            "<tr><td>Beverages</td><td>50</td><td>2006</td></tr>",
                            "<tr><td>Seafood</td><td>4</td><td>2006</td></tr>",
                            "<tr><td>Beverages</td><td>6</td><td>2006</td></tr>",
                            "<tr><td>Beverages</td><td>15</td><td>2006</td></tr>",
                            "<tr><td>Grains/Cereals</td><td>25</td><td>2006</td></tr>",
                            "<tr><td>Meat/Poultry</td><td>24</td><td>2006</td></tr>",
                            "<tr><td>Confections</td><td>15</td><td>2006</td></tr>",
                            "<tr><td>Dairy Products</td><td>18</td><td>2006</td></tr>",
                            "<tr><td>Beverages</td><td>20</td><td>2006</td></tr>",
                            "<tr><td>Seafood</td><td>13</td><td>2006</td></tr>",
                            "<tr><td>Condiments</td><td>77</td><td>2006</td></tr>",
                            "<tr><td>Condiments</td><td>10</td><td>2006</td></tr>",
                            "<tr><td>Beverages</td><td>10</td><td>2006</td></tr>",
                            "<tr><td>Meat/Poultry</td><td>20</td><td>2006</td></tr>",
                            "<tr><td>Dairy Products</td><td>12</td><td>2006</td></tr>",
                            "<tr><td>Beverages</td><td>50</td><td>2006</td></tr>",
                            "<tr><td>Beverages</td><td>12</td><td>2006</td></tr>",
                            "<tr><td>Meat/Poultry</td><td>4</td><td>2006</td></tr>",
                            "<tr><td>Beverages</td><td>25</td><td>2006</td></tr>",
                            "<tr><td>Grains/Cereals</td><td>25</td><td>2006</td></tr>",
                            "<tr><td>Dairy Products</td><td>30</td><td>2006</td></tr>",
                            "<tr><td>Meat/Poultry</td><td>12</td><td>2006</td></tr>",
                            "<tr><td>Dairy Products</td><td>20</td><td>2006</td></tr>",
                            "<tr><td>Seafood</td><td>30</td><td>2006</td></tr>",
                            "<tr><td>Confections</td><td>16</td><td>2006</td></tr>",
                            "<tr><td>Dairy Products</td><td>8</td><td>2006</td></tr>",
                            "<tr><td>Beverages</td><td>10</td><td>2006</td></tr>",
                            "<tr><td>Beverages</td><td>10</td><td>2006</td></tr>",
                            "<tr><td>Seafood</td><td>20</td><td>2006</td></tr>",
                            "<tr><td>Confections</td><td>56</td><td>2006</td></tr>",
                            "<tr><td>Dairy Products</td><td>70</td><td>2006</td></tr>",
                            "<tr><td>Dairy Products</td><td>80</td><td>2006</td></tr>",
                            "<tr><td>Produce</td><td>30</td><td>2006</td></tr>",
                            "<tr><td>Meat/Poultry</td><td>35</td><td>2006</td></tr>",
                            "<tr><td>Beverages</td><td>10</td><td>2006</td></tr>",
                            "<tr><td>Confections</td><td>35</td><td>2006</td></tr>",
                            "<tr><td>Meat/Poultry</td><td>28</td><td>2006</td></tr>",
                            "<tr><td>Beverages</td><td>54</td><td>2006</td></tr>",
                            "<tr><td>Dairy Products</td><td>55</td><td>2006</td></tr>",
                            "<tr><td>Confections</td><td>50</td><td>2006</td></tr>",
                            "<tr><td>Produce</td><td>20</td><td>2006</td></tr>",
                            "<tr><td>Meat/Poultry</td><td>24</td><td>2006</td></tr>",
                            "<tr><td>Dairy Products</td><td>20</td><td>2006</td></tr>",
                            "<tr><td>Beverages</td><td>12</td><td>2006</td></tr>",
                            "<tr><td>Beverages</td><td>12</td><td>2006</td></tr>",
                            "<tr><td>Dairy Products</td><td>30</td><td>2006</td></tr>",
                            "<tr><td>Dairy Products</td><td>5</td><td>2006</td></tr>",
                            "<tr><td>Dairy Products</td><td>24</td><td>2006</td></tr>",
                            "<tr><td>Condiments</td><td>5</td><td>2006</td></tr>",
                            "<tr><td>Condiments</td><td>5</td><td>2006</td></tr>",
                            "<tr><td>Beverages</td><td>36</td><td>2006</td></tr>",
                            "<tr><td>Meat/Poultry</td><td>18</td><td>2006</td></tr>",
                            "<tr><td>Condiments</td><td>15</td><td>2006</td></tr>",
                            "<tr><td>Condiments</td><td>7</td><td>2006</td></tr>",
                            "<tr><td>Confections</td><td>5</td><td>2006</td></tr>",
                            "<tr><td>Produce</td><td>13</td><td>2006</td></tr>",
                            "<tr><td>Grains/Cereals</td><td>25</td><td>2006</td></tr>",
                            "<tr><td>Grains/Cereals</td><td>35</td><td>2006</td></tr>",
                            "<tr><td>Meat/Poultry</td><td>20</td><td>2006</td></tr>",
                            "<tr><td>Grains/Cereals</td><td>18</td><td>2006</td></tr>",
                            "<tr><td>Beverages</td><td>15</td><td>2006</td></tr>",
                            "<tr><td>Grains/Cereals</td><td>30</td><td>2006</td></tr>",
                            "<tr><td>Produce</td><td>20</td><td>2006</td></tr>",
                            "<tr><td>Seafood</td><td>6</td><td>2006</td></tr>",
                            "<tr><td>Confections</td><td>12</td><td>2006</td></tr>",
                            "<tr><td>Beverages</td><td>40</td><td>2006</td></tr>",
                            "<tr><td>Dairy Products</td><td>70</td><td>2006</td></tr>",
                            "<tr><td>Dairy Products</td><td>42</td><td>2006</td></tr>",
                            "<tr><td>Seafood</td><td>80</td><td>2006</td></tr>",
                            "<tr><td>Dairy Products</td><td>50</td><td>2006</td></tr>",
                            "<tr><td>Dairy Products</td><td>30</td><td>2006</td></tr>",
                            "<tr><td>Seafood</td><td>15</td><td>2006</td></tr>",
                            "<tr><td>Produce</td><td>15</td><td>2006</td></tr>",
                            "<tr><td>Meat/Poultry</td><td>10</td><td>2006</td></tr>",
                            "<tr><td>Dairy Products</td><td>42</td><td>2006</td></tr>",
                            "<tr><td>Produce</td><td>20</td><td>2006</td></tr>",
                            "<tr><td>Beverages</td><td>20</td><td>2006</td></tr>",
                            "<tr><td>Dairy Products</td><td>6</td><td>2006</td></tr>",
                            "<tr><td>Seafood</td><td>8</td><td>2006</td></tr>",
                            "<tr><td>Condiments</td><td>16</td><td>2006</td></tr>",
                            "<tr><td>Condiments</td><td>20</td><td>2006</td></tr>",
                            "<tr><td>Seafood</td><td>18</td><td>2006</td></tr>",
                            "<tr><td>Meat/Poultry</td><td>20</td><td>2006</td></tr>",
                            "<tr><td>Dairy Products</td><td>6</td><td>2006</td></tr>",
                            "<tr><td>Beverages</td><td>30</td><td>2006</td></tr>",
                            "<tr><td>Produce</td><td>14</td><td>2006</td></tr>",
                            "<tr><td>Condiments</td><td>32</td><td>2006</td></tr>",
                            "<tr><td>Seafood</td><td>9</td><td>2006</td></tr>",
                            "<tr><td>Meat/Poultry</td><td>14</td><td>2006</td></tr>",
                            "<tr><td>Dairy Products</td><td>60</td><td>2006</td></tr>",
                            "<tr><td>Produce</td><td>50</td><td>2006</td></tr>",
                            "<tr><td>Seafood</td><td>20</td><td>2006</td></tr>",
                            "<tr><td>Confections</td><td>15</td><td>2006</td></tr>",
                            "<tr><td>Grains/Cereals</td><td>20</td><td>2006</td></tr>",
                            "<tr><td>Confections</td><td>28</td><td>2006</td></tr>",
                            "<tr><td>Dairy Products</td><td>15</td><td>2006</td></tr>",
                            "<tr><td>Produce</td><td>10</td><td>2006</td></tr>",
                            "<tr><td>Dairy Products</td><td>20</td><td>2006</td></tr>",
                            "<tr><td>Confections</td><td>8</td><td>2006</td></tr>",
                            "<tr><td>Beverages</td><td>15</td><td>2006</td></tr>",
                            "<tr><td>Beverages</td><td>10</td><td>2006</td></tr>",
                            "<tr><td>Beverages</td><td>15</td><td>2006</td></tr>",
                            "<tr><td>Produce</td><td>6</td><td>2006</td></tr>",
                            "<tr><td>Dairy Products</td><td>12</td><td>2006</td></tr>",
                            "<tr><td>Dairy Products</td><td>15</td><td>2006</td></tr>",
                            "<tr><td>Seafood</td><td>15</td><td>2006</td></tr>",
                            "<tr><td>Grains/Cereals</td><td>20</td><td>2006</td></tr>",
                            "<tr><td>Meat/Poultry</td><td>40</td><td>2006</td></tr>",
                            "<tr><td>Seafood</td><td>16</td><td>2006</td></tr>",
                            "<tr><td>Meat/Poultry</td><td>15</td><td>2006</td></tr>",
                            "<tr><td>Confections</td><td>20</td><td>2006</td></tr>",
                            "<tr><td>Beverages</td><td>30</td><td>2006</td></tr>",
                            "<tr><td>Dairy Products</td><td>60</td><td>2006</td></tr>",
                            "<tr><td>Beverages</td><td>40</td><td>2006</td></tr>",
                            "<tr><td>Seafood</td><td>45</td><td>2006</td></tr>",
                            "<tr><td>Dairy Products</td><td>24</td><td>2006</td></tr>",
                            "<tr><td>Seafood</td><td>18</td><td>2006</td></tr>",
                            "<tr><td>Dairy Products</td><td>50</td><td>2006</td></tr>",
                            "<tr><td>Beverages</td><td>25</td><td>2006</td></tr>",
                            "<tr><td>Produce</td><td>42</td><td>2006</td></tr>",
                            "<tr><td>Confections</td><td>7</td><td>2006</td></tr>",
                            "<tr><td>Confections</td><td>70</td><td>2006</td></tr>",
                            "<tr><td>Dairy Products</td><td>32</td><td>2006</td></tr>",
                            "<tr><td>Seafood</td><td>10</td><td>2006</td></tr>",
                            "<tr><td>Confections</td><td>10</td><td>2006</td></tr>",
                            "<tr><td>Seafood</td><td>28</td><td>2006</td></tr>",
                            "<tr><td>Meat/Poultry</td><td>70</td><td>2006</td></tr>",
                            "<tr><td>Dairy Products</td><td>8</td><td>2006</td></tr>",
                            "<tr><td>Grains/Cereals</td><td>40</td><td>2006</td></tr>",
                            "<tr><td>Dairy Products</td><td>60</td><td>2006</td></tr>",
                            "<tr><td>Dairy Products</td><td>21</td><td>2006</td></tr>",
                            "<tr><td>Confections</td><td>10</td><td>2006</td></tr>",
                            "<tr><td>Produce</td><td>18</td><td>2006</td></tr>",
                            "<tr><td>Beverages</td><td>30</td><td>2006</td></tr>",
                            "<tr><td>Meat/Poultry</td><td>120</td><td>2006</td></tr>",
                            "<tr><td>Confections</td><td>60</td><td>2006</td></tr>",
                            "<tr><td>Dairy Products</td><td>30</td><td>2006</td></tr>",
                            "<tr><td>Beverages</td><td>35</td><td>2006</td></tr>",
                            "<tr><td>Condiments</td><td>14</td><td>2006</td></tr>",
                            "<tr><td>Meat/Poultry</td><td>21</td><td>2007</td></tr>",
                            "<tr><td>Beverages</td><td>35</td><td>2007</td></tr>",
                            "<tr><td>Confections</td><td>30</td><td>2007</td></tr>",
                            "<tr><td>Seafood</td><td>18</td><td>2007</td></tr>",
                            "<tr><td>Grains/Cereals</td><td>70</td><td>2007</td></tr>",
                            "<tr><td>Condiments</td><td>20</td><td>2007</td></tr>",
                            "<tr><td>Dairy Products</td><td>60</td><td>2007</td></tr>",
                            "<tr><td>Grains/Cereals</td><td>60</td><td>2007</td></tr>",
                            "<tr><td>Condiments</td><td>65</td><td>2007</td></tr>",
                            "<tr><td>Confections</td><td>21</td><td>2007</td></tr>",
                            "<tr><td>Confections</td><td>70</td><td>2007</td></tr>",
                            "<tr><td>Confections</td><td>30</td><td>2007</td></tr>",
                            "<tr><td>Grains/Cereals</td><td>40</td><td>2007</td></tr>",
                            "<tr><td>Confections</td><td>30</td><td>2007</td></tr>",
                            "<tr><td>Condiments</td><td>50</td><td>2007</td></tr>",
                            "<tr><td>Beverages</td><td>10</td><td>2007</td></tr>",
                            "<tr><td>Confections</td><td>30</td><td>2007</td></tr>",
                            "<tr><td>Produce</td><td>42</td><td>2007</td></tr>",
                            "<tr><td>Seafood</td><td>5</td><td>2007</td></tr>",
                            "<tr><td>Seafood</td><td>2</td><td>2007</td></tr>",
                            "<tr><td>Dairy Products</td><td>30</td><td>2007</td></tr>",
                            "<tr><td>Dairy Products</td><td>15</td><td>2007</td></tr>",
                            "<tr><td>Dairy Products</td><td>15</td><td>2007</td></tr>",
                            "<tr><td>Seafood</td><td>10</td><td>2007</td></tr>",
                            "<tr><td>Meat/Poultry</td><td>6</td><td>2007</td></tr>",
                            "<tr><td>Confections</td><td>35</td><td>2007</td></tr>",
                            "<tr><td>Produce</td><td>12</td><td>2007</td></tr>",
                            "<tr><td>Confections</td><td>12</td><td>2007</td></tr>",
                            "<tr><td>Dairy Products</td><td>49</td><td>2007</td></tr>",
                            "<tr><td>Dairy Products</td><td>16</td><td>2007</td></tr>",
                            "<tr><td>Seafood</td><td>25</td><td>2007</td></tr>",
                            "<tr><td>Condiments</td><td>40</td><td>2007</td></tr>",
                            "<tr><td>Dairy Products</td><td>9</td><td>2007</td></tr>",
                            "<tr><td>Produce</td><td>20</td><td>2007</td></tr>",
                            "<tr><td>Beverages</td><td>24</td><td>2007</td></tr>",
                            "<tr><td>Confections</td><td>40</td><td>2007</td></tr>",
                            "<tr><td>Beverages</td><td>14</td><td>2007</td></tr>",
                            "<tr><td>Confections</td><td>18</td><td>2007</td></tr>",
                            "<tr><td>Dairy Products</td><td>50</td><td>2007</td></tr>",
                            "<tr><td>Meat/Poultry</td><td>2</td><td>2007</td></tr>",
                            "<tr><td>Dairy Products</td><td>20</td><td>2007</td></tr>",
                            "<tr><td>Confections</td><td>20</td><td>2007</td></tr>",
                            "<tr><td>Meat/Poultry</td><td>10</td><td>2007</td></tr>",
                            "<tr><td>Grains/Cereals</td><td>20</td><td>2007</td></tr>",
                            "<tr><td>Beverages</td><td>50</td><td>2007</td></tr>",
                            "<tr><td>Seafood</td><td>2</td><td>2007</td></tr>",
                            "<tr><td>Confections</td><td>36</td><td>2007</td></tr>",
                            "<tr><td>Condiments</td><td>35</td><td>2007</td></tr>",
                            "<tr><td>Beverages</td><td>60</td><td>2007</td></tr>",
                            "<tr><td>Confections</td><td>55</td><td>2007</td></tr>",
                            "<tr><td>Condiments</td><td>16</td><td>2007</td></tr>",
                            "<tr><td>Produce</td><td>15</td><td>2007</td></tr>",
                            "<tr><td>Dairy Products</td><td>60</td><td>2007</td></tr>",
                            "<tr><td>Dairy Products</td><td>20</td><td>2007</td></tr>",
                            "<tr><td>Meat/Poultry</td><td>20</td><td>2007</td></tr>",
                            "<tr><td>Seafood</td><td>2</td><td>2007</td></tr>",
                            "<tr><td>Beverages</td><td>8</td><td>2007</td></tr>",
                            "<tr><td>Seafood</td><td>20</td><td>2007</td></tr>",
                            "<tr><td>Confections</td><td>4</td><td>2007</td></tr>",
                            "<tr><td>Confections</td><td>30</td><td>2007</td></tr>",
                            "<tr><td>Meat/Poultry</td><td>15</td><td>2007</td></tr>",
                            "<tr><td>Condiments</td><td>10</td><td>2007</td></tr>",
                            "<tr><td>Confections</td><td>2</td><td>2007</td></tr>",
                            "<tr><td>Dairy Products</td><td>14</td><td>2007</td></tr>",
                            "<tr><td>Dairy Products</td><td>20</td><td>2007</td></tr>",
                            "<tr><td>Beverages</td><td>60</td><td>2007</td></tr>",
                            "<tr><td>Beverages</td><td>49</td><td>2007</td></tr>",
                            "<tr><td>Confections</td><td>30</td><td>2007</td></tr>",
                            "<tr><td>Meat/Poultry</td><td>10</td><td>2007</td></tr>",
                            "<tr><td>Beverages</td><td>20</td><td>2007</td></tr>",
                            "<tr><td>Grains/Cereals</td><td>5</td><td>2007</td></tr>",
                            "<tr><td>Grains/Cereals</td><td>7</td><td>2007</td></tr>",
                            "<tr><td>Produce</td><td>35</td><td>2007</td></tr>",
                            "<tr><td>Seafood</td><td>20</td><td>2007</td></tr>",
                            "<tr><td>Confections</td><td>40</td><td>2007</td></tr>",
                            "<tr><td>Condiments</td><td>35</td><td>2007</td></tr>",
                            "<tr><td>Meat/Poultry</td><td>45</td><td>2007</td></tr>",
                            "<tr><td>Confections</td><td>50</td><td>2007</td></tr>",
                            "<tr><td>Grains/Cereals</td><td>30</td><td>2007</td></tr>",
                            "<tr><td>Dairy Products</td><td>70</td><td>2007</td></tr>",
                            "<tr><td>Meat/Poultry</td><td>50</td><td>2007</td></tr>",
                            "<tr><td>Seafood</td><td>50</td><td>2007</td></tr>",
                            "<tr><td>Confections</td><td>30</td><td>2007</td></tr>",
                            "<tr><td>Confections</td><td>10</td><td>2007</td></tr>",
                            "<tr><td>Meat/Poultry</td><td>40</td><td>2007</td></tr>",
                            "<tr><td>Grains/Cereals</td><td>28</td><td>2007</td></tr>",
                            "<tr><td>Dairy Products</td><td>6</td><td>2007</td></tr>",
                            "<tr><td>Beverages</td><td>18</td><td>2007</td></tr>",
                            "<tr><td>Beverages</td><td>10</td><td>2007</td></tr>",
                            "<tr><td>Grains/Cereals</td><td>12</td><td>2007</td></tr>",
                            "<tr><td>Dairy Products</td><td>10</td><td>2007</td></tr>",
                            "<tr><td>Seafood</td><td>5</td><td>2007</td></tr>",
                            "<tr><td>Grains/Cereals</td><td>40</td><td>2007</td></tr>",
                            "<tr><td>Grains/Cereals</td><td>30</td><td>2007</td></tr>",
                            "<tr><td>Beverages</td><td>24</td><td>2007</td></tr>",
                            "<tr><td>Meat/Poultry</td><td>15</td><td>2007</td></tr>",
                            "<tr><td>Confections</td><td>15</td><td>2007</td></tr>",
                            "<tr><td>Beverages</td><td>20</td><td>2007</td></tr>",
                            "<tr><td>Grains/Cereals</td><td>15</td><td>2007</td></tr>",
                            "<tr><td>Dairy Products</td><td>15</td><td>2007</td></tr>",
                            "<tr><td>Confections</td><td>16</td><td>2007</td></tr>",
                            "<tr><td>Grains/Cereals</td><td>6</td><td>2007</td></tr>",
                            "<tr><td>Produce</td><td>30</td><td>2007</td></tr>",
                            "<tr><td>Beverages</td><td>45</td><td>2007</td></tr>",
                            "<tr><td>Confections</td><td>49</td><td>2007</td></tr>",
                            "<tr><td>Meat/Poultry</td><td>24</td><td>2007</td></tr>",
                            "<tr><td>Condiments</td><td>90</td><td>2007</td></tr>",
                            "<tr><td>Confections</td><td>50</td><td>2007</td></tr>",
                            "<tr><td>Dairy Products</td><td>30</td><td>2007</td></tr>",
                            "<tr><td>Meat/Poultry</td><td>80</td><td>2007</td></tr>",
                            "<tr><td>Condiments</td><td>60</td><td>2007</td></tr>",
                            "<tr><td>Dairy Products</td><td>6</td><td>2007</td></tr>",
                            "<tr><td>Produce</td><td>12</td><td>2007</td></tr>",
                            "<tr><td>Meat/Poultry</td><td>10</td><td>2007</td></tr>",
                            "<tr><td>Confections</td><td>15</td><td>2007</td></tr>",
                            "<tr><td>Beverages</td><td>8</td><td>2007</td></tr>",
                            "<tr><td>Seafood</td><td>30</td><td>2007</td></tr>",
                            "<tr><td>Beverages</td><td>6</td><td>2007</td></tr>",
                            "<tr><td>Meat/Poultry</td><td>15</td><td>2007</td></tr>",
                            "<tr><td>Confections</td><td>12</td><td>2007</td></tr>",
                            "<tr><td>Beverages</td><td>20</td><td>2007</td></tr>",
                            "<tr><td>Dairy Products</td><td>3</td><td>2007</td></tr>",
                            "<tr><td>Grains/Cereals</td><td>15</td><td>2007</td></tr>",
                            "<tr><td>Confections</td><td>40</td><td>2007</td></tr>",
                            "<tr><td>Condiments</td><td>35</td><td>2007</td></tr>",
                            "<tr><td>Dairy Products</td><td>2</td><td>2007</td></tr>",
                            "<tr><td>Confections</td><td>6</td><td>2007</td></tr>",
                            "<tr><td>Seafood</td><td>20</td><td>2007</td></tr>",
                            "<tr><td>Seafood</td><td>14</td><td>2007</td></tr>",
                            "<tr><td>Grains/Cereals</td><td>20</td><td>2007</td></tr>",
                            "<tr><td>Confections</td><td>35</td><td>2007</td></tr>",
                            "<tr><td>Seafood</td><td>20</td><td>2007</td></tr>",
                            "<tr><td>Meat/Poultry</td><td>6</td><td>2007</td></tr>",
                            "<tr><td>Meat/Poultry</td><td>120</td><td>2007</td></tr>",
                            "<tr><td>Grains/Cereals</td><td>35</td><td>2007</td></tr>",
                            "<tr><td>Condiments</td><td>28</td><td>2007</td></tr>",
                            "<tr><td>Condiments</td><td>55</td><td>2007</td></tr>",
                            "<tr><td>Produce</td><td>15</td><td>2007</td></tr>",
                            "<tr><td>Condiments</td><td>100</td><td>2007</td></tr>",
                            "<tr><td>Confections</td><td>15</td><td>2007</td></tr>",
                            "<tr><td>Beverages</td><td>25</td><td>2007</td></tr>",
                            "<tr><td>Confections</td><td>20</td><td>2007</td></tr>",
                            "<tr><td>Dairy Products</td><td>20</td><td>2007</td></tr>",
                            "<tr><td>Seafood</td><td>10</td><td>2007</td></tr>",
                            "<tr><td>Beverages</td><td>20</td><td>2007</td></tr>",
                            "<tr><td>Meat/Poultry</td><td>50</td><td>2007</td></tr>",
                            "<tr><td>Condiments</td><td>25</td><td>2007</td></tr>",
                            "<tr><td>Dairy Products</td><td>30</td><td>2007</td></tr>",
                            "<tr><td>Confections</td><td>40</td><td>2007</td></tr>",
                            "<tr><td>Confections</td><td>21</td><td>2007</td></tr>",
                            "<tr><td>Dairy Products</td><td>36</td><td>2007</td></tr>",
                            "<tr><td>Confections</td><td>30</td><td>2007</td></tr>",
                            "<tr><td>Produce</td><td>30</td><td>2007</td></tr>",
                            "<tr><td>Beverages</td><td>20</td><td>2007</td></tr>",
                            "<tr><td>Grains/Cereals</td><td>15</td><td>2007</td></tr>",
                            "<tr><td>Dairy Products</td><td>50</td><td>2007</td></tr>",
                            "<tr><td>Produce</td><td>16</td><td>2007</td></tr>",
                            "<tr><td>Seafood</td><td>20</td><td>2007</td></tr>",
                            "<tr><td>Dairy Products</td><td>40</td><td>2007</td></tr>",
                            "<tr><td>Confections</td><td>21</td><td>2007</td></tr>",
                            "<tr><td>Beverages</td><td>4</td><td>2007</td></tr>",
                            "<tr><td>Confections</td><td>40</td><td>2007</td></tr>",
                            "<tr><td>Seafood</td><td>28</td><td>2007</td></tr>",
                            "<tr><td>Meat/Poultry</td><td>60</td><td>2007</td></tr>",
                            "<tr><td>Seafood</td><td>1</td><td>2007</td></tr>",
                            "<tr><td>Grains/Cereals</td><td>21</td><td>2007</td></tr>",
                            "<tr><td>Confections</td><td>21</td><td>2007</td></tr>",
                            "<tr><td>Grains/Cereals</td><td>50</td><td>2007</td></tr>",
                            "<tr><td>Condiments</td><td>16</td><td>2007</td></tr>",
                            "<tr><td>Beverages</td><td>3</td><td>2007</td></tr>",
                            "<tr><td>Grains/Cereals</td><td>30</td><td>2007</td></tr>",
                            "<tr><td>Dairy Products</td><td>20</td><td>2007</td></tr>",
                            "<tr><td>Beverages</td><td>25</td><td>2007</td></tr>",
                            "<tr><td>Meat/Poultry</td><td>18</td><td>2007</td></tr>",
                            "<tr><td>Seafood</td><td>20</td><td>2007</td></tr>",
                            "<tr><td>Seafood</td><td>30</td><td>2007</td></tr>",
                            "<tr><td>Confections</td><td>25</td><td>2007</td></tr>",
                            "<tr><td>Dairy Products</td><td>10</td><td>2007</td></tr>",
                            "<tr><td>Seafood</td><td>5</td><td>2007</td></tr>",
                            "<tr><td>Beverages</td><td>28</td><td>2007</td></tr>",
                            "<tr><td>Confections</td><td>12</td><td>2007</td></tr>",
                            "<tr><td>Seafood</td><td>8</td><td>2007</td></tr>",
                            "<tr><td>Beverages</td><td>15</td><td>2007</td></tr>",
                            "<tr><td>Beverages</td><td>40</td><td>2007</td></tr>",
                            "<tr><td>Confections</td><td>35</td><td>2007</td></tr>",
                            "<tr><td>Condiments</td><td>2</td><td>2007</td></tr>",
                            "<tr><td>Seafood</td><td>30</td><td>2007</td></tr>",
                            "<tr><td>Grains/Cereals</td><td>15</td><td>2007</td></tr>",
                            "<tr><td>Grains/Cereals</td><td>8</td><td>2007</td></tr>",
                            "<tr><td>Produce</td><td>30</td><td>2007</td></tr>",
                            "<tr><td>Grains/Cereals</td><td>20</td><td>2007</td></tr>",
                            "<tr><td>Beverages</td><td>80</td><td>2007</td></tr>",
                            "<tr><td>Produce</td><td>18</td><td>2007</td></tr>",
                            "<tr><td>Dairy Products</td><td>12</td><td>2007</td></tr>",
                            "<tr><td>Dairy Products</td><td>12</td><td>2007</td></tr>",
                            "<tr><td>Produce</td><td>12</td><td>2007</td></tr>",
                            "<tr><td>Produce</td><td>18</td><td>2007</td></tr>",
                            "<tr><td>Seafood</td><td>21</td><td>2007</td></tr>",
                            "<tr><td>Beverages</td><td>10</td><td>2007</td></tr>",
                            "<tr><td>Dairy Products</td><td>35</td><td>2007</td></tr>",
                            "<tr><td>Condiments</td><td>60</td><td>2007</td></tr>",
                            "<tr><td>Beverages</td><td>42</td><td>2007</td></tr>",
                            "<tr><td>Meat/Poultry</td><td>2</td><td>2007</td></tr>",
                            "<tr><td>Beverages</td><td>12</td><td>2007</td></tr>",
                            "<tr><td>Beverages</td><td>15</td><td>2007</td></tr>",
                            "<tr><td>Confections</td><td>21</td><td>2007</td></tr>",
                            "<tr><td>Beverages</td><td>20</td><td>2007</td></tr>",
                            "<tr><td>Seafood</td><td>20</td><td>2007</td></tr>",
                            "<tr><td>Beverages</td><td>30</td><td>2007</td></tr>",
                            "<tr><td>Meat/Poultry</td><td>28</td><td>2007</td></tr>",
                            "<tr><td>Dairy Products</td><td>60</td><td>2007</td></tr>",
                            "<tr><td>Grains/Cereals</td><td>30</td><td>2007</td></tr>",
                            "<tr><td>Confections</td><td>30</td><td>2007</td></tr>",
                            "<tr><td>Dairy Products</td><td>12</td><td>2007</td></tr>",
                            "<tr><td>Confections</td><td>24</td><td>2007</td></tr>",
                            "<tr><td>Dairy Products</td><td>40</td><td>2007</td></tr>",
                            "<tr><td>Seafood</td><td>10</td><td>2007</td></tr>",
                            "<tr><td>Beverages</td><td>35</td><td>2007</td></tr>",
                            "<tr><td>Condiments</td><td>30</td><td>2007</td></tr>",
                            "<tr><td>Confections</td><td>14</td><td>2007</td></tr>",
                            "<tr><td>Seafood</td><td>10</td><td>2007</td></tr>",
                            "<tr><td>Produce</td><td>3</td><td>2007</td></tr>",
                            "<tr><td>Beverages</td><td>20</td><td>2007</td></tr>",
                            "<tr><td>Condiments</td><td>20</td><td>2007</td></tr>",
                            "<tr><td>Meat/Poultry</td><td>30</td><td>2007</td></tr>",
                            "<tr><td>Beverages</td><td>60</td><td>2007</td></tr>",
                            "<tr><td>Dairy Products</td><td>5</td><td>2007</td></tr>",
                            "<tr><td>Produce</td><td>25</td><td>2007</td></tr>",
                            "<tr><td>Produce</td><td>16</td><td>2007</td></tr>",
                            "<tr><td>Confections</td><td>5</td><td>2007</td></tr>",
                            "<tr><td>Confections</td><td>30</td><td>2007</td></tr>",
                            "<tr><td>Meat/Poultry</td><td>24</td><td>2007</td></tr>",
                            "<tr><td>Dairy Products</td><td>30</td><td>2007</td></tr>",
                            "<tr><td>Seafood</td><td>20</td><td>2007</td></tr>",
                            "<tr><td>Dairy Products</td><td>15</td><td>2007</td></tr>",
                            "<tr><td>Confections</td><td>18</td><td>2007</td></tr>",
                            "<tr><td>Dairy Products</td><td>60</td><td>2007</td></tr>",
                            "<tr><td>Confections</td><td>30</td><td>2007</td></tr>",
                            "<tr><td>Beverages</td><td>36</td><td>2007</td></tr>",
                            "<tr><td>Condiments</td><td>15</td><td>2007</td></tr>",
                            "<tr><td>Condiments</td><td>7</td><td>2007</td></tr>",
                            "<tr><td>Confections</td><td>60</td><td>2007</td></tr>",
                            "<tr><td>Grains/Cereals</td><td>20</td><td>2007</td></tr>",
                            "<tr><td>Condiments</td><td>15</td><td>2007</td></tr>",
                            "<tr><td>Condiments</td><td>10</td><td>2007</td></tr>",
                            "<tr><td>Dairy Products</td><td>10</td><td>2007</td></tr>",
                            "<tr><td>Grains/Cereals</td><td>30</td><td>2007</td></tr>",
                            "<tr><td>Grains/Cereals</td><td>10</td><td>2007</td></tr>",
                            "<tr><td>Seafood</td><td>20</td><td>2007</td></tr>",
                            "<tr><td>Condiments</td><td>5</td><td>2007</td></tr>",
                            "<tr><td>Dairy Products</td><td>20</td><td>2007</td></tr>",
                            "<tr><td>Grains/Cereals</td><td>14</td><td>2007</td></tr>",
                            "<tr><td>Dairy Products</td><td>25</td><td>2007</td></tr>",
                            "<tr><td>Condiments</td><td>25</td><td>2007</td></tr>",
                            "<tr><td>Beverages</td><td>14</td><td>2007</td></tr>",
                            "<tr><td>Seafood</td><td>5</td><td>2007</td></tr>",
                            "<tr><td>Grains/Cereals</td><td>30</td><td>2007</td></tr>",
                            "<tr><td>Produce</td><td>20</td><td>2007</td></tr>",
                            "<tr><td>Confections</td><td>25</td><td>2007</td></tr>",
                            "<tr><td>Condiments</td><td>12</td><td>2007</td></tr>",
                            "<tr><td>Produce</td><td>8</td><td>2007</td></tr>",
                            "<tr><td>Meat/Poultry</td><td>20</td><td>2007</td></tr>",
                            "<tr><td>Seafood</td><td>21</td><td>2007</td></tr>",
                            "<tr><td>Meat/Poultry</td><td>6</td><td>2007</td></tr>",
                            "<tr><td>Beverages</td><td>30</td><td>2007</td></tr>",
                            "<tr><td>Produce</td><td>70</td><td>2007</td></tr>",
                            "<tr><td>Condiments</td><td>20</td><td>2007</td></tr>",
                            "<tr><td>Beverages</td><td>12</td><td>2007</td></tr>",
                            "<tr><td>Confections</td><td>12</td><td>2007</td></tr>",
                            "<tr><td>Meat/Poultry</td><td>10</td><td>2007</td></tr>",
                            "<tr><td>Condiments</td><td>25</td><td>2007</td></tr>",
                            "<tr><td>Confections</td><td>3</td><td>2007</td></tr>",
                            "<tr><td>Confections</td><td>18</td><td>2007</td></tr>",
                            "<tr><td>Beverages</td><td>14</td><td>2007</td></tr>",
                            "<tr><td>Beverages</td><td>15</td><td>2007</td></tr>",
                            "<tr><td>Confections</td><td>15</td><td>2007</td></tr>",
                            "<tr><td>Seafood</td><td>10</td><td>2007</td></tr>",
                            "<tr><td>Beverages</td><td>10</td><td>2007</td></tr>",
                            "<tr><td>Produce</td><td>3</td><td>2007</td></tr>",
                            "<tr><td>Meat/Poultry</td><td>36</td><td>2007</td></tr>",
                            "<tr><td>Beverages</td><td>36</td><td>2007</td></tr>",
                            "<tr><td>Condiments</td><td>50</td><td>2007</td></tr>",
                            "<tr><td>Produce</td><td>50</td><td>2007</td></tr>",
                            "<tr><td>Condiments</td><td>10</td><td>2007</td></tr>",
                            "<tr><td>Beverages</td><td>10</td><td>2007</td></tr>",
                            "<tr><td>Seafood</td><td>9</td><td>2007</td></tr>",
                            "<tr><td>Confections</td><td>6</td><td>2007</td></tr>",
                            "<tr><td>Dairy Products</td><td>12</td><td>2007</td></tr>",
                            "<tr><td>Confections</td><td>40</td><td>2007</td></tr>",
                            "<tr><td>Dairy Products</td><td>50</td><td>2007</td></tr>",
                            "<tr><td>Condiments</td><td>15</td><td>2007</td></tr>",
                            "<tr><td>Confections</td><td>39</td><td>2007</td></tr>",
                            "<tr><td>Produce</td><td>35</td><td>2007</td></tr>",
                            "<tr><td>Grains/Cereals</td><td>70</td><td>2007</td></tr>",
                            "<tr><td>Condiments</td><td>39</td><td>2007</td></tr>",
                            "<tr><td>Beverages</td><td>50</td><td>2007</td></tr>",
                            "<tr><td>Meat/Poultry</td><td>16</td><td>2007</td></tr>",
                            "<tr><td>Confections</td><td>50</td><td>2007</td></tr>",
                            "<tr><td>Confections</td><td>120</td><td>2007</td></tr>",
                            "<tr><td>Dairy Products</td><td>16</td><td>2007</td></tr>",
                            "<tr><td>Dairy Products</td><td>84</td><td>2007</td></tr>",
                            "<tr><td>Seafood</td><td>25</td><td>2007</td></tr>",
                            "<tr><td>Seafood</td><td>80</td><td>2007</td></tr>",
                            "<tr><td>Grains/Cereals</td><td>20</td><td>2007</td></tr>",
                            "<tr><td>Grains/Cereals</td><td>6</td><td>2007</td></tr>",
                            "<tr><td>Dairy Products</td><td>4</td><td>2007</td></tr>",
                            "<tr><td>Beverages</td><td>6</td><td>2007</td></tr>",
                            "<tr><td>Beverages</td><td>5</td><td>2007</td></tr>",
                            "<tr><td>Beverages</td><td>15</td><td>2007</td></tr>",
                            "<tr><td>Condiments</td><td>9</td><td>2007</td></tr>",
                            "<tr><td>Seafood</td><td>16</td><td>2007</td></tr>",
                            "<tr><td>Grains/Cereals</td><td>40</td><td>2007</td></tr>",
                            "<tr><td>Dairy Products</td><td>10</td><td>2007</td></tr>",
                            "<tr><td>Beverages</td><td>8</td><td>2007</td></tr>",
                            "<tr><td>Meat/Poultry</td><td>5</td><td>2007</td></tr>",
                            "<tr><td>Beverages</td><td>3</td><td>2007</td></tr>",
                            "<tr><td>Seafood</td><td>10</td><td>2007</td></tr>",
                            "<tr><td>Confections</td><td>6</td><td>2007</td></tr>",
                            "<tr><td>Beverages</td><td>40</td><td>2007</td></tr>",
                            "<tr><td>Condiments</td><td>24</td><td>2007</td></tr>",
                            "<tr><td>Seafood</td><td>20</td><td>2007</td></tr>",
                            "<tr><td>Seafood</td><td>25</td><td>2007</td></tr>",
                            "<tr><td>Meat/Poultry</td><td>25</td><td>2007</td></tr>",
                            "<tr><td>Confections</td><td>15</td><td>2007</td></tr>",
                            "<tr><td>Seafood</td><td>18</td><td>2007</td></tr>",
                            "<tr><td>Seafood</td><td>6</td><td>2007</td></tr>",
                            "<tr><td>Seafood</td><td>2</td><td>2007</td></tr>",
                            "<tr><td>Seafood</td><td>10</td><td>2007</td></tr>",
                            "<tr><td>Beverages</td><td>60</td><td>2007</td></tr>",
                            "<tr><td>Meat/Poultry</td><td>15</td><td>2007</td></tr>",
                            "<tr><td>Seafood</td><td>30</td><td>2007</td></tr>",
                            "<tr><td>Seafood</td><td>15</td><td>2007</td></tr>",
                            "<tr><td>Beverages</td><td>8</td><td>2007</td></tr>",
                            "<tr><td>Seafood</td><td>10</td><td>2007</td></tr>",
                            "<tr><td>Grains/Cereals</td><td>30</td><td>2007</td></tr>",
                            "<tr><td>Condiments</td><td>50</td><td>2007</td></tr>",
                            "<tr><td>Seafood</td><td>30</td><td>2007</td></tr>",
                            "<tr><td>Dairy Products</td><td>3</td><td>2007</td></tr>",
                            "<tr><td>Dairy Products</td><td>8</td><td>2007</td></tr>",
                            "<tr><td>Dairy Products</td><td>9</td><td>2007</td></tr>",
                            "<tr><td>Meat/Poultry</td><td>14</td><td>2007</td></tr>",
                            "<tr><td>Confections</td><td>20</td><td>2007</td></tr>",
                            "<tr><td>Dairy Products</td><td>10</td><td>2007</td></tr>",
                            "<tr><td>Meat/Poultry</td><td>40</td><td>2007</td></tr>",
                            "<tr><td>Beverages</td><td>25</td><td>2007</td></tr>",
                            "<tr><td>Condiments</td><td>20</td><td>2007</td></tr>",
                            "<tr><td>Beverages</td><td>50</td><td>2007</td></tr>",
                            "<tr><td>Dairy Products</td><td>2</td><td>2007</td></tr>",
                            "<tr><td>Seafood</td><td>15</td><td>2007</td></tr>",
                            "<tr><td>Condiments</td><td>24</td><td>2007</td></tr>",
                            "<tr><td>Condiments</td><td>50</td><td>2007</td></tr>",
                            "<tr><td>Dairy Products</td><td>24</td><td>2007</td></tr>",
                            "<tr><td>Seafood</td><td>24</td><td>2007</td></tr>",
                            "<tr><td>Seafood</td><td>10</td><td>2007</td></tr>",
                            "<tr><td>Seafood</td><td>10</td><td>2007</td></tr>",
                            "<tr><td>Meat/Poultry</td><td>10</td><td>2007</td></tr>",
                            "<tr><td>Dairy Products</td><td>50</td><td>2007</td></tr>",
                            "<tr><td>Seafood</td><td>10</td><td>2007</td></tr>",
                            "<tr><td>Grains/Cereals</td><td>5</td><td>2007</td></tr>",
                            "<tr><td>Dairy Products</td><td>15</td><td>2007</td></tr>",
                            "<tr><td>Dairy Products</td><td>15</td><td>2007</td></tr>",
                            "<tr><td>Dairy Products</td><td>20</td><td>2007</td></tr>",
                            "<tr><td>Dairy Products</td><td>30</td><td>2007</td></tr>",
                            "<tr><td>Dairy Products</td><td>35</td><td>2007</td></tr>",
                            "<tr><td>Dairy Products</td><td>30</td><td>2007</td></tr>",
                            "<tr><td>Produce</td><td>6</td><td>2007</td></tr>",
                            "<tr><td>Seafood</td><td>20</td><td>2007</td></tr>",
                            "<tr><td>Dairy Products</td><td>21</td><td>2007</td></tr>",
                            "<tr><td>Seafood</td><td>9</td><td>2007</td></tr>",
                            "<tr><td>Beverages</td><td>7</td><td>2007</td></tr>",
                            "<tr><td>Dairy Products</td><td>1</td><td>2007</td></tr>",
                            "<tr><td>Seafood</td><td>8</td><td>2007</td></tr>",
                            "<tr><td>Confections</td><td>15</td><td>2007</td></tr>",
                            "<tr><td>Dairy Products</td><td>15</td><td>2007</td></tr>",
                            "<tr><td>Confections</td><td>6</td><td>2007</td></tr>",
                            "<tr><td>Condiments</td><td>60</td><td>2007</td></tr>",
                            "<tr><td>Confections</td><td>40</td><td>2007</td></tr>",
                            "<tr><td>Beverages</td><td>30</td><td>2007</td></tr>",
                            "<tr><td>Confections</td><td>35</td><td>2007</td></tr>",
                            "<tr><td>Beverages</td><td>35</td><td>2007</td></tr>",
                            "<tr><td>Beverages</td><td>4</td><td>2007</td></tr>",
                            "<tr><td>Condiments</td><td>36</td><td>2007</td></tr>",
                            "<tr><td>Dairy Products</td><td>9</td><td>2007</td></tr>",
                            "<tr><td>Dairy Products</td><td>15</td><td>2007</td></tr>",
                            "<tr><td>Meat/Poultry</td><td>24</td><td>2007</td></tr>",
                            "<tr><td>Dairy Products</td><td>30</td><td>2007</td></tr>",
                            "<tr><td>Grains/Cereals</td><td>70</td><td>2007</td></tr>",
                            "<tr><td>Produce</td><td>7</td><td>2007</td></tr>",
                            "<tr><td>Beverages</td><td>7</td><td>2007</td></tr>",
                            "<tr><td>Dairy Products</td><td>10</td><td>2007</td></tr>",
                            "<tr><td>Produce</td><td>10</td><td>2007</td></tr>",
                            "<tr><td>Beverages</td><td>30</td><td>2007</td></tr>",
                            "<tr><td>Confections</td><td>40</td><td>2007</td></tr>",
                            "<tr><td>Dairy Products</td><td>24</td><td>2007</td></tr>",
                            "<tr><td>Seafood</td><td>60</td><td>2007</td></tr>",
                            "<tr><td>Beverages</td><td>10</td><td>2007</td></tr>",
                            "<tr><td>Seafood</td><td>14</td><td>2007</td></tr>",
                            "<tr><td>Dairy Products</td><td>55</td><td>2007</td></tr>",
                            "<tr><td>Seafood</td><td>100</td><td>2007</td></tr>",
                            "<tr><td>Produce</td><td>48</td><td>2007</td></tr>",
                            "<tr><td>Meat/Poultry</td><td>8</td><td>2007</td></tr>",
                            "<tr><td>Confections</td><td>10</td><td>2007</td></tr>",
                            "<tr><td>Confections</td><td>6</td><td>2007</td></tr>",
                            "<tr><td>Condiments</td><td>10</td><td>2007</td></tr>",
                            "<tr><td>Confections</td><td>40</td><td>2007</td></tr>",
                            "<tr><td>Beverages</td><td>20</td><td>2007</td></tr>",
                            "<tr><td>Condiments</td><td>40</td><td>2007</td></tr>",
                            "<tr><td>Dairy Products</td><td>18</td><td>2007</td></tr>",
                            "<tr><td>Beverages</td><td>30</td><td>2007</td></tr>",
                            "<tr><td>Dairy Products</td><td>15</td><td>2007</td></tr>",
                            "<tr><td>Confections</td><td>14</td><td>2007</td></tr>",
                            "<tr><td>Grains/Cereals</td><td>24</td><td>2007</td></tr>",
                            "<tr><td>Dairy Products</td><td>30</td><td>2007</td></tr>",
                            "<tr><td>Beverages</td><td>6</td><td>2007</td></tr>",
                            "<tr><td>Confections</td><td>30</td><td>2007</td></tr>",
                            "<tr><td>Grains/Cereals</td><td>20</td><td>2007</td></tr>",
                            "<tr><td>Confections</td><td>20</td><td>2007</td></tr>",
                            "<tr><td>Condiments</td><td>10</td><td>2007</td></tr>",
                            "<tr><td>Produce</td><td>30</td><td>2007</td></tr>",
                            "<tr><td>Confections</td><td>35</td><td>2007</td></tr>",
                            "<tr><td>Beverages</td><td>18</td><td>2007</td></tr>",
                            "<tr><td>Produce</td><td>20</td><td>2007</td></tr>",
                            "<tr><td>Grains/Cereals</td><td>40</td><td>2007</td></tr>",
                            "<tr><td>Dairy Products</td><td>24</td><td>2007</td></tr>",
                            "<tr><td>Grains/Cereals</td><td>30</td><td>2007</td></tr>",
                            "<tr><td>Beverages</td><td>20</td><td>2007</td></tr>",
                            "<tr><td>Confections</td><td>25</td><td>2007</td></tr>",
                            "<tr><td>Produce</td><td>20</td><td>2007</td></tr>",
                            "<tr><td>Grains/Cereals</td><td>30</td><td>2007</td></tr>",
                            "<tr><td>Meat/Poultry</td><td>18</td><td>2007</td></tr>",
                            "<tr><td>Seafood</td><td>3</td><td>2007</td></tr>",
                            "<tr><td>Seafood</td><td>12</td><td>2007</td></tr>",
                            "<tr><td>Meat/Poultry</td><td>18</td><td>2007</td></tr>",
                            "<tr><td>Seafood</td><td>20</td><td>2007</td></tr>",
                            "<tr><td>Confections</td><td>15</td><td>2007</td></tr>",
                            "<tr><td>Condiments</td><td>10</td><td>2007</td></tr>",
                            "<tr><td>Produce</td><td>50</td><td>2007</td></tr>",
                            "<tr><td>Dairy Products</td><td>20</td><td>2007</td></tr>",
                            "<tr><td>Confections</td><td>10</td><td>2007</td></tr>",
                            "<tr><td>Seafood</td><td>25</td><td>2007</td></tr>",
                            "<tr><td>Grains/Cereals</td><td>70</td><td>2007</td></tr>",
                            "<tr><td>Meat/Poultry</td><td>16</td><td>2007</td></tr>",
                            "<tr><td>Dairy Products</td><td>6</td><td>2007</td></tr>",
                            "<tr><td>Meat/Poultry</td><td>25</td><td>2007</td></tr>",
                            "<tr><td>Beverages</td><td>25</td><td>2007</td></tr>",
                            "<tr><td>Grains/Cereals</td><td>18</td><td>2007</td></tr>",
                            "<tr><td>Dairy Products</td><td>35</td><td>2007</td></tr>",
                            "<tr><td>Seafood</td><td>18</td><td>2007</td></tr>",
                            "<tr><td>Beverages</td><td>10</td><td>2007</td></tr>",
                            "<tr><td>Dairy Products</td><td>60</td><td>2007</td></tr>",
                            "<tr><td>Produce</td><td>3</td><td>2007</td></tr>",
                            "<tr><td>Dairy Products</td><td>40</td><td>2007</td></tr>",
                            "<tr><td>Seafood</td><td>5</td><td>2007</td></tr>",
                            "<tr><td>Dairy Products</td><td>35</td><td>2007</td></tr>",
                            "<tr><td>Beverages</td><td>30</td><td>2007</td></tr>",
                            "<tr><td>Dairy Products</td><td>15</td><td>2007</td></tr>",
                            "<tr><td>Grains/Cereals</td><td>60</td><td>2007</td></tr>",
                            "<tr><td>Produce</td><td>11</td><td>2007</td></tr>",
                            "<tr><td>Grains/Cereals</td><td>28</td><td>2007</td></tr>",
                            "<tr><td>Confections</td><td>12</td><td>2007</td></tr>",
                            "<tr><td>Dairy Products</td><td>10</td><td>2007</td></tr>",
                            "<tr><td>Seafood</td><td>50</td><td>2007</td></tr>",
                            "<tr><td>Beverages</td><td>15</td><td>2007</td></tr>",
                            "<tr><td>Meat/Poultry</td><td>18</td><td>2007</td></tr>",
                            "<tr><td>Beverages</td><td>40</td><td>2007</td></tr>",
                            "<tr><td>Meat/Poultry</td><td>25</td><td>2007</td></tr>",
                            "<tr><td>Dairy Products</td><td>14</td><td>2007</td></tr>",
                            "<tr><td>Seafood</td><td>2</td><td>2007</td></tr>",
                            "<tr><td>Confections</td><td>10</td><td>2007</td></tr>",
                            "<tr><td>Grains/Cereals</td><td>6</td><td>2007</td></tr>",
                            "<tr><td>Dairy Products</td><td>12</td><td>2007</td></tr>",
                            "<tr><td>Condiments</td><td>6</td><td>2007</td></tr>",
                            "<tr><td>Dairy Products</td><td>30</td><td>2007</td></tr>",
                            "<tr><td>Beverages</td><td>10</td><td>2007</td></tr>",
                            "<tr><td>Beverages</td><td>10</td><td>2007</td></tr>",
                            "<tr><td>Dairy Products</td><td>20</td><td>2007</td></tr>",
                            "<tr><td>Condiments</td><td>21</td><td>2007</td></tr>",
                            "<tr><td>Beverages</td><td>10</td><td>2007</td></tr>",
                            "<tr><td>Beverages</td><td>20</td><td>2007</td></tr>",
                            "<tr><td>Condiments</td><td>18</td><td>2007</td></tr>",
                            "<tr><td>Beverages</td><td>20</td><td>2007</td></tr>",
                            "<tr><td>Grains/Cereals</td><td>6</td><td>2007</td></tr>",
                            "<tr><td>Condiments</td><td>10</td><td>2007</td></tr>",
                            "<tr><td>Beverages</td><td>21</td><td>2007</td></tr>",
                            "<tr><td>Produce</td><td>15</td><td>2007</td></tr>",
                            "<tr><td>Seafood</td><td>9</td><td>2007</td></tr>",
                            "<tr><td>Condiments</td><td>30</td><td>2007</td></tr>",
                            "<tr><td>Beverages</td><td>50</td><td>2007</td></tr>",
                            "<tr><td>Grains/Cereals</td><td>4</td><td>2007</td></tr>",
                            "<tr><td>Beverages</td><td>14</td><td>2007</td></tr>",
                            "<tr><td>Meat/Poultry</td><td>10</td><td>2007</td></tr>",
                            "<tr><td>Dairy Products</td><td>24</td><td>2007</td></tr>",
                            "<tr><td>Dairy Products</td><td>10</td><td>2007</td></tr>",
                            "<tr><td>Dairy Products</td><td>50</td><td>2007</td></tr>",
                            "<tr><td>Confections</td><td>15</td><td>2007</td></tr>",
                            "<tr><td>Grains/Cereals</td><td>4</td><td>2007</td></tr>",
                            "<tr><td>Confections</td><td>6</td><td>2007</td></tr>",
                            "<tr><td>Beverages</td><td>20</td><td>2007</td></tr>",
                            "<tr><td>Condiments</td><td>20</td><td>2007</td></tr>",
                            "<tr><td>Seafood</td><td>40</td><td>2007</td></tr>",
                            "<tr><td>Grains/Cereals</td><td>100</td><td>2007</td></tr>",
                            "<tr><td>Beverages</td><td>4</td><td>2007</td></tr>",
                            "<tr><td>Beverages</td><td>20</td><td>2007</td></tr>",
                            "<tr><td>Condiments</td><td>60</td><td>2007</td></tr>",
                            "<tr><td>Condiments</td><td>14</td><td>2007</td></tr>",
                            "<tr><td>Produce</td><td>10</td><td>2007</td></tr>",
                            "<tr><td>Meat/Poultry</td><td>50</td><td>2007</td></tr>",
                            "<tr><td>Condiments</td><td>25</td><td>2007</td></tr>",
                            "<tr><td>Confections</td><td>5</td><td>2007</td></tr>",
                            "<tr><td>Confections</td><td>21</td><td>2007</td></tr>",
                            "<tr><td>Dairy Products</td><td>20</td><td>2007</td></tr>",
                            "<tr><td>Beverages</td><td>4</td><td>2007</td></tr>",
                            "<tr><td>Grains/Cereals</td><td>24</td><td>2007</td></tr>",
                            "<tr><td>Seafood</td><td>30</td><td>2007</td></tr>",
                            "<tr><td>Beverages</td><td>30</td><td>2007</td></tr>",
                            "<tr><td>Condiments</td><td>120</td><td>2007</td></tr>",
                            "<tr><td>Dairy Products</td><td>65</td><td>2007</td></tr>",
                            "<tr><td>Grains/Cereals</td><td>5</td><td>2007</td></tr>",
                            "<tr><td>Condiments</td><td>24</td><td>2007</td></tr>",
                            "<tr><td>Beverages</td><td>30</td><td>2007</td></tr>",
                            "<tr><td>Beverages</td><td>35</td><td>2007</td></tr>",
                            "<tr><td>Grains/Cereals</td><td>20</td><td>2007</td></tr>",
                            "<tr><td>Condiments</td><td>12</td><td>2007</td></tr>",
                            "<tr><td>Confections</td><td>50</td><td>2007</td></tr>",
                            "<tr><td>Dairy Products</td><td>9</td><td>2007</td></tr>",
                            "<tr><td>Confections</td><td>10</td><td>2007</td></tr>",
                            "<tr><td>Meat/Poultry</td><td>4</td><td>2007</td></tr>",
                            "<tr><td>Seafood</td><td>30</td><td>2007</td></tr>",
                            "<tr><td>Seafood</td><td>60</td><td>2007</td></tr>",
                            "<tr><td>Dairy Products</td><td>35</td><td>2007</td></tr>",
                            "<tr><td>Condiments</td><td>5</td><td>2007</td></tr>",
                            "<tr><td>Grains/Cereals</td><td>48</td><td>2007</td></tr>",
                            "<tr><td>Confections</td><td>25</td><td>2007</td></tr>",
                            "<tr><td>Confections</td><td>6</td><td>2007</td></tr>",
                            "<tr><td>Beverages</td><td>10</td><td>2007</td></tr>",
                            "<tr><td>Confections</td><td>30</td><td>2007</td></tr>",
                            "<tr><td>Dairy Products</td><td>20</td><td>2007</td></tr>",
                            "<tr><td>Dairy Products</td><td>70</td><td>2007</td></tr>",
                            "<tr><td>Dairy Products</td><td>15</td><td>2007</td></tr>",
                            "<tr><td>Condiments</td><td>20</td><td>2007</td></tr>",
                            "<tr><td>Meat/Poultry</td><td>20</td><td>2007</td></tr>",
                            "<tr><td>Confections</td><td>10</td><td>2007</td></tr>",
                            "<tr><td>Produce</td><td>45</td><td>2007</td></tr>",
                            "<tr><td>Meat/Poultry</td><td>100</td><td>2007</td></tr>",
                            "<tr><td>Dairy Products</td><td>14</td><td>2007</td></tr>",
                            "<tr><td>Seafood</td><td>42</td><td>2007</td></tr>",
                            "<tr><td>Dairy Products</td><td>12</td><td>2007</td></tr>",
                            "<tr><td>Grains/Cereals</td><td>28</td><td>2007</td></tr>",
                            "<tr><td>Beverages</td><td>3</td><td>2007</td></tr>",
                            "<tr><td>Seafood</td><td>10</td><td>2007</td></tr>",
                            "<tr><td>Confections</td><td>6</td><td>2007</td></tr>",
                            "<tr><td>Seafood</td><td>21</td><td>2007</td></tr>",
                            "<tr><td>Beverages</td><td>6</td><td>2007</td></tr>",
                            "<tr><td>Beverages</td><td>10</td><td>2007</td></tr>",
                            "<tr><td>Dairy Products</td><td>15</td><td>2007</td></tr>",
                            "<tr><td>Seafood</td><td>70</td><td>2007</td></tr>",
                            "<tr><td>Seafood</td><td>55</td><td>2007</td></tr>",
                            "<tr><td>Confections</td><td>18</td><td>2007</td></tr>",
                            "<tr><td>Dairy Products</td><td>40</td><td>2007</td></tr>",
                            "<tr><td>Beverages</td><td>80</td><td>2007</td></tr>",
                            "<tr><td>Seafood</td><td>8</td><td>2007</td></tr>",
                            "<tr><td>Beverages</td><td>40</td><td>2007</td></tr>",
                            "<tr><td>Dairy Products</td><td>14</td><td>2007</td></tr>",
                            "<tr><td>Confections</td><td>8</td><td>2007</td></tr>",
                            "<tr><td>Beverages</td><td>5</td><td>2007</td></tr>",
                            "<tr><td>Meat/Poultry</td><td>5</td><td>2007</td></tr>",
                            "<tr><td>Beverages</td><td>15</td><td>2007</td></tr>",
                            "<tr><td>Grains/Cereals</td><td>14</td><td>2007</td></tr>",
                            "<tr><td>Beverages</td><td>15</td><td>2007</td></tr>",
                            "<tr><td>Dairy Products</td><td>15</td><td>2007</td></tr>",
                            "<tr><td>Dairy Products</td><td>30</td><td>2007</td></tr>",
                            "<tr><td>Condiments</td><td>70</td><td>2007</td></tr>",
                            "<tr><td>Grains/Cereals</td><td>20</td><td>2007</td></tr>",
                            "<tr><td>Confections</td><td>15</td><td>2007</td></tr>",
                            "<tr><td>Confections</td><td>42</td><td>2007</td></tr>",
                            "<tr><td>Grains/Cereals</td><td>40</td><td>2007</td></tr>",
                            "<tr><td>Beverages</td><td>5</td><td>2007</td></tr>",
                            "<tr><td>Grains/Cereals</td><td>5</td><td>2007</td></tr>",
                            "<tr><td>Confections</td><td>5</td><td>2007</td></tr>",
                            "<tr><td>Grains/Cereals</td><td>10</td><td>2007</td></tr>",
                            "<tr><td>Beverages</td><td>20</td><td>2007</td></tr>",
                            "<tr><td>Dairy Products</td><td>15</td><td>2007</td></tr>",
                            "<tr><td>Beverages</td><td>20</td><td>2007</td></tr>",
                            "<tr><td>Confections</td><td>18</td><td>2007</td></tr>",
                            "<tr><td>Produce</td><td>21</td><td>2007</td></tr>",
                            "<tr><td>Confections</td><td>15</td><td>2007</td></tr>",
                            "<tr><td>Confections</td><td>25</td><td>2007</td></tr>",
                            "<tr><td>Beverages</td><td>3</td><td>2007</td></tr>",
                            "<tr><td>Beverages</td><td>30</td><td>2007</td></tr>",
                            "<tr><td>Produce</td><td>10</td><td>2007</td></tr>",
                            "<tr><td>Meat/Poultry</td><td>6</td><td>2007</td></tr>",
                            "<tr><td>Condiments</td><td>10</td><td>2007</td></tr>",
                            "<tr><td>Produce</td><td>3</td><td>2007</td></tr>",
                            "<tr><td>Grains/Cereals</td><td>5</td><td>2007</td></tr>",
                            "<tr><td>Dairy Products</td><td>10</td><td>2007</td></tr>",
                            "<tr><td>Meat/Poultry</td><td>12</td><td>2007</td></tr>",
                            "<tr><td>Dairy Products</td><td>20</td><td>2007</td></tr>",
                            "<tr><td>Dairy Products</td><td>20</td><td>2007</td></tr>",
                            "<tr><td>Confections</td><td>15</td><td>2007</td></tr>",
                            "<tr><td>Seafood</td><td>35</td><td>2007</td></tr>",
                            "<tr><td>Beverages</td><td>25</td><td>2007</td></tr>",
                            "<tr><td>Meat/Poultry</td><td>20</td><td>2007</td></tr>",
                            "<tr><td>Grains/Cereals</td><td>9</td><td>2007</td></tr>",
                            "<tr><td>Meat/Poultry</td><td>12</td><td>2007</td></tr>",
                            "<tr><td>Beverages</td><td>35</td><td>2007</td></tr>",
                            "<tr><td>Beverages</td><td>8</td><td>2007</td></tr>",
                            "<tr><td>Beverages</td><td>30</td><td>2007</td></tr>",
                            "<tr><td>Dairy Products</td><td>20</td><td>2007</td></tr>",
                            "<tr><td>Dairy Products</td><td>36</td><td>2007</td></tr>",
                            "<tr><td>Seafood</td><td>13</td><td>2007</td></tr>",
                            "<tr><td>Confections</td><td>35</td><td>2007</td></tr>",
                            "<tr><td>Confections</td><td>80</td><td>2007</td></tr>",
                            "<tr><td>Produce</td><td>35</td><td>2007</td></tr>",
                            "<tr><td>Seafood</td><td>50</td><td>2007</td></tr>",
                            "<tr><td>Produce</td><td>15</td><td>2007</td></tr>",
                            "<tr><td>Beverages</td><td>2</td><td>2007</td></tr>",
                            "<tr><td>Condiments</td><td>10</td><td>2007</td></tr>",
                            "<tr><td>Condiments</td><td>15</td><td>2007</td></tr>",
                            "<tr><td>Grains/Cereals</td><td>40</td><td>2007</td></tr>",
                            "<tr><td>Condiments</td><td>25</td><td>2007</td></tr>",
                            "<tr><td>Seafood</td><td>6</td><td>2007</td></tr>",
                            "<tr><td>Dairy Products</td><td>10</td><td>2007</td></tr>",
                            "<tr><td>Confections</td><td>25</td><td>2007</td></tr>",
                            "<tr><td>Grains/Cereals</td><td>60</td><td>2007</td></tr>",
                            "<tr><td>Seafood</td><td>20</td><td>2007</td></tr>",
                            "<tr><td>Condiments</td><td>21</td><td>2007</td></tr>",
                            "<tr><td>Dairy Products</td><td>60</td><td>2007</td></tr>",
                            "<tr><td>Seafood</td><td>8</td><td>2007</td></tr>",
                            "<tr><td>Dairy Products</td><td>20</td><td>2007</td></tr>",
                            "<tr><td>Beverages</td><td>15</td><td>2007</td></tr>",
                            "<tr><td>Beverages</td><td>50</td><td>2007</td></tr>",
                            "<tr><td>Seafood</td><td>60</td><td>2007</td></tr>",
                            "<tr><td>Confections</td><td>30</td><td>2007</td></tr>",
                            "<tr><td>Condiments</td><td>20</td><td>2007</td></tr>",
                            "<tr><td>Produce</td><td>15</td><td>2007</td></tr>",
                            "<tr><td>Beverages</td><td>21</td><td>2007</td></tr>",
                            "<tr><td>Seafood</td><td>2</td><td>2007</td></tr>",
                            "<tr><td>Seafood</td><td>4</td><td>2007</td></tr>",
                            "<tr><td>Beverages</td><td>20</td><td>2007</td></tr>",
                            "<tr><td>Seafood</td><td>21</td><td>2007</td></tr>",
                            "<tr><td>Seafood</td><td>20</td><td>2007</td></tr>",
                            "<tr><td>Seafood</td><td>15</td><td>2007</td></tr>",
                            "<tr><td>Beverages</td><td>15</td><td>2007</td></tr>",
                            "<tr><td>Seafood</td><td>18</td><td>2007</td></tr>",
                            "<tr><td>Dairy Products</td><td>30</td><td>2007</td></tr>",
                            "<tr><td>Condiments</td><td>35</td><td>2007</td></tr>",
                            "<tr><td>Confections</td><td>30</td><td>2007</td></tr>",
                            "<tr><td>Beverages</td><td>20</td><td>2007</td></tr>",
                            "<tr><td>Grains/Cereals</td><td>15</td><td>2007</td></tr>",
                            "<tr><td>Beverages</td><td>15</td><td>2007</td></tr>",
                            "<tr><td>Produce</td><td>20</td><td>2007</td></tr>",
                            "<tr><td>Dairy Products</td><td>15</td><td>2007</td></tr>",
                            "<tr><td>Seafood</td><td>30</td><td>2007</td></tr>",
                            "<tr><td>Meat/Poultry</td><td>25</td><td>2007</td></tr>",
                            "<tr><td>Meat/Poultry</td><td>30</td><td>2007</td></tr>",
                            "<tr><td>Confections</td><td>12</td><td>2007</td></tr>",
                            "<tr><td>Grains/Cereals</td><td>20</td><td>2007</td></tr>",
                            "<tr><td>Seafood</td><td>2</td><td>2007</td></tr>",
                            "<tr><td>Grains/Cereals</td><td>20</td><td>2007</td></tr>",
                            "<tr><td>Confections</td><td>30</td><td>2007</td></tr>",
                            "<tr><td>Dairy Products</td><td>20</td><td>2007</td></tr>",
                            "<tr><td>Condiments</td><td>12</td><td>2007</td></tr>",
                            "<tr><td>Beverages</td><td>20</td><td>2007</td></tr>",
                            "<tr><td>Meat/Poultry</td><td>6</td><td>2007</td></tr>",
                            "<tr><td>Seafood</td><td>20</td><td>2007</td></tr>",
                            "<tr><td>Produce</td><td>3</td><td>2007</td></tr>",
                            "<tr><td>Condiments</td><td>28</td><td>2007</td></tr>",
                            "<tr><td>Confections</td><td>6</td><td>2007</td></tr>",
                            "<tr><td>Condiments</td><td>50</td><td>2007</td></tr>",
                            "<tr><td>Seafood</td><td>24</td><td>2007</td></tr>",
                            "<tr><td>Seafood</td><td>45</td><td>2007</td></tr>",
                            "<tr><td>Confections</td><td>10</td><td>2007</td></tr>",
                            "<tr><td>Grains/Cereals</td><td>45</td><td>2007</td></tr>",
                            "<tr><td>Dairy Products</td><td>30</td><td>2007</td></tr>",
                            "<tr><td>Confections</td><td>60</td><td>2007</td></tr>",
                            "<tr><td>Seafood</td><td>70</td><td>2007</td></tr>",
                            "<tr><td>Dairy Products</td><td>55</td><td>2007</td></tr>",
                            "<tr><td>Condiments</td><td>70</td><td>2007</td></tr>",
                            "<tr><td>Dairy Products</td><td>20</td><td>2007</td></tr>",
                            "<tr><td>Seafood</td><td>24</td><td>2007</td></tr>",
                            "<tr><td>Beverages</td><td>40</td><td>2007</td></tr>",
                            "<tr><td>Confections</td><td>21</td><td>2007</td></tr>",
                            "<tr><td>Beverages</td><td>3</td><td>2007</td></tr>",
                            "<tr><td>Seafood</td><td>49</td><td>2007</td></tr>",
                            "<tr><td>Confections</td><td>10</td><td>2007</td></tr>",
                            "<tr><td>Seafood</td><td>30</td><td>2007</td></tr>",
                            "<tr><td>Grains/Cereals</td><td>30</td><td>2007</td></tr>",
                            "<tr><td>Produce</td><td>20</td><td>2007</td></tr>",
                            "<tr><td>Seafood</td><td>24</td><td>2007</td></tr>",
                            "<tr><td>Grains/Cereals</td><td>12</td><td>2007</td></tr>",
                            "<tr><td>Condiments</td><td>15</td><td>2007</td></tr>",
                            "<tr><td>Produce</td><td>20</td><td>2007</td></tr>",
                            "<tr><td>Dairy Products</td><td>1</td><td>2007</td></tr>",
                            "<tr><td>Beverages</td><td>10</td><td>2007</td></tr>",
                            "<tr><td>Meat/Poultry</td><td>36</td><td>2007</td></tr>",
                            "<tr><td>Condiments</td><td>10</td><td>2007</td></tr>",
                            "<tr><td>Dairy Products</td><td>45</td><td>2007</td></tr>",
                            "<tr><td>Dairy Products</td><td>14</td><td>2007</td></tr>",
                            "<tr><td>Dairy Products</td><td>8</td><td>2007</td></tr>",
                            "<tr><td>Meat/Poultry</td><td>4</td><td>2007</td></tr>",
                            "<tr><td>Grains/Cereals</td><td>15</td><td>2007</td></tr>",
                            "<tr><td>Seafood</td><td>30</td><td>2007</td></tr>",
                            "<tr><td>Grains/Cereals</td><td>32</td><td>2007</td></tr>",
                            "<tr><td>Seafood</td><td>60</td><td>2007</td></tr>",
                            "<tr><td>Beverages</td><td>25</td><td>2007</td></tr>",
                            "<tr><td>Seafood</td><td>50</td><td>2007</td></tr>",
                            "<tr><td>Beverages</td><td>25</td><td>2007</td></tr>",
                            "<tr><td>Confections</td><td>10</td><td>2007</td></tr>",
                            "<tr><td>Confections</td><td>10</td><td>2007</td></tr>",
                            "<tr><td>Condiments</td><td>12</td><td>2007</td></tr>",
                            "<tr><td>Beverages</td><td>15</td><td>2007</td></tr>",
                            "<tr><td>Dairy Products</td><td>12</td><td>2007</td></tr>",
                            "<tr><td>Confections</td><td>3</td><td>2007</td></tr>",
                            "<tr><td>Grains/Cereals</td><td>6</td><td>2007</td></tr>",
                            "<tr><td>Beverages</td><td>6</td><td>2007</td></tr>",
                            "<tr><td>Grains/Cereals</td><td>5</td><td>2007</td></tr>",
                            "<tr><td>Produce</td><td>30</td><td>2007</td></tr>",
                            "<tr><td>Meat/Poultry</td><td>10</td><td>2007</td></tr>",
                            "<tr><td>Seafood</td><td>30</td><td>2007</td></tr>",
                            "<tr><td>Seafood</td><td>2</td><td>2007</td></tr>",
                            "<tr><td>Confections</td><td>7</td><td>2007</td></tr>",
                            "<tr><td>Condiments</td><td>21</td><td>2007</td></tr>",
                            "<tr><td>Confections</td><td>30</td><td>2007</td></tr>",
                            "<tr><td>Dairy Products</td><td>8</td><td>2007</td></tr>",
                            "<tr><td>Dairy Products</td><td>100</td><td>2007</td></tr>",
                            "<tr><td>Dairy Products</td><td>30</td><td>2007</td></tr>",
                            "<tr><td>Seafood</td><td>120</td><td>2007</td></tr>",
                            "<tr><td>Meat/Poultry</td><td>30</td><td>2007</td></tr>",
                            "<tr><td>Dairy Products</td><td>12</td><td>2007</td></tr>",
                            "<tr><td>Confections</td><td>50</td><td>2007</td></tr>",
                            "<tr><td>Dairy Products</td><td>20</td><td>2007</td></tr>",
                            "<tr><td>Grains/Cereals</td><td>40</td><td>2007</td></tr>",
                            "<tr><td>Confections</td><td>30</td><td>2007</td></tr>",
                            "<tr><td>Confections</td><td>12</td><td>2007</td></tr>",
                            "<tr><td>Grains/Cereals</td><td>28</td><td>2007</td></tr>",
                            "<tr><td>Dairy Products</td><td>30</td><td>2007</td></tr>",
                            "<tr><td>Condiments</td><td>4</td><td>2007</td></tr>",
                            "<tr><td>Beverages</td><td>30</td><td>2007</td></tr>",
                            "<tr><td>Grains/Cereals</td><td>9</td><td>2007</td></tr>",
                            "<tr><td>Seafood</td><td>20</td><td>2007</td></tr>",
                            "<tr><td>Confections</td><td>40</td><td>2007</td></tr>",
                            "<tr><td>Dairy Products</td><td>30</td><td>2007</td></tr>",
                            "<tr><td>Seafood</td><td>20</td><td>2007</td></tr>",
                            "<tr><td>Seafood</td><td>4</td><td>2007</td></tr>",
                            "<tr><td>Confections</td><td>15</td><td>2007</td></tr>",
                            "<tr><td>Meat/Poultry</td><td>30</td><td>2007</td></tr>",
                            "<tr><td>Confections</td><td>15</td><td>2007</td></tr>",
                            "<tr><td>Meat/Poultry</td><td>50</td><td>2007</td></tr>",
                            "<tr><td>Meat/Poultry</td><td>10</td><td>2007</td></tr>",
                            "<tr><td>Seafood</td><td>6</td><td>2007</td></tr>",
                            "<tr><td>Seafood</td><td>18</td><td>2007</td></tr>",
                            "<tr><td>Produce</td><td>60</td><td>2007</td></tr>",
                            "<tr><td>Beverages</td><td>14</td><td>2007</td></tr>",
                            "<tr><td>Beverages</td><td>35</td><td>2007</td></tr>",
                            "<tr><td>Grains/Cereals</td><td>20</td><td>2007</td></tr>",
                            "<tr><td>Condiments</td><td>30</td><td>2007</td></tr>",
                            "<tr><td>Beverages</td><td>30</td><td>2007</td></tr>",
                            "<tr><td>Meat/Poultry</td><td>40</td><td>2007</td></tr>",
                            "<tr><td>Beverages</td><td>40</td><td>2007</td></tr>",
                            "<tr><td>Condiments</td><td>24</td><td>2007</td></tr>",
                            "<tr><td>Confections</td><td>48</td><td>2007</td></tr>",
                            "<tr><td>Condiments</td><td>20</td><td>2007</td></tr>",
                            "<tr><td>Meat/Poultry</td><td>6</td><td>2007</td></tr>",
                            "<tr><td>Meat/Poultry</td><td>60</td><td>2007</td></tr>",
                            "<tr><td>Dairy Products</td><td>30</td><td>2007</td></tr>",
                            "<tr><td>Seafood</td><td>15</td><td>2007</td></tr>",
                            "<tr><td>Produce</td><td>90</td><td>2007</td></tr>",
                            "<tr><td>Dairy Products</td><td>25</td><td>2007</td></tr>",
                            "<tr><td>Beverages</td><td>50</td><td>2007</td></tr>",
                            "<tr><td>Condiments</td><td>10</td><td>2007</td></tr>",
                            "<tr><td>Dairy Products</td><td>4</td><td>2007</td></tr>",
                            "<tr><td>Beverages</td><td>20</td><td>2007</td></tr>",
                            "<tr><td>Meat/Poultry</td><td>20</td><td>2007</td></tr>",
                            "<tr><td>Seafood</td><td>18</td><td>2007</td></tr>",
                            "<tr><td>Confections</td><td>7</td><td>2007</td></tr>",
                            "<tr><td>Beverages</td><td>9</td><td>2007</td></tr>",
                            "<tr><td>Seafood</td><td>30</td><td>2007</td></tr>",
                            "<tr><td>Beverages</td><td>30</td><td>2007</td></tr>",
                            "<tr><td>Dairy Products</td><td>15</td><td>2007</td></tr>",
                            "<tr><td>Meat/Poultry</td><td>8</td><td>2007</td></tr>",
                            "<tr><td>Meat/Poultry</td><td>12</td><td>2007</td></tr>",
                            "<tr><td>Condiments</td><td>65</td><td>2007</td></tr>",
                            "<tr><td>Beverages</td><td>8</td><td>2007</td></tr>",
                            "<tr><td>Confections</td><td>12</td><td>2007</td></tr>",
                            "<tr><td>Beverages</td><td>5</td><td>2007</td></tr>",
                            "<tr><td>Beverages</td><td>12</td><td>2007</td></tr>",
                            "<tr><td>Confections</td><td>40</td><td>2007</td></tr>",
                            "<tr><td>Dairy Products</td><td>60</td><td>2007</td></tr>",
                            "<tr><td>Dairy Products</td><td>42</td><td>2007</td></tr>",
                            "<tr><td>Dairy Products</td><td>20</td><td>2007</td></tr>",
                            "<tr><td>Beverages</td><td>35</td><td>2007</td></tr>",
                            "<tr><td>Condiments</td><td>6</td><td>2007</td></tr>",
                            "<tr><td>Beverages</td><td>15</td><td>2007</td></tr>",
                            "<tr><td>Beverages</td><td>5</td><td>2007</td></tr>",
                            "<tr><td>Dairy Products</td><td>35</td><td>2007</td></tr>",
                            "<tr><td>Seafood</td><td>35</td><td>2007</td></tr>",
                            "<tr><td>Condiments</td><td>6</td><td>2007</td></tr>",
                            "<tr><td>Beverages</td><td>35</td><td>2007</td></tr>",
                            "<tr><td>Confections</td><td>24</td><td>2007</td></tr>",
                            "<tr><td>Dairy Products</td><td>20</td><td>2007</td></tr>",
                            "<tr><td>Dairy Products</td><td>4</td><td>2007</td></tr>",
                            "<tr><td>Confections</td><td>20</td><td>2007</td></tr>",
                            "<tr><td>Beverages</td><td>24</td><td>2007</td></tr>",
                            "<tr><td>Dairy Products</td><td>8</td><td>2007</td></tr>",
                            "<tr><td>Meat/Poultry</td><td>21</td><td>2007</td></tr>",
                            "<tr><td>Grains/Cereals</td><td>40</td><td>2007</td></tr>",
                            "<tr><td>Beverages</td><td>28</td><td>2007</td></tr>",
                            "<tr><td>Condiments</td><td>4</td><td>2007</td></tr>",
                            "<tr><td>Seafood</td><td>5</td><td>2007</td></tr>",
                            "<tr><td>Condiments</td><td>40</td><td>2007</td></tr>",
                            "<tr><td>Produce</td><td>28</td><td>2007</td></tr>",
                            "<tr><td>Dairy Products</td><td>10</td><td>2007</td></tr>",
                            "<tr><td>Confections</td><td>5</td><td>2007</td></tr>",
                            "<tr><td>Confections</td><td>5</td><td>2007</td></tr>",
                            "<tr><td>Confections</td><td>12</td><td>2007</td></tr>",
                            "<tr><td>Seafood</td><td>42</td><td>2007</td></tr>",
                            "<tr><td>Meat/Poultry</td><td>120</td><td>2007</td></tr>",
                            "<tr><td>Meat/Poultry</td><td>3</td><td>2007</td></tr>",
                            "<tr><td>Grains/Cereals</td><td>30</td><td>2007</td></tr>",
                            "<tr><td>Seafood</td><td>18</td><td>2007</td></tr>",
                            "<tr><td>Confections</td><td>30</td><td>2007</td></tr>",
                            "<tr><td>Seafood</td><td>110</td><td>2007</td></tr>",
                            "<tr><td>Seafood</td><td>24</td><td>2007</td></tr>",
                            "<tr><td>Beverages</td><td>30</td><td>2007</td></tr>",
                            "<tr><td>Meat/Poultry</td><td>27</td><td>2007</td></tr>",
                            "<tr><td>Confections</td><td>50</td><td>2007</td></tr>",
                            "<tr><td>Grains/Cereals</td><td>18</td><td>2007</td></tr>",
                            "<tr><td>Seafood</td><td>12</td><td>2007</td></tr>",
                            "<tr><td>Seafood</td><td>21</td><td>2007</td></tr>",
                            "<tr><td>Dairy Products</td><td>30</td><td>2007</td></tr>",
                            "<tr><td>Confections</td><td>5</td><td>2007</td></tr>",
                            "<tr><td>Produce</td><td>7</td><td>2007</td></tr>",
                            "<tr><td>Condiments</td><td>10</td><td>2007</td></tr>",
                            "<tr><td>Confections</td><td>32</td><td>2007</td></tr>",
                            "<tr><td>Meat/Poultry</td><td>15</td><td>2007</td></tr>",
                            "<tr><td>Dairy Products</td><td>25</td><td>2007</td></tr>",
                            "<tr><td>Dairy Products</td><td>36</td><td>2007</td></tr>",
                            "<tr><td>Confections</td><td>20</td><td>2007</td></tr>",
                            "<tr><td>Seafood</td><td>40</td><td>2007</td></tr>",
                            "<tr><td>Confections</td><td>20</td><td>2007</td></tr>",
                            "<tr><td>Seafood</td><td>12</td><td>2007</td></tr>",
                            "<tr><td>Seafood</td><td>3</td><td>2007</td></tr>",
                            "<tr><td>Meat/Poultry</td><td>40</td><td>2007</td></tr>",
                            "<tr><td>Beverages</td><td>21</td><td>2007</td></tr>",
                            "<tr><td>Dairy Products</td><td>8</td><td>2007</td></tr>",
                            "<tr><td>Condiments</td><td>50</td><td>2007</td></tr>",
                            "<tr><td>Beverages</td><td>3</td><td>2007</td></tr>",
                            "<tr><td>Dairy Products</td><td>50</td><td>2007</td></tr>",
                            "<tr><td>Confections</td><td>45</td><td>2007</td></tr>",
                            "<tr><td>Beverages</td><td>42</td><td>2007</td></tr>",
                            "<tr><td>Confections</td><td>15</td><td>2007</td></tr>",
                            "<tr><td>Seafood</td><td>16</td><td>2007</td></tr>",
                            "<tr><td>Condiments</td><td>5</td><td>2007</td></tr>",
                            "<tr><td>Seafood</td><td>12</td><td>2007</td></tr>",
                            "<tr><td>Grains/Cereals</td><td>4</td><td>2007</td></tr>",
                            "<tr><td>Meat/Poultry</td><td>6</td><td>2007</td></tr>",
                            "<tr><td>Condiments</td><td>25</td><td>2007</td></tr>",
                            "<tr><td>Dairy Products</td><td>5</td><td>2007</td></tr>",
                            "<tr><td>Meat/Poultry</td><td>20</td><td>2007</td></tr>",
                            "<tr><td>Grains/Cereals</td><td>10</td><td>2007</td></tr>",
                            "<tr><td>Dairy Products</td><td>10</td><td>2007</td></tr>",
                            "<tr><td>Seafood</td><td>15</td><td>2007</td></tr>",
                            "<tr><td>Seafood</td><td>6</td><td>2007</td></tr>",
                            "<tr><td>Meat/Poultry</td><td>12</td><td>2007</td></tr>",
                            "<tr><td>Dairy Products</td><td>15</td><td>2007</td></tr>",
                            "<tr><td>Beverages</td><td>50</td><td>2007</td></tr>",
                            "<tr><td>Confections</td><td>30</td><td>2007</td></tr>",
                            "<tr><td>Confections</td><td>40</td><td>2007</td></tr>",
                            "<tr><td>Confections</td><td>15</td><td>2007</td></tr>",
                            "<tr><td>Dairy Products</td><td>3</td><td>2007</td></tr>",
                            "<tr><td>Condiments</td><td>10</td><td>2007</td></tr>",
                            "<tr><td>Confections</td><td>40</td><td>2007</td></tr>",
                            "<tr><td>Produce</td><td>30</td><td>2007</td></tr>",
                            "<tr><td>Beverages</td><td>20</td><td>2007</td></tr>",
                            "<tr><td>Produce</td><td>16</td><td>2007</td></tr>",
                            "<tr><td>Produce</td><td>20</td><td>2007</td></tr>",
                            "<tr><td>Grains/Cereals</td><td>25</td><td>2007</td></tr>",
                            "<tr><td>Condiments</td><td>30</td><td>2007</td></tr>",
                            "<tr><td>Seafood</td><td>15</td><td>2007</td></tr>",
                            "<tr><td>Beverages</td><td>20</td><td>2007</td></tr>",
                            "<tr><td>Condiments</td><td>20</td><td>2007</td></tr>",
                            "<tr><td>Condiments</td><td>2</td><td>2007</td></tr>",
                            "<tr><td>Condiments</td><td>40</td><td>2007</td></tr>",
                            "<tr><td>Beverages</td><td>20</td><td>2007</td></tr>",
                            "<tr><td>Seafood</td><td>4</td><td>2007</td></tr>",
                            "<tr><td>Seafood</td><td>12</td><td>2007</td></tr>",
                            "<tr><td>Confections</td><td>3</td><td>2007</td></tr>",
                            "<tr><td>Seafood</td><td>6</td><td>2007</td></tr>",
                            "<tr><td>Grains/Cereals</td><td>18</td><td>2007</td></tr>",
                            "<tr><td>Produce</td><td>5</td><td>2007</td></tr>",
                            "<tr><td>Beverages</td><td>35</td><td>2007</td></tr>",
                            "<tr><td>Seafood</td><td>40</td><td>2007</td></tr>",
                            "<tr><td>Grains/Cereals</td><td>14</td><td>2007</td></tr>",
                            "<tr><td>Beverages</td><td>15</td><td>2007</td></tr>",
                            "<tr><td>Condiments</td><td>20</td><td>2007</td></tr>",
                            "<tr><td>Dairy Products</td><td>50</td><td>2007</td></tr>",
                            "<tr><td>Dairy Products</td><td>35</td><td>2007</td></tr>",
                            "<tr><td>Seafood</td><td>28</td><td>2007</td></tr>",
                            "<tr><td>Seafood</td><td>50</td><td>2007</td></tr>",
                            "<tr><td>Seafood</td><td>24</td><td>2007</td></tr>",
                            "<tr><td>Condiments</td><td>16</td><td>2007</td></tr>",
                            "<tr><td>Dairy Products</td><td>45</td><td>2007</td></tr>",
                            "<tr><td>Dairy Products</td><td>7</td><td>2007</td></tr>",
                            "<tr><td>Seafood</td><td>6</td><td>2007</td></tr>",
                            "<tr><td>Grains/Cereals</td><td>28</td><td>2007</td></tr>",
                            "<tr><td>Confections</td><td>9</td><td>2007</td></tr>",
                            "<tr><td>Dairy Products</td><td>40</td><td>2007</td></tr>",
                            "<tr><td>Dairy Products</td><td>8</td><td>2007</td></tr>",
                            "<tr><td>Seafood</td><td>35</td><td>2007</td></tr>",
                            "<tr><td>Condiments</td><td>9</td><td>2007</td></tr>",
                            "<tr><td>Dairy Products</td><td>30</td><td>2007</td></tr>",
                            "<tr><td>Grains/Cereals</td><td>44</td><td>2007</td></tr>",
                            "<tr><td>Seafood</td><td>40</td><td>2007</td></tr>",
                            "<tr><td>Grains/Cereals</td><td>28</td><td>2007</td></tr>",
                            "<tr><td>Grains/Cereals</td><td>15</td><td>2007</td></tr>",
                            "<tr><td>Dairy Products</td><td>6</td><td>2007</td></tr>",
                            "<tr><td>Beverages</td><td>10</td><td>2007</td></tr>",
                            "<tr><td>Produce</td><td>5</td><td>2007</td></tr>",
                            "<tr><td>Seafood</td><td>40</td><td>2007</td></tr>",
                            "<tr><td>Dairy Products</td><td>25</td><td>2007</td></tr>",
                            "<tr><td>Confections</td><td>12</td><td>2007</td></tr>",
                            "<tr><td>Seafood</td><td>30</td><td>2007</td></tr>",
                            "<tr><td>Confections</td><td>20</td><td>2007</td></tr>",
                            "<tr><td>Seafood</td><td>15</td><td>2007</td></tr>",
                            "<tr><td>Beverages</td><td>8</td><td>2007</td></tr>",
                            "<tr><td>Dairy Products</td><td>3</td><td>2007</td></tr>",
                            "<tr><td>Seafood</td><td>4</td><td>2007</td></tr>",
                            "<tr><td>Produce</td><td>5</td><td>2007</td></tr>",
                            "<tr><td>Seafood</td><td>3</td><td>2007</td></tr>",
                            "<tr><td>Confections</td><td>30</td><td>2007</td></tr>",
                            "<tr><td>Grains/Cereals</td><td>30</td><td>2007</td></tr>",
                            "<tr><td>Grains/Cereals</td><td>14</td><td>2007</td></tr>",
                            "<tr><td>Dairy Products</td><td>25</td><td>2007</td></tr>",
                            "<tr><td>Seafood</td><td>21</td><td>2007</td></tr>",
                            "<tr><td>Seafood</td><td>20</td><td>2007</td></tr>",
                            "<tr><td>Confections</td><td>6</td><td>2007</td></tr>",
                            "<tr><td>Dairy Products</td><td>20</td><td>2007</td></tr>",
                            "<tr><td>Beverages</td><td>30</td><td>2007</td></tr>",
                            "<tr><td>Dairy Products</td><td>7</td><td>2007</td></tr>",
                            "<tr><td>Confections</td><td>30</td><td>2007</td></tr>",
                            "<tr><td>Grains/Cereals</td><td>24</td><td>2007</td></tr>",
                            "<tr><td>Confections</td><td>20</td><td>2007</td></tr>",
                            "<tr><td>Grains/Cereals</td><td>60</td><td>2007</td></tr>",
                            "<tr><td>Beverages</td><td>40</td><td>2007</td></tr>",
                            "<tr><td>Dairy Products</td><td>10</td><td>2007</td></tr>",
                            "<tr><td>Confections</td><td>12</td><td>2007</td></tr>",
                            "<tr><td>Confections</td><td>40</td><td>2007</td></tr>",
                            "<tr><td>Beverages</td><td>30</td><td>2007</td></tr>",
                            "<tr><td>Confections</td><td>35</td><td>2007</td></tr>",
                            "<tr><td>Beverages</td><td>18</td><td>2007</td></tr>",
                            "<tr><td>Beverages</td><td>16</td><td>2007</td></tr>",
                            "<tr><td>Confections</td><td>30</td><td>2007</td></tr>",
                            "<tr><td>Produce</td><td>28</td><td>2007</td></tr>",
                            "<tr><td>Grains/Cereals</td><td>60</td><td>2007</td></tr>",
                            "<tr><td>Confections</td><td>40</td><td>2007</td></tr>",
                            "<tr><td>Grains/Cereals</td><td>6</td><td>2007</td></tr>",
                            "<tr><td>Beverages</td><td>20</td><td>2007</td></tr>",
                            "<tr><td>Condiments</td><td>20</td><td>2007</td></tr>",
                            "<tr><td>Beverages</td><td>130</td><td>2007</td></tr>",
                            "<tr><td>Condiments</td><td>80</td><td>2007</td></tr>",
                            "<tr><td>Beverages</td><td>40</td><td>2007</td></tr>",
                            "<tr><td>Produce</td><td>35</td><td>2007</td></tr>",
                            "<tr><td>Confections</td><td>40</td><td>2007</td></tr>",
                            "<tr><td>Grains/Cereals</td><td>2</td><td>2007</td></tr>",
                            "<tr><td>Grains/Cereals</td><td>4</td><td>2007</td></tr>",
                            "<tr><td>Dairy Products</td><td>50</td><td>2007</td></tr>",
                            "<tr><td>Dairy Products</td><td>15</td><td>2007</td></tr>",
                            "<tr><td>Dairy Products</td><td>12</td><td>2007</td></tr>",
                            "<tr><td>Seafood</td><td>30</td><td>2007</td></tr>",
                            "<tr><td>Grains/Cereals</td><td>15</td><td>2007</td></tr>",
                            "<tr><td>Condiments</td><td>20</td><td>2007</td></tr>",
                            "<tr><td>Confections</td><td>15</td><td>2007</td></tr>",
                            "<tr><td>Dairy Products</td><td>15</td><td>2007</td></tr>",
                            "<tr><td>Dairy Products</td><td>16</td><td>2007</td></tr>",
                            "<tr><td>Meat/Poultry</td><td>18</td><td>2007</td></tr>",
                            "<tr><td>Dairy Products</td><td>25</td><td>2007</td></tr>",
                            "<tr><td>Meat/Poultry</td><td>33</td><td>2007</td></tr>",
                            "<tr><td>Dairy Products</td><td>70</td><td>2007</td></tr>",
                            "<tr><td>Beverages</td><td>7</td><td>2007</td></tr>",
                            "<tr><td>Dairy Products</td><td>2</td><td>2007</td></tr>",
                            "<tr><td>Condiments</td><td>50</td><td>2007</td></tr>",
                            "<tr><td>Seafood</td><td>6</td><td>2007</td></tr>",
                            "<tr><td>Beverages</td><td>3</td><td>2007</td></tr>",
                            "<tr><td>Dairy Products</td><td>16</td><td>2007</td></tr>",
                            "<tr><td>Grains/Cereals</td><td>12</td><td>2007</td></tr>",
                            "<tr><td>Seafood</td><td>27</td><td>2007</td></tr>",
                            "<tr><td>Produce</td><td>120</td><td>2007</td></tr>",
                            "<tr><td>Grains/Cereals</td><td>20</td><td>2007</td></tr>",
                            "<tr><td>Seafood</td><td>10</td><td>2007</td></tr>",
                            "<tr><td>Confections</td><td>20</td><td>2007</td></tr>",
                            "<tr><td>Confections</td><td>20</td><td>2007</td></tr>",
                            "<tr><td>Beverages</td><td>35</td><td>2007</td></tr>",
                            "<tr><td>Condiments</td><td>15</td><td>2007</td></tr>",
                            "<tr><td>Meat/Poultry</td><td>3</td><td>2007</td></tr>",
                            "<tr><td>Grains/Cereals</td><td>20</td><td>2007</td></tr>",
                            "<tr><td>Produce</td><td>35</td><td>2007</td></tr>",
                            "<tr><td>Dairy Products</td><td>1</td><td>2007</td></tr>",
                            "<tr><td>Dairy Products</td><td>10</td><td>2007</td></tr>",
                            "<tr><td>Beverages</td><td>5</td><td>2007</td></tr>",
                            "<tr><td>Seafood</td><td>30</td><td>2007</td></tr>",
                            "<tr><td>Beverages</td><td>2</td><td>2007</td></tr>",
                            "<tr><td>Dairy Products</td><td>30</td><td>2007</td></tr>",
                            "<tr><td>Seafood</td><td>10</td><td>2007</td></tr>",
                            "<tr><td>Beverages</td><td>10</td><td>2007</td></tr>",
                            "<tr><td>Condiments</td><td>30</td><td>2007</td></tr>",
                            "<tr><td>Seafood</td><td>15</td><td>2007</td></tr>",
                            "<tr><td>Beverages</td><td>42</td><td>2007</td></tr>",
                            "<tr><td>Beverages</td><td>15</td><td>2007</td></tr>",
                            "<tr><td>Meat/Poultry</td><td>20</td><td>2007</td></tr>",
                            "<tr><td>Confections</td><td>50</td><td>2007</td></tr>",
                            "<tr><td>Beverages</td><td>40</td><td>2007</td></tr>",
                            "<tr><td>Seafood</td><td>30</td><td>2007</td></tr>",
                            "<tr><td>Beverages</td><td>15</td><td>2007</td></tr>",
                            "<tr><td>Condiments</td><td>30</td><td>2007</td></tr>",
                            "<tr><td>Confections</td><td>18</td><td>2007</td></tr>",
                            "<tr><td>Produce</td><td>3</td><td>2007</td></tr>",
                            "<tr><td>Grains/Cereals</td><td>20</td><td>2007</td></tr>",
                            "<tr><td>Meat/Poultry</td><td>14</td><td>2007</td></tr>",
                            "<tr><td>Seafood</td><td>20</td><td>2007</td></tr>",
                            "<tr><td>Beverages</td><td>10</td><td>2007</td></tr>",
                            "<tr><td>Meat/Poultry</td><td>3</td><td>2007</td></tr>",
                            "<tr><td>Confections</td><td>15</td><td>2007</td></tr>",
                            "<tr><td>Seafood</td><td>14</td><td>2007</td></tr>",
                            "<tr><td>Grains/Cereals</td><td>8</td><td>2007</td></tr>",
                            "<tr><td>Produce</td><td>15</td><td>2007</td></tr>",
                            "<tr><td>Meat/Poultry</td><td>6</td><td>2007</td></tr>",
                            "<tr><td>Confections</td><td>65</td><td>2007</td></tr>",
                            "<tr><td>Meat/Poultry</td><td>35</td><td>2007</td></tr>",
                            "<tr><td>Confections</td><td>21</td><td>2007</td></tr>",
                            "<tr><td>Condiments</td><td>10</td><td>2007</td></tr>",
                            "<tr><td>Grains/Cereals</td><td>35</td><td>2007</td></tr>",
                            "<tr><td>Dairy Products</td><td>24</td><td>2007</td></tr>",
                            "<tr><td>Dairy Products</td><td>20</td><td>2007</td></tr>",
                            "<tr><td>Confections</td><td>2</td><td>2007</td></tr>",
                            "<tr><td>Dairy Products</td><td>10</td><td>2007</td></tr>",
                            "<tr><td>Seafood</td><td>20</td><td>2007</td></tr>",
                            "<tr><td>Beverages</td><td>20</td><td>2007</td></tr>",
                            "<tr><td>Dairy Products</td><td>25</td><td>2007</td></tr>",
                            "<tr><td>Dairy Products</td><td>50</td><td>2007</td></tr>",
                            "<tr><td>Produce</td><td>10</td><td>2007</td></tr>",
                            "<tr><td>Meat/Poultry</td><td>7</td><td>2007</td></tr>",
                            "<tr><td>Meat/Poultry</td><td>40</td><td>2007</td></tr>",
                            "<tr><td>Meat/Poultry</td><td>20</td><td>2007</td></tr>",
                            "<tr><td>Seafood</td><td>25</td><td>2007</td></tr>",
                            "<tr><td>Produce</td><td>30</td><td>2007</td></tr>",
                            "<tr><td>Meat/Poultry</td><td>60</td><td>2007</td></tr>",
                            "<tr><td>Confections</td><td>5</td><td>2007</td></tr>",
                            "<tr><td>Confections</td><td>24</td><td>2007</td></tr>",
                            "<tr><td>Confections</td><td>15</td><td>2007</td></tr>",
                            "<tr><td>Dairy Products</td><td>15</td><td>2007</td></tr>",
                            "<tr><td>Seafood</td><td>36</td><td>2007</td></tr>",
                            "<tr><td>Produce</td><td>24</td><td>2007</td></tr>",
                            "<tr><td>Confections</td><td>4</td><td>2007</td></tr>",
                            "<tr><td>Beverages</td><td>10</td><td>2007</td></tr>",
                            "<tr><td>Beverages</td><td>10</td><td>2007</td></tr>",
                            "<tr><td>Beverages</td><td>20</td><td>2007</td></tr>",
                            "<tr><td>Condiments</td><td>2</td><td>2007</td></tr>",
                            "<tr><td>Produce</td><td>15</td><td>2007</td></tr>",
                            "<tr><td>Seafood</td><td>1</td><td>2007</td></tr>",
                            "<tr><td>Grains/Cereals</td><td>20</td><td>2008</td></tr>",
                            "<tr><td>Beverages</td><td>50</td><td>2008</td></tr>",
                            "<tr><td>Grains/Cereals</td><td>20</td><td>2008</td></tr>",
                            "<tr><td>Seafood</td><td>7</td><td>2008</td></tr>",
                            "<tr><td>Confections</td><td>5</td><td>2008</td></tr>",
                            "<tr><td>Beverages</td><td>5</td><td>2008</td></tr>",
                            "<tr><td>Confections</td><td>15</td><td>2008</td></tr>",
                            "<tr><td>Grains/Cereals</td><td>18</td><td>2008</td></tr>",
                            "<tr><td>Seafood</td><td>30</td><td>2008</td></tr>",
                            "<tr><td>Dairy Products</td><td>16</td><td>2008</td></tr>",
                            "<tr><td>Dairy Products</td><td>40</td><td>2008</td></tr>",
                            "<tr><td>Condiments</td><td>20</td><td>2008</td></tr>",
                            "<tr><td>Beverages</td><td>12</td><td>2008</td></tr>",
                            "<tr><td>Seafood</td><td>35</td><td>2008</td></tr>",
                            "<tr><td>Seafood</td><td>20</td><td>2008</td></tr>",
                            "<tr><td>Beverages</td><td>20</td><td>2008</td></tr>",
                            "<tr><td>Confections</td><td>8</td><td>2008</td></tr>",
                            "<tr><td>Condiments</td><td>30</td><td>2008</td></tr>",
                            "<tr><td>Dairy Products</td><td>16</td><td>2008</td></tr>",
                            "<tr><td>Beverages</td><td>30</td><td>2008</td></tr>",
                            "<tr><td>Confections</td><td>20</td><td>2008</td></tr>",
                            "<tr><td>Confections</td><td>40</td><td>2008</td></tr>",
                            "<tr><td>Beverages</td><td>30</td><td>2008</td></tr>",
                            "<tr><td>Seafood</td><td>60</td><td>2008</td></tr>",
                            "<tr><td>Confections</td><td>25</td><td>2008</td></tr>",
                            "<tr><td>Dairy Products</td><td>20</td><td>2008</td></tr>",
                            "<tr><td>Seafood</td><td>20</td><td>2008</td></tr>",
                            "<tr><td>Beverages</td><td>7</td><td>2008</td></tr>",
                            "<tr><td>Beverages</td><td>20</td><td>2008</td></tr>",
                            "<tr><td>Grains/Cereals</td><td>30</td><td>2008</td></tr>",
                            "<tr><td>Beverages</td><td>20</td><td>2008</td></tr>",
                            "<tr><td>Produce</td><td>6</td><td>2008</td></tr>",
                            "<tr><td>Confections</td><td>3</td><td>2008</td></tr>",
                            "<tr><td>Beverages</td><td>6</td><td>2008</td></tr>",
                            "<tr><td>Dairy Products</td><td>20</td><td>2008</td></tr>",
                            "<tr><td>Grains/Cereals</td><td>15</td><td>2008</td></tr>",
                            "<tr><td>Dairy Products</td><td>40</td><td>2008</td></tr>",
                            "<tr><td>Condiments</td><td>15</td><td>2008</td></tr>",
                            "<tr><td>Seafood</td><td>12</td><td>2008</td></tr>",
                            "<tr><td>Beverages</td><td>9</td><td>2008</td></tr>",
                            "<tr><td>Confections</td><td>12</td><td>2008</td></tr>",
                            "<tr><td>Meat/Poultry</td><td>20</td><td>2008</td></tr>",
                            "<tr><td>Dairy Products</td><td>35</td><td>2008</td></tr>",
                            "<tr><td>Grains/Cereals</td><td>15</td><td>2008</td></tr>",
                            "<tr><td>Seafood</td><td>15</td><td>2008</td></tr>",
                            "<tr><td>Beverages</td><td>21</td><td>2008</td></tr>",
                            "<tr><td>Confections</td><td>5</td><td>2008</td></tr>",
                            "<tr><td>Beverages</td><td>2</td><td>2008</td></tr>",
                            "<tr><td>Beverages</td><td>10</td><td>2008</td></tr>",
                            "<tr><td>Condiments</td><td>20</td><td>2008</td></tr>",
                            "<tr><td>Seafood</td><td>10</td><td>2008</td></tr>",
                            "<tr><td>Dairy Products</td><td>21</td><td>2008</td></tr>",
                            "<tr><td>Condiments</td><td>6</td><td>2008</td></tr>",
                            "<tr><td>Beverages</td><td>28</td><td>2008</td></tr>",
                            "<tr><td>Dairy Products</td><td>30</td><td>2008</td></tr>",
                            "<tr><td>Confections</td><td>24</td><td>2008</td></tr>",
                            "<tr><td>Confections</td><td>2</td><td>2008</td></tr>",
                            "<tr><td>Beverages</td><td>8</td><td>2008</td></tr>",
                            "<tr><td>Beverages</td><td>8</td><td>2008</td></tr>",
                            "<tr><td>Beverages</td><td>9</td><td>2008</td></tr>",
                            "<tr><td>Seafood</td><td>3</td><td>2008</td></tr>",
                            "<tr><td>Confections</td><td>10</td><td>2008</td></tr>",
                            "<tr><td>Condiments</td><td>16</td><td>2008</td></tr>",
                            "<tr><td>Grains/Cereals</td><td>3</td><td>2008</td></tr>",
                            "<tr><td>Produce</td><td>20</td><td>2008</td></tr>",
                            "<tr><td>Dairy Products</td><td>9</td><td>2008</td></tr>",
                            "<tr><td>Meat/Poultry</td><td>9</td><td>2008</td></tr>",
                            "<tr><td>Meat/Poultry</td><td>8</td><td>2008</td></tr>",
                            "<tr><td>Seafood</td><td>20</td><td>2008</td></tr>",
                            "<tr><td>Dairy Products</td><td>15</td><td>2008</td></tr>",
                            "<tr><td>Condiments</td><td>2</td><td>2008</td></tr>",
                            "<tr><td>Grains/Cereals</td><td>52</td><td>2008</td></tr>",
                            "<tr><td>Beverages</td><td>6</td><td>2008</td></tr>",
                            "<tr><td>Grains/Cereals</td><td>24</td><td>2008</td></tr>",
                            "<tr><td>Dairy Products</td><td>60</td><td>2008</td></tr>",
                            "<tr><td>Grains/Cereals</td><td>30</td><td>2008</td></tr>",
                            "<tr><td>Seafood</td><td>6</td><td>2008</td></tr>",
                            "<tr><td>Seafood</td><td>25</td><td>2008</td></tr>",
                            "<tr><td>Confections</td><td>40</td><td>2008</td></tr>",
                            "<tr><td>Beverages</td><td>21</td><td>2008</td></tr>",
                            "<tr><td>Beverages</td><td>4</td><td>2008</td></tr>",
                            "<tr><td>Seafood</td><td>25</td><td>2008</td></tr>",
                            "<tr><td>Seafood</td><td>50</td><td>2008</td></tr>",
                            "<tr><td>Seafood</td><td>30</td><td>2008</td></tr>",
                            "<tr><td>Dairy Products</td><td>15</td><td>2008</td></tr>",
                            "<tr><td>Confections</td><td>6</td><td>2008</td></tr>",
                            "<tr><td>Beverages</td><td>10</td><td>2008</td></tr>",
                            "<tr><td>Seafood</td><td>16</td><td>2008</td></tr>",
                            "<tr><td>Grains/Cereals</td><td>30</td><td>2008</td></tr>",
                            "<tr><td>Dairy Products</td><td>50</td><td>2008</td></tr>",
                            "<tr><td>Condiments</td><td>15</td><td>2008</td></tr>",
                            "<tr><td>Dairy Products</td><td>15</td><td>2008</td></tr>",
                            "<tr><td>Beverages</td><td>5</td><td>2008</td></tr>",
                            "<tr><td>Confections</td><td>20</td><td>2008</td></tr>",
                            "<tr><td>Beverages</td><td>12</td><td>2008</td></tr>",
                            "<tr><td>Produce</td><td>4</td><td>2008</td></tr>",
                            "<tr><td>Grains/Cereals</td><td>35</td><td>2008</td></tr>",
                            "<tr><td>Grains/Cereals</td><td>70</td><td>2008</td></tr>",
                            "<tr><td>Beverages</td><td>25</td><td>2008</td></tr>",
                            "<tr><td>Grains/Cereals</td><td>42</td><td>2008</td></tr>",
                            "<tr><td>Seafood</td><td>60</td><td>2008</td></tr>",
                            "<tr><td>Grains/Cereals</td><td>48</td><td>2008</td></tr>",
                            "<tr><td>Condiments</td><td>21</td><td>2008</td></tr>",
                            "<tr><td>Beverages</td><td>30</td><td>2008</td></tr>",
                            "<tr><td>Produce</td><td>20</td><td>2008</td></tr>",
                            "<tr><td>Beverages</td><td>80</td><td>2008</td></tr>",
                            "<tr><td>Confections</td><td>12</td><td>2008</td></tr>",
                            "<tr><td>Seafood</td><td>60</td><td>2008</td></tr>",
                            "<tr><td>Seafood</td><td>36</td><td>2008</td></tr>",
                            "<tr><td>Dairy Products</td><td>45</td><td>2008</td></tr>",
                            "<tr><td>Dairy Products</td><td>55</td><td>2008</td></tr>",
                            "<tr><td>Condiments</td><td>30</td><td>2008</td></tr>",
                            "<tr><td>Meat/Poultry</td><td>3</td><td>2008</td></tr>",
                            "<tr><td>Condiments</td><td>49</td><td>2008</td></tr>",
                            "<tr><td>Confections</td><td>18</td><td>2008</td></tr>",
                            "<tr><td>Confections</td><td>20</td><td>2008</td></tr>",
                            "<tr><td>Dairy Products</td><td>4</td><td>2008</td></tr>",
                            "<tr><td>Beverages</td><td>30</td><td>2008</td></tr>",
                            "<tr><td>Beverages</td><td>5</td><td>2008</td></tr>",
                            "<tr><td>Confections</td><td>10</td><td>2008</td></tr>",
                            "<tr><td>Grains/Cereals</td><td>10</td><td>2008</td></tr>",
                            "<tr><td>Dairy Products</td><td>42</td><td>2008</td></tr>",
                            "<tr><td>Beverages</td><td>15</td><td>2008</td></tr>",
                            "<tr><td>Meat/Poultry</td><td>6</td><td>2008</td></tr>",
                            "<tr><td>Confections</td><td>50</td><td>2008</td></tr>",
                            "<tr><td>Seafood</td><td>10</td><td>2008</td></tr>",
                            "<tr><td>Seafood</td><td>100</td><td>2008</td></tr>",
                            "<tr><td>Seafood</td><td>65</td><td>2008</td></tr>",
                            "<tr><td>Confections</td><td>50</td><td>2008</td></tr>",
                            "<tr><td>Dairy Products</td><td>14</td><td>2008</td></tr>",
                            "<tr><td>Grains/Cereals</td><td>24</td><td>2008</td></tr>",
                            "<tr><td>Condiments</td><td>15</td><td>2008</td></tr>",
                            "<tr><td>Beverages</td><td>20</td><td>2008</td></tr>",
                            "<tr><td>Grains/Cereals</td><td>20</td><td>2008</td></tr>",
                            "<tr><td>Condiments</td><td>30</td><td>2008</td></tr>",
                            "<tr><td>Confections</td><td>35</td><td>2008</td></tr>",
                            "<tr><td>Meat/Poultry</td><td>10</td><td>2008</td></tr>",
                            "<tr><td>Produce</td><td>5</td><td>2008</td></tr>",
                            "<tr><td>Confections</td><td>10</td><td>2008</td></tr>",
                            "<tr><td>Beverages</td><td>4</td><td>2008</td></tr>",
                            "<tr><td>Beverages</td><td>40</td><td>2008</td></tr>",
                            "<tr><td>Meat/Poultry</td><td>35</td><td>2008</td></tr>",
                            "<tr><td>Grains/Cereals</td><td>30</td><td>2008</td></tr>",
                            "<tr><td>Produce</td><td>3</td><td>2008</td></tr>",
                            "<tr><td>Beverages</td><td>20</td><td>2008</td></tr>",
                            "<tr><td>Meat/Poultry</td><td>42</td><td>2008</td></tr>",
                            "<tr><td>Seafood</td><td>20</td><td>2008</td></tr>",
                            "<tr><td>Confections</td><td>40</td><td>2008</td></tr>",
                            "<tr><td>Dairy Products</td><td>35</td><td>2008</td></tr>",
                            "<tr><td>Confections</td><td>3</td><td>2008</td></tr>",
                            "<tr><td>Dairy Products</td><td>25</td><td>2008</td></tr>",
                            "<tr><td>Grains/Cereals</td><td>8</td><td>2008</td></tr>",
                            "<tr><td>Beverages</td><td>20</td><td>2008</td></tr>",
                            "<tr><td>Seafood</td><td>12</td><td>2008</td></tr>",
                            "<tr><td>Beverages</td><td>4</td><td>2008</td></tr>",
                            "<tr><td>Beverages</td><td>15</td><td>2008</td></tr>",
                            "<tr><td>Beverages</td><td>60</td><td>2008</td></tr>",
                            "<tr><td>Beverages</td><td>80</td><td>2008</td></tr>",
                            "<tr><td>Beverages</td><td>21</td><td>2008</td></tr>",
                            "<tr><td>Beverages</td><td>6</td><td>2008</td></tr>",
                            "<tr><td>Seafood</td><td>40</td><td>2008</td></tr>",
                            "<tr><td>Meat/Poultry</td><td>3</td><td>2008</td></tr>",
                            "<tr><td>Confections</td><td>20</td><td>2008</td></tr>",
                            "<tr><td>Beverages</td><td>30</td><td>2008</td></tr>",
                            "<tr><td>Confections</td><td>42</td><td>2008</td></tr>",
                            "<tr><td>Beverages</td><td>40</td><td>2008</td></tr>",
                            "<tr><td>Dairy Products</td><td>10</td><td>2008</td></tr>",
                            "<tr><td>Grains/Cereals</td><td>50</td><td>2008</td></tr>",
                            "<tr><td>Confections</td><td>20</td><td>2008</td></tr>",
                            "<tr><td>Beverages</td><td>3</td><td>2008</td></tr>",
                            "<tr><td>Produce</td><td>2</td><td>2008</td></tr>",
                            "<tr><td>Condiments</td><td>50</td><td>2008</td></tr>",
                            "<tr><td>Confections</td><td>12</td><td>2008</td></tr>",
                            "<tr><td>Meat/Poultry</td><td>16</td><td>2008</td></tr>",
                            "<tr><td>Meat/Poultry</td><td>10</td><td>2008</td></tr>",
                            "<tr><td>Confections</td><td>20</td><td>2008</td></tr>",
                            "<tr><td>Grains/Cereals</td><td>15</td><td>2008</td></tr>",
                            "<tr><td>Condiments</td><td>21</td><td>2008</td></tr>",
                            "<tr><td>Confections</td><td>20</td><td>2008</td></tr>",
                            "<tr><td>Produce</td><td>3</td><td>2008</td></tr>",
                            "<tr><td>Seafood</td><td>10</td><td>2008</td></tr>",
                            "<tr><td>Confections</td><td>25</td><td>2008</td></tr>",
                            "<tr><td>Confections</td><td>21</td><td>2008</td></tr>",
                            "<tr><td>Confections</td><td>15</td><td>2008</td></tr>",
                            "<tr><td>Seafood</td><td>21</td><td>2008</td></tr>",
                            "<tr><td>Grains/Cereals</td><td>20</td><td>2008</td></tr>",
                            "<tr><td>Confections</td><td>30</td><td>2008</td></tr>",
                            "<tr><td>Seafood</td><td>25</td><td>2008</td></tr>",
                            "<tr><td>Confections</td><td>20</td><td>2008</td></tr>",
                            "<tr><td>Seafood</td><td>12</td><td>2008</td></tr>",
                            "<tr><td>Condiments</td><td>10</td><td>2008</td></tr>",
                            "<tr><td>Beverages</td><td>10</td><td>2008</td></tr>",
                            "<tr><td>Grains/Cereals</td><td>30</td><td>2008</td></tr>",
                            "<tr><td>Condiments</td><td>30</td><td>2008</td></tr>",
                            "<tr><td>Beverages</td><td>50</td><td>2008</td></tr>",
                            "<tr><td>Seafood</td><td>10</td><td>2008</td></tr>",
                            "<tr><td>Grains/Cereals</td><td>25</td><td>2008</td></tr>",
                            "<tr><td>Confections</td><td>20</td><td>2008</td></tr>",
                            "<tr><td>Meat/Poultry</td><td>32</td><td>2008</td></tr>",
                            "<tr><td>Beverages</td><td>8</td><td>2008</td></tr>",
                            "<tr><td>Confections</td><td>40</td><td>2008</td></tr>",
                            "<tr><td>Grains/Cereals</td><td>21</td><td>2008</td></tr>",
                            "<tr><td>Condiments</td><td>12</td><td>2008</td></tr>",
                            "<tr><td>Beverages</td><td>20</td><td>2008</td></tr>",
                            "<tr><td>Beverages</td><td>12</td><td>2008</td></tr>",
                            "<tr><td>Beverages</td><td>30</td><td>2008</td></tr>",
                            "<tr><td>Condiments</td><td>25</td><td>2008</td></tr>",
                            "<tr><td>Seafood</td><td>70</td><td>2008</td></tr>",
                            "<tr><td>Dairy Products</td><td>35</td><td>2008</td></tr>",
                            "<tr><td>Condiments</td><td>40</td><td>2008</td></tr>",
                            "<tr><td>Confections</td><td>5</td><td>2008</td></tr>",
                            "<tr><td>Beverages</td><td>20</td><td>2008</td></tr>",
                            "<tr><td>Confections</td><td>18</td><td>2008</td></tr>",
                            "<tr><td>Dairy Products</td><td>40</td><td>2008</td></tr>",
                            "<tr><td>Beverages</td><td>40</td><td>2008</td></tr>",
                            "<tr><td>Meat/Poultry</td><td>15</td><td>2008</td></tr>",
                            "<tr><td>Beverages</td><td>10</td><td>2008</td></tr>",
                            "<tr><td>Seafood</td><td>14</td><td>2008</td></tr>",
                            "<tr><td>Seafood</td><td>15</td><td>2008</td></tr>",
                            "<tr><td>Dairy Products</td><td>40</td><td>2008</td></tr>",
                            "<tr><td>Condiments</td><td>30</td><td>2008</td></tr>",
                            "<tr><td>Beverages</td><td>10</td><td>2008</td></tr>",
                            "<tr><td>Meat/Poultry</td><td>24</td><td>2008</td></tr>",
                            "<tr><td>Seafood</td><td>35</td><td>2008</td></tr>",
                            "<tr><td>Seafood</td><td>20</td><td>2008</td></tr>",
                            "<tr><td>Seafood</td><td>28</td><td>2008</td></tr>",
                            "<tr><td>Dairy Products</td><td>50</td><td>2008</td></tr>",
                            "<tr><td>Beverages</td><td>120</td><td>2008</td></tr>",
                            "<tr><td>Beverages</td><td>110</td><td>2008</td></tr>",
                            "<tr><td>Beverages</td><td>45</td><td>2008</td></tr>",
                            "<tr><td>Seafood</td><td>91</td><td>2008</td></tr>",
                            "<tr><td>Dairy Products</td><td>100</td><td>2008</td></tr>",
                            "<tr><td>Seafood</td><td>15</td><td>2008</td></tr>",
                            "<tr><td>Grains/Cereals</td><td>16</td><td>2008</td></tr>",
                            "<tr><td>Meat/Poultry</td><td>80</td><td>2008</td></tr>",
                            "<tr><td>Seafood</td><td>36</td><td>2008</td></tr>",
                            "<tr><td>Seafood</td><td>5</td><td>2008</td></tr>",
                            "<tr><td>Beverages</td><td>8</td><td>2008</td></tr>",
                            "<tr><td>Beverages</td><td>3</td><td>2008</td></tr>",
                            "<tr><td>Seafood</td><td>30</td><td>2008</td></tr>",
                            "<tr><td>Dairy Products</td><td>30</td><td>2008</td></tr>",
                            "<tr><td>Meat/Poultry</td><td>30</td><td>2008</td></tr>",
                            "<tr><td>Confections</td><td>6</td><td>2008</td></tr>",
                            "<tr><td>Seafood</td><td>40</td><td>2008</td></tr>",
                            "<tr><td>Condiments</td><td>21</td><td>2008</td></tr>",
                            "<tr><td>Confections</td><td>20</td><td>2008</td></tr>",
                            "<tr><td>Seafood</td><td>15</td><td>2008</td></tr>",
                            "<tr><td>Confections</td><td>35</td><td>2008</td></tr>",
                            "<tr><td>Beverages</td><td>20</td><td>2008</td></tr>",
                            "<tr><td>Condiments</td><td>15</td><td>2008</td></tr>",
                            "<tr><td>Beverages</td><td>14</td><td>2008</td></tr>",
                            "<tr><td>Produce</td><td>20</td><td>2008</td></tr>",
                            "<tr><td>Grains/Cereals</td><td>14</td><td>2008</td></tr>",
                            "<tr><td>Produce</td><td>12</td><td>2008</td></tr>",
                            "<tr><td>Confections</td><td>15</td><td>2008</td></tr>",
                            "<tr><td>Seafood</td><td>5</td><td>2008</td></tr>",
                            "<tr><td>Confections</td><td>12</td><td>2008</td></tr>",
                            "<tr><td>Confections</td><td>10</td><td>2008</td></tr>",
                            "<tr><td>Condiments</td><td>5</td><td>2008</td></tr>",
                            "<tr><td>Beverages</td><td>10</td><td>2008</td></tr>",
                            "<tr><td>Meat/Poultry</td><td>12</td><td>2008</td></tr>",
                            "<tr><td>Beverages</td><td>15</td><td>2008</td></tr>",
                            "<tr><td>Dairy Products</td><td>40</td><td>2008</td></tr>",
                            "<tr><td>Meat/Poultry</td><td>60</td><td>2008</td></tr>",
                            "<tr><td>Condiments</td><td>30</td><td>2008</td></tr>",
                            "<tr><td>Dairy Products</td><td>40</td><td>2008</td></tr>",
                            "<tr><td>Seafood</td><td>15</td><td>2008</td></tr>",
                            "<tr><td>Dairy Products</td><td>25</td><td>2008</td></tr>",
                            "<tr><td>Meat/Poultry</td><td>10</td><td>2008</td></tr>",
                            "<tr><td>Dairy Products</td><td>30</td><td>2008</td></tr>",
                            "<tr><td>Meat/Poultry</td><td>10</td><td>2008</td></tr>",
                            "<tr><td>Confections</td><td>6</td><td>2008</td></tr>",
                            "<tr><td>Dairy Products</td><td>6</td><td>2008</td></tr>",
                            "<tr><td>Grains/Cereals</td><td>20</td><td>2008</td></tr>",
                            "<tr><td>Seafood</td><td>1</td><td>2008</td></tr>",
                            "<tr><td>Dairy Products</td><td>10</td><td>2008</td></tr>",
                            "<tr><td>Beverages</td><td>60</td><td>2008</td></tr>",
                            "<tr><td>Dairy Products</td><td>25</td><td>2008</td></tr>",
                            "<tr><td>Confections</td><td>24</td><td>2008</td></tr>",
                            "<tr><td>Confections</td><td>24</td><td>2008</td></tr>",
                            "<tr><td>Seafood</td><td>20</td><td>2008</td></tr>",
                            "<tr><td>Confections</td><td>24</td><td>2008</td></tr>",
                            "<tr><td>Beverages</td><td>10</td><td>2008</td></tr>",
                            "<tr><td>Condiments</td><td>40</td><td>2008</td></tr>",
                            "<tr><td>Meat/Poultry</td><td>15</td><td>2008</td></tr>",
                            "<tr><td>Beverages</td><td>35</td><td>2008</td></tr>",
                            "<tr><td>Grains/Cereals</td><td>10</td><td>2008</td></tr>",
                            "<tr><td>Beverages</td><td>10</td><td>2008</td></tr>",
                            "<tr><td>Beverages</td><td>24</td><td>2008</td></tr>",
                            "<tr><td>Seafood</td><td>20</td><td>2008</td></tr>",
                            "<tr><td>Produce</td><td>30</td><td>2008</td></tr>",
                            "<tr><td>Beverages</td><td>6</td><td>2008</td></tr>",
                            "<tr><td>Seafood</td><td>25</td><td>2008</td></tr>",
                            "<tr><td>Grains/Cereals</td><td>12</td><td>2008</td></tr>",
                            "<tr><td>Dairy Products</td><td>2</td><td>2008</td></tr>",
                            "<tr><td>Seafood</td><td>10</td><td>2008</td></tr>",
                            "<tr><td>Confections</td><td>7</td><td>2008</td></tr>",
                            "<tr><td>Dairy Products</td><td>10</td><td>2008</td></tr>",
                            "<tr><td>Confections</td><td>5</td><td>2008</td></tr>",
                            "<tr><td>Grains/Cereals</td><td>5</td><td>2008</td></tr>",
                            "<tr><td>Beverages</td><td>20</td><td>2008</td></tr>",
                            "<tr><td>Confections</td><td>5</td><td>2008</td></tr>",
                            "<tr><td>Beverages</td><td>5</td><td>2008</td></tr>",
                            "<tr><td>Confections</td><td>60</td><td>2008</td></tr>",
                            "<tr><td>Beverages</td><td>49</td><td>2008</td></tr>",
                            "<tr><td>Condiments</td><td>15</td><td>2008</td></tr>",
                            "<tr><td>Confections</td><td>36</td><td>2008</td></tr>",
                            "<tr><td>Confections</td><td>25</td><td>2008</td></tr>",
                            "<tr><td>Meat/Poultry</td><td>25</td><td>2008</td></tr>",
                            "<tr><td>Seafood</td><td>30</td><td>2008</td></tr>",
                            "<tr><td>Seafood</td><td>42</td><td>2008</td></tr>",
                            "<tr><td>Grains/Cereals</td><td>30</td><td>2008</td></tr>",
                            "<tr><td>Confections</td><td>30</td><td>2008</td></tr>",
                            "<tr><td>Confections</td><td>14</td><td>2008</td></tr>",
                            "<tr><td>Dairy Products</td><td>16</td><td>2008</td></tr>",
                            "<tr><td>Beverages</td><td>20</td><td>2008</td></tr>",
                            "<tr><td>Meat/Poultry</td><td>2</td><td>2008</td></tr>",
                            "<tr><td>Condiments</td><td>30</td><td>2008</td></tr>",
                            "<tr><td>Condiments</td><td>20</td><td>2008</td></tr>",
                            "<tr><td>Beverages</td><td>21</td><td>2008</td></tr>",
                            "<tr><td>Seafood</td><td>4</td><td>2008</td></tr>",
                            "<tr><td>Grains/Cereals</td><td>8</td><td>2008</td></tr>",
                            "<tr><td>Seafood</td><td>30</td><td>2008</td></tr>",
                            "<tr><td>Produce</td><td>8</td><td>2008</td></tr>",
                            "<tr><td>Beverages</td><td>20</td><td>2008</td></tr>",
                            "<tr><td>Seafood</td><td>20</td><td>2008</td></tr>",
                            "<tr><td>Beverages</td><td>24</td><td>2008</td></tr>",
                            "<tr><td>Dairy Products</td><td>49</td><td>2008</td></tr>",
                            "<tr><td>Dairy Products</td><td>35</td><td>2008</td></tr>",
                            "<tr><td>Beverages</td><td>10</td><td>2008</td></tr>",
                            "<tr><td>Beverages</td><td>40</td><td>2008</td></tr>",
                            "<tr><td>Produce</td><td>8</td><td>2008</td></tr>",
                            "<tr><td>Seafood</td><td>20</td><td>2008</td></tr>",
                            "<tr><td>Dairy Products</td><td>44</td><td>2008</td></tr>",
                            "<tr><td>Confections</td><td>30</td><td>2008</td></tr>",
                            "<tr><td>Confections</td><td>80</td><td>2008</td></tr>",
                            "<tr><td>Dairy Products</td><td>50</td><td>2008</td></tr>",
                            "<tr><td>Confections</td><td>28</td><td>2008</td></tr>",
                            "<tr><td>Seafood</td><td>15</td><td>2008</td></tr>",
                            "<tr><td>Grains/Cereals</td><td>21</td><td>2008</td></tr>",
                            "<tr><td>Seafood</td><td>15</td><td>2008</td></tr>",
                            "<tr><td>Dairy Products</td><td>5</td><td>2008</td></tr>",
                            "<tr><td>Condiments</td><td>18</td><td>2008</td></tr>",
                            "<tr><td>Grains/Cereals</td><td>18</td><td>2008</td></tr>",
                            "<tr><td>Seafood</td><td>20</td><td>2008</td></tr>",
                            "<tr><td>Dairy Products</td><td>10</td><td>2008</td></tr>",
                            "<tr><td>Seafood</td><td>25</td><td>2008</td></tr>",
                            "<tr><td>Beverages</td><td>25</td><td>2008</td></tr>",
                            "<tr><td>Condiments</td><td>40</td><td>2008</td></tr>",
                            "<tr><td>Dairy Products</td><td>4</td><td>2008</td></tr>",
                            "<tr><td>Confections</td><td>9</td><td>2008</td></tr>",
                            "<tr><td>Produce</td><td>40</td><td>2008</td></tr>",
                            "<tr><td>Meat/Poultry</td><td>4</td><td>2008</td></tr>",
                            "<tr><td>Condiments</td><td>12</td><td>2008</td></tr>",
                            "<tr><td>Seafood</td><td>30</td><td>2008</td></tr>",
                            "<tr><td>Meat/Poultry</td><td>6</td><td>2008</td></tr>",
                            "<tr><td>Confections</td><td>60</td><td>2008</td></tr>",
                            "<tr><td>Condiments</td><td>5</td><td>2008</td></tr>",
                            "<tr><td>Dairy Products</td><td>15</td><td>2008</td></tr>",
                            "<tr><td>Seafood</td><td>6</td><td>2008</td></tr>",
                            "<tr><td>Beverages</td><td>50</td><td>2008</td></tr>",
                            "<tr><td>Condiments</td><td>16</td><td>2008</td></tr>",
                            "<tr><td>Produce</td><td>2</td><td>2008</td></tr>",
                            "<tr><td>Confections</td><td>50</td><td>2008</td></tr>",
                            "<tr><td>Dairy Products</td><td>50</td><td>2008</td></tr>",
                            "<tr><td>Confections</td><td>28</td><td>2008</td></tr>",
                            "<tr><td>Dairy Products</td><td>25</td><td>2008</td></tr>",
                            "<tr><td>Seafood</td><td>30</td><td>2008</td></tr>",
                            "<tr><td>Dairy Products</td><td>24</td><td>2008</td></tr>",
                            "<tr><td>Beverages</td><td>12</td><td>2008</td></tr>",
                            "<tr><td>Confections</td><td>12</td><td>2008</td></tr>",
                            "<tr><td>Confections</td><td>14</td><td>2008</td></tr>",
                            "<tr><td>Produce</td><td>8</td><td>2008</td></tr>",
                            "<tr><td>Seafood</td><td>30</td><td>2008</td></tr>",
                            "<tr><td>Beverages</td><td>40</td><td>2008</td></tr>",
                            "<tr><td>Grains/Cereals</td><td>8</td><td>2008</td></tr>",
                            "<tr><td>Condiments</td><td>20</td><td>2008</td></tr>",
                            "<tr><td>Produce</td><td>6</td><td>2008</td></tr>",
                            "<tr><td>Dairy Products</td><td>5</td><td>2008</td></tr>",
                            "<tr><td>Beverages</td><td>20</td><td>2008</td></tr>",
                            "<tr><td>Beverages</td><td>10</td><td>2008</td></tr>",
                            "<tr><td>Seafood</td><td>24</td><td>2008</td></tr>",
                            "<tr><td>Grains/Cereals</td><td>6</td><td>2008</td></tr>",
                            "<tr><td>Beverages</td><td>60</td><td>2008</td></tr>",
                            "<tr><td>Produce</td><td>45</td><td>2008</td></tr>",
                            "<tr><td>Seafood</td><td>77</td><td>2008</td></tr>",
                            "<tr><td>Meat/Poultry</td><td>20</td><td>2008</td></tr>",
                            "<tr><td>Dairy Products</td><td>9</td><td>2008</td></tr>",
                            "<tr><td>Beverages</td><td>44</td><td>2008</td></tr>",
                            "<tr><td>Dairy Products</td><td>2</td><td>2008</td></tr>",
                            "<tr><td>Seafood</td><td>6</td><td>2008</td></tr>",
                            "<tr><td>Beverages</td><td>5</td><td>2008</td></tr>",
                            "<tr><td>Dairy Products</td><td>10</td><td>2008</td></tr>",
                            "<tr><td>Produce</td><td>16</td><td>2008</td></tr>",
                            "<tr><td>Seafood</td><td>8</td><td>2008</td></tr>",
                            "<tr><td>Grains/Cereals</td><td>12</td><td>2008</td></tr>",
                            "<tr><td>Confections</td><td>12</td><td>2008</td></tr>",
                            "<tr><td>Confections</td><td>12</td><td>2008</td></tr>",
                            "<tr><td>Confections</td><td>40</td><td>2008</td></tr>",
                            "<tr><td>Dairy Products</td><td>30</td><td>2008</td></tr>",
                            "<tr><td>Beverages</td><td>30</td><td>2008</td></tr>",
                            "<tr><td>Grains/Cereals</td><td>4</td><td>2008</td></tr>",
                            "<tr><td>Seafood</td><td>9</td><td>2008</td></tr>",
                            "<tr><td>Grains/Cereals</td><td>40</td><td>2008</td></tr>",
                            "<tr><td>Meat/Poultry</td><td>14</td><td>2008</td></tr>",
                            "<tr><td>Meat/Poultry</td><td>6</td><td>2008</td></tr>",
                            "<tr><td>Dairy Products</td><td>7</td><td>2008</td></tr>",
                            "<tr><td>Confections</td><td>5</td><td>2008</td></tr>",
                            "<tr><td>Seafood</td><td>6</td><td>2008</td></tr>",
                            "<tr><td>Beverages</td><td>10</td><td>2008</td></tr>",
                            "<tr><td>Condiments</td><td>10</td><td>2008</td></tr>",
                            "<tr><td>Condiments</td><td>16</td><td>2008</td></tr>",
                            "<tr><td>Beverages</td><td>10</td><td>2008</td></tr>",
                            "<tr><td>Produce</td><td>20</td><td>2008</td></tr>",
                            "<tr><td>Beverages</td><td>30</td><td>2008</td></tr>",
                            "<tr><td>Confections</td><td>30</td><td>2008</td></tr>",
                            "<tr><td>Produce</td><td>10</td><td>2008</td></tr>",
                            "<tr><td>Condiments</td><td>20</td><td>2008</td></tr>",
                            "<tr><td>Condiments</td><td>20</td><td>2008</td></tr>",
                            "<tr><td>Confections</td><td>40</td><td>2008</td></tr>",
                            "<tr><td>Seafood</td><td>10</td><td>2008</td></tr>",
                            "<tr><td>Condiments</td><td>6</td><td>2008</td></tr>",
                            "<tr><td>Produce</td><td>18</td><td>2008</td></tr>",
                            "<tr><td>Dairy Products</td><td>20</td><td>2008</td></tr>",
                            "<tr><td>Beverages</td><td>80</td><td>2008</td></tr>",
                            "<tr><td>Confections</td><td>30</td><td>2008</td></tr>",
                            "<tr><td>Dairy Products</td><td>24</td><td>2008</td></tr>",
                            "<tr><td>Condiments</td><td>35</td><td>2008</td></tr>",
                            "<tr><td>Beverages</td><td>40</td><td>2008</td></tr>",
                            "<tr><td>Beverages</td><td>60</td><td>2008</td></tr>",
                            "<tr><td>Produce</td><td>20</td><td>2008</td></tr>",
                            "<tr><td>Beverages</td><td>9</td><td>2008</td></tr>",
                            "<tr><td>Seafood</td><td>84</td><td>2008</td></tr>",
                            "<tr><td>Grains/Cereals</td><td>15</td><td>2008</td></tr>",
                            "<tr><td>Confections</td><td>55</td><td>2008</td></tr>",
                            "<tr><td>Beverages</td><td>20</td><td>2008</td></tr>",
                            "<tr><td>Seafood</td><td>40</td><td>2008</td></tr>",
                            "<tr><td>Confections</td><td>36</td><td>2008</td></tr>",
                            "<tr><td>Seafood</td><td>8</td><td>2008</td></tr>",
                            "<tr><td>Dairy Products</td><td>35</td><td>2008</td></tr>",
                            "<tr><td>Dairy Products</td><td>30</td><td>2008</td></tr>",
                            "<tr><td>Confections</td><td>15</td><td>2008</td></tr>",
                            "<tr><td>Beverages</td><td>10</td><td>2008</td></tr>",
                            "<tr><td>Condiments</td><td>15</td><td>2008</td></tr>",
                            "<tr><td>Produce</td><td>60</td><td>2008</td></tr>",
                            "<tr><td>Beverages</td><td>6</td><td>2008</td></tr>",
                            "<tr><td>Dairy Products</td><td>20</td><td>2008</td></tr>",
                            "<tr><td>Produce</td><td>60</td><td>2008</td></tr>",
                            "<tr><td>Confections</td><td>40</td><td>2008</td></tr>",
                            "<tr><td>Condiments</td><td>40</td><td>2008</td></tr>",
                            "<tr><td>Dairy Products</td><td>15</td><td>2008</td></tr>",
                            "<tr><td>Seafood</td><td>4</td><td>2008</td></tr>",
                            "<tr><td>Confections</td><td>65</td><td>2008</td></tr>",
                            "<tr><td>Beverages</td><td>60</td><td>2008</td></tr>",
                            "<tr><td>Meat/Poultry</td><td>65</td><td>2008</td></tr>",
                            "<tr><td>Condiments</td><td>66</td><td>2008</td></tr>",
                            "<tr><td>Beverages</td><td>50</td><td>2008</td></tr>",
                            "<tr><td>Beverages</td><td>20</td><td>2008</td></tr>",
                            "<tr><td>Beverages</td><td>90</td><td>2008</td></tr>",
                            "<tr><td>Dairy Products</td><td>2</td><td>2008</td></tr>",
                            "<tr><td>Meat/Poultry</td><td>50</td><td>2008</td></tr>",
                            "<tr><td>Seafood</td><td>35</td><td>2008</td></tr>",
                            "<tr><td>Dairy Products</td><td>18</td><td>2008</td></tr>",
                            "<tr><td>Produce</td><td>20</td><td>2008</td></tr>",
                            "<tr><td>Dairy Products</td><td>4</td><td>2008</td></tr>",
                            "<tr><td>Grains/Cereals</td><td>40</td><td>2008</td></tr>",
                            "<tr><td>Dairy Products</td><td>50</td><td>2008</td></tr>",
                            "<tr><td>Seafood</td><td>20</td><td>2008</td></tr>",
                            "<tr><td>Grains/Cereals</td><td>20</td><td>2008</td></tr>",
                            "<tr><td>Beverages</td><td>12</td><td>2008</td></tr>",
                            "<tr><td>Condiments</td><td>7</td><td>2008</td></tr>",
                            "<tr><td>Produce</td><td>20</td><td>2008</td></tr>",
                            "<tr><td>Beverages</td><td>30</td><td>2008</td></tr>",
                            "<tr><td>Seafood</td><td>20</td><td>2008</td></tr>",
                            "<tr><td>Produce</td><td>15</td><td>2008</td></tr>",
                            "<tr><td>Condiments</td><td>21</td><td>2008</td></tr>",
                            "<tr><td>Condiments</td><td>25</td><td>2008</td></tr>",
                            "<tr><td>Beverages</td><td>30</td><td>2008</td></tr>",
                            "<tr><td>Condiments</td><td>30</td><td>2008</td></tr>",
                            "<tr><td>Produce</td><td>60</td><td>2008</td></tr>",
                            "<tr><td>Grains/Cereals</td><td>25</td><td>2008</td></tr>",
                            "<tr><td>Seafood</td><td>25</td><td>2008</td></tr>",
                            "<tr><td>Meat/Poultry</td><td>6</td><td>2008</td></tr>",
                            "<tr><td>Seafood</td><td>56</td><td>2008</td></tr>",
                            "<tr><td>Beverages</td><td>15</td><td>2008</td></tr>",
                            "<tr><td>Grains/Cereals</td><td>24</td><td>2008</td></tr>",
                            "<tr><td>Meat/Poultry</td><td>40</td><td>2008</td></tr>",
                            "<tr><td>Beverages</td><td>4</td><td>2008</td></tr>",
                            "<tr><td>Seafood</td><td>10</td><td>2008</td></tr>",
                            "<tr><td>Grains/Cereals</td><td>10</td><td>2008</td></tr>",
                            "<tr><td>Confections</td><td>6</td><td>2008</td></tr>",
                            "<tr><td>Beverages</td><td>6</td><td>2008</td></tr>",
                            "<tr><td>Beverages</td><td>2</td><td>2008</td></tr>",
                            "<tr><td>Dairy Products</td><td>10</td><td>2008</td></tr>",
                            "<tr><td>Beverages</td><td>8</td><td>2008</td></tr>",
                            "<tr><td>Meat/Poultry</td><td>2</td><td>2008</td></tr>",
                            "<tr><td>Condiments</td><td>30</td><td>2008</td></tr>",
                            "<tr><td>Meat/Poultry</td><td>10</td><td>2008</td></tr>",
                            "<tr><td>Grains/Cereals</td><td>14</td><td>2008</td></tr>",
                            "<tr><td>Produce</td><td>70</td><td>2008</td></tr>",
                            "<tr><td>Beverages</td><td>90</td><td>2008</td></tr>",
                            "<tr><td>Dairy Products</td><td>21</td><td>2008</td></tr>",
                            "<tr><td>Beverages</td><td>12</td><td>2008</td></tr>",
                            "<tr><td>Seafood</td><td>18</td><td>2008</td></tr>",
                            "<tr><td>Dairy Products</td><td>9</td><td>2008</td></tr>",
                            "<tr><td>Produce</td><td>20</td><td>2008</td></tr>",
                            "<tr><td>Beverages</td><td>10</td><td>2008</td></tr>",
                            "<tr><td>Seafood</td><td>40</td><td>2008</td></tr>",
                            "<tr><td>Dairy Products</td><td>20</td><td>2008</td></tr>",
                            "<tr><td>Confections</td><td>50</td><td>2008</td></tr>",
                            "<tr><td>Dairy Products</td><td>36</td><td>2008</td></tr>",
                            "<tr><td>Dairy Products</td><td>60</td><td>2008</td></tr>",
                            "<tr><td>Grains/Cereals</td><td>10</td><td>2008</td></tr>",
                            "<tr><td>Grains/Cereals</td><td>4</td><td>2008</td></tr>",
                            "<tr><td>Seafood</td><td>20</td><td>2008</td></tr>",
                            "<tr><td>Confections</td><td>2</td><td>2008</td></tr>",
                            "<tr><td>Seafood</td><td>28</td><td>2008</td></tr>",
                            "<tr><td>Seafood</td><td>15</td><td>2008</td></tr>",
                            "<tr><td>Condiments</td><td>18</td><td>2008</td></tr>",
                            "<tr><td>Dairy Products</td><td>15</td><td>2008</td></tr>",
                            "<tr><td>Seafood</td><td>16</td><td>2008</td></tr>",
                            "<tr><td>Condiments</td><td>25</td><td>2008</td></tr>",
                            "<tr><td>Dairy Products</td><td>110</td><td>2008</td></tr>",
                            "<tr><td>Beverages</td><td>30</td><td>2008</td></tr>",
                            "<tr><td>Dairy Products</td><td>20</td><td>2008</td></tr>",
                            "<tr><td>Seafood</td><td>10</td><td>2008</td></tr>",
                            "<tr><td>Grains/Cereals</td><td>5</td><td>2008</td></tr>",
                            "<tr><td>Seafood</td><td>3</td><td>2008</td></tr>",
                            "<tr><td>Confections</td><td>2</td><td>2008</td></tr>",
                            "<tr><td>Seafood</td><td>24</td><td>2008</td></tr>",
                            "<tr><td>Beverages</td><td>11</td><td>2008</td></tr>",
                            "<tr><td>Confections</td><td>15</td><td>2008</td></tr>",
                            "<tr><td>Confections</td><td>63</td><td>2008</td></tr>",
                            "<tr><td>Produce</td><td>44</td><td>2008</td></tr>",
                            "<tr><td>Dairy Products</td><td>35</td><td>2008</td></tr>",
                            "<tr><td>Confections</td><td>35</td><td>2008</td></tr>",
                            "<tr><td>Dairy Products</td><td>30</td><td>2008</td></tr>",
                            "<tr><td>Produce</td><td>4</td><td>2008</td></tr>",
                            "<tr><td>Beverages</td><td>30</td><td>2008</td></tr>",
                            "<tr><td>Confections</td><td>12</td><td>2008</td></tr>",
                            "<tr><td>Dairy Products</td><td>30</td><td>2008</td></tr>",
                            "<tr><td>Condiments</td><td>21</td><td>2008</td></tr>",
                            "<tr><td>Dairy Products</td><td>50</td><td>2008</td></tr>",
                            "<tr><td>Beverages</td><td>10</td><td>2008</td></tr>",
                            "<tr><td>Seafood</td><td>20</td><td>2008</td></tr>",
                            "<tr><td>Seafood</td><td>8</td><td>2008</td></tr>",
                            "<tr><td>Produce</td><td>10</td><td>2008</td></tr>",
                            "<tr><td>Beverages</td><td>30</td><td>2008</td></tr>",
                            "<tr><td>Confections</td><td>21</td><td>2008</td></tr>",
                            "<tr><td>Meat/Poultry</td><td>35</td><td>2008</td></tr>",
                            "<tr><td>Dairy Products</td><td>24</td><td>2008</td></tr>",
                            "<tr><td>Grains/Cereals</td><td>20</td><td>2008</td></tr>",
                            "<tr><td>Condiments</td><td>12</td><td>2008</td></tr>",
                            "<tr><td>Beverages</td><td>100</td><td>2008</td></tr>",
                            "<tr><td>Condiments</td><td>70</td><td>2008</td></tr>",
                            "<tr><td>Meat/Poultry</td><td>60</td><td>2008</td></tr>",
                            "<tr><td>Dairy Products</td><td>100</td><td>2008</td></tr>",
                            "<tr><td>Beverages</td><td>45</td><td>2008</td></tr>",
                            "<tr><td>Seafood</td><td>80</td><td>2008</td></tr>",
                            "<tr><td>Beverages</td><td>21</td><td>2008</td></tr>",
                            "<tr><td>Grains/Cereals</td><td>20</td><td>2008</td></tr>",
                            "<tr><td>Dairy Products</td><td>16</td><td>2008</td></tr>",
                            "<tr><td>Seafood</td><td>35</td><td>2008</td></tr>",
                            "<tr><td>Beverages</td><td>25</td><td>2008</td></tr>",
                            "<tr><td>Dairy Products</td><td>30</td><td>2008</td></tr>",
                            "<tr><td>Meat/Poultry</td><td>70</td><td>2008</td></tr>",
                            "<tr><td>Dairy Products</td><td>36</td><td>2008</td></tr>",
                            "<tr><td>Confections</td><td>15</td><td>2008</td></tr>",
                            "<tr><td>Condiments</td><td>12</td><td>2008</td></tr>",
                            "<tr><td>Condiments</td><td>6</td><td>2008</td></tr>",
                            "<tr><td>Beverages</td><td>10</td><td>2008</td></tr>",
                            "<tr><td>Beverages</td><td>60</td><td>2008</td></tr>",
                            "<tr><td>Grains/Cereals</td><td>30</td><td>2008</td></tr>",
                            "<tr><td>Meat/Poultry</td><td>10</td><td>2008</td></tr>",
                            "<tr><td>Seafood</td><td>7</td><td>2008</td></tr>",
                            "<tr><td>Dairy Products</td><td>30</td><td>2008</td></tr>",
                            "<tr><td>Beverages</td><td>4</td><td>2008</td></tr>",
                            "<tr><td>Seafood</td><td>5</td><td>2008</td></tr>",
                            "<tr><td>Grains/Cereals</td><td>2</td><td>2008</td></tr>",
                            "<tr><td>Dairy Products</td><td>30</td><td>2008</td></tr>",
                            "<tr><td>Produce</td><td>20</td><td>2008</td></tr>",
                            "<tr><td>Beverages</td><td>24</td><td>2008</td></tr>",
                            "<tr><td>Confections</td><td>60</td><td>2008</td></tr>",
                            "<tr><td>Grains/Cereals</td><td>28</td><td>2008</td></tr>",
                            "<tr><td>Confections</td><td>20</td><td>2008</td></tr>",
                            "<tr><td>Beverages</td><td>30</td><td>2008</td></tr>",
                            "<tr><td>Condiments</td><td>30</td><td>2008</td></tr>",
                            "<tr><td>Condiments</td><td>15</td><td>2008</td></tr>",
                            "<tr><td>Condiments</td><td>4</td><td>2008</td></tr>",
                            "<tr><td>Dairy Products</td><td>10</td><td>2008</td></tr>",
                            "<tr><td>Confections</td><td>12</td><td>2008</td></tr>",
                            "<tr><td>Dairy Products</td><td>15</td><td>2008</td></tr>",
                            "<tr><td>Produce</td><td>24</td><td>2008</td></tr>",
                            "<tr><td>Dairy Products</td><td>20</td><td>2008</td></tr>",
                            "<tr><td>Dairy Products</td><td>15</td><td>2008</td></tr>",
                            "<tr><td>Beverages</td><td>18</td><td>2008</td></tr>",
                            "<tr><td>Beverages</td><td>25</td><td>2008</td></tr>",
                            "<tr><td>Condiments</td><td>30</td><td>2008</td></tr>",
                            "<tr><td>Confections</td><td>42</td><td>2008</td></tr>",
                            "<tr><td>Beverages</td><td>10</td><td>2008</td></tr>",
                            "<tr><td>Dairy Products</td><td>4</td><td>2008</td></tr>",
                            "<tr><td>Beverages</td><td>50</td><td>2008</td></tr>",
                            "<tr><td>Beverages</td><td>10</td><td>2008</td></tr>",
                            "<tr><td>Beverages</td><td>30</td><td>2008</td></tr>",
                            "<tr><td>Condiments</td><td>10</td><td>2008</td></tr>",
                            "<tr><td>Seafood</td><td>35</td><td>2008</td></tr>",
                            "<tr><td>Dairy Products</td><td>20</td><td>2008</td></tr>",
                            "<tr><td>Grains/Cereals</td><td>25</td><td>2008</td></tr>",
                            "<tr><td>Dairy Products</td><td>10</td><td>2008</td></tr>",
                            "<tr><td>Beverages</td><td>20</td><td>2008</td></tr>",
                            "<tr><td>Beverages</td><td>15</td><td>2008</td></tr>",
                            "<tr><td>Confections</td><td>15</td><td>2008</td></tr>",
                            "<tr><td>Produce</td><td>20</td><td>2008</td></tr>",
                            "<tr><td>Grains/Cereals</td><td>20</td><td>2008</td></tr>",
                            "<tr><td>Produce</td><td>40</td><td>2008</td></tr>",
                            "<tr><td>Meat/Poultry</td><td>35</td><td>2008</td></tr>",
                            "<tr><td>Dairy Products</td><td>50</td><td>2008</td></tr>",
                            "<tr><td>Beverages</td><td>3</td><td>2008</td></tr>",
                            "<tr><td>Confections</td><td>3</td><td>2008</td></tr>",
                            "<tr><td>Dairy Products</td><td>21</td><td>2008</td></tr>",
                            "<tr><td>Condiments</td><td>4</td><td>2008</td></tr>",
                            "<tr><td>Seafood</td><td>30</td><td>2008</td></tr>",
                            "<tr><td>Meat/Poultry</td><td>12</td><td>2008</td></tr>",
                            "<tr><td>Dairy Products</td><td>35</td><td>2008</td></tr>",
                            "<tr><td>Dairy Products</td><td>4</td><td>2008</td></tr>",
                            "<tr><td>Condiments</td><td>10</td><td>2008</td></tr>",
                            "<tr><td>Dairy Products</td><td>15</td><td>2008</td></tr>",
                            "<tr><td>Meat/Poultry</td><td>10</td><td>2008</td></tr>",
                            "<tr><td>Beverages</td><td>12</td><td>2008</td></tr>",
                            "<tr><td>Beverages</td><td>30</td><td>2008</td></tr>",
                            "<tr><td>Seafood</td><td>40</td><td>2008</td></tr>",
                            "<tr><td>Seafood</td><td>30</td><td>2008</td></tr>",
                            "<tr><td>Meat/Poultry</td><td>77</td><td>2008</td></tr>",
                            "<tr><td>Seafood</td><td>12</td><td>2008</td></tr>",
                            "<tr><td>Meat/Poultry</td><td>25</td><td>2008</td></tr>",
                            "<tr><td>Meat/Poultry</td><td>4</td><td>2008</td></tr>",
                            "<tr><td>Confections</td><td>55</td><td>2008</td></tr>",
                            "<tr><td>Seafood</td><td>4</td><td>2008</td></tr>",
                            "<tr><td>Meat/Poultry</td><td>20</td><td>2008</td></tr>",
                            "<tr><td>Confections</td><td>3</td><td>2008</td></tr>",
                            "<tr><td>Confections</td><td>42</td><td>2008</td></tr>",
                            "<tr><td>Beverages</td><td>35</td><td>2008</td></tr>",
                            "<tr><td>Seafood</td><td>9</td><td>2008</td></tr>",
                            "<tr><td>Produce</td><td>8</td><td>2008</td></tr>",
                            "<tr><td>Beverages</td><td>36</td><td>2008</td></tr>",
                            "<tr><td>Condiments</td><td>28</td><td>2008</td></tr>",
                            "<tr><td>Beverages</td><td>20</td><td>2008</td></tr>",
                            "<tr><td>Beverages</td><td>40</td><td>2008</td></tr>",
                            "<tr><td>Beverages</td><td>20</td><td>2008</td></tr>",
                            "<tr><td>Confections</td><td>30</td><td>2008</td></tr>",
                            "<tr><td>Dairy Products</td><td>20</td><td>2008</td></tr>",
                            "<tr><td>Produce</td><td>15</td><td>2008</td></tr>",
                            "<tr><td>Seafood</td><td>10</td><td>2008</td></tr>",
                            "<tr><td>Beverages</td><td>8</td><td>2008</td></tr>",
                            "<tr><td>Seafood</td><td>40</td><td>2008</td></tr>",
                            "<tr><td>Confections</td><td>22</td><td>2008</td></tr>",
                            "<tr><td>Grains/Cereals</td><td>130</td><td>2008</td></tr>",
                            "<tr><td>Dairy Products</td><td>10</td><td>2008</td></tr>",
                            "<tr><td>Beverages</td><td>20</td><td>2008</td></tr>",
                            "<tr><td>Confections</td><td>14</td><td>2008</td></tr>",
                            "<tr><td>Beverages</td><td>10</td><td>2008</td></tr>",
                            "<tr><td>Seafood</td><td>30</td><td>2008</td></tr>",
                            "<tr><td>Beverages</td><td>2</td><td>2008</td></tr>",
                            "<tr><td>Condiments</td><td>20</td><td>2008</td></tr>",
                            "<tr><td>Produce</td><td>20</td><td>2008</td></tr>",
                            "<tr><td>Confections</td><td>10</td><td>2008</td></tr>",
                            "<tr><td>Beverages</td><td>24</td><td>2008</td></tr>",
                            "<tr><td>Condiments</td><td>4</td><td>2008</td></tr>",
                            "<tr><td>Condiments</td><td>1</td><td>2008</td></tr>",
                            "<tr><td>Condiments</td><td>1</td><td>2008</td></tr>",
                            "<tr><td>Produce</td><td>1</td><td>2008</td></tr>",
                            "<tr><td>Condiments</td><td>2</td><td>2008</td></tr>",
                            "<tr><td>Seafood</td><td>1</td><td>2008</td></tr>",
                            "<tr><td>Dairy Products</td><td>2</td><td>2008</td></tr>",
                            "<tr><td>Seafood</td><td>4</td><td>2008</td></tr>",
                            "<tr><td>Produce</td><td>1</td><td>2008</td></tr>",
                            "<tr><td>Confections</td><td>2</td><td>2008</td></tr>",
                            "<tr><td>Confections</td><td>1</td><td>2008</td></tr>",
                            "<tr><td>Grains/Cereals</td><td>2</td><td>2008</td></tr>",
                            "<tr><td>Dairy Products</td><td>1</td><td>2008</td></tr>",
                            "<tr><td>Beverages</td><td>2</td><td>2008</td></tr>",
                            "<tr><td>Seafood</td><td>3</td><td>2008</td></tr>",
                            "<tr><td>Seafood</td><td>3</td><td>2008</td></tr>",
                            "<tr><td>Grains/Cereals</td><td>2</td><td>2008</td></tr>",
                            "<tr><td>Meat/Poultry</td><td>2</td><td>2008</td></tr>",
                            "<tr><td>Dairy Products</td><td>2</td><td>2008</td></tr>",
                            "<tr><td>Grains/Cereals</td><td>2</td><td>2008</td></tr>",
                            "<tr><td>Condiments</td><td>1</td><td>2008</td></tr>",
                            "<tr><td>Seafood</td><td>2</td><td>2008</td></tr>",
                            "<tr><td>Beverages</td><td>4</td><td>2008</td></tr>",
                            "<tr><td>Condiments</td><td>2</td><td>2008</td></tr>",
                            "</table>"
                        ]
                    }
                }
            ],
            "execution_count": 7
        },
        {
            "cell_type": "markdown",
            "source": [
                "1.4. Utilizar PIVOT entre categorías y años de ordenes."
            ],
            "metadata": {
                "azdata_cell_guid": "be48ff3c-8596-42f1-a7c6-79c5b80a2291"
            }
        },
        {
            "cell_type": "code",
            "source": [
                "SELECT  Category, [2006],[2007],[2008]\n",
                "FROM    ( SELECT  Category, Qty, Orderyear FROM Sales.CategoryQtyYear) AS D \n",
                "    PIVOT(SUM(QTY) FOR orderyear IN ([2006],[2007],[2008])) AS pvt\n",
                "ORDER BY Category;"
            ],
            "metadata": {
                "azdata_cell_guid": "f1e20a64-237c-415d-8f3f-7e07f4bfd9ae",
                "language": "sql"
            },
            "outputs": [
                {
                    "output_type": "display_data",
                    "data": {
                        "text/html": "(8 filas afectadas)"
                    },
                    "metadata": {}
                },
                {
                    "output_type": "display_data",
                    "data": {
                        "text/html": "Tiempo total de ejecución: 00:00:00.082"
                    },
                    "metadata": {}
                },
                {
                    "output_type": "execute_result",
                    "metadata": {},
                    "execution_count": 8,
                    "data": {
                        "application/vnd.dataresource+json": {
                            "schema": {
                                "fields": [
                                    {
                                        "name": "Category"
                                    },
                                    {
                                        "name": "2006"
                                    },
                                    {
                                        "name": "2007"
                                    },
                                    {
                                        "name": "2008"
                                    }
                                ]
                            },
                            "data": [
                                {
                                    "2006": "1842",
                                    "2007": "3996",
                                    "2008": "3694",
                                    "Category": "Beverages"
                                },
                                {
                                    "2006": "962",
                                    "2007": "2895",
                                    "2008": "1441",
                                    "Category": "Condiments"
                                },
                                {
                                    "2006": "1357",
                                    "2007": "4137",
                                    "2008": "2412",
                                    "Category": "Confections"
                                },
                                {
                                    "2006": "2086",
                                    "2007": "4374",
                                    "2008": "2689",
                                    "Category": "Dairy Products"
                                },
                                {
                                    "2006": "549",
                                    "2007": "2636",
                                    "2008": "1377",
                                    "Category": "Grains/Cereals"
                                },
                                {
                                    "2006": "950",
                                    "2007": "2189",
                                    "2008": "1060",
                                    "Category": "Meat/Poultry"
                                },
                                {
                                    "2006": "549",
                                    "2007": "1583",
                                    "2008": "858",
                                    "Category": "Produce"
                                },
                                {
                                    "2006": "1286",
                                    "2007": "3679",
                                    "2008": "2716",
                                    "Category": "Seafood"
                                }
                            ]
                        },
                        "text/html": [
                            "<table>",
                            "<tr><th>Category</th><th>2006</th><th>2007</th><th>2008</th></tr>",
                            "<tr><td>Beverages</td><td>1842</td><td>3996</td><td>3694</td></tr>",
                            "<tr><td>Condiments</td><td>962</td><td>2895</td><td>1441</td></tr>",
                            "<tr><td>Confections</td><td>1357</td><td>4137</td><td>2412</td></tr>",
                            "<tr><td>Dairy Products</td><td>2086</td><td>4374</td><td>2689</td></tr>",
                            "<tr><td>Grains/Cereals</td><td>549</td><td>2636</td><td>1377</td></tr>",
                            "<tr><td>Meat/Poultry</td><td>950</td><td>2189</td><td>1060</td></tr>",
                            "<tr><td>Produce</td><td>549</td><td>1583</td><td>858</td></tr>",
                            "<tr><td>Seafood</td><td>1286</td><td>3679</td><td>2716</td></tr>",
                            "</table>"
                        ]
                    }
                }
            ],
            "execution_count": 8
        },
        {
            "cell_type": "markdown",
            "source": [
                "1.5. Para utilizar UNPIVOT, crear una tabla con el resultado de la consulta con PIVOT anterior."
            ],
            "metadata": {
                "azdata_cell_guid": "f98b9e6e-407e-471a-8b4c-1a8d31fdae00"
            }
        },
        {
            "cell_type": "code",
            "source": [
                "CREATE TABLE [Sales].[PivotedCategorySales](\n",
                "\t[Category] [nvarchar](15) NOT NULL,\n",
                "\t[2006] [int] NULL,\n",
                "\t[2007] [int] NULL,\n",
                "\t[2008] [int] NULL);\n",
                "GO\n",
                "INSERT INTO Sales.PivotedCategorySales (Category, [2006],[2007],[2008])\n",
                "SELECT Category, [2006],[2007],[2008] \n",
                "FROM (SELECT  Category, Qty, Orderyear FROM Sales.CategoryQtyYear) AS D \n",
                "    PIVOT(SUM(QTY) FOR orderyear IN ([2006],[2007],[2008]))AS p\n",
                "GO"
            ],
            "metadata": {
                "azdata_cell_guid": "49ccb2ac-6c5e-431a-a1f2-7491290e65bb",
                "language": "sql"
            },
            "outputs": [
                {
                    "output_type": "display_data",
                    "data": {
                        "text/html": "Los comandos se han completado correctamente."
                    },
                    "metadata": {}
                },
                {
                    "output_type": "display_data",
                    "data": {
                        "text/html": "(8 filas afectadas)"
                    },
                    "metadata": {}
                },
                {
                    "output_type": "display_data",
                    "data": {
                        "text/html": "Tiempo total de ejecución: 00:00:00.040"
                    },
                    "metadata": {}
                }
            ],
            "execution_count": 9
        },
        {
            "cell_type": "markdown",
            "source": [
                "1.6. Probrar la tabla generada"
            ],
            "metadata": {
                "azdata_cell_guid": "8a5e162e-2637-4443-bd9b-ada391da96ec"
            }
        },
        {
            "cell_type": "code",
            "source": [
                "SELECT Category, [2006],[2007],[2008]\n",
                "FROM Sales.PivotedCategorySales;"
            ],
            "metadata": {
                "azdata_cell_guid": "f17f783a-2d14-4529-a54b-0b10080d4325",
                "language": "sql"
            },
            "outputs": [
                {
                    "output_type": "display_data",
                    "data": {
                        "text/html": "(8 filas afectadas)"
                    },
                    "metadata": {}
                },
                {
                    "output_type": "display_data",
                    "data": {
                        "text/html": "Tiempo total de ejecución: 00:00:00.010"
                    },
                    "metadata": {}
                },
                {
                    "output_type": "execute_result",
                    "metadata": {},
                    "execution_count": 10,
                    "data": {
                        "application/vnd.dataresource+json": {
                            "schema": {
                                "fields": [
                                    {
                                        "name": "Category"
                                    },
                                    {
                                        "name": "2006"
                                    },
                                    {
                                        "name": "2007"
                                    },
                                    {
                                        "name": "2008"
                                    }
                                ]
                            },
                            "data": [
                                {
                                    "2006": "1842",
                                    "2007": "3996",
                                    "2008": "3694",
                                    "Category": "Beverages"
                                },
                                {
                                    "2006": "962",
                                    "2007": "2895",
                                    "2008": "1441",
                                    "Category": "Condiments"
                                },
                                {
                                    "2006": "1357",
                                    "2007": "4137",
                                    "2008": "2412",
                                    "Category": "Confections"
                                },
                                {
                                    "2006": "2086",
                                    "2007": "4374",
                                    "2008": "2689",
                                    "Category": "Dairy Products"
                                },
                                {
                                    "2006": "549",
                                    "2007": "2636",
                                    "2008": "1377",
                                    "Category": "Grains/Cereals"
                                },
                                {
                                    "2006": "950",
                                    "2007": "2189",
                                    "2008": "1060",
                                    "Category": "Meat/Poultry"
                                },
                                {
                                    "2006": "549",
                                    "2007": "1583",
                                    "2008": "858",
                                    "Category": "Produce"
                                },
                                {
                                    "2006": "1286",
                                    "2007": "3679",
                                    "2008": "2716",
                                    "Category": "Seafood"
                                }
                            ]
                        },
                        "text/html": [
                            "<table>",
                            "<tr><th>Category</th><th>2006</th><th>2007</th><th>2008</th></tr>",
                            "<tr><td>Beverages</td><td>1842</td><td>3996</td><td>3694</td></tr>",
                            "<tr><td>Condiments</td><td>962</td><td>2895</td><td>1441</td></tr>",
                            "<tr><td>Confections</td><td>1357</td><td>4137</td><td>2412</td></tr>",
                            "<tr><td>Dairy Products</td><td>2086</td><td>4374</td><td>2689</td></tr>",
                            "<tr><td>Grains/Cereals</td><td>549</td><td>2636</td><td>1377</td></tr>",
                            "<tr><td>Meat/Poultry</td><td>950</td><td>2189</td><td>1060</td></tr>",
                            "<tr><td>Produce</td><td>549</td><td>1583</td><td>858</td></tr>",
                            "<tr><td>Seafood</td><td>1286</td><td>3679</td><td>2716</td></tr>",
                            "</table>"
                        ]
                    }
                }
            ],
            "execution_count": 10
        },
        {
            "cell_type": "markdown",
            "source": [
                "1.7. Utilizar UNPIVOT."
            ],
            "metadata": {
                "azdata_cell_guid": "2e35011b-87c0-475f-8868-56052dc563c6"
            }
        },
        {
            "cell_type": "code",
            "source": [
                "SELECT category, qty, orderyear\n",
                "FROM Sales.PivotedCategorySales\n",
                "UNPIVOT(qty FOR orderyear IN([2006],[2007],[2008])) AS unpvt;"
            ],
            "metadata": {
                "azdata_cell_guid": "6383cab3-afeb-4806-bb18-82b01e953c36",
                "language": "sql"
            },
            "outputs": [
                {
                    "output_type": "display_data",
                    "data": {
                        "text/html": "(24 filas afectadas)"
                    },
                    "metadata": {}
                },
                {
                    "output_type": "display_data",
                    "data": {
                        "text/html": "Tiempo total de ejecución: 00:00:00.045"
                    },
                    "metadata": {}
                },
                {
                    "output_type": "execute_result",
                    "metadata": {},
                    "execution_count": 11,
                    "data": {
                        "application/vnd.dataresource+json": {
                            "schema": {
                                "fields": [
                                    {
                                        "name": "category"
                                    },
                                    {
                                        "name": "qty"
                                    },
                                    {
                                        "name": "orderyear"
                                    }
                                ]
                            },
                            "data": [
                                {
                                    "category": "Beverages",
                                    "qty": "1842",
                                    "orderyear": "2006"
                                },
                                {
                                    "category": "Beverages",
                                    "qty": "3996",
                                    "orderyear": "2007"
                                },
                                {
                                    "category": "Beverages",
                                    "qty": "3694",
                                    "orderyear": "2008"
                                },
                                {
                                    "category": "Condiments",
                                    "qty": "962",
                                    "orderyear": "2006"
                                },
                                {
                                    "category": "Condiments",
                                    "qty": "2895",
                                    "orderyear": "2007"
                                },
                                {
                                    "category": "Condiments",
                                    "qty": "1441",
                                    "orderyear": "2008"
                                },
                                {
                                    "category": "Confections",
                                    "qty": "1357",
                                    "orderyear": "2006"
                                },
                                {
                                    "category": "Confections",
                                    "qty": "4137",
                                    "orderyear": "2007"
                                },
                                {
                                    "category": "Confections",
                                    "qty": "2412",
                                    "orderyear": "2008"
                                },
                                {
                                    "category": "Dairy Products",
                                    "qty": "2086",
                                    "orderyear": "2006"
                                },
                                {
                                    "category": "Dairy Products",
                                    "qty": "4374",
                                    "orderyear": "2007"
                                },
                                {
                                    "category": "Dairy Products",
                                    "qty": "2689",
                                    "orderyear": "2008"
                                },
                                {
                                    "category": "Grains/Cereals",
                                    "qty": "549",
                                    "orderyear": "2006"
                                },
                                {
                                    "category": "Grains/Cereals",
                                    "qty": "2636",
                                    "orderyear": "2007"
                                },
                                {
                                    "category": "Grains/Cereals",
                                    "qty": "1377",
                                    "orderyear": "2008"
                                },
                                {
                                    "category": "Meat/Poultry",
                                    "qty": "950",
                                    "orderyear": "2006"
                                },
                                {
                                    "category": "Meat/Poultry",
                                    "qty": "2189",
                                    "orderyear": "2007"
                                },
                                {
                                    "category": "Meat/Poultry",
                                    "qty": "1060",
                                    "orderyear": "2008"
                                },
                                {
                                    "category": "Produce",
                                    "qty": "549",
                                    "orderyear": "2006"
                                },
                                {
                                    "category": "Produce",
                                    "qty": "1583",
                                    "orderyear": "2007"
                                },
                                {
                                    "category": "Produce",
                                    "qty": "858",
                                    "orderyear": "2008"
                                },
                                {
                                    "category": "Seafood",
                                    "qty": "1286",
                                    "orderyear": "2006"
                                },
                                {
                                    "category": "Seafood",
                                    "qty": "3679",
                                    "orderyear": "2007"
                                },
                                {
                                    "category": "Seafood",
                                    "qty": "2716",
                                    "orderyear": "2008"
                                }
                            ]
                        },
                        "text/html": [
                            "<table>",
                            "<tr><th>category</th><th>qty</th><th>orderyear</th></tr>",
                            "<tr><td>Beverages</td><td>1842</td><td>2006</td></tr>",
                            "<tr><td>Beverages</td><td>3996</td><td>2007</td></tr>",
                            "<tr><td>Beverages</td><td>3694</td><td>2008</td></tr>",
                            "<tr><td>Condiments</td><td>962</td><td>2006</td></tr>",
                            "<tr><td>Condiments</td><td>2895</td><td>2007</td></tr>",
                            "<tr><td>Condiments</td><td>1441</td><td>2008</td></tr>",
                            "<tr><td>Confections</td><td>1357</td><td>2006</td></tr>",
                            "<tr><td>Confections</td><td>4137</td><td>2007</td></tr>",
                            "<tr><td>Confections</td><td>2412</td><td>2008</td></tr>",
                            "<tr><td>Dairy Products</td><td>2086</td><td>2006</td></tr>",
                            "<tr><td>Dairy Products</td><td>4374</td><td>2007</td></tr>",
                            "<tr><td>Dairy Products</td><td>2689</td><td>2008</td></tr>",
                            "<tr><td>Grains/Cereals</td><td>549</td><td>2006</td></tr>",
                            "<tr><td>Grains/Cereals</td><td>2636</td><td>2007</td></tr>",
                            "<tr><td>Grains/Cereals</td><td>1377</td><td>2008</td></tr>",
                            "<tr><td>Meat/Poultry</td><td>950</td><td>2006</td></tr>",
                            "<tr><td>Meat/Poultry</td><td>2189</td><td>2007</td></tr>",
                            "<tr><td>Meat/Poultry</td><td>1060</td><td>2008</td></tr>",
                            "<tr><td>Produce</td><td>549</td><td>2006</td></tr>",
                            "<tr><td>Produce</td><td>1583</td><td>2007</td></tr>",
                            "<tr><td>Produce</td><td>858</td><td>2008</td></tr>",
                            "<tr><td>Seafood</td><td>1286</td><td>2006</td></tr>",
                            "<tr><td>Seafood</td><td>3679</td><td>2007</td></tr>",
                            "<tr><td>Seafood</td><td>2716</td><td>2008</td></tr>",
                            "</table>"
                        ]
                    }
                }
            ],
            "execution_count": 11
        },
        {
            "cell_type": "markdown",
            "source": [
                "1.8. Limpiar los cambios realizados.\n"
            ],
            "metadata": {
                "azdata_cell_guid": "68069f88-6c64-4d07-a995-3644915fa1a1"
            }
        },
        {
            "cell_type": "code",
            "source": [
                "IF OBJECT_ID('Sales.CategoryQtyYear','V') IS NOT NULL DROP VIEW Sales.CategoryQtyYear\n",
                "IF OBJECT_ID('Sales.PivotedCategorySales') IS NOT NULL DROP TABLE Sales.PivotedCategorySales\n",
                "GO"
            ],
            "metadata": {
                "azdata_cell_guid": "9fe152af-4bcf-4768-9263-ce4dc5efeb62",
                "language": "sql"
            },
            "outputs": [
                {
                    "output_type": "display_data",
                    "data": {
                        "text/html": "Los comandos se han completado correctamente."
                    },
                    "metadata": {}
                },
                {
                    "output_type": "display_data",
                    "data": {
                        "text/html": "Tiempo total de ejecución: 00:00:00.016"
                    },
                    "metadata": {}
                }
            ],
            "execution_count": 12
        },
        {
            "cell_type": "markdown",
            "source": [
                "<h2>Parte 02. Trabajando con GROUPING SETS"
            ],
            "metadata": {
                "azdata_cell_guid": "9cb263c1-8042-4920-a154-dc27728b3a5c"
            }
        },
        {
            "cell_type": "markdown",
            "source": [
                "2.1. Ejecutar la siguiente vistas"
            ],
            "metadata": {
                "azdata_cell_guid": "f864dcd1-c4d6-4520-bdf4-017d3b53508f"
            }
        },
        {
            "cell_type": "code",
            "source": [
                "-- Step 2: Setup objects for demo\n",
                "IF OBJECT_ID('Sales.CategorySales','V') IS NOT NULL DROP VIEW Sales.CategorySales\n",
                "GO\n",
                "CREATE VIEW Sales.CategorySales\n",
                "AS\n",
                "SELECT  c.categoryname AS Category,\n",
                "        o.empid AS Emp,\n",
                "        o.custid AS Cust,\n",
                "        od.qty AS Qty,\n",
                "        YEAR(o.orderdate) AS Orderyear\n",
                "FROM    Production.Categories AS c\n",
                "        INNER JOIN Production.Products AS p ON c.categoryid=p.categoryid\n",
                "        INNER JOIN Sales.OrderDetails AS od ON p.productid=od.productid\n",
                "        INNER JOIN Sales.Orders AS o ON od.orderid=o.orderid\n",
                "WHERE c.categoryid IN (1,2,3) AND o.custid BETWEEN 1 AND 5; --limits results for slides\n",
                "GO"
            ],
            "metadata": {
                "azdata_cell_guid": "c2efaa17-cd0a-4cc7-b6fa-3fe26fda9dc5",
                "language": "sql"
            },
            "outputs": [
                {
                    "output_type": "display_data",
                    "data": {
                        "text/html": "Los comandos se han completado correctamente."
                    },
                    "metadata": {}
                },
                {
                    "output_type": "display_data",
                    "data": {
                        "text/html": "Los comandos se han completado correctamente."
                    },
                    "metadata": {}
                },
                {
                    "output_type": "display_data",
                    "data": {
                        "text/html": "Tiempo total de ejecución: 00:00:00.014"
                    },
                    "metadata": {}
                }
            ],
            "execution_count": 13
        },
        {
            "cell_type": "markdown",
            "source": [
                "2.2. Elaborar una consulta sin utilizar GROUPING SETS."
            ],
            "metadata": {
                "azdata_cell_guid": "47151e89-7385-4816-a2d1-1739a3764ebb"
            }
        },
        {
            "cell_type": "code",
            "source": [
                "SELECT Category, NULL AS Cust, SUM(Qty) AS TotalQty\n",
                "FROM Sales.CategorySales\n",
                "GROUP BY category\n",
                "UNION ALL \n",
                "SELECT  NULL, Cust, SUM(Qty) AS TotalQty\n",
                "FROM Sales.CategorySales\n",
                "GROUP BY cust \n",
                "UNION ALL\n",
                "SELECT NULL, NULL, SUM(Qty) AS TotalQty\n",
                "FROM Sales.CategorySales;"
            ],
            "metadata": {
                "azdata_cell_guid": "66d1795a-e4fd-4ee4-aae0-ce7b6fb456a2",
                "language": "sql"
            },
            "outputs": [
                {
                    "output_type": "display_data",
                    "data": {
                        "text/html": "(9 filas afectadas)"
                    },
                    "metadata": {}
                },
                {
                    "output_type": "display_data",
                    "data": {
                        "text/html": "Tiempo total de ejecución: 00:00:00.070"
                    },
                    "metadata": {}
                },
                {
                    "output_type": "execute_result",
                    "metadata": {},
                    "execution_count": 14,
                    "data": {
                        "application/vnd.dataresource+json": {
                            "schema": {
                                "fields": [
                                    {
                                        "name": "Category"
                                    },
                                    {
                                        "name": "Cust"
                                    },
                                    {
                                        "name": "TotalQty"
                                    }
                                ]
                            },
                            "data": [
                                {
                                    "Category": "Beverages",
                                    "Cust": "NULL",
                                    "TotalQty": "513"
                                },
                                {
                                    "Category": "Condiments",
                                    "Cust": "NULL",
                                    "TotalQty": "114"
                                },
                                {
                                    "Category": "Confections",
                                    "Cust": "NULL",
                                    "TotalQty": "372"
                                },
                                {
                                    "Category": "NULL",
                                    "Cust": "1",
                                    "TotalQty": "80"
                                },
                                {
                                    "Category": "NULL",
                                    "Cust": "2",
                                    "TotalQty": "12"
                                },
                                {
                                    "Category": "NULL",
                                    "Cust": "3",
                                    "TotalQty": "154"
                                },
                                {
                                    "Category": "NULL",
                                    "Cust": "4",
                                    "TotalQty": "241"
                                },
                                {
                                    "Category": "NULL",
                                    "Cust": "5",
                                    "TotalQty": "512"
                                },
                                {
                                    "Category": "NULL",
                                    "Cust": "NULL",
                                    "TotalQty": "999"
                                }
                            ]
                        },
                        "text/html": [
                            "<table>",
                            "<tr><th>Category</th><th>Cust</th><th>TotalQty</th></tr>",
                            "<tr><td>Beverages</td><td>NULL</td><td>513</td></tr>",
                            "<tr><td>Condiments</td><td>NULL</td><td>114</td></tr>",
                            "<tr><td>Confections</td><td>NULL</td><td>372</td></tr>",
                            "<tr><td>NULL</td><td>1</td><td>80</td></tr>",
                            "<tr><td>NULL</td><td>2</td><td>12</td></tr>",
                            "<tr><td>NULL</td><td>3</td><td>154</td></tr>",
                            "<tr><td>NULL</td><td>4</td><td>241</td></tr>",
                            "<tr><td>NULL</td><td>5</td><td>512</td></tr>",
                            "<tr><td>NULL</td><td>NULL</td><td>999</td></tr>",
                            "</table>"
                        ]
                    }
                }
            ],
            "execution_count": 14
        },
        {
            "cell_type": "markdown",
            "source": [
                "2.3. Consultar con GROUPING SETS."
            ],
            "metadata": {
                "azdata_cell_guid": "a1283c0f-1080-4ffb-9486-d68e57398f17"
            }
        },
        {
            "cell_type": "code",
            "source": [
                "SELECT Category, Cust, SUM(Qty) AS TotalQty\n",
                "FROM Sales.CategorySales\n",
                "GROUP BY \n",
                "GROUPING SETS((Category),(Cust),())\n",
                "ORDER BY Category DESC, Cust desc;"
            ],
            "metadata": {
                "azdata_cell_guid": "3a476f8b-ecd9-41cb-a320-771961528680",
                "language": "sql"
            },
            "outputs": [
                {
                    "output_type": "display_data",
                    "data": {
                        "text/html": "(9 filas afectadas)"
                    },
                    "metadata": {}
                },
                {
                    "output_type": "display_data",
                    "data": {
                        "text/html": "Tiempo total de ejecución: 00:00:00.059"
                    },
                    "metadata": {}
                },
                {
                    "output_type": "execute_result",
                    "metadata": {},
                    "execution_count": 15,
                    "data": {
                        "application/vnd.dataresource+json": {
                            "schema": {
                                "fields": [
                                    {
                                        "name": "Category"
                                    },
                                    {
                                        "name": "Cust"
                                    },
                                    {
                                        "name": "TotalQty"
                                    }
                                ]
                            },
                            "data": [
                                {
                                    "Category": "Confections",
                                    "Cust": "NULL",
                                    "TotalQty": "372"
                                },
                                {
                                    "Category": "Condiments",
                                    "Cust": "NULL",
                                    "TotalQty": "114"
                                },
                                {
                                    "Category": "Beverages",
                                    "Cust": "NULL",
                                    "TotalQty": "513"
                                },
                                {
                                    "Category": "NULL",
                                    "Cust": "5",
                                    "TotalQty": "512"
                                },
                                {
                                    "Category": "NULL",
                                    "Cust": "4",
                                    "TotalQty": "241"
                                },
                                {
                                    "Category": "NULL",
                                    "Cust": "3",
                                    "TotalQty": "154"
                                },
                                {
                                    "Category": "NULL",
                                    "Cust": "2",
                                    "TotalQty": "12"
                                },
                                {
                                    "Category": "NULL",
                                    "Cust": "1",
                                    "TotalQty": "80"
                                },
                                {
                                    "Category": "NULL",
                                    "Cust": "NULL",
                                    "TotalQty": "999"
                                }
                            ]
                        },
                        "text/html": [
                            "<table>",
                            "<tr><th>Category</th><th>Cust</th><th>TotalQty</th></tr>",
                            "<tr><td>Confections</td><td>NULL</td><td>372</td></tr>",
                            "<tr><td>Condiments</td><td>NULL</td><td>114</td></tr>",
                            "<tr><td>Beverages</td><td>NULL</td><td>513</td></tr>",
                            "<tr><td>NULL</td><td>5</td><td>512</td></tr>",
                            "<tr><td>NULL</td><td>4</td><td>241</td></tr>",
                            "<tr><td>NULL</td><td>3</td><td>154</td></tr>",
                            "<tr><td>NULL</td><td>2</td><td>12</td></tr>",
                            "<tr><td>NULL</td><td>1</td><td>80</td></tr>",
                            "<tr><td>NULL</td><td>NULL</td><td>999</td></tr>",
                            "</table>"
                        ]
                    }
                }
            ],
            "execution_count": 15
        },
        {
            "cell_type": "markdown",
            "source": [
                "2.4. Consultar con CUBE."
            ],
            "metadata": {
                "azdata_cell_guid": "3e2c0b09-fe36-409e-bf45-6bd39908efc0"
            }
        },
        {
            "cell_type": "code",
            "source": [
                "SELECT Category, Cust, SUM(Qty) AS TotalQty\n",
                "FROM Sales.CategorySales\n",
                "GROUP BY CUBE(Category,Cust)\n",
                "ORDER BY Category, Cust; "
            ],
            "metadata": {
                "azdata_cell_guid": "22ae8ee5-64a3-403c-bf24-b74e0e7b1e21",
                "language": "sql"
            },
            "outputs": [
                {
                    "output_type": "display_data",
                    "data": {
                        "text/html": "(21 filas afectadas)"
                    },
                    "metadata": {}
                },
                {
                    "output_type": "display_data",
                    "data": {
                        "text/html": "Tiempo total de ejecución: 00:00:00.078"
                    },
                    "metadata": {}
                },
                {
                    "output_type": "execute_result",
                    "metadata": {},
                    "execution_count": 16,
                    "data": {
                        "application/vnd.dataresource+json": {
                            "schema": {
                                "fields": [
                                    {
                                        "name": "Category"
                                    },
                                    {
                                        "name": "Cust"
                                    },
                                    {
                                        "name": "TotalQty"
                                    }
                                ]
                            },
                            "data": [
                                {
                                    "Category": "NULL",
                                    "Cust": "NULL",
                                    "TotalQty": "999"
                                },
                                {
                                    "Category": "NULL",
                                    "Cust": "1",
                                    "TotalQty": "80"
                                },
                                {
                                    "Category": "NULL",
                                    "Cust": "2",
                                    "TotalQty": "12"
                                },
                                {
                                    "Category": "NULL",
                                    "Cust": "3",
                                    "TotalQty": "154"
                                },
                                {
                                    "Category": "NULL",
                                    "Cust": "4",
                                    "TotalQty": "241"
                                },
                                {
                                    "Category": "NULL",
                                    "Cust": "5",
                                    "TotalQty": "512"
                                },
                                {
                                    "Category": "Beverages",
                                    "Cust": "NULL",
                                    "TotalQty": "513"
                                },
                                {
                                    "Category": "Beverages",
                                    "Cust": "1",
                                    "TotalQty": "36"
                                },
                                {
                                    "Category": "Beverages",
                                    "Cust": "2",
                                    "TotalQty": "5"
                                },
                                {
                                    "Category": "Beverages",
                                    "Cust": "3",
                                    "TotalQty": "105"
                                },
                                {
                                    "Category": "Beverages",
                                    "Cust": "4",
                                    "TotalQty": "112"
                                },
                                {
                                    "Category": "Beverages",
                                    "Cust": "5",
                                    "TotalQty": "255"
                                },
                                {
                                    "Category": "Condiments",
                                    "Cust": "NULL",
                                    "TotalQty": "114"
                                },
                                {
                                    "Category": "Condiments",
                                    "Cust": "1",
                                    "TotalQty": "44"
                                },
                                {
                                    "Category": "Condiments",
                                    "Cust": "3",
                                    "TotalQty": "4"
                                },
                                {
                                    "Category": "Condiments",
                                    "Cust": "5",
                                    "TotalQty": "66"
                                },
                                {
                                    "Category": "Confections",
                                    "Cust": "NULL",
                                    "TotalQty": "372"
                                },
                                {
                                    "Category": "Confections",
                                    "Cust": "2",
                                    "TotalQty": "7"
                                },
                                {
                                    "Category": "Confections",
                                    "Cust": "3",
                                    "TotalQty": "45"
                                },
                                {
                                    "Category": "Confections",
                                    "Cust": "4",
                                    "TotalQty": "129"
                                },
                                {
                                    "Category": "Confections",
                                    "Cust": "5",
                                    "TotalQty": "191"
                                }
                            ]
                        },
                        "text/html": [
                            "<table>",
                            "<tr><th>Category</th><th>Cust</th><th>TotalQty</th></tr>",
                            "<tr><td>NULL</td><td>NULL</td><td>999</td></tr>",
                            "<tr><td>NULL</td><td>1</td><td>80</td></tr>",
                            "<tr><td>NULL</td><td>2</td><td>12</td></tr>",
                            "<tr><td>NULL</td><td>3</td><td>154</td></tr>",
                            "<tr><td>NULL</td><td>4</td><td>241</td></tr>",
                            "<tr><td>NULL</td><td>5</td><td>512</td></tr>",
                            "<tr><td>Beverages</td><td>NULL</td><td>513</td></tr>",
                            "<tr><td>Beverages</td><td>1</td><td>36</td></tr>",
                            "<tr><td>Beverages</td><td>2</td><td>5</td></tr>",
                            "<tr><td>Beverages</td><td>3</td><td>105</td></tr>",
                            "<tr><td>Beverages</td><td>4</td><td>112</td></tr>",
                            "<tr><td>Beverages</td><td>5</td><td>255</td></tr>",
                            "<tr><td>Condiments</td><td>NULL</td><td>114</td></tr>",
                            "<tr><td>Condiments</td><td>1</td><td>44</td></tr>",
                            "<tr><td>Condiments</td><td>3</td><td>4</td></tr>",
                            "<tr><td>Condiments</td><td>5</td><td>66</td></tr>",
                            "<tr><td>Confections</td><td>NULL</td><td>372</td></tr>",
                            "<tr><td>Confections</td><td>2</td><td>7</td></tr>",
                            "<tr><td>Confections</td><td>3</td><td>45</td></tr>",
                            "<tr><td>Confections</td><td>4</td><td>129</td></tr>",
                            "<tr><td>Confections</td><td>5</td><td>191</td></tr>",
                            "</table>"
                        ]
                    }
                }
            ],
            "execution_count": 16
        },
        {
            "cell_type": "markdown",
            "source": [
                "2.5. Consultar con ROLLUP"
            ],
            "metadata": {
                "azdata_cell_guid": "f6eed40e-d7d8-4249-8687-8285b79cb224"
            }
        },
        {
            "cell_type": "code",
            "source": [
                "SELECT Category, Cust, SUM(Qty) AS TotalQty\n",
                "FROM Sales.CategorySales\n",
                "GROUP BY ROLLUP(Category,Cust)\n",
                "ORDER BY Category, Cust;"
            ],
            "metadata": {
                "azdata_cell_guid": "e7a8996e-af7c-42f4-8780-eb7990b294a3",
                "language": "sql"
            },
            "outputs": [
                {
                    "output_type": "display_data",
                    "data": {
                        "text/html": "(16 filas afectadas)"
                    },
                    "metadata": {}
                },
                {
                    "output_type": "display_data",
                    "data": {
                        "text/html": "Tiempo total de ejecución: 00:00:00.036"
                    },
                    "metadata": {}
                },
                {
                    "output_type": "execute_result",
                    "metadata": {},
                    "execution_count": 17,
                    "data": {
                        "application/vnd.dataresource+json": {
                            "schema": {
                                "fields": [
                                    {
                                        "name": "Category"
                                    },
                                    {
                                        "name": "Cust"
                                    },
                                    {
                                        "name": "TotalQty"
                                    }
                                ]
                            },
                            "data": [
                                {
                                    "Category": "NULL",
                                    "Cust": "NULL",
                                    "TotalQty": "999"
                                },
                                {
                                    "Category": "Beverages",
                                    "Cust": "NULL",
                                    "TotalQty": "513"
                                },
                                {
                                    "Category": "Beverages",
                                    "Cust": "1",
                                    "TotalQty": "36"
                                },
                                {
                                    "Category": "Beverages",
                                    "Cust": "2",
                                    "TotalQty": "5"
                                },
                                {
                                    "Category": "Beverages",
                                    "Cust": "3",
                                    "TotalQty": "105"
                                },
                                {
                                    "Category": "Beverages",
                                    "Cust": "4",
                                    "TotalQty": "112"
                                },
                                {
                                    "Category": "Beverages",
                                    "Cust": "5",
                                    "TotalQty": "255"
                                },
                                {
                                    "Category": "Condiments",
                                    "Cust": "NULL",
                                    "TotalQty": "114"
                                },
                                {
                                    "Category": "Condiments",
                                    "Cust": "1",
                                    "TotalQty": "44"
                                },
                                {
                                    "Category": "Condiments",
                                    "Cust": "3",
                                    "TotalQty": "4"
                                },
                                {
                                    "Category": "Condiments",
                                    "Cust": "5",
                                    "TotalQty": "66"
                                },
                                {
                                    "Category": "Confections",
                                    "Cust": "NULL",
                                    "TotalQty": "372"
                                },
                                {
                                    "Category": "Confections",
                                    "Cust": "2",
                                    "TotalQty": "7"
                                },
                                {
                                    "Category": "Confections",
                                    "Cust": "3",
                                    "TotalQty": "45"
                                },
                                {
                                    "Category": "Confections",
                                    "Cust": "4",
                                    "TotalQty": "129"
                                },
                                {
                                    "Category": "Confections",
                                    "Cust": "5",
                                    "TotalQty": "191"
                                }
                            ]
                        },
                        "text/html": [
                            "<table>",
                            "<tr><th>Category</th><th>Cust</th><th>TotalQty</th></tr>",
                            "<tr><td>NULL</td><td>NULL</td><td>999</td></tr>",
                            "<tr><td>Beverages</td><td>NULL</td><td>513</td></tr>",
                            "<tr><td>Beverages</td><td>1</td><td>36</td></tr>",
                            "<tr><td>Beverages</td><td>2</td><td>5</td></tr>",
                            "<tr><td>Beverages</td><td>3</td><td>105</td></tr>",
                            "<tr><td>Beverages</td><td>4</td><td>112</td></tr>",
                            "<tr><td>Beverages</td><td>5</td><td>255</td></tr>",
                            "<tr><td>Condiments</td><td>NULL</td><td>114</td></tr>",
                            "<tr><td>Condiments</td><td>1</td><td>44</td></tr>",
                            "<tr><td>Condiments</td><td>3</td><td>4</td></tr>",
                            "<tr><td>Condiments</td><td>5</td><td>66</td></tr>",
                            "<tr><td>Confections</td><td>NULL</td><td>372</td></tr>",
                            "<tr><td>Confections</td><td>2</td><td>7</td></tr>",
                            "<tr><td>Confections</td><td>3</td><td>45</td></tr>",
                            "<tr><td>Confections</td><td>4</td><td>129</td></tr>",
                            "<tr><td>Confections</td><td>5</td><td>191</td></tr>",
                            "</table>"
                        ]
                    }
                }
            ],
            "execution_count": 17
        },
        {
            "cell_type": "markdown",
            "source": [
                "2.6. Utilizar Grouping_ID."
            ],
            "metadata": {
                "azdata_cell_guid": "f9a07e7d-de3b-4afd-b2fd-924db520f317"
            }
        },
        {
            "cell_type": "code",
            "source": [
                "SELECT\tGROUPING_ID(Category)AS grpCat, GROUPING_ID(Cust) AS grpCust, \n",
                "\t\tCategory, Cust, SUM(Qty) AS TotalQty\n",
                "FROM Sales.CategorySales\n",
                "GROUP BY CUBE(Category,Cust)\n",
                "ORDER BY Category, Cust;"
            ],
            "metadata": {
                "azdata_cell_guid": "337f422d-cf4a-4331-a8c1-de00488b26d9",
                "language": "sql"
            },
            "outputs": [
                {
                    "output_type": "display_data",
                    "data": {
                        "text/html": "(21 filas afectadas)"
                    },
                    "metadata": {}
                },
                {
                    "output_type": "display_data",
                    "data": {
                        "text/html": "Tiempo total de ejecución: 00:00:00.069"
                    },
                    "metadata": {}
                },
                {
                    "output_type": "execute_result",
                    "metadata": {},
                    "execution_count": 18,
                    "data": {
                        "application/vnd.dataresource+json": {
                            "schema": {
                                "fields": [
                                    {
                                        "name": "grpCat"
                                    },
                                    {
                                        "name": "grpCust"
                                    },
                                    {
                                        "name": "Category"
                                    },
                                    {
                                        "name": "Cust"
                                    },
                                    {
                                        "name": "TotalQty"
                                    }
                                ]
                            },
                            "data": [
                                {
                                    "grpCat": "1",
                                    "grpCust": "1",
                                    "Category": "NULL",
                                    "Cust": "NULL",
                                    "TotalQty": "999"
                                },
                                {
                                    "grpCat": "1",
                                    "grpCust": "0",
                                    "Category": "NULL",
                                    "Cust": "1",
                                    "TotalQty": "80"
                                },
                                {
                                    "grpCat": "1",
                                    "grpCust": "0",
                                    "Category": "NULL",
                                    "Cust": "2",
                                    "TotalQty": "12"
                                },
                                {
                                    "grpCat": "1",
                                    "grpCust": "0",
                                    "Category": "NULL",
                                    "Cust": "3",
                                    "TotalQty": "154"
                                },
                                {
                                    "grpCat": "1",
                                    "grpCust": "0",
                                    "Category": "NULL",
                                    "Cust": "4",
                                    "TotalQty": "241"
                                },
                                {
                                    "grpCat": "1",
                                    "grpCust": "0",
                                    "Category": "NULL",
                                    "Cust": "5",
                                    "TotalQty": "512"
                                },
                                {
                                    "grpCat": "0",
                                    "grpCust": "1",
                                    "Category": "Beverages",
                                    "Cust": "NULL",
                                    "TotalQty": "513"
                                },
                                {
                                    "grpCat": "0",
                                    "grpCust": "0",
                                    "Category": "Beverages",
                                    "Cust": "1",
                                    "TotalQty": "36"
                                },
                                {
                                    "grpCat": "0",
                                    "grpCust": "0",
                                    "Category": "Beverages",
                                    "Cust": "2",
                                    "TotalQty": "5"
                                },
                                {
                                    "grpCat": "0",
                                    "grpCust": "0",
                                    "Category": "Beverages",
                                    "Cust": "3",
                                    "TotalQty": "105"
                                },
                                {
                                    "grpCat": "0",
                                    "grpCust": "0",
                                    "Category": "Beverages",
                                    "Cust": "4",
                                    "TotalQty": "112"
                                },
                                {
                                    "grpCat": "0",
                                    "grpCust": "0",
                                    "Category": "Beverages",
                                    "Cust": "5",
                                    "TotalQty": "255"
                                },
                                {
                                    "grpCat": "0",
                                    "grpCust": "1",
                                    "Category": "Condiments",
                                    "Cust": "NULL",
                                    "TotalQty": "114"
                                },
                                {
                                    "grpCat": "0",
                                    "grpCust": "0",
                                    "Category": "Condiments",
                                    "Cust": "1",
                                    "TotalQty": "44"
                                },
                                {
                                    "grpCat": "0",
                                    "grpCust": "0",
                                    "Category": "Condiments",
                                    "Cust": "3",
                                    "TotalQty": "4"
                                },
                                {
                                    "grpCat": "0",
                                    "grpCust": "0",
                                    "Category": "Condiments",
                                    "Cust": "5",
                                    "TotalQty": "66"
                                },
                                {
                                    "grpCat": "0",
                                    "grpCust": "1",
                                    "Category": "Confections",
                                    "Cust": "NULL",
                                    "TotalQty": "372"
                                },
                                {
                                    "grpCat": "0",
                                    "grpCust": "0",
                                    "Category": "Confections",
                                    "Cust": "2",
                                    "TotalQty": "7"
                                },
                                {
                                    "grpCat": "0",
                                    "grpCust": "0",
                                    "Category": "Confections",
                                    "Cust": "3",
                                    "TotalQty": "45"
                                },
                                {
                                    "grpCat": "0",
                                    "grpCust": "0",
                                    "Category": "Confections",
                                    "Cust": "4",
                                    "TotalQty": "129"
                                },
                                {
                                    "grpCat": "0",
                                    "grpCust": "0",
                                    "Category": "Confections",
                                    "Cust": "5",
                                    "TotalQty": "191"
                                }
                            ]
                        },
                        "text/html": [
                            "<table>",
                            "<tr><th>grpCat</th><th>grpCust</th><th>Category</th><th>Cust</th><th>TotalQty</th></tr>",
                            "<tr><td>1</td><td>1</td><td>NULL</td><td>NULL</td><td>999</td></tr>",
                            "<tr><td>1</td><td>0</td><td>NULL</td><td>1</td><td>80</td></tr>",
                            "<tr><td>1</td><td>0</td><td>NULL</td><td>2</td><td>12</td></tr>",
                            "<tr><td>1</td><td>0</td><td>NULL</td><td>3</td><td>154</td></tr>",
                            "<tr><td>1</td><td>0</td><td>NULL</td><td>4</td><td>241</td></tr>",
                            "<tr><td>1</td><td>0</td><td>NULL</td><td>5</td><td>512</td></tr>",
                            "<tr><td>0</td><td>1</td><td>Beverages</td><td>NULL</td><td>513</td></tr>",
                            "<tr><td>0</td><td>0</td><td>Beverages</td><td>1</td><td>36</td></tr>",
                            "<tr><td>0</td><td>0</td><td>Beverages</td><td>2</td><td>5</td></tr>",
                            "<tr><td>0</td><td>0</td><td>Beverages</td><td>3</td><td>105</td></tr>",
                            "<tr><td>0</td><td>0</td><td>Beverages</td><td>4</td><td>112</td></tr>",
                            "<tr><td>0</td><td>0</td><td>Beverages</td><td>5</td><td>255</td></tr>",
                            "<tr><td>0</td><td>1</td><td>Condiments</td><td>NULL</td><td>114</td></tr>",
                            "<tr><td>0</td><td>0</td><td>Condiments</td><td>1</td><td>44</td></tr>",
                            "<tr><td>0</td><td>0</td><td>Condiments</td><td>3</td><td>4</td></tr>",
                            "<tr><td>0</td><td>0</td><td>Condiments</td><td>5</td><td>66</td></tr>",
                            "<tr><td>0</td><td>1</td><td>Confections</td><td>NULL</td><td>372</td></tr>",
                            "<tr><td>0</td><td>0</td><td>Confections</td><td>2</td><td>7</td></tr>",
                            "<tr><td>0</td><td>0</td><td>Confections</td><td>3</td><td>45</td></tr>",
                            "<tr><td>0</td><td>0</td><td>Confections</td><td>4</td><td>129</td></tr>",
                            "<tr><td>0</td><td>0</td><td>Confections</td><td>5</td><td>191</td></tr>",
                            "</table>"
                        ]
                    }
                }
            ],
            "execution_count": 18
        },
        {
            "cell_type": "markdown",
            "source": [
                "2.7. Finalmente limpiar los cambios"
            ],
            "metadata": {
                "azdata_cell_guid": "13634fbc-a591-49a2-9484-b31e7041c26e"
            }
        },
        {
            "cell_type": "code",
            "source": [
                "IF OBJECT_ID('Sales.CategorySales','V') IS NOT NULL DROP VIEW Sales.CategorySales\n",
                "GO"
            ],
            "metadata": {
                "azdata_cell_guid": "f7c3458b-42e4-46ab-8bf5-7f961aa30a7d",
                "language": "sql"
            },
            "outputs": [
                {
                    "output_type": "display_data",
                    "data": {
                        "text/html": "Los comandos se han completado correctamente."
                    },
                    "metadata": {}
                },
                {
                    "output_type": "display_data",
                    "data": {
                        "text/html": "Tiempo total de ejecución: 00:00:00.013"
                    },
                    "metadata": {}
                }
            ],
            "execution_count": 19
        }
    ]
}